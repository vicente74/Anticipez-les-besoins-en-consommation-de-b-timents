{
 "cells": [
  {
   "cell_type": "markdown",
   "id": "fd6a2623",
   "metadata": {},
   "source": [
    "# Anticipez les besoins en consommation électrique de bâtiments\n",
    "Nous travaillons pour la ville de Seattle. Pour atteindre son objectif de ville neutre en émissions de carbone en 2050, notre équipe s’intéresse de près aux émissions des bâtiments non destinés à l’habitation individuelle. Des relevés minutieux ont été effectués en 2015 et en 2016. Cependant, ces relevés sont coûteux à obtenir, et à partir de ceux déjà réalisés, nous voulons tenter de prédire les émissions de CO2 et la consommation totale d’énergie des bâtiments pour lesquels elles n’ont pas encore été mesurées. </br>\n",
    "Dans ce notebook, nous testerons différents modèles de prédiction de la consommation d'énergie des bâtiments de la ville de Seattle."
   ]
  },
  {
   "cell_type": "markdown",
   "id": "e538f646",
   "metadata": {},
   "source": [
    "# Sommaire :\n",
    "- **Partie 1:** <a href=\"#C1\">Importation des données</a>\n",
    "- **Partie 2:** <a href=\"#C2\">Méthodes de Régression</a>\n",
    "    - <a href=\"#C3\">Régressions naïves</a>\n",
    "    - <a href=\"#C4\">Régression Linéaire</a>\n",
    "    - <a href=\"#C5\">Régression Ridge</a>\n",
    "    - <a href=\"#C6\">Régression Lasso</a>\n",
    "    - <a href=\"#C7\">Régression ElasticNet</a>\n",
    "- **Partie 3:** <a href=\"#C8\">Méthodes ensemblistes</a>\n",
    "    - <a href=\"#C9\">Bagging</a>\n",
    "    - <a href=\"#C10\">Random Forest</a>\n",
    "    - <a href=\"#C11\">Gradient Boosting</a>\n",
    "- **Partie 4:** <a href=\"#C12\">Méthodes non linéaires</a>\n",
    "    - <a href=\"#C13\"> SVM à noyau</a>\n",
    "    - <a href=\"#C14\">Régression ridge à noyau</a>\n",
    "- **Partie 5:** <a href=\"#C15\">Sélection du modèle de prédiction</a>"
   ]
  },
  {
   "cell_type": "markdown",
   "id": "933eee6a",
   "metadata": {},
   "source": [
    "# <a name=\"C1\">Partie 1: Importation des données</a>"
   ]
  },
  {
   "cell_type": "code",
   "execution_count": 1,
   "id": "a4feba3d",
   "metadata": {},
   "outputs": [
    {
     "data": {
      "text/plain": [
       "{'divide': 'warn', 'over': 'warn', 'under': 'ignore', 'invalid': 'warn'}"
      ]
     },
     "execution_count": 1,
     "metadata": {},
     "output_type": "execute_result"
    }
   ],
   "source": [
    "import pandas as pd\n",
    "import numpy as np\n",
    "import matplotlib.pyplot as plt\n",
    "import seaborn as sns\n",
    "import timeit\n",
    "from sklearn.model_selection import train_test_split, GridSearchCV, cross_val_score\n",
    "from sklearn.feature_selection import SelectKBest, f_regression\n",
    "from sklearn import datasets\n",
    "from sklearn.linear_model import LinearRegression, RidgeCV, Ridge, LassoCV, Lasso, ElasticNetCV, ElasticNet\n",
    "from sklearn.metrics import mean_squared_error, r2_score, mean_squared_log_error\n",
    "from sklearn.dummy import DummyRegressor\n",
    "from sklearn import preprocessing\n",
    "from sklearn.ensemble import BaggingRegressor, RandomForestRegressor, GradientBoostingRegressor\n",
    "from sklearn.svm import SVR\n",
    "from sklearn.kernel_ridge import KernelRidge\n",
    "\n",
    "pd.set_option('display.max_columns', 100)\n",
    "np.seterr(invalid='ignore')"
   ]
  },
  {
   "cell_type": "code",
   "execution_count": 2,
   "id": "2dc1c826",
   "metadata": {},
   "outputs": [
    {
     "data": {
      "text/html": [
       "<div>\n",
       "<style scoped>\n",
       "    .dataframe tbody tr th:only-of-type {\n",
       "        vertical-align: middle;\n",
       "    }\n",
       "\n",
       "    .dataframe tbody tr th {\n",
       "        vertical-align: top;\n",
       "    }\n",
       "\n",
       "    .dataframe thead th {\n",
       "        text-align: right;\n",
       "    }\n",
       "</style>\n",
       "<table border=\"1\" class=\"dataframe\">\n",
       "  <thead>\n",
       "    <tr style=\"text-align: right;\">\n",
       "      <th></th>\n",
       "      <th>YearBuilt</th>\n",
       "      <th>NumberofBuildings</th>\n",
       "      <th>NumberofFloors</th>\n",
       "      <th>PropertyGFATotal</th>\n",
       "      <th>ENERGYSTARScore</th>\n",
       "      <th>SiteEnergyUse(kBtu)</th>\n",
       "      <th>GHGEmissions(MetricTonsCO2e)</th>\n",
       "      <th>BuildingAge</th>\n",
       "      <th>BuildingType_Multifamily HR (10+)</th>\n",
       "      <th>BuildingType_Multifamily LR (1-4)</th>\n",
       "      <th>BuildingType_Multifamily MR (5-9)</th>\n",
       "      <th>BuildingType_NonResidential</th>\n",
       "      <th>BuildingType_Nonresidential COS</th>\n",
       "      <th>BuildingType_SPS-District K-12</th>\n",
       "      <th>PrimaryPropertyType_Distribution Center</th>\n",
       "      <th>PrimaryPropertyType_Distribution Center\\n</th>\n",
       "      <th>PrimaryPropertyType_High-Rise Multifamily</th>\n",
       "      <th>PrimaryPropertyType_Hospital</th>\n",
       "      <th>PrimaryPropertyType_Hotel</th>\n",
       "      <th>PrimaryPropertyType_K-12 School</th>\n",
       "      <th>PrimaryPropertyType_Laboratory</th>\n",
       "      <th>PrimaryPropertyType_Large Office</th>\n",
       "      <th>PrimaryPropertyType_Low-Rise Multifamily</th>\n",
       "      <th>PrimaryPropertyType_Medical Office</th>\n",
       "      <th>PrimaryPropertyType_Mid-Rise Multifamily</th>\n",
       "      <th>PrimaryPropertyType_Mixed Use Property</th>\n",
       "      <th>PrimaryPropertyType_Non-Refrigerated Warehouse</th>\n",
       "      <th>PrimaryPropertyType_Office</th>\n",
       "      <th>PrimaryPropertyType_Other</th>\n",
       "      <th>PrimaryPropertyType_Refrigerated Warehouse</th>\n",
       "      <th>PrimaryPropertyType_Residence Hall</th>\n",
       "      <th>PrimaryPropertyType_Residence Hall/Dormitory</th>\n",
       "      <th>PrimaryPropertyType_Restaurant</th>\n",
       "      <th>PrimaryPropertyType_Restaurant\\n</th>\n",
       "      <th>PrimaryPropertyType_Retail Store</th>\n",
       "      <th>PrimaryPropertyType_Self-Storage Facility</th>\n",
       "      <th>PrimaryPropertyType_Self-Storage Facility\\n</th>\n",
       "      <th>PrimaryPropertyType_Senior Care Community</th>\n",
       "      <th>PrimaryPropertyType_Small- and Mid-Sized Office</th>\n",
       "      <th>PrimaryPropertyType_Supermarket / Grocery Store</th>\n",
       "      <th>PrimaryPropertyType_Supermarket/Grocery Store</th>\n",
       "      <th>PrimaryPropertyType_University</th>\n",
       "      <th>PrimaryPropertyType_Warehouse</th>\n",
       "      <th>PrimaryPropertyType_Worship Facility</th>\n",
       "      <th>Neighborhood_Ballard</th>\n",
       "      <th>Neighborhood_CENTRAL</th>\n",
       "      <th>Neighborhood_Central</th>\n",
       "      <th>Neighborhood_DELRIDGE</th>\n",
       "      <th>Neighborhood_DELRIDGE NEIGHBORHOODS</th>\n",
       "      <th>Neighborhood_DOWNTOWN</th>\n",
       "      <th>...</th>\n",
       "      <th>SecondLargestPropertyUseType_Repair Services (Vehicle</th>\n",
       "      <th>SecondLargestPropertyUseType_Residence Hall/Dormitory</th>\n",
       "      <th>SecondLargestPropertyUseType_Restaurant</th>\n",
       "      <th>SecondLargestPropertyUseType_Retail Store</th>\n",
       "      <th>SecondLargestPropertyUseType_Self-Storage Facility</th>\n",
       "      <th>SecondLargestPropertyUseType_Senior Care Community</th>\n",
       "      <th>SecondLargestPropertyUseType_Shoe</th>\n",
       "      <th>SecondLargestPropertyUseType_Social/Meeting Hall</th>\n",
       "      <th>SecondLargestPropertyUseType_Strip Mall</th>\n",
       "      <th>SecondLargestPropertyUseType_Supermarket/Grocery Store</th>\n",
       "      <th>SecondLargestPropertyUseType_Swimming Pool</th>\n",
       "      <th>SecondLargestPropertyUseType_Worship Facility</th>\n",
       "      <th>ThirdLargestPropertyUseType_Financial Office</th>\n",
       "      <th>ThirdLargestPropertyUseType_Locksmith</th>\n",
       "      <th>ThirdLargestPropertyUseType_Manufacturing/Industrial Plant</th>\n",
       "      <th>ThirdLargestPropertyUseType_Medical Office</th>\n",
       "      <th>ThirdLargestPropertyUseType_Movie Theater</th>\n",
       "      <th>ThirdLargestPropertyUseType_Multifamily Housing</th>\n",
       "      <th>ThirdLargestPropertyUseType_Museum</th>\n",
       "      <th>ThirdLargestPropertyUseType_NoThirdUse</th>\n",
       "      <th>ThirdLargestPropertyUseType_Non-Refrigerated Warehouse</th>\n",
       "      <th>ThirdLargestPropertyUseType_Office</th>\n",
       "      <th>ThirdLargestPropertyUseType_Other</th>\n",
       "      <th>ThirdLargestPropertyUseType_Other - Education</th>\n",
       "      <th>ThirdLargestPropertyUseType_Other - Entertainment/Public Assembly</th>\n",
       "      <th>ThirdLargestPropertyUseType_Other - Lodging/Residential</th>\n",
       "      <th>ThirdLargestPropertyUseType_Other - Mall</th>\n",
       "      <th>ThirdLargestPropertyUseType_Other - Public Services</th>\n",
       "      <th>ThirdLargestPropertyUseType_Other - Recreation</th>\n",
       "      <th>ThirdLargestPropertyUseType_Other - Restaurant/Bar</th>\n",
       "      <th>ThirdLargestPropertyUseType_Other - Services</th>\n",
       "      <th>ThirdLargestPropertyUseType_Other - Technology/Science</th>\n",
       "      <th>ThirdLargestPropertyUseType_Outpatient Rehabilitation/Physical Therapy</th>\n",
       "      <th>ThirdLargestPropertyUseType_Parking</th>\n",
       "      <th>ThirdLargestPropertyUseType_Personal Services (Health/Beauty</th>\n",
       "      <th>ThirdLargestPropertyUseType_Pre-school/Daycare</th>\n",
       "      <th>ThirdLargestPropertyUseType_Refrigerated Warehouse</th>\n",
       "      <th>ThirdLargestPropertyUseType_Repair Services (Vehicle</th>\n",
       "      <th>ThirdLargestPropertyUseType_Residence Hall/Dormitory</th>\n",
       "      <th>ThirdLargestPropertyUseType_Restaurant</th>\n",
       "      <th>ThirdLargestPropertyUseType_Retail Store</th>\n",
       "      <th>ThirdLargestPropertyUseType_Self-Storage Facility</th>\n",
       "      <th>ThirdLargestPropertyUseType_Senior Care Community</th>\n",
       "      <th>ThirdLargestPropertyUseType_Shoe</th>\n",
       "      <th>ThirdLargestPropertyUseType_Social/Meeting Hall</th>\n",
       "      <th>ThirdLargestPropertyUseType_Supermarket/Grocery Store</th>\n",
       "      <th>ThirdLargestPropertyUseType_Swimming Pool</th>\n",
       "      <th>ThirdLargestPropertyUseType_Vocational School</th>\n",
       "      <th>ThirdLargestPropertyUseType_Worship Facility</th>\n",
       "      <th>ThirdLargestPropertyUseType_etc)</th>\n",
       "    </tr>\n",
       "  </thead>\n",
       "  <tbody>\n",
       "    <tr>\n",
       "      <th>0</th>\n",
       "      <td>1927</td>\n",
       "      <td>1</td>\n",
       "      <td>1</td>\n",
       "      <td>88434</td>\n",
       "      <td>65.0</td>\n",
       "      <td>6981428.0</td>\n",
       "      <td>249.43</td>\n",
       "      <td>88</td>\n",
       "      <td>0</td>\n",
       "      <td>0</td>\n",
       "      <td>0</td>\n",
       "      <td>1</td>\n",
       "      <td>0</td>\n",
       "      <td>0</td>\n",
       "      <td>0</td>\n",
       "      <td>0</td>\n",
       "      <td>0</td>\n",
       "      <td>0</td>\n",
       "      <td>1</td>\n",
       "      <td>0</td>\n",
       "      <td>0</td>\n",
       "      <td>0</td>\n",
       "      <td>0</td>\n",
       "      <td>0</td>\n",
       "      <td>0</td>\n",
       "      <td>0</td>\n",
       "      <td>0</td>\n",
       "      <td>0</td>\n",
       "      <td>0</td>\n",
       "      <td>0</td>\n",
       "      <td>0</td>\n",
       "      <td>0</td>\n",
       "      <td>0</td>\n",
       "      <td>0</td>\n",
       "      <td>0</td>\n",
       "      <td>0</td>\n",
       "      <td>0</td>\n",
       "      <td>0</td>\n",
       "      <td>0</td>\n",
       "      <td>0</td>\n",
       "      <td>0</td>\n",
       "      <td>0</td>\n",
       "      <td>0</td>\n",
       "      <td>0</td>\n",
       "      <td>0</td>\n",
       "      <td>0</td>\n",
       "      <td>0</td>\n",
       "      <td>0</td>\n",
       "      <td>0</td>\n",
       "      <td>1</td>\n",
       "      <td>...</td>\n",
       "      <td>0</td>\n",
       "      <td>0</td>\n",
       "      <td>0</td>\n",
       "      <td>0</td>\n",
       "      <td>0</td>\n",
       "      <td>0</td>\n",
       "      <td>0</td>\n",
       "      <td>0</td>\n",
       "      <td>0</td>\n",
       "      <td>0</td>\n",
       "      <td>0</td>\n",
       "      <td>0</td>\n",
       "      <td>0</td>\n",
       "      <td>0</td>\n",
       "      <td>0</td>\n",
       "      <td>0</td>\n",
       "      <td>0</td>\n",
       "      <td>0</td>\n",
       "      <td>0</td>\n",
       "      <td>1</td>\n",
       "      <td>0</td>\n",
       "      <td>0</td>\n",
       "      <td>0</td>\n",
       "      <td>0</td>\n",
       "      <td>0</td>\n",
       "      <td>0</td>\n",
       "      <td>0</td>\n",
       "      <td>0</td>\n",
       "      <td>0</td>\n",
       "      <td>0</td>\n",
       "      <td>0</td>\n",
       "      <td>0</td>\n",
       "      <td>0</td>\n",
       "      <td>0</td>\n",
       "      <td>0</td>\n",
       "      <td>0</td>\n",
       "      <td>0</td>\n",
       "      <td>0</td>\n",
       "      <td>0</td>\n",
       "      <td>0</td>\n",
       "      <td>0</td>\n",
       "      <td>0</td>\n",
       "      <td>0</td>\n",
       "      <td>0</td>\n",
       "      <td>0</td>\n",
       "      <td>0</td>\n",
       "      <td>0</td>\n",
       "      <td>0</td>\n",
       "      <td>0</td>\n",
       "      <td>0</td>\n",
       "    </tr>\n",
       "    <tr>\n",
       "      <th>1</th>\n",
       "      <td>1996</td>\n",
       "      <td>1</td>\n",
       "      <td>1</td>\n",
       "      <td>103566</td>\n",
       "      <td>51.0</td>\n",
       "      <td>8354235.0</td>\n",
       "      <td>263.51</td>\n",
       "      <td>19</td>\n",
       "      <td>0</td>\n",
       "      <td>0</td>\n",
       "      <td>0</td>\n",
       "      <td>1</td>\n",
       "      <td>0</td>\n",
       "      <td>0</td>\n",
       "      <td>0</td>\n",
       "      <td>0</td>\n",
       "      <td>0</td>\n",
       "      <td>0</td>\n",
       "      <td>1</td>\n",
       "      <td>0</td>\n",
       "      <td>0</td>\n",
       "      <td>0</td>\n",
       "      <td>0</td>\n",
       "      <td>0</td>\n",
       "      <td>0</td>\n",
       "      <td>0</td>\n",
       "      <td>0</td>\n",
       "      <td>0</td>\n",
       "      <td>0</td>\n",
       "      <td>0</td>\n",
       "      <td>0</td>\n",
       "      <td>0</td>\n",
       "      <td>0</td>\n",
       "      <td>0</td>\n",
       "      <td>0</td>\n",
       "      <td>0</td>\n",
       "      <td>0</td>\n",
       "      <td>0</td>\n",
       "      <td>0</td>\n",
       "      <td>0</td>\n",
       "      <td>0</td>\n",
       "      <td>0</td>\n",
       "      <td>0</td>\n",
       "      <td>0</td>\n",
       "      <td>0</td>\n",
       "      <td>0</td>\n",
       "      <td>0</td>\n",
       "      <td>0</td>\n",
       "      <td>0</td>\n",
       "      <td>1</td>\n",
       "      <td>...</td>\n",
       "      <td>0</td>\n",
       "      <td>0</td>\n",
       "      <td>0</td>\n",
       "      <td>0</td>\n",
       "      <td>0</td>\n",
       "      <td>0</td>\n",
       "      <td>0</td>\n",
       "      <td>0</td>\n",
       "      <td>0</td>\n",
       "      <td>0</td>\n",
       "      <td>0</td>\n",
       "      <td>0</td>\n",
       "      <td>0</td>\n",
       "      <td>0</td>\n",
       "      <td>0</td>\n",
       "      <td>0</td>\n",
       "      <td>0</td>\n",
       "      <td>0</td>\n",
       "      <td>0</td>\n",
       "      <td>0</td>\n",
       "      <td>0</td>\n",
       "      <td>0</td>\n",
       "      <td>0</td>\n",
       "      <td>0</td>\n",
       "      <td>0</td>\n",
       "      <td>0</td>\n",
       "      <td>0</td>\n",
       "      <td>0</td>\n",
       "      <td>0</td>\n",
       "      <td>0</td>\n",
       "      <td>0</td>\n",
       "      <td>0</td>\n",
       "      <td>0</td>\n",
       "      <td>0</td>\n",
       "      <td>0</td>\n",
       "      <td>0</td>\n",
       "      <td>0</td>\n",
       "      <td>0</td>\n",
       "      <td>0</td>\n",
       "      <td>1</td>\n",
       "      <td>0</td>\n",
       "      <td>0</td>\n",
       "      <td>0</td>\n",
       "      <td>0</td>\n",
       "      <td>0</td>\n",
       "      <td>0</td>\n",
       "      <td>0</td>\n",
       "      <td>0</td>\n",
       "      <td>0</td>\n",
       "      <td>0</td>\n",
       "    </tr>\n",
       "    <tr>\n",
       "      <th>2</th>\n",
       "      <td>1969</td>\n",
       "      <td>1</td>\n",
       "      <td>1</td>\n",
       "      <td>961990</td>\n",
       "      <td>18.0</td>\n",
       "      <td>73130656.0</td>\n",
       "      <td>2061.48</td>\n",
       "      <td>46</td>\n",
       "      <td>0</td>\n",
       "      <td>0</td>\n",
       "      <td>0</td>\n",
       "      <td>1</td>\n",
       "      <td>0</td>\n",
       "      <td>0</td>\n",
       "      <td>0</td>\n",
       "      <td>0</td>\n",
       "      <td>0</td>\n",
       "      <td>0</td>\n",
       "      <td>1</td>\n",
       "      <td>0</td>\n",
       "      <td>0</td>\n",
       "      <td>0</td>\n",
       "      <td>0</td>\n",
       "      <td>0</td>\n",
       "      <td>0</td>\n",
       "      <td>0</td>\n",
       "      <td>0</td>\n",
       "      <td>0</td>\n",
       "      <td>0</td>\n",
       "      <td>0</td>\n",
       "      <td>0</td>\n",
       "      <td>0</td>\n",
       "      <td>0</td>\n",
       "      <td>0</td>\n",
       "      <td>0</td>\n",
       "      <td>0</td>\n",
       "      <td>0</td>\n",
       "      <td>0</td>\n",
       "      <td>0</td>\n",
       "      <td>0</td>\n",
       "      <td>0</td>\n",
       "      <td>0</td>\n",
       "      <td>0</td>\n",
       "      <td>0</td>\n",
       "      <td>0</td>\n",
       "      <td>0</td>\n",
       "      <td>0</td>\n",
       "      <td>0</td>\n",
       "      <td>0</td>\n",
       "      <td>1</td>\n",
       "      <td>...</td>\n",
       "      <td>0</td>\n",
       "      <td>0</td>\n",
       "      <td>0</td>\n",
       "      <td>0</td>\n",
       "      <td>0</td>\n",
       "      <td>0</td>\n",
       "      <td>0</td>\n",
       "      <td>0</td>\n",
       "      <td>0</td>\n",
       "      <td>0</td>\n",
       "      <td>0</td>\n",
       "      <td>0</td>\n",
       "      <td>0</td>\n",
       "      <td>0</td>\n",
       "      <td>0</td>\n",
       "      <td>0</td>\n",
       "      <td>0</td>\n",
       "      <td>0</td>\n",
       "      <td>0</td>\n",
       "      <td>0</td>\n",
       "      <td>0</td>\n",
       "      <td>0</td>\n",
       "      <td>0</td>\n",
       "      <td>0</td>\n",
       "      <td>0</td>\n",
       "      <td>0</td>\n",
       "      <td>0</td>\n",
       "      <td>0</td>\n",
       "      <td>0</td>\n",
       "      <td>0</td>\n",
       "      <td>0</td>\n",
       "      <td>0</td>\n",
       "      <td>0</td>\n",
       "      <td>0</td>\n",
       "      <td>0</td>\n",
       "      <td>0</td>\n",
       "      <td>0</td>\n",
       "      <td>0</td>\n",
       "      <td>0</td>\n",
       "      <td>0</td>\n",
       "      <td>0</td>\n",
       "      <td>0</td>\n",
       "      <td>0</td>\n",
       "      <td>0</td>\n",
       "      <td>0</td>\n",
       "      <td>0</td>\n",
       "      <td>1</td>\n",
       "      <td>0</td>\n",
       "      <td>0</td>\n",
       "      <td>0</td>\n",
       "    </tr>\n",
       "    <tr>\n",
       "      <th>3</th>\n",
       "      <td>1980</td>\n",
       "      <td>1</td>\n",
       "      <td>1</td>\n",
       "      <td>119890</td>\n",
       "      <td>67.0</td>\n",
       "      <td>14829099.0</td>\n",
       "      <td>507.70</td>\n",
       "      <td>35</td>\n",
       "      <td>0</td>\n",
       "      <td>0</td>\n",
       "      <td>0</td>\n",
       "      <td>1</td>\n",
       "      <td>0</td>\n",
       "      <td>0</td>\n",
       "      <td>0</td>\n",
       "      <td>0</td>\n",
       "      <td>0</td>\n",
       "      <td>0</td>\n",
       "      <td>1</td>\n",
       "      <td>0</td>\n",
       "      <td>0</td>\n",
       "      <td>0</td>\n",
       "      <td>0</td>\n",
       "      <td>0</td>\n",
       "      <td>0</td>\n",
       "      <td>0</td>\n",
       "      <td>0</td>\n",
       "      <td>0</td>\n",
       "      <td>0</td>\n",
       "      <td>0</td>\n",
       "      <td>0</td>\n",
       "      <td>0</td>\n",
       "      <td>0</td>\n",
       "      <td>0</td>\n",
       "      <td>0</td>\n",
       "      <td>0</td>\n",
       "      <td>0</td>\n",
       "      <td>0</td>\n",
       "      <td>0</td>\n",
       "      <td>0</td>\n",
       "      <td>0</td>\n",
       "      <td>0</td>\n",
       "      <td>0</td>\n",
       "      <td>0</td>\n",
       "      <td>0</td>\n",
       "      <td>0</td>\n",
       "      <td>0</td>\n",
       "      <td>0</td>\n",
       "      <td>0</td>\n",
       "      <td>1</td>\n",
       "      <td>...</td>\n",
       "      <td>0</td>\n",
       "      <td>0</td>\n",
       "      <td>0</td>\n",
       "      <td>0</td>\n",
       "      <td>0</td>\n",
       "      <td>0</td>\n",
       "      <td>0</td>\n",
       "      <td>0</td>\n",
       "      <td>0</td>\n",
       "      <td>0</td>\n",
       "      <td>0</td>\n",
       "      <td>0</td>\n",
       "      <td>0</td>\n",
       "      <td>0</td>\n",
       "      <td>0</td>\n",
       "      <td>0</td>\n",
       "      <td>0</td>\n",
       "      <td>0</td>\n",
       "      <td>0</td>\n",
       "      <td>0</td>\n",
       "      <td>0</td>\n",
       "      <td>0</td>\n",
       "      <td>0</td>\n",
       "      <td>0</td>\n",
       "      <td>0</td>\n",
       "      <td>0</td>\n",
       "      <td>0</td>\n",
       "      <td>0</td>\n",
       "      <td>0</td>\n",
       "      <td>0</td>\n",
       "      <td>0</td>\n",
       "      <td>0</td>\n",
       "      <td>0</td>\n",
       "      <td>0</td>\n",
       "      <td>0</td>\n",
       "      <td>0</td>\n",
       "      <td>0</td>\n",
       "      <td>0</td>\n",
       "      <td>0</td>\n",
       "      <td>0</td>\n",
       "      <td>0</td>\n",
       "      <td>0</td>\n",
       "      <td>0</td>\n",
       "      <td>0</td>\n",
       "      <td>0</td>\n",
       "      <td>0</td>\n",
       "      <td>1</td>\n",
       "      <td>0</td>\n",
       "      <td>0</td>\n",
       "      <td>0</td>\n",
       "    </tr>\n",
       "    <tr>\n",
       "      <th>4</th>\n",
       "      <td>1999</td>\n",
       "      <td>1</td>\n",
       "      <td>1</td>\n",
       "      <td>97288</td>\n",
       "      <td>59.0</td>\n",
       "      <td>12051984.0</td>\n",
       "      <td>304.62</td>\n",
       "      <td>16</td>\n",
       "      <td>0</td>\n",
       "      <td>0</td>\n",
       "      <td>0</td>\n",
       "      <td>0</td>\n",
       "      <td>1</td>\n",
       "      <td>0</td>\n",
       "      <td>0</td>\n",
       "      <td>0</td>\n",
       "      <td>0</td>\n",
       "      <td>0</td>\n",
       "      <td>0</td>\n",
       "      <td>0</td>\n",
       "      <td>0</td>\n",
       "      <td>0</td>\n",
       "      <td>0</td>\n",
       "      <td>0</td>\n",
       "      <td>0</td>\n",
       "      <td>0</td>\n",
       "      <td>0</td>\n",
       "      <td>0</td>\n",
       "      <td>1</td>\n",
       "      <td>0</td>\n",
       "      <td>0</td>\n",
       "      <td>0</td>\n",
       "      <td>0</td>\n",
       "      <td>0</td>\n",
       "      <td>0</td>\n",
       "      <td>0</td>\n",
       "      <td>0</td>\n",
       "      <td>0</td>\n",
       "      <td>0</td>\n",
       "      <td>0</td>\n",
       "      <td>0</td>\n",
       "      <td>0</td>\n",
       "      <td>0</td>\n",
       "      <td>0</td>\n",
       "      <td>0</td>\n",
       "      <td>0</td>\n",
       "      <td>0</td>\n",
       "      <td>0</td>\n",
       "      <td>0</td>\n",
       "      <td>1</td>\n",
       "      <td>...</td>\n",
       "      <td>0</td>\n",
       "      <td>0</td>\n",
       "      <td>0</td>\n",
       "      <td>0</td>\n",
       "      <td>0</td>\n",
       "      <td>0</td>\n",
       "      <td>0</td>\n",
       "      <td>0</td>\n",
       "      <td>0</td>\n",
       "      <td>0</td>\n",
       "      <td>0</td>\n",
       "      <td>0</td>\n",
       "      <td>0</td>\n",
       "      <td>0</td>\n",
       "      <td>0</td>\n",
       "      <td>0</td>\n",
       "      <td>0</td>\n",
       "      <td>0</td>\n",
       "      <td>0</td>\n",
       "      <td>1</td>\n",
       "      <td>0</td>\n",
       "      <td>0</td>\n",
       "      <td>0</td>\n",
       "      <td>0</td>\n",
       "      <td>0</td>\n",
       "      <td>0</td>\n",
       "      <td>0</td>\n",
       "      <td>0</td>\n",
       "      <td>0</td>\n",
       "      <td>0</td>\n",
       "      <td>0</td>\n",
       "      <td>0</td>\n",
       "      <td>0</td>\n",
       "      <td>0</td>\n",
       "      <td>0</td>\n",
       "      <td>0</td>\n",
       "      <td>0</td>\n",
       "      <td>0</td>\n",
       "      <td>0</td>\n",
       "      <td>0</td>\n",
       "      <td>0</td>\n",
       "      <td>0</td>\n",
       "      <td>0</td>\n",
       "      <td>0</td>\n",
       "      <td>0</td>\n",
       "      <td>0</td>\n",
       "      <td>0</td>\n",
       "      <td>0</td>\n",
       "      <td>0</td>\n",
       "      <td>0</td>\n",
       "    </tr>\n",
       "  </tbody>\n",
       "</table>\n",
       "<p>5 rows × 207 columns</p>\n",
       "</div>"
      ],
      "text/plain": [
       "   YearBuilt  NumberofBuildings  NumberofFloors  PropertyGFATotal  \\\n",
       "0       1927                  1               1             88434   \n",
       "1       1996                  1               1            103566   \n",
       "2       1969                  1               1            961990   \n",
       "3       1980                  1               1            119890   \n",
       "4       1999                  1               1             97288   \n",
       "\n",
       "   ENERGYSTARScore  SiteEnergyUse(kBtu)  GHGEmissions(MetricTonsCO2e)  \\\n",
       "0             65.0            6981428.0                        249.43   \n",
       "1             51.0            8354235.0                        263.51   \n",
       "2             18.0           73130656.0                       2061.48   \n",
       "3             67.0           14829099.0                        507.70   \n",
       "4             59.0           12051984.0                        304.62   \n",
       "\n",
       "   BuildingAge  BuildingType_Multifamily HR (10+)  \\\n",
       "0           88                                  0   \n",
       "1           19                                  0   \n",
       "2           46                                  0   \n",
       "3           35                                  0   \n",
       "4           16                                  0   \n",
       "\n",
       "   BuildingType_Multifamily LR (1-4)  BuildingType_Multifamily MR (5-9)  \\\n",
       "0                                  0                                  0   \n",
       "1                                  0                                  0   \n",
       "2                                  0                                  0   \n",
       "3                                  0                                  0   \n",
       "4                                  0                                  0   \n",
       "\n",
       "   BuildingType_NonResidential  BuildingType_Nonresidential COS  \\\n",
       "0                            1                                0   \n",
       "1                            1                                0   \n",
       "2                            1                                0   \n",
       "3                            1                                0   \n",
       "4                            0                                1   \n",
       "\n",
       "   BuildingType_SPS-District K-12  PrimaryPropertyType_Distribution Center  \\\n",
       "0                               0                                        0   \n",
       "1                               0                                        0   \n",
       "2                               0                                        0   \n",
       "3                               0                                        0   \n",
       "4                               0                                        0   \n",
       "\n",
       "   PrimaryPropertyType_Distribution Center\\n  \\\n",
       "0                                          0   \n",
       "1                                          0   \n",
       "2                                          0   \n",
       "3                                          0   \n",
       "4                                          0   \n",
       "\n",
       "   PrimaryPropertyType_High-Rise Multifamily  PrimaryPropertyType_Hospital  \\\n",
       "0                                          0                             0   \n",
       "1                                          0                             0   \n",
       "2                                          0                             0   \n",
       "3                                          0                             0   \n",
       "4                                          0                             0   \n",
       "\n",
       "   PrimaryPropertyType_Hotel  PrimaryPropertyType_K-12 School  \\\n",
       "0                          1                                0   \n",
       "1                          1                                0   \n",
       "2                          1                                0   \n",
       "3                          1                                0   \n",
       "4                          0                                0   \n",
       "\n",
       "   PrimaryPropertyType_Laboratory  PrimaryPropertyType_Large Office  \\\n",
       "0                               0                                 0   \n",
       "1                               0                                 0   \n",
       "2                               0                                 0   \n",
       "3                               0                                 0   \n",
       "4                               0                                 0   \n",
       "\n",
       "   PrimaryPropertyType_Low-Rise Multifamily  \\\n",
       "0                                         0   \n",
       "1                                         0   \n",
       "2                                         0   \n",
       "3                                         0   \n",
       "4                                         0   \n",
       "\n",
       "   PrimaryPropertyType_Medical Office  \\\n",
       "0                                   0   \n",
       "1                                   0   \n",
       "2                                   0   \n",
       "3                                   0   \n",
       "4                                   0   \n",
       "\n",
       "   PrimaryPropertyType_Mid-Rise Multifamily  \\\n",
       "0                                         0   \n",
       "1                                         0   \n",
       "2                                         0   \n",
       "3                                         0   \n",
       "4                                         0   \n",
       "\n",
       "   PrimaryPropertyType_Mixed Use Property  \\\n",
       "0                                       0   \n",
       "1                                       0   \n",
       "2                                       0   \n",
       "3                                       0   \n",
       "4                                       0   \n",
       "\n",
       "   PrimaryPropertyType_Non-Refrigerated Warehouse  PrimaryPropertyType_Office  \\\n",
       "0                                               0                           0   \n",
       "1                                               0                           0   \n",
       "2                                               0                           0   \n",
       "3                                               0                           0   \n",
       "4                                               0                           0   \n",
       "\n",
       "   PrimaryPropertyType_Other  PrimaryPropertyType_Refrigerated Warehouse  \\\n",
       "0                          0                                           0   \n",
       "1                          0                                           0   \n",
       "2                          0                                           0   \n",
       "3                          0                                           0   \n",
       "4                          1                                           0   \n",
       "\n",
       "   PrimaryPropertyType_Residence Hall  \\\n",
       "0                                   0   \n",
       "1                                   0   \n",
       "2                                   0   \n",
       "3                                   0   \n",
       "4                                   0   \n",
       "\n",
       "   PrimaryPropertyType_Residence Hall/Dormitory  \\\n",
       "0                                             0   \n",
       "1                                             0   \n",
       "2                                             0   \n",
       "3                                             0   \n",
       "4                                             0   \n",
       "\n",
       "   PrimaryPropertyType_Restaurant  PrimaryPropertyType_Restaurant\\n  \\\n",
       "0                               0                                 0   \n",
       "1                               0                                 0   \n",
       "2                               0                                 0   \n",
       "3                               0                                 0   \n",
       "4                               0                                 0   \n",
       "\n",
       "   PrimaryPropertyType_Retail Store  \\\n",
       "0                                 0   \n",
       "1                                 0   \n",
       "2                                 0   \n",
       "3                                 0   \n",
       "4                                 0   \n",
       "\n",
       "   PrimaryPropertyType_Self-Storage Facility  \\\n",
       "0                                          0   \n",
       "1                                          0   \n",
       "2                                          0   \n",
       "3                                          0   \n",
       "4                                          0   \n",
       "\n",
       "   PrimaryPropertyType_Self-Storage Facility\\n  \\\n",
       "0                                            0   \n",
       "1                                            0   \n",
       "2                                            0   \n",
       "3                                            0   \n",
       "4                                            0   \n",
       "\n",
       "   PrimaryPropertyType_Senior Care Community  \\\n",
       "0                                          0   \n",
       "1                                          0   \n",
       "2                                          0   \n",
       "3                                          0   \n",
       "4                                          0   \n",
       "\n",
       "   PrimaryPropertyType_Small- and Mid-Sized Office  \\\n",
       "0                                                0   \n",
       "1                                                0   \n",
       "2                                                0   \n",
       "3                                                0   \n",
       "4                                                0   \n",
       "\n",
       "   PrimaryPropertyType_Supermarket / Grocery Store  \\\n",
       "0                                                0   \n",
       "1                                                0   \n",
       "2                                                0   \n",
       "3                                                0   \n",
       "4                                                0   \n",
       "\n",
       "   PrimaryPropertyType_Supermarket/Grocery Store  \\\n",
       "0                                              0   \n",
       "1                                              0   \n",
       "2                                              0   \n",
       "3                                              0   \n",
       "4                                              0   \n",
       "\n",
       "   PrimaryPropertyType_University  PrimaryPropertyType_Warehouse  \\\n",
       "0                               0                              0   \n",
       "1                               0                              0   \n",
       "2                               0                              0   \n",
       "3                               0                              0   \n",
       "4                               0                              0   \n",
       "\n",
       "   PrimaryPropertyType_Worship Facility  Neighborhood_Ballard  \\\n",
       "0                                     0                     0   \n",
       "1                                     0                     0   \n",
       "2                                     0                     0   \n",
       "3                                     0                     0   \n",
       "4                                     0                     0   \n",
       "\n",
       "   Neighborhood_CENTRAL  Neighborhood_Central  Neighborhood_DELRIDGE  \\\n",
       "0                     0                     0                      0   \n",
       "1                     0                     0                      0   \n",
       "2                     0                     0                      0   \n",
       "3                     0                     0                      0   \n",
       "4                     0                     0                      0   \n",
       "\n",
       "   Neighborhood_DELRIDGE NEIGHBORHOODS  Neighborhood_DOWNTOWN  ...  \\\n",
       "0                                    0                      1  ...   \n",
       "1                                    0                      1  ...   \n",
       "2                                    0                      1  ...   \n",
       "3                                    0                      1  ...   \n",
       "4                                    0                      1  ...   \n",
       "\n",
       "   SecondLargestPropertyUseType_Repair Services (Vehicle  \\\n",
       "0                                                  0       \n",
       "1                                                  0       \n",
       "2                                                  0       \n",
       "3                                                  0       \n",
       "4                                                  0       \n",
       "\n",
       "   SecondLargestPropertyUseType_Residence Hall/Dormitory  \\\n",
       "0                                                  0       \n",
       "1                                                  0       \n",
       "2                                                  0       \n",
       "3                                                  0       \n",
       "4                                                  0       \n",
       "\n",
       "   SecondLargestPropertyUseType_Restaurant  \\\n",
       "0                                        0   \n",
       "1                                        0   \n",
       "2                                        0   \n",
       "3                                        0   \n",
       "4                                        0   \n",
       "\n",
       "   SecondLargestPropertyUseType_Retail Store  \\\n",
       "0                                          0   \n",
       "1                                          0   \n",
       "2                                          0   \n",
       "3                                          0   \n",
       "4                                          0   \n",
       "\n",
       "   SecondLargestPropertyUseType_Self-Storage Facility  \\\n",
       "0                                                  0    \n",
       "1                                                  0    \n",
       "2                                                  0    \n",
       "3                                                  0    \n",
       "4                                                  0    \n",
       "\n",
       "   SecondLargestPropertyUseType_Senior Care Community  \\\n",
       "0                                                  0    \n",
       "1                                                  0    \n",
       "2                                                  0    \n",
       "3                                                  0    \n",
       "4                                                  0    \n",
       "\n",
       "   SecondLargestPropertyUseType_Shoe  \\\n",
       "0                                  0   \n",
       "1                                  0   \n",
       "2                                  0   \n",
       "3                                  0   \n",
       "4                                  0   \n",
       "\n",
       "   SecondLargestPropertyUseType_Social/Meeting Hall  \\\n",
       "0                                                 0   \n",
       "1                                                 0   \n",
       "2                                                 0   \n",
       "3                                                 0   \n",
       "4                                                 0   \n",
       "\n",
       "   SecondLargestPropertyUseType_Strip Mall  \\\n",
       "0                                        0   \n",
       "1                                        0   \n",
       "2                                        0   \n",
       "3                                        0   \n",
       "4                                        0   \n",
       "\n",
       "   SecondLargestPropertyUseType_Supermarket/Grocery Store  \\\n",
       "0                                                  0        \n",
       "1                                                  0        \n",
       "2                                                  0        \n",
       "3                                                  0        \n",
       "4                                                  0        \n",
       "\n",
       "   SecondLargestPropertyUseType_Swimming Pool  \\\n",
       "0                                           0   \n",
       "1                                           0   \n",
       "2                                           0   \n",
       "3                                           0   \n",
       "4                                           0   \n",
       "\n",
       "   SecondLargestPropertyUseType_Worship Facility  \\\n",
       "0                                              0   \n",
       "1                                              0   \n",
       "2                                              0   \n",
       "3                                              0   \n",
       "4                                              0   \n",
       "\n",
       "   ThirdLargestPropertyUseType_Financial Office  \\\n",
       "0                                             0   \n",
       "1                                             0   \n",
       "2                                             0   \n",
       "3                                             0   \n",
       "4                                             0   \n",
       "\n",
       "   ThirdLargestPropertyUseType_Locksmith  \\\n",
       "0                                      0   \n",
       "1                                      0   \n",
       "2                                      0   \n",
       "3                                      0   \n",
       "4                                      0   \n",
       "\n",
       "   ThirdLargestPropertyUseType_Manufacturing/Industrial Plant  \\\n",
       "0                                                  0            \n",
       "1                                                  0            \n",
       "2                                                  0            \n",
       "3                                                  0            \n",
       "4                                                  0            \n",
       "\n",
       "   ThirdLargestPropertyUseType_Medical Office  \\\n",
       "0                                           0   \n",
       "1                                           0   \n",
       "2                                           0   \n",
       "3                                           0   \n",
       "4                                           0   \n",
       "\n",
       "   ThirdLargestPropertyUseType_Movie Theater  \\\n",
       "0                                          0   \n",
       "1                                          0   \n",
       "2                                          0   \n",
       "3                                          0   \n",
       "4                                          0   \n",
       "\n",
       "   ThirdLargestPropertyUseType_Multifamily Housing  \\\n",
       "0                                                0   \n",
       "1                                                0   \n",
       "2                                                0   \n",
       "3                                                0   \n",
       "4                                                0   \n",
       "\n",
       "   ThirdLargestPropertyUseType_Museum  ThirdLargestPropertyUseType_NoThirdUse  \\\n",
       "0                                   0                                       1   \n",
       "1                                   0                                       0   \n",
       "2                                   0                                       0   \n",
       "3                                   0                                       0   \n",
       "4                                   0                                       1   \n",
       "\n",
       "   ThirdLargestPropertyUseType_Non-Refrigerated Warehouse  \\\n",
       "0                                                  0        \n",
       "1                                                  0        \n",
       "2                                                  0        \n",
       "3                                                  0        \n",
       "4                                                  0        \n",
       "\n",
       "   ThirdLargestPropertyUseType_Office  ThirdLargestPropertyUseType_Other  \\\n",
       "0                                   0                                  0   \n",
       "1                                   0                                  0   \n",
       "2                                   0                                  0   \n",
       "3                                   0                                  0   \n",
       "4                                   0                                  0   \n",
       "\n",
       "   ThirdLargestPropertyUseType_Other - Education  \\\n",
       "0                                              0   \n",
       "1                                              0   \n",
       "2                                              0   \n",
       "3                                              0   \n",
       "4                                              0   \n",
       "\n",
       "   ThirdLargestPropertyUseType_Other - Entertainment/Public Assembly  \\\n",
       "0                                                  0                   \n",
       "1                                                  0                   \n",
       "2                                                  0                   \n",
       "3                                                  0                   \n",
       "4                                                  0                   \n",
       "\n",
       "   ThirdLargestPropertyUseType_Other - Lodging/Residential  \\\n",
       "0                                                  0         \n",
       "1                                                  0         \n",
       "2                                                  0         \n",
       "3                                                  0         \n",
       "4                                                  0         \n",
       "\n",
       "   ThirdLargestPropertyUseType_Other - Mall  \\\n",
       "0                                         0   \n",
       "1                                         0   \n",
       "2                                         0   \n",
       "3                                         0   \n",
       "4                                         0   \n",
       "\n",
       "   ThirdLargestPropertyUseType_Other - Public Services  \\\n",
       "0                                                  0     \n",
       "1                                                  0     \n",
       "2                                                  0     \n",
       "3                                                  0     \n",
       "4                                                  0     \n",
       "\n",
       "   ThirdLargestPropertyUseType_Other - Recreation  \\\n",
       "0                                               0   \n",
       "1                                               0   \n",
       "2                                               0   \n",
       "3                                               0   \n",
       "4                                               0   \n",
       "\n",
       "   ThirdLargestPropertyUseType_Other - Restaurant/Bar  \\\n",
       "0                                                  0    \n",
       "1                                                  0    \n",
       "2                                                  0    \n",
       "3                                                  0    \n",
       "4                                                  0    \n",
       "\n",
       "   ThirdLargestPropertyUseType_Other - Services  \\\n",
       "0                                             0   \n",
       "1                                             0   \n",
       "2                                             0   \n",
       "3                                             0   \n",
       "4                                             0   \n",
       "\n",
       "   ThirdLargestPropertyUseType_Other - Technology/Science  \\\n",
       "0                                                  0        \n",
       "1                                                  0        \n",
       "2                                                  0        \n",
       "3                                                  0        \n",
       "4                                                  0        \n",
       "\n",
       "   ThirdLargestPropertyUseType_Outpatient Rehabilitation/Physical Therapy  \\\n",
       "0                                                  0                        \n",
       "1                                                  0                        \n",
       "2                                                  0                        \n",
       "3                                                  0                        \n",
       "4                                                  0                        \n",
       "\n",
       "   ThirdLargestPropertyUseType_Parking  \\\n",
       "0                                    0   \n",
       "1                                    0   \n",
       "2                                    0   \n",
       "3                                    0   \n",
       "4                                    0   \n",
       "\n",
       "   ThirdLargestPropertyUseType_Personal Services (Health/Beauty  \\\n",
       "0                                                  0              \n",
       "1                                                  0              \n",
       "2                                                  0              \n",
       "3                                                  0              \n",
       "4                                                  0              \n",
       "\n",
       "   ThirdLargestPropertyUseType_Pre-school/Daycare  \\\n",
       "0                                               0   \n",
       "1                                               0   \n",
       "2                                               0   \n",
       "3                                               0   \n",
       "4                                               0   \n",
       "\n",
       "   ThirdLargestPropertyUseType_Refrigerated Warehouse  \\\n",
       "0                                                  0    \n",
       "1                                                  0    \n",
       "2                                                  0    \n",
       "3                                                  0    \n",
       "4                                                  0    \n",
       "\n",
       "   ThirdLargestPropertyUseType_Repair Services (Vehicle  \\\n",
       "0                                                  0      \n",
       "1                                                  0      \n",
       "2                                                  0      \n",
       "3                                                  0      \n",
       "4                                                  0      \n",
       "\n",
       "   ThirdLargestPropertyUseType_Residence Hall/Dormitory  \\\n",
       "0                                                  0      \n",
       "1                                                  0      \n",
       "2                                                  0      \n",
       "3                                                  0      \n",
       "4                                                  0      \n",
       "\n",
       "   ThirdLargestPropertyUseType_Restaurant  \\\n",
       "0                                       0   \n",
       "1                                       1   \n",
       "2                                       0   \n",
       "3                                       0   \n",
       "4                                       0   \n",
       "\n",
       "   ThirdLargestPropertyUseType_Retail Store  \\\n",
       "0                                         0   \n",
       "1                                         0   \n",
       "2                                         0   \n",
       "3                                         0   \n",
       "4                                         0   \n",
       "\n",
       "   ThirdLargestPropertyUseType_Self-Storage Facility  \\\n",
       "0                                                  0   \n",
       "1                                                  0   \n",
       "2                                                  0   \n",
       "3                                                  0   \n",
       "4                                                  0   \n",
       "\n",
       "   ThirdLargestPropertyUseType_Senior Care Community  \\\n",
       "0                                                  0   \n",
       "1                                                  0   \n",
       "2                                                  0   \n",
       "3                                                  0   \n",
       "4                                                  0   \n",
       "\n",
       "   ThirdLargestPropertyUseType_Shoe  \\\n",
       "0                                 0   \n",
       "1                                 0   \n",
       "2                                 0   \n",
       "3                                 0   \n",
       "4                                 0   \n",
       "\n",
       "   ThirdLargestPropertyUseType_Social/Meeting Hall  \\\n",
       "0                                                0   \n",
       "1                                                0   \n",
       "2                                                0   \n",
       "3                                                0   \n",
       "4                                                0   \n",
       "\n",
       "   ThirdLargestPropertyUseType_Supermarket/Grocery Store  \\\n",
       "0                                                  0       \n",
       "1                                                  0       \n",
       "2                                                  0       \n",
       "3                                                  0       \n",
       "4                                                  0       \n",
       "\n",
       "   ThirdLargestPropertyUseType_Swimming Pool  \\\n",
       "0                                          0   \n",
       "1                                          0   \n",
       "2                                          1   \n",
       "3                                          1   \n",
       "4                                          0   \n",
       "\n",
       "   ThirdLargestPropertyUseType_Vocational School  \\\n",
       "0                                              0   \n",
       "1                                              0   \n",
       "2                                              0   \n",
       "3                                              0   \n",
       "4                                              0   \n",
       "\n",
       "   ThirdLargestPropertyUseType_Worship Facility  \\\n",
       "0                                             0   \n",
       "1                                             0   \n",
       "2                                             0   \n",
       "3                                             0   \n",
       "4                                             0   \n",
       "\n",
       "   ThirdLargestPropertyUseType_etc)  \n",
       "0                                 0  \n",
       "1                                 0  \n",
       "2                                 0  \n",
       "3                                 0  \n",
       "4                                 0  \n",
       "\n",
       "[5 rows x 207 columns]"
      ]
     },
     "execution_count": 2,
     "metadata": {},
     "output_type": "execute_result"
    }
   ],
   "source": [
    "#Jeu de données nettoyé sans transformation\n",
    "data_original = pd.read_csv('dataNettoye.csv',sep=',',encoding='utf-8')\n",
    "data = data_original.copy()\n",
    "data.head()"
   ]
  },
  {
   "cell_type": "code",
   "execution_count": 3,
   "id": "f7b5a769",
   "metadata": {},
   "outputs": [
    {
     "data": {
      "text/html": [
       "<div>\n",
       "<style scoped>\n",
       "    .dataframe tbody tr th:only-of-type {\n",
       "        vertical-align: middle;\n",
       "    }\n",
       "\n",
       "    .dataframe tbody tr th {\n",
       "        vertical-align: top;\n",
       "    }\n",
       "\n",
       "    .dataframe thead th {\n",
       "        text-align: right;\n",
       "    }\n",
       "</style>\n",
       "<table border=\"1\" class=\"dataframe\">\n",
       "  <thead>\n",
       "    <tr style=\"text-align: right;\">\n",
       "      <th></th>\n",
       "      <th>YearBuilt</th>\n",
       "      <th>NumberofBuildings</th>\n",
       "      <th>NumberofFloors</th>\n",
       "      <th>PropertyGFATotal</th>\n",
       "      <th>ENERGYSTARScore</th>\n",
       "      <th>SiteEnergyUse(kBtu)</th>\n",
       "      <th>GHGEmissions(MetricTonsCO2e)</th>\n",
       "      <th>BuildingAge</th>\n",
       "      <th>BuildingType_Multifamily HR (10+)</th>\n",
       "      <th>BuildingType_Multifamily LR (1-4)</th>\n",
       "      <th>BuildingType_Multifamily MR (5-9)</th>\n",
       "      <th>BuildingType_NonResidential</th>\n",
       "      <th>BuildingType_Nonresidential COS</th>\n",
       "      <th>BuildingType_SPS-District K-12</th>\n",
       "      <th>PrimaryPropertyType_Distribution Center</th>\n",
       "      <th>PrimaryPropertyType_Distribution Center\\n</th>\n",
       "      <th>PrimaryPropertyType_High-Rise Multifamily</th>\n",
       "      <th>PrimaryPropertyType_Hospital</th>\n",
       "      <th>PrimaryPropertyType_Hotel</th>\n",
       "      <th>PrimaryPropertyType_K-12 School</th>\n",
       "      <th>PrimaryPropertyType_Laboratory</th>\n",
       "      <th>PrimaryPropertyType_Large Office</th>\n",
       "      <th>PrimaryPropertyType_Low-Rise Multifamily</th>\n",
       "      <th>PrimaryPropertyType_Medical Office</th>\n",
       "      <th>PrimaryPropertyType_Mid-Rise Multifamily</th>\n",
       "      <th>PrimaryPropertyType_Mixed Use Property</th>\n",
       "      <th>PrimaryPropertyType_Non-Refrigerated Warehouse</th>\n",
       "      <th>PrimaryPropertyType_Office</th>\n",
       "      <th>PrimaryPropertyType_Other</th>\n",
       "      <th>PrimaryPropertyType_Refrigerated Warehouse</th>\n",
       "      <th>PrimaryPropertyType_Residence Hall</th>\n",
       "      <th>PrimaryPropertyType_Residence Hall/Dormitory</th>\n",
       "      <th>PrimaryPropertyType_Restaurant</th>\n",
       "      <th>PrimaryPropertyType_Restaurant\\n</th>\n",
       "      <th>PrimaryPropertyType_Retail Store</th>\n",
       "      <th>PrimaryPropertyType_Self-Storage Facility</th>\n",
       "      <th>PrimaryPropertyType_Self-Storage Facility\\n</th>\n",
       "      <th>PrimaryPropertyType_Senior Care Community</th>\n",
       "      <th>PrimaryPropertyType_Small- and Mid-Sized Office</th>\n",
       "      <th>PrimaryPropertyType_Supermarket / Grocery Store</th>\n",
       "      <th>PrimaryPropertyType_Supermarket/Grocery Store</th>\n",
       "      <th>PrimaryPropertyType_University</th>\n",
       "      <th>PrimaryPropertyType_Warehouse</th>\n",
       "      <th>PrimaryPropertyType_Worship Facility</th>\n",
       "      <th>Neighborhood_Ballard</th>\n",
       "      <th>Neighborhood_CENTRAL</th>\n",
       "      <th>Neighborhood_Central</th>\n",
       "      <th>Neighborhood_DELRIDGE</th>\n",
       "      <th>Neighborhood_DELRIDGE NEIGHBORHOODS</th>\n",
       "      <th>Neighborhood_DOWNTOWN</th>\n",
       "      <th>...</th>\n",
       "      <th>SecondLargestPropertyUseType_Repair Services (Vehicle</th>\n",
       "      <th>SecondLargestPropertyUseType_Residence Hall/Dormitory</th>\n",
       "      <th>SecondLargestPropertyUseType_Restaurant</th>\n",
       "      <th>SecondLargestPropertyUseType_Retail Store</th>\n",
       "      <th>SecondLargestPropertyUseType_Self-Storage Facility</th>\n",
       "      <th>SecondLargestPropertyUseType_Senior Care Community</th>\n",
       "      <th>SecondLargestPropertyUseType_Shoe</th>\n",
       "      <th>SecondLargestPropertyUseType_Social/Meeting Hall</th>\n",
       "      <th>SecondLargestPropertyUseType_Strip Mall</th>\n",
       "      <th>SecondLargestPropertyUseType_Supermarket/Grocery Store</th>\n",
       "      <th>SecondLargestPropertyUseType_Swimming Pool</th>\n",
       "      <th>SecondLargestPropertyUseType_Worship Facility</th>\n",
       "      <th>ThirdLargestPropertyUseType_Financial Office</th>\n",
       "      <th>ThirdLargestPropertyUseType_Locksmith</th>\n",
       "      <th>ThirdLargestPropertyUseType_Manufacturing/Industrial Plant</th>\n",
       "      <th>ThirdLargestPropertyUseType_Medical Office</th>\n",
       "      <th>ThirdLargestPropertyUseType_Movie Theater</th>\n",
       "      <th>ThirdLargestPropertyUseType_Multifamily Housing</th>\n",
       "      <th>ThirdLargestPropertyUseType_Museum</th>\n",
       "      <th>ThirdLargestPropertyUseType_NoThirdUse</th>\n",
       "      <th>ThirdLargestPropertyUseType_Non-Refrigerated Warehouse</th>\n",
       "      <th>ThirdLargestPropertyUseType_Office</th>\n",
       "      <th>ThirdLargestPropertyUseType_Other</th>\n",
       "      <th>ThirdLargestPropertyUseType_Other - Education</th>\n",
       "      <th>ThirdLargestPropertyUseType_Other - Entertainment/Public Assembly</th>\n",
       "      <th>ThirdLargestPropertyUseType_Other - Lodging/Residential</th>\n",
       "      <th>ThirdLargestPropertyUseType_Other - Mall</th>\n",
       "      <th>ThirdLargestPropertyUseType_Other - Public Services</th>\n",
       "      <th>ThirdLargestPropertyUseType_Other - Recreation</th>\n",
       "      <th>ThirdLargestPropertyUseType_Other - Restaurant/Bar</th>\n",
       "      <th>ThirdLargestPropertyUseType_Other - Services</th>\n",
       "      <th>ThirdLargestPropertyUseType_Other - Technology/Science</th>\n",
       "      <th>ThirdLargestPropertyUseType_Outpatient Rehabilitation/Physical Therapy</th>\n",
       "      <th>ThirdLargestPropertyUseType_Parking</th>\n",
       "      <th>ThirdLargestPropertyUseType_Personal Services (Health/Beauty</th>\n",
       "      <th>ThirdLargestPropertyUseType_Pre-school/Daycare</th>\n",
       "      <th>ThirdLargestPropertyUseType_Refrigerated Warehouse</th>\n",
       "      <th>ThirdLargestPropertyUseType_Repair Services (Vehicle</th>\n",
       "      <th>ThirdLargestPropertyUseType_Residence Hall/Dormitory</th>\n",
       "      <th>ThirdLargestPropertyUseType_Restaurant</th>\n",
       "      <th>ThirdLargestPropertyUseType_Retail Store</th>\n",
       "      <th>ThirdLargestPropertyUseType_Self-Storage Facility</th>\n",
       "      <th>ThirdLargestPropertyUseType_Senior Care Community</th>\n",
       "      <th>ThirdLargestPropertyUseType_Shoe</th>\n",
       "      <th>ThirdLargestPropertyUseType_Social/Meeting Hall</th>\n",
       "      <th>ThirdLargestPropertyUseType_Supermarket/Grocery Store</th>\n",
       "      <th>ThirdLargestPropertyUseType_Swimming Pool</th>\n",
       "      <th>ThirdLargestPropertyUseType_Vocational School</th>\n",
       "      <th>ThirdLargestPropertyUseType_Worship Facility</th>\n",
       "      <th>ThirdLargestPropertyUseType_etc)</th>\n",
       "    </tr>\n",
       "  </thead>\n",
       "  <tbody>\n",
       "    <tr>\n",
       "      <th>0</th>\n",
       "      <td>7.564238</td>\n",
       "      <td>1</td>\n",
       "      <td>1</td>\n",
       "      <td>11.390023</td>\n",
       "      <td>4.189655</td>\n",
       "      <td>15.758764</td>\n",
       "      <td>5.523179</td>\n",
       "      <td>4.488636</td>\n",
       "      <td>0</td>\n",
       "      <td>0</td>\n",
       "      <td>0</td>\n",
       "      <td>1</td>\n",
       "      <td>0</td>\n",
       "      <td>0</td>\n",
       "      <td>0</td>\n",
       "      <td>0</td>\n",
       "      <td>0</td>\n",
       "      <td>0</td>\n",
       "      <td>1</td>\n",
       "      <td>0</td>\n",
       "      <td>0</td>\n",
       "      <td>0</td>\n",
       "      <td>0</td>\n",
       "      <td>0</td>\n",
       "      <td>0</td>\n",
       "      <td>0</td>\n",
       "      <td>0</td>\n",
       "      <td>0</td>\n",
       "      <td>0</td>\n",
       "      <td>0</td>\n",
       "      <td>0</td>\n",
       "      <td>0</td>\n",
       "      <td>0</td>\n",
       "      <td>0</td>\n",
       "      <td>0</td>\n",
       "      <td>0</td>\n",
       "      <td>0</td>\n",
       "      <td>0</td>\n",
       "      <td>0</td>\n",
       "      <td>0</td>\n",
       "      <td>0</td>\n",
       "      <td>0</td>\n",
       "      <td>0</td>\n",
       "      <td>0</td>\n",
       "      <td>0</td>\n",
       "      <td>0</td>\n",
       "      <td>0</td>\n",
       "      <td>0</td>\n",
       "      <td>0</td>\n",
       "      <td>1</td>\n",
       "      <td>...</td>\n",
       "      <td>0</td>\n",
       "      <td>0</td>\n",
       "      <td>0</td>\n",
       "      <td>0</td>\n",
       "      <td>0</td>\n",
       "      <td>0</td>\n",
       "      <td>0</td>\n",
       "      <td>0</td>\n",
       "      <td>0</td>\n",
       "      <td>0</td>\n",
       "      <td>0</td>\n",
       "      <td>0</td>\n",
       "      <td>0</td>\n",
       "      <td>0</td>\n",
       "      <td>0</td>\n",
       "      <td>0</td>\n",
       "      <td>0</td>\n",
       "      <td>0</td>\n",
       "      <td>0</td>\n",
       "      <td>1</td>\n",
       "      <td>0</td>\n",
       "      <td>0</td>\n",
       "      <td>0</td>\n",
       "      <td>0</td>\n",
       "      <td>0</td>\n",
       "      <td>0</td>\n",
       "      <td>0</td>\n",
       "      <td>0</td>\n",
       "      <td>0</td>\n",
       "      <td>0</td>\n",
       "      <td>0</td>\n",
       "      <td>0</td>\n",
       "      <td>0</td>\n",
       "      <td>0</td>\n",
       "      <td>0</td>\n",
       "      <td>0</td>\n",
       "      <td>0</td>\n",
       "      <td>0</td>\n",
       "      <td>0</td>\n",
       "      <td>0</td>\n",
       "      <td>0</td>\n",
       "      <td>0</td>\n",
       "      <td>0</td>\n",
       "      <td>0</td>\n",
       "      <td>0</td>\n",
       "      <td>0</td>\n",
       "      <td>0</td>\n",
       "      <td>0</td>\n",
       "      <td>0</td>\n",
       "      <td>0</td>\n",
       "    </tr>\n",
       "    <tr>\n",
       "      <th>1</th>\n",
       "      <td>7.599401</td>\n",
       "      <td>1</td>\n",
       "      <td>1</td>\n",
       "      <td>11.547974</td>\n",
       "      <td>3.951244</td>\n",
       "      <td>15.938279</td>\n",
       "      <td>5.577879</td>\n",
       "      <td>2.995732</td>\n",
       "      <td>0</td>\n",
       "      <td>0</td>\n",
       "      <td>0</td>\n",
       "      <td>1</td>\n",
       "      <td>0</td>\n",
       "      <td>0</td>\n",
       "      <td>0</td>\n",
       "      <td>0</td>\n",
       "      <td>0</td>\n",
       "      <td>0</td>\n",
       "      <td>1</td>\n",
       "      <td>0</td>\n",
       "      <td>0</td>\n",
       "      <td>0</td>\n",
       "      <td>0</td>\n",
       "      <td>0</td>\n",
       "      <td>0</td>\n",
       "      <td>0</td>\n",
       "      <td>0</td>\n",
       "      <td>0</td>\n",
       "      <td>0</td>\n",
       "      <td>0</td>\n",
       "      <td>0</td>\n",
       "      <td>0</td>\n",
       "      <td>0</td>\n",
       "      <td>0</td>\n",
       "      <td>0</td>\n",
       "      <td>0</td>\n",
       "      <td>0</td>\n",
       "      <td>0</td>\n",
       "      <td>0</td>\n",
       "      <td>0</td>\n",
       "      <td>0</td>\n",
       "      <td>0</td>\n",
       "      <td>0</td>\n",
       "      <td>0</td>\n",
       "      <td>0</td>\n",
       "      <td>0</td>\n",
       "      <td>0</td>\n",
       "      <td>0</td>\n",
       "      <td>0</td>\n",
       "      <td>1</td>\n",
       "      <td>...</td>\n",
       "      <td>0</td>\n",
       "      <td>0</td>\n",
       "      <td>0</td>\n",
       "      <td>0</td>\n",
       "      <td>0</td>\n",
       "      <td>0</td>\n",
       "      <td>0</td>\n",
       "      <td>0</td>\n",
       "      <td>0</td>\n",
       "      <td>0</td>\n",
       "      <td>0</td>\n",
       "      <td>0</td>\n",
       "      <td>0</td>\n",
       "      <td>0</td>\n",
       "      <td>0</td>\n",
       "      <td>0</td>\n",
       "      <td>0</td>\n",
       "      <td>0</td>\n",
       "      <td>0</td>\n",
       "      <td>0</td>\n",
       "      <td>0</td>\n",
       "      <td>0</td>\n",
       "      <td>0</td>\n",
       "      <td>0</td>\n",
       "      <td>0</td>\n",
       "      <td>0</td>\n",
       "      <td>0</td>\n",
       "      <td>0</td>\n",
       "      <td>0</td>\n",
       "      <td>0</td>\n",
       "      <td>0</td>\n",
       "      <td>0</td>\n",
       "      <td>0</td>\n",
       "      <td>0</td>\n",
       "      <td>0</td>\n",
       "      <td>0</td>\n",
       "      <td>0</td>\n",
       "      <td>0</td>\n",
       "      <td>0</td>\n",
       "      <td>1</td>\n",
       "      <td>0</td>\n",
       "      <td>0</td>\n",
       "      <td>0</td>\n",
       "      <td>0</td>\n",
       "      <td>0</td>\n",
       "      <td>0</td>\n",
       "      <td>0</td>\n",
       "      <td>0</td>\n",
       "      <td>0</td>\n",
       "      <td>0</td>\n",
       "    </tr>\n",
       "    <tr>\n",
       "      <th>2</th>\n",
       "      <td>7.585789</td>\n",
       "      <td>1</td>\n",
       "      <td>1</td>\n",
       "      <td>13.776760</td>\n",
       "      <td>2.944439</td>\n",
       "      <td>18.107758</td>\n",
       "      <td>7.631664</td>\n",
       "      <td>3.850148</td>\n",
       "      <td>0</td>\n",
       "      <td>0</td>\n",
       "      <td>0</td>\n",
       "      <td>1</td>\n",
       "      <td>0</td>\n",
       "      <td>0</td>\n",
       "      <td>0</td>\n",
       "      <td>0</td>\n",
       "      <td>0</td>\n",
       "      <td>0</td>\n",
       "      <td>1</td>\n",
       "      <td>0</td>\n",
       "      <td>0</td>\n",
       "      <td>0</td>\n",
       "      <td>0</td>\n",
       "      <td>0</td>\n",
       "      <td>0</td>\n",
       "      <td>0</td>\n",
       "      <td>0</td>\n",
       "      <td>0</td>\n",
       "      <td>0</td>\n",
       "      <td>0</td>\n",
       "      <td>0</td>\n",
       "      <td>0</td>\n",
       "      <td>0</td>\n",
       "      <td>0</td>\n",
       "      <td>0</td>\n",
       "      <td>0</td>\n",
       "      <td>0</td>\n",
       "      <td>0</td>\n",
       "      <td>0</td>\n",
       "      <td>0</td>\n",
       "      <td>0</td>\n",
       "      <td>0</td>\n",
       "      <td>0</td>\n",
       "      <td>0</td>\n",
       "      <td>0</td>\n",
       "      <td>0</td>\n",
       "      <td>0</td>\n",
       "      <td>0</td>\n",
       "      <td>0</td>\n",
       "      <td>1</td>\n",
       "      <td>...</td>\n",
       "      <td>0</td>\n",
       "      <td>0</td>\n",
       "      <td>0</td>\n",
       "      <td>0</td>\n",
       "      <td>0</td>\n",
       "      <td>0</td>\n",
       "      <td>0</td>\n",
       "      <td>0</td>\n",
       "      <td>0</td>\n",
       "      <td>0</td>\n",
       "      <td>0</td>\n",
       "      <td>0</td>\n",
       "      <td>0</td>\n",
       "      <td>0</td>\n",
       "      <td>0</td>\n",
       "      <td>0</td>\n",
       "      <td>0</td>\n",
       "      <td>0</td>\n",
       "      <td>0</td>\n",
       "      <td>0</td>\n",
       "      <td>0</td>\n",
       "      <td>0</td>\n",
       "      <td>0</td>\n",
       "      <td>0</td>\n",
       "      <td>0</td>\n",
       "      <td>0</td>\n",
       "      <td>0</td>\n",
       "      <td>0</td>\n",
       "      <td>0</td>\n",
       "      <td>0</td>\n",
       "      <td>0</td>\n",
       "      <td>0</td>\n",
       "      <td>0</td>\n",
       "      <td>0</td>\n",
       "      <td>0</td>\n",
       "      <td>0</td>\n",
       "      <td>0</td>\n",
       "      <td>0</td>\n",
       "      <td>0</td>\n",
       "      <td>0</td>\n",
       "      <td>0</td>\n",
       "      <td>0</td>\n",
       "      <td>0</td>\n",
       "      <td>0</td>\n",
       "      <td>0</td>\n",
       "      <td>0</td>\n",
       "      <td>1</td>\n",
       "      <td>0</td>\n",
       "      <td>0</td>\n",
       "      <td>0</td>\n",
       "    </tr>\n",
       "    <tr>\n",
       "      <th>3</th>\n",
       "      <td>7.591357</td>\n",
       "      <td>1</td>\n",
       "      <td>1</td>\n",
       "      <td>11.694338</td>\n",
       "      <td>4.219508</td>\n",
       "      <td>16.512102</td>\n",
       "      <td>6.231858</td>\n",
       "      <td>3.583519</td>\n",
       "      <td>0</td>\n",
       "      <td>0</td>\n",
       "      <td>0</td>\n",
       "      <td>1</td>\n",
       "      <td>0</td>\n",
       "      <td>0</td>\n",
       "      <td>0</td>\n",
       "      <td>0</td>\n",
       "      <td>0</td>\n",
       "      <td>0</td>\n",
       "      <td>1</td>\n",
       "      <td>0</td>\n",
       "      <td>0</td>\n",
       "      <td>0</td>\n",
       "      <td>0</td>\n",
       "      <td>0</td>\n",
       "      <td>0</td>\n",
       "      <td>0</td>\n",
       "      <td>0</td>\n",
       "      <td>0</td>\n",
       "      <td>0</td>\n",
       "      <td>0</td>\n",
       "      <td>0</td>\n",
       "      <td>0</td>\n",
       "      <td>0</td>\n",
       "      <td>0</td>\n",
       "      <td>0</td>\n",
       "      <td>0</td>\n",
       "      <td>0</td>\n",
       "      <td>0</td>\n",
       "      <td>0</td>\n",
       "      <td>0</td>\n",
       "      <td>0</td>\n",
       "      <td>0</td>\n",
       "      <td>0</td>\n",
       "      <td>0</td>\n",
       "      <td>0</td>\n",
       "      <td>0</td>\n",
       "      <td>0</td>\n",
       "      <td>0</td>\n",
       "      <td>0</td>\n",
       "      <td>1</td>\n",
       "      <td>...</td>\n",
       "      <td>0</td>\n",
       "      <td>0</td>\n",
       "      <td>0</td>\n",
       "      <td>0</td>\n",
       "      <td>0</td>\n",
       "      <td>0</td>\n",
       "      <td>0</td>\n",
       "      <td>0</td>\n",
       "      <td>0</td>\n",
       "      <td>0</td>\n",
       "      <td>0</td>\n",
       "      <td>0</td>\n",
       "      <td>0</td>\n",
       "      <td>0</td>\n",
       "      <td>0</td>\n",
       "      <td>0</td>\n",
       "      <td>0</td>\n",
       "      <td>0</td>\n",
       "      <td>0</td>\n",
       "      <td>0</td>\n",
       "      <td>0</td>\n",
       "      <td>0</td>\n",
       "      <td>0</td>\n",
       "      <td>0</td>\n",
       "      <td>0</td>\n",
       "      <td>0</td>\n",
       "      <td>0</td>\n",
       "      <td>0</td>\n",
       "      <td>0</td>\n",
       "      <td>0</td>\n",
       "      <td>0</td>\n",
       "      <td>0</td>\n",
       "      <td>0</td>\n",
       "      <td>0</td>\n",
       "      <td>0</td>\n",
       "      <td>0</td>\n",
       "      <td>0</td>\n",
       "      <td>0</td>\n",
       "      <td>0</td>\n",
       "      <td>0</td>\n",
       "      <td>0</td>\n",
       "      <td>0</td>\n",
       "      <td>0</td>\n",
       "      <td>0</td>\n",
       "      <td>0</td>\n",
       "      <td>0</td>\n",
       "      <td>1</td>\n",
       "      <td>0</td>\n",
       "      <td>0</td>\n",
       "      <td>0</td>\n",
       "    </tr>\n",
       "    <tr>\n",
       "      <th>4</th>\n",
       "      <td>7.600902</td>\n",
       "      <td>1</td>\n",
       "      <td>1</td>\n",
       "      <td>11.485441</td>\n",
       "      <td>4.094345</td>\n",
       "      <td>16.304740</td>\n",
       "      <td>5.722343</td>\n",
       "      <td>2.833213</td>\n",
       "      <td>0</td>\n",
       "      <td>0</td>\n",
       "      <td>0</td>\n",
       "      <td>0</td>\n",
       "      <td>1</td>\n",
       "      <td>0</td>\n",
       "      <td>0</td>\n",
       "      <td>0</td>\n",
       "      <td>0</td>\n",
       "      <td>0</td>\n",
       "      <td>0</td>\n",
       "      <td>0</td>\n",
       "      <td>0</td>\n",
       "      <td>0</td>\n",
       "      <td>0</td>\n",
       "      <td>0</td>\n",
       "      <td>0</td>\n",
       "      <td>0</td>\n",
       "      <td>0</td>\n",
       "      <td>0</td>\n",
       "      <td>1</td>\n",
       "      <td>0</td>\n",
       "      <td>0</td>\n",
       "      <td>0</td>\n",
       "      <td>0</td>\n",
       "      <td>0</td>\n",
       "      <td>0</td>\n",
       "      <td>0</td>\n",
       "      <td>0</td>\n",
       "      <td>0</td>\n",
       "      <td>0</td>\n",
       "      <td>0</td>\n",
       "      <td>0</td>\n",
       "      <td>0</td>\n",
       "      <td>0</td>\n",
       "      <td>0</td>\n",
       "      <td>0</td>\n",
       "      <td>0</td>\n",
       "      <td>0</td>\n",
       "      <td>0</td>\n",
       "      <td>0</td>\n",
       "      <td>1</td>\n",
       "      <td>...</td>\n",
       "      <td>0</td>\n",
       "      <td>0</td>\n",
       "      <td>0</td>\n",
       "      <td>0</td>\n",
       "      <td>0</td>\n",
       "      <td>0</td>\n",
       "      <td>0</td>\n",
       "      <td>0</td>\n",
       "      <td>0</td>\n",
       "      <td>0</td>\n",
       "      <td>0</td>\n",
       "      <td>0</td>\n",
       "      <td>0</td>\n",
       "      <td>0</td>\n",
       "      <td>0</td>\n",
       "      <td>0</td>\n",
       "      <td>0</td>\n",
       "      <td>0</td>\n",
       "      <td>0</td>\n",
       "      <td>1</td>\n",
       "      <td>0</td>\n",
       "      <td>0</td>\n",
       "      <td>0</td>\n",
       "      <td>0</td>\n",
       "      <td>0</td>\n",
       "      <td>0</td>\n",
       "      <td>0</td>\n",
       "      <td>0</td>\n",
       "      <td>0</td>\n",
       "      <td>0</td>\n",
       "      <td>0</td>\n",
       "      <td>0</td>\n",
       "      <td>0</td>\n",
       "      <td>0</td>\n",
       "      <td>0</td>\n",
       "      <td>0</td>\n",
       "      <td>0</td>\n",
       "      <td>0</td>\n",
       "      <td>0</td>\n",
       "      <td>0</td>\n",
       "      <td>0</td>\n",
       "      <td>0</td>\n",
       "      <td>0</td>\n",
       "      <td>0</td>\n",
       "      <td>0</td>\n",
       "      <td>0</td>\n",
       "      <td>0</td>\n",
       "      <td>0</td>\n",
       "      <td>0</td>\n",
       "      <td>0</td>\n",
       "    </tr>\n",
       "  </tbody>\n",
       "</table>\n",
       "<p>5 rows × 207 columns</p>\n",
       "</div>"
      ],
      "text/plain": [
       "   YearBuilt  NumberofBuildings  NumberofFloors  PropertyGFATotal  \\\n",
       "0   7.564238                  1               1         11.390023   \n",
       "1   7.599401                  1               1         11.547974   \n",
       "2   7.585789                  1               1         13.776760   \n",
       "3   7.591357                  1               1         11.694338   \n",
       "4   7.600902                  1               1         11.485441   \n",
       "\n",
       "   ENERGYSTARScore  SiteEnergyUse(kBtu)  GHGEmissions(MetricTonsCO2e)  \\\n",
       "0         4.189655            15.758764                      5.523179   \n",
       "1         3.951244            15.938279                      5.577879   \n",
       "2         2.944439            18.107758                      7.631664   \n",
       "3         4.219508            16.512102                      6.231858   \n",
       "4         4.094345            16.304740                      5.722343   \n",
       "\n",
       "   BuildingAge  BuildingType_Multifamily HR (10+)  \\\n",
       "0     4.488636                                  0   \n",
       "1     2.995732                                  0   \n",
       "2     3.850148                                  0   \n",
       "3     3.583519                                  0   \n",
       "4     2.833213                                  0   \n",
       "\n",
       "   BuildingType_Multifamily LR (1-4)  BuildingType_Multifamily MR (5-9)  \\\n",
       "0                                  0                                  0   \n",
       "1                                  0                                  0   \n",
       "2                                  0                                  0   \n",
       "3                                  0                                  0   \n",
       "4                                  0                                  0   \n",
       "\n",
       "   BuildingType_NonResidential  BuildingType_Nonresidential COS  \\\n",
       "0                            1                                0   \n",
       "1                            1                                0   \n",
       "2                            1                                0   \n",
       "3                            1                                0   \n",
       "4                            0                                1   \n",
       "\n",
       "   BuildingType_SPS-District K-12  PrimaryPropertyType_Distribution Center  \\\n",
       "0                               0                                        0   \n",
       "1                               0                                        0   \n",
       "2                               0                                        0   \n",
       "3                               0                                        0   \n",
       "4                               0                                        0   \n",
       "\n",
       "   PrimaryPropertyType_Distribution Center\\n  \\\n",
       "0                                          0   \n",
       "1                                          0   \n",
       "2                                          0   \n",
       "3                                          0   \n",
       "4                                          0   \n",
       "\n",
       "   PrimaryPropertyType_High-Rise Multifamily  PrimaryPropertyType_Hospital  \\\n",
       "0                                          0                             0   \n",
       "1                                          0                             0   \n",
       "2                                          0                             0   \n",
       "3                                          0                             0   \n",
       "4                                          0                             0   \n",
       "\n",
       "   PrimaryPropertyType_Hotel  PrimaryPropertyType_K-12 School  \\\n",
       "0                          1                                0   \n",
       "1                          1                                0   \n",
       "2                          1                                0   \n",
       "3                          1                                0   \n",
       "4                          0                                0   \n",
       "\n",
       "   PrimaryPropertyType_Laboratory  PrimaryPropertyType_Large Office  \\\n",
       "0                               0                                 0   \n",
       "1                               0                                 0   \n",
       "2                               0                                 0   \n",
       "3                               0                                 0   \n",
       "4                               0                                 0   \n",
       "\n",
       "   PrimaryPropertyType_Low-Rise Multifamily  \\\n",
       "0                                         0   \n",
       "1                                         0   \n",
       "2                                         0   \n",
       "3                                         0   \n",
       "4                                         0   \n",
       "\n",
       "   PrimaryPropertyType_Medical Office  \\\n",
       "0                                   0   \n",
       "1                                   0   \n",
       "2                                   0   \n",
       "3                                   0   \n",
       "4                                   0   \n",
       "\n",
       "   PrimaryPropertyType_Mid-Rise Multifamily  \\\n",
       "0                                         0   \n",
       "1                                         0   \n",
       "2                                         0   \n",
       "3                                         0   \n",
       "4                                         0   \n",
       "\n",
       "   PrimaryPropertyType_Mixed Use Property  \\\n",
       "0                                       0   \n",
       "1                                       0   \n",
       "2                                       0   \n",
       "3                                       0   \n",
       "4                                       0   \n",
       "\n",
       "   PrimaryPropertyType_Non-Refrigerated Warehouse  PrimaryPropertyType_Office  \\\n",
       "0                                               0                           0   \n",
       "1                                               0                           0   \n",
       "2                                               0                           0   \n",
       "3                                               0                           0   \n",
       "4                                               0                           0   \n",
       "\n",
       "   PrimaryPropertyType_Other  PrimaryPropertyType_Refrigerated Warehouse  \\\n",
       "0                          0                                           0   \n",
       "1                          0                                           0   \n",
       "2                          0                                           0   \n",
       "3                          0                                           0   \n",
       "4                          1                                           0   \n",
       "\n",
       "   PrimaryPropertyType_Residence Hall  \\\n",
       "0                                   0   \n",
       "1                                   0   \n",
       "2                                   0   \n",
       "3                                   0   \n",
       "4                                   0   \n",
       "\n",
       "   PrimaryPropertyType_Residence Hall/Dormitory  \\\n",
       "0                                             0   \n",
       "1                                             0   \n",
       "2                                             0   \n",
       "3                                             0   \n",
       "4                                             0   \n",
       "\n",
       "   PrimaryPropertyType_Restaurant  PrimaryPropertyType_Restaurant\\n  \\\n",
       "0                               0                                 0   \n",
       "1                               0                                 0   \n",
       "2                               0                                 0   \n",
       "3                               0                                 0   \n",
       "4                               0                                 0   \n",
       "\n",
       "   PrimaryPropertyType_Retail Store  \\\n",
       "0                                 0   \n",
       "1                                 0   \n",
       "2                                 0   \n",
       "3                                 0   \n",
       "4                                 0   \n",
       "\n",
       "   PrimaryPropertyType_Self-Storage Facility  \\\n",
       "0                                          0   \n",
       "1                                          0   \n",
       "2                                          0   \n",
       "3                                          0   \n",
       "4                                          0   \n",
       "\n",
       "   PrimaryPropertyType_Self-Storage Facility\\n  \\\n",
       "0                                            0   \n",
       "1                                            0   \n",
       "2                                            0   \n",
       "3                                            0   \n",
       "4                                            0   \n",
       "\n",
       "   PrimaryPropertyType_Senior Care Community  \\\n",
       "0                                          0   \n",
       "1                                          0   \n",
       "2                                          0   \n",
       "3                                          0   \n",
       "4                                          0   \n",
       "\n",
       "   PrimaryPropertyType_Small- and Mid-Sized Office  \\\n",
       "0                                                0   \n",
       "1                                                0   \n",
       "2                                                0   \n",
       "3                                                0   \n",
       "4                                                0   \n",
       "\n",
       "   PrimaryPropertyType_Supermarket / Grocery Store  \\\n",
       "0                                                0   \n",
       "1                                                0   \n",
       "2                                                0   \n",
       "3                                                0   \n",
       "4                                                0   \n",
       "\n",
       "   PrimaryPropertyType_Supermarket/Grocery Store  \\\n",
       "0                                              0   \n",
       "1                                              0   \n",
       "2                                              0   \n",
       "3                                              0   \n",
       "4                                              0   \n",
       "\n",
       "   PrimaryPropertyType_University  PrimaryPropertyType_Warehouse  \\\n",
       "0                               0                              0   \n",
       "1                               0                              0   \n",
       "2                               0                              0   \n",
       "3                               0                              0   \n",
       "4                               0                              0   \n",
       "\n",
       "   PrimaryPropertyType_Worship Facility  Neighborhood_Ballard  \\\n",
       "0                                     0                     0   \n",
       "1                                     0                     0   \n",
       "2                                     0                     0   \n",
       "3                                     0                     0   \n",
       "4                                     0                     0   \n",
       "\n",
       "   Neighborhood_CENTRAL  Neighborhood_Central  Neighborhood_DELRIDGE  \\\n",
       "0                     0                     0                      0   \n",
       "1                     0                     0                      0   \n",
       "2                     0                     0                      0   \n",
       "3                     0                     0                      0   \n",
       "4                     0                     0                      0   \n",
       "\n",
       "   Neighborhood_DELRIDGE NEIGHBORHOODS  Neighborhood_DOWNTOWN  ...  \\\n",
       "0                                    0                      1  ...   \n",
       "1                                    0                      1  ...   \n",
       "2                                    0                      1  ...   \n",
       "3                                    0                      1  ...   \n",
       "4                                    0                      1  ...   \n",
       "\n",
       "   SecondLargestPropertyUseType_Repair Services (Vehicle  \\\n",
       "0                                                  0       \n",
       "1                                                  0       \n",
       "2                                                  0       \n",
       "3                                                  0       \n",
       "4                                                  0       \n",
       "\n",
       "   SecondLargestPropertyUseType_Residence Hall/Dormitory  \\\n",
       "0                                                  0       \n",
       "1                                                  0       \n",
       "2                                                  0       \n",
       "3                                                  0       \n",
       "4                                                  0       \n",
       "\n",
       "   SecondLargestPropertyUseType_Restaurant  \\\n",
       "0                                        0   \n",
       "1                                        0   \n",
       "2                                        0   \n",
       "3                                        0   \n",
       "4                                        0   \n",
       "\n",
       "   SecondLargestPropertyUseType_Retail Store  \\\n",
       "0                                          0   \n",
       "1                                          0   \n",
       "2                                          0   \n",
       "3                                          0   \n",
       "4                                          0   \n",
       "\n",
       "   SecondLargestPropertyUseType_Self-Storage Facility  \\\n",
       "0                                                  0    \n",
       "1                                                  0    \n",
       "2                                                  0    \n",
       "3                                                  0    \n",
       "4                                                  0    \n",
       "\n",
       "   SecondLargestPropertyUseType_Senior Care Community  \\\n",
       "0                                                  0    \n",
       "1                                                  0    \n",
       "2                                                  0    \n",
       "3                                                  0    \n",
       "4                                                  0    \n",
       "\n",
       "   SecondLargestPropertyUseType_Shoe  \\\n",
       "0                                  0   \n",
       "1                                  0   \n",
       "2                                  0   \n",
       "3                                  0   \n",
       "4                                  0   \n",
       "\n",
       "   SecondLargestPropertyUseType_Social/Meeting Hall  \\\n",
       "0                                                 0   \n",
       "1                                                 0   \n",
       "2                                                 0   \n",
       "3                                                 0   \n",
       "4                                                 0   \n",
       "\n",
       "   SecondLargestPropertyUseType_Strip Mall  \\\n",
       "0                                        0   \n",
       "1                                        0   \n",
       "2                                        0   \n",
       "3                                        0   \n",
       "4                                        0   \n",
       "\n",
       "   SecondLargestPropertyUseType_Supermarket/Grocery Store  \\\n",
       "0                                                  0        \n",
       "1                                                  0        \n",
       "2                                                  0        \n",
       "3                                                  0        \n",
       "4                                                  0        \n",
       "\n",
       "   SecondLargestPropertyUseType_Swimming Pool  \\\n",
       "0                                           0   \n",
       "1                                           0   \n",
       "2                                           0   \n",
       "3                                           0   \n",
       "4                                           0   \n",
       "\n",
       "   SecondLargestPropertyUseType_Worship Facility  \\\n",
       "0                                              0   \n",
       "1                                              0   \n",
       "2                                              0   \n",
       "3                                              0   \n",
       "4                                              0   \n",
       "\n",
       "   ThirdLargestPropertyUseType_Financial Office  \\\n",
       "0                                             0   \n",
       "1                                             0   \n",
       "2                                             0   \n",
       "3                                             0   \n",
       "4                                             0   \n",
       "\n",
       "   ThirdLargestPropertyUseType_Locksmith  \\\n",
       "0                                      0   \n",
       "1                                      0   \n",
       "2                                      0   \n",
       "3                                      0   \n",
       "4                                      0   \n",
       "\n",
       "   ThirdLargestPropertyUseType_Manufacturing/Industrial Plant  \\\n",
       "0                                                  0            \n",
       "1                                                  0            \n",
       "2                                                  0            \n",
       "3                                                  0            \n",
       "4                                                  0            \n",
       "\n",
       "   ThirdLargestPropertyUseType_Medical Office  \\\n",
       "0                                           0   \n",
       "1                                           0   \n",
       "2                                           0   \n",
       "3                                           0   \n",
       "4                                           0   \n",
       "\n",
       "   ThirdLargestPropertyUseType_Movie Theater  \\\n",
       "0                                          0   \n",
       "1                                          0   \n",
       "2                                          0   \n",
       "3                                          0   \n",
       "4                                          0   \n",
       "\n",
       "   ThirdLargestPropertyUseType_Multifamily Housing  \\\n",
       "0                                                0   \n",
       "1                                                0   \n",
       "2                                                0   \n",
       "3                                                0   \n",
       "4                                                0   \n",
       "\n",
       "   ThirdLargestPropertyUseType_Museum  ThirdLargestPropertyUseType_NoThirdUse  \\\n",
       "0                                   0                                       1   \n",
       "1                                   0                                       0   \n",
       "2                                   0                                       0   \n",
       "3                                   0                                       0   \n",
       "4                                   0                                       1   \n",
       "\n",
       "   ThirdLargestPropertyUseType_Non-Refrigerated Warehouse  \\\n",
       "0                                                  0        \n",
       "1                                                  0        \n",
       "2                                                  0        \n",
       "3                                                  0        \n",
       "4                                                  0        \n",
       "\n",
       "   ThirdLargestPropertyUseType_Office  ThirdLargestPropertyUseType_Other  \\\n",
       "0                                   0                                  0   \n",
       "1                                   0                                  0   \n",
       "2                                   0                                  0   \n",
       "3                                   0                                  0   \n",
       "4                                   0                                  0   \n",
       "\n",
       "   ThirdLargestPropertyUseType_Other - Education  \\\n",
       "0                                              0   \n",
       "1                                              0   \n",
       "2                                              0   \n",
       "3                                              0   \n",
       "4                                              0   \n",
       "\n",
       "   ThirdLargestPropertyUseType_Other - Entertainment/Public Assembly  \\\n",
       "0                                                  0                   \n",
       "1                                                  0                   \n",
       "2                                                  0                   \n",
       "3                                                  0                   \n",
       "4                                                  0                   \n",
       "\n",
       "   ThirdLargestPropertyUseType_Other - Lodging/Residential  \\\n",
       "0                                                  0         \n",
       "1                                                  0         \n",
       "2                                                  0         \n",
       "3                                                  0         \n",
       "4                                                  0         \n",
       "\n",
       "   ThirdLargestPropertyUseType_Other - Mall  \\\n",
       "0                                         0   \n",
       "1                                         0   \n",
       "2                                         0   \n",
       "3                                         0   \n",
       "4                                         0   \n",
       "\n",
       "   ThirdLargestPropertyUseType_Other - Public Services  \\\n",
       "0                                                  0     \n",
       "1                                                  0     \n",
       "2                                                  0     \n",
       "3                                                  0     \n",
       "4                                                  0     \n",
       "\n",
       "   ThirdLargestPropertyUseType_Other - Recreation  \\\n",
       "0                                               0   \n",
       "1                                               0   \n",
       "2                                               0   \n",
       "3                                               0   \n",
       "4                                               0   \n",
       "\n",
       "   ThirdLargestPropertyUseType_Other - Restaurant/Bar  \\\n",
       "0                                                  0    \n",
       "1                                                  0    \n",
       "2                                                  0    \n",
       "3                                                  0    \n",
       "4                                                  0    \n",
       "\n",
       "   ThirdLargestPropertyUseType_Other - Services  \\\n",
       "0                                             0   \n",
       "1                                             0   \n",
       "2                                             0   \n",
       "3                                             0   \n",
       "4                                             0   \n",
       "\n",
       "   ThirdLargestPropertyUseType_Other - Technology/Science  \\\n",
       "0                                                  0        \n",
       "1                                                  0        \n",
       "2                                                  0        \n",
       "3                                                  0        \n",
       "4                                                  0        \n",
       "\n",
       "   ThirdLargestPropertyUseType_Outpatient Rehabilitation/Physical Therapy  \\\n",
       "0                                                  0                        \n",
       "1                                                  0                        \n",
       "2                                                  0                        \n",
       "3                                                  0                        \n",
       "4                                                  0                        \n",
       "\n",
       "   ThirdLargestPropertyUseType_Parking  \\\n",
       "0                                    0   \n",
       "1                                    0   \n",
       "2                                    0   \n",
       "3                                    0   \n",
       "4                                    0   \n",
       "\n",
       "   ThirdLargestPropertyUseType_Personal Services (Health/Beauty  \\\n",
       "0                                                  0              \n",
       "1                                                  0              \n",
       "2                                                  0              \n",
       "3                                                  0              \n",
       "4                                                  0              \n",
       "\n",
       "   ThirdLargestPropertyUseType_Pre-school/Daycare  \\\n",
       "0                                               0   \n",
       "1                                               0   \n",
       "2                                               0   \n",
       "3                                               0   \n",
       "4                                               0   \n",
       "\n",
       "   ThirdLargestPropertyUseType_Refrigerated Warehouse  \\\n",
       "0                                                  0    \n",
       "1                                                  0    \n",
       "2                                                  0    \n",
       "3                                                  0    \n",
       "4                                                  0    \n",
       "\n",
       "   ThirdLargestPropertyUseType_Repair Services (Vehicle  \\\n",
       "0                                                  0      \n",
       "1                                                  0      \n",
       "2                                                  0      \n",
       "3                                                  0      \n",
       "4                                                  0      \n",
       "\n",
       "   ThirdLargestPropertyUseType_Residence Hall/Dormitory  \\\n",
       "0                                                  0      \n",
       "1                                                  0      \n",
       "2                                                  0      \n",
       "3                                                  0      \n",
       "4                                                  0      \n",
       "\n",
       "   ThirdLargestPropertyUseType_Restaurant  \\\n",
       "0                                       0   \n",
       "1                                       1   \n",
       "2                                       0   \n",
       "3                                       0   \n",
       "4                                       0   \n",
       "\n",
       "   ThirdLargestPropertyUseType_Retail Store  \\\n",
       "0                                         0   \n",
       "1                                         0   \n",
       "2                                         0   \n",
       "3                                         0   \n",
       "4                                         0   \n",
       "\n",
       "   ThirdLargestPropertyUseType_Self-Storage Facility  \\\n",
       "0                                                  0   \n",
       "1                                                  0   \n",
       "2                                                  0   \n",
       "3                                                  0   \n",
       "4                                                  0   \n",
       "\n",
       "   ThirdLargestPropertyUseType_Senior Care Community  \\\n",
       "0                                                  0   \n",
       "1                                                  0   \n",
       "2                                                  0   \n",
       "3                                                  0   \n",
       "4                                                  0   \n",
       "\n",
       "   ThirdLargestPropertyUseType_Shoe  \\\n",
       "0                                 0   \n",
       "1                                 0   \n",
       "2                                 0   \n",
       "3                                 0   \n",
       "4                                 0   \n",
       "\n",
       "   ThirdLargestPropertyUseType_Social/Meeting Hall  \\\n",
       "0                                                0   \n",
       "1                                                0   \n",
       "2                                                0   \n",
       "3                                                0   \n",
       "4                                                0   \n",
       "\n",
       "   ThirdLargestPropertyUseType_Supermarket/Grocery Store  \\\n",
       "0                                                  0       \n",
       "1                                                  0       \n",
       "2                                                  0       \n",
       "3                                                  0       \n",
       "4                                                  0       \n",
       "\n",
       "   ThirdLargestPropertyUseType_Swimming Pool  \\\n",
       "0                                          0   \n",
       "1                                          0   \n",
       "2                                          1   \n",
       "3                                          1   \n",
       "4                                          0   \n",
       "\n",
       "   ThirdLargestPropertyUseType_Vocational School  \\\n",
       "0                                              0   \n",
       "1                                              0   \n",
       "2                                              0   \n",
       "3                                              0   \n",
       "4                                              0   \n",
       "\n",
       "   ThirdLargestPropertyUseType_Worship Facility  \\\n",
       "0                                             0   \n",
       "1                                             0   \n",
       "2                                             0   \n",
       "3                                             0   \n",
       "4                                             0   \n",
       "\n",
       "   ThirdLargestPropertyUseType_etc)  \n",
       "0                                 0  \n",
       "1                                 0  \n",
       "2                                 0  \n",
       "3                                 0  \n",
       "4                                 0  \n",
       "\n",
       "[5 rows x 207 columns]"
      ]
     },
     "execution_count": 3,
     "metadata": {},
     "output_type": "execute_result"
    }
   ],
   "source": [
    "#Jeu de données nettoyé avec transformations\n",
    "dataTransfo_original = pd.read_csv('dataNettoyeTransforme.csv',sep=',',encoding='utf-8')\n",
    "dataLog = dataTransfo_original.copy()\n",
    "dataLog.head()"
   ]
  },
  {
   "cell_type": "markdown",
   "id": "3caf56b2",
   "metadata": {},
   "source": [
    "On a vu dans le notebook d'étude des prédictions d'émissions de CO2 que la variable `ENERGYSTARScore` n'apportait pas forcément de gain notable dans la prédiction mais qu'elle conduisait à des modèles plus robustes. On va donc la conserver,pour entraîner nos modèles de prédiction des consommations d'énergie. On conserve également la variable `GHGEmissions(MetricTonsCO2e)` que l'on peut au besoin estimer avec le modèle prédiction choisi auparavant."
   ]
  },
  {
   "cell_type": "markdown",
   "id": "a0c3b3c0",
   "metadata": {},
   "source": [
    "On peut à présent préparer notre jeu d'entraînement qui servira pour entrainer les différents modèles que l'on va traiter, et notre jeu de test qui servira à comparer les performances de généralisation des différents modèles."
   ]
  },
  {
   "cell_type": "code",
   "execution_count": 4,
   "id": "72d29723",
   "metadata": {},
   "outputs": [],
   "source": [
    "#Pour le jeu non transformé\n",
    "\n",
    "#Jeux d'entraînement et de test\n",
    "X = data.drop(['SiteEnergyUse(kBtu)'], axis=1)\n",
    "y = data['SiteEnergyUse(kBtu)']\n",
    "X_train, X_test, y_train, y_test = train_test_split(X, y, test_size = 0.2)\n",
    "\n",
    "#Standardisation des données d'entraînement\n",
    "std_scale = preprocessing.StandardScaler().fit(X_train)\n",
    "X_train_std = std_scale.transform(X_train)\n",
    "X_test_std = std_scale.transform(X_test)"
   ]
  },
  {
   "cell_type": "code",
   "execution_count": 5,
   "id": "02a508a5",
   "metadata": {},
   "outputs": [],
   "source": [
    "#Pour le jeu transformé\n",
    "\n",
    "#Jeux d'entraînement et de test\n",
    "X_log = dataLog.drop(['SiteEnergyUse(kBtu)'], axis=1)\n",
    "y_log = dataLog['SiteEnergyUse(kBtu)']\n",
    "X_log_train, X_log_test, y_log_train, y_log_test = train_test_split(X_log, y_log, test_size = 0.2)\n",
    "\n",
    "#Standardisation des données d'entraînement\n",
    "std_scale = preprocessing.StandardScaler().fit(X_log_train)\n",
    "X_log_train_std = std_scale.transform(X_log_train)\n",
    "X_log_test_std = std_scale.transform(X_log_test)"
   ]
  },
  {
   "cell_type": "markdown",
   "id": "a1ed2537",
   "metadata": {},
   "source": [
    "On prépare le tableau final de comparaison des modèles."
   ]
  },
  {
   "cell_type": "code",
   "execution_count": 6,
   "id": "5255afb1",
   "metadata": {},
   "outputs": [],
   "source": [
    "listeModeles = []\n",
    "\n",
    "listeR2, listeR2_log = [], []\n",
    "listeR2_train, listeR2_log_train = [], []\n",
    "listeMSE, listeMSE_log = [], []\n",
    "listeTemps, listeTemps_log = [], []"
   ]
  },
  {
   "cell_type": "markdown",
   "id": "e3c1a387",
   "metadata": {},
   "source": [
    "# <a name=\"C2\">Partie 2: Méthodes de Régression</a>\n",
    "## <a name=\"C3\">2.1: Régressions naïves</a> \n",
    "On va commencer par les modèles les plus simples possibles, à savoir prédire à chaque fois la valeur moyenne dans un premier temps, puis la valeur médiane dans un second temps.\n",
    "### 2.1.1: Jeu sans transformation:"
   ]
  },
  {
   "cell_type": "code",
   "execution_count": 7,
   "id": "bd53257e",
   "metadata": {},
   "outputs": [],
   "source": [
    "listeModeles.append('Dummy_mean')\n",
    "listeModeles.append('Dummy_median')"
   ]
  },
  {
   "cell_type": "code",
   "execution_count": 8,
   "id": "c71d5167",
   "metadata": {},
   "outputs": [
    {
     "name": "stdout",
     "output_type": "stream",
     "text": [
      "r2_score train (dummy moyenne): 0.0000\n",
      "r2_score train (dummy médiane): -0.0311\n"
     ]
    }
   ],
   "source": [
    "#Entrainement du modèle sur le training_set\n",
    "start_time = timeit.default_timer()\n",
    "lm_dummy_mean = DummyRegressor(strategy = 'mean').fit(X_train_std, y_train)\n",
    "y_predict_dummy_mean = lm_dummy_mean.predict(X_test_std)\n",
    "time_mean = timeit.default_timer() - start_time\n",
    "\n",
    "#Score sur le jeu d'entraînement\n",
    "print(\"r2_score train (dummy moyenne): {:.4f}\".format(lm_dummy_mean.score(X_train_std, y_train)))\n",
    "listeR2_train.append(lm_dummy_mean.score(X_train_std, y_train))\n",
    "\n",
    "#Entrainement du modèle sur le training_set\n",
    "start_time = timeit.default_timer()\n",
    "lm_dummy_median = DummyRegressor(strategy = 'median').fit(X_train_std, y_train)\n",
    "y_predict_dummy_median = lm_dummy_median.predict(X_test_std)\n",
    "time_median = timeit.default_timer() - start_time\n",
    "\n",
    "#Score sur le jeu d'entraînement\n",
    "print(\"r2_score train (dummy médiane): {:.4f}\".format(lm_dummy_median.score(X_train_std, y_train)))\n",
    "listeR2_train.append(lm_dummy_median.score(X_train_std, y_train))"
   ]
  },
  {
   "cell_type": "code",
   "execution_count": 9,
   "id": "b0f321da",
   "metadata": {},
   "outputs": [
    {
     "name": "stdout",
     "output_type": "stream",
     "text": [
      "Mean squared error (dummy moyenne): 262612983505330.8125\n",
      "Mean squared error (dummy médiane): 275283407856870.0000\n",
      "r2_score (dummy moyenne): -0.0003\n",
      "r2_score (dummy médiane): -0.0485\n",
      "Temps de calcul (dummy moyenne): 0.0022\n",
      "Temps de calcul (dummy médiane): 0.0009\n"
     ]
    }
   ],
   "source": [
    "#Score du modèle sur le test_set\n",
    "print(\"Mean squared error (dummy moyenne): {:.4f}\".format(mean_squared_error(y_test, y_predict_dummy_mean)))\n",
    "print(\"Mean squared error (dummy médiane): {:.4f}\".format(mean_squared_error(y_test, y_predict_dummy_median)))\n",
    "  \n",
    "print(\"r2_score (dummy moyenne): {:.4f}\".format(r2_score(y_test, y_predict_dummy_mean)))\n",
    "print(\"r2_score (dummy médiane): {:.4f}\".format(r2_score(y_test, y_predict_dummy_median)))\n",
    "\n",
    "print(\"Temps de calcul (dummy moyenne): {:.4f}\".format(time_mean))\n",
    "print(\"Temps de calcul (dummy médiane): {:.4f}\".format(time_median))"
   ]
  },
  {
   "cell_type": "code",
   "execution_count": 10,
   "id": "737c3cee",
   "metadata": {},
   "outputs": [],
   "source": [
    "#Enregistrement des métriques\n",
    "listeMSE.append(round(mean_squared_error(y_test, y_predict_dummy_mean),4))\n",
    "listeMSE.append(round(mean_squared_error(y_test, y_predict_dummy_median),4))\n",
    "\n",
    "listeR2.append(round(r2_score(y_test, y_predict_dummy_mean),4))\n",
    "listeR2.append(round(r2_score(y_test, y_predict_dummy_median),4))\n",
    "\n",
    "listeTemps.append(round(time_mean,4))\n",
    "listeTemps.append(round(time_median,4))"
   ]
  },
  {
   "cell_type": "markdown",
   "id": "7203d741",
   "metadata": {},
   "source": [
    "Le jeu de données est plus complexe que les approches naïves de prédiction de la moyenne et de la médiane."
   ]
  },
  {
   "cell_type": "markdown",
   "id": "827da597",
   "metadata": {},
   "source": [
    "### 2.1.2: Jeu avec transformations\n",
    "Regardons si les transformations logarithmiques réalisées dans la partie nettoyage peuvent améliorer les capacités de généralisation de ces premières approches naïves."
   ]
  },
  {
   "cell_type": "code",
   "execution_count": 11,
   "id": "2e7b7d0d",
   "metadata": {},
   "outputs": [
    {
     "name": "stdout",
     "output_type": "stream",
     "text": [
      "r2_score train (dummy moyenne): 0.0000\n",
      "r2_score train (dummy médiane): -0.0072\n"
     ]
    }
   ],
   "source": [
    "#Entrainement du modèle sur le training_set\n",
    "start_time = timeit.default_timer()\n",
    "lm_dummy_mean = DummyRegressor(strategy = 'mean').fit(X_log_train_std, y_log_train)\n",
    "y_log_predict_dummy_mean = lm_dummy_mean.predict(X_log_test_std)\n",
    "time_mean = timeit.default_timer() - start_time\n",
    "\n",
    "#Score sur le jeu d'entraînement\n",
    "print(\"r2_score train (dummy moyenne): {:.4f}\".format(lm_dummy_mean.score(X_log_train_std, y_log_train)))\n",
    "listeR2_log_train.append(lm_dummy_mean.score(X_log_train_std, y_log_train))\n",
    "\n",
    "#Entrainement du modèle sur le training_set\n",
    "start_time = timeit.default_timer()\n",
    "lm_dummy_median = DummyRegressor(strategy = 'median').fit(X_log_train_std, y_log_train)\n",
    "y_log_predict_dummy_median = lm_dummy_median.predict(X_log_test_std)\n",
    "time_median = timeit.default_timer() - start_time\n",
    "\n",
    "#Score sur le jeu d'entraînement\n",
    "print(\"r2_score train (dummy médiane): {:.4f}\".format(lm_dummy_median.score(X_log_train_std, y_log_train)))\n",
    "listeR2_log_train.append(lm_dummy_median.score(X_log_train_std, y_log_train))"
   ]
  },
  {
   "cell_type": "code",
   "execution_count": 12,
   "id": "63de81a5",
   "metadata": {},
   "outputs": [
    {
     "name": "stdout",
     "output_type": "stream",
     "text": [
      "Mean squared error (dummy moyenne): 1.8750\n",
      "Mean squared error (dummy médiane): 1.9011\n",
      "r2_score (dummy moyenne): -0.0013\n",
      "r2_score (dummy médiane): -0.0153\n",
      "Temps de calcul (dummy moyenne): 0.0010\n",
      "Temps de calcul (dummy médiane): 0.0013\n"
     ]
    }
   ],
   "source": [
    "#Score du modèle sur le test_set\n",
    "print(\"Mean squared error (dummy moyenne): {:.4f}\".format(mean_squared_error(y_log_test, y_log_predict_dummy_mean)))\n",
    "print(\"Mean squared error (dummy médiane): {:.4f}\".format(mean_squared_error(y_log_test, y_log_predict_dummy_median)))\n",
    "  \n",
    "print(\"r2_score (dummy moyenne): {:.4f}\".format(r2_score(y_log_test, y_log_predict_dummy_mean)))\n",
    "print(\"r2_score (dummy médiane): {:.4f}\".format(r2_score(y_log_test, y_log_predict_dummy_median)))\n",
    "\n",
    "print(\"Temps de calcul (dummy moyenne): {:.4f}\".format(time_mean))\n",
    "print(\"Temps de calcul (dummy médiane): {:.4f}\".format(time_median))"
   ]
  },
  {
   "cell_type": "code",
   "execution_count": 13,
   "id": "836b2bee",
   "metadata": {},
   "outputs": [],
   "source": [
    "#Enregistrement des métriques\n",
    "listeMSE_log.append(round(mean_squared_error(y_log_test, y_log_predict_dummy_mean),4))\n",
    "listeMSE_log.append(round(mean_squared_error(y_log_test, y_log_predict_dummy_median),4))\n",
    "\n",
    "listeR2_log.append(round(r2_score(y_log_test, y_log_predict_dummy_mean),4))\n",
    "listeR2_log.append(round(r2_score(y_log_test, y_log_predict_dummy_median),4))\n",
    "\n",
    "listeTemps_log.append(round(time_mean,4))\n",
    "listeTemps_log.append(round(time_median,4))"
   ]
  },
  {
   "cell_type": "markdown",
   "id": "1bb830b1",
   "metadata": {},
   "source": [
    "On n'obtient pas de meilleurs résultats."
   ]
  },
  {
   "cell_type": "markdown",
   "id": "cfc863d6",
   "metadata": {},
   "source": [
    "## <a name=\"C4\">Partie 2.2: Régression Linéaire</a>\n",
    "Les premières approches naïves n'étant pas satisfaisantes, on va complexifier un peu le modèle.\n",
    "\n",
    "Notre démarche, qui sera la même pour tous les prochains modèles, est la suivante:\n",
    "- Trouver les meilleurs hyperparamètres (lorqu'il y en a) par recherche sur grille\n",
    "- Réaliser une validation croisée sur le jeu d'entraînement pour avoir une idée des capacités de généralisation du modèle et pouvoir contrôler l'éventuel sur/sous-apprentissage\n",
    "- Entraîner le modèle sur le jeu d'entraînement\n",
    "- Evaluer le score du modèle sur le jeu de test\n",
    "- Récupérer les différentes métriques du modèle pour pouvoir le comparer aux autres\n",
    "\n",
    "### 2.2.1: Jeu sans transformation"
   ]
  },
  {
   "cell_type": "code",
   "execution_count": 14,
   "id": "454771b8",
   "metadata": {},
   "outputs": [],
   "source": [
    "listeModeles.append('regression_lineaire')"
   ]
  },
  {
   "cell_type": "markdown",
   "id": "a7f4b882",
   "metadata": {},
   "source": [
    "Pour optimiser la méthode de régression linéaire, il faut sélectionner les features qui sont corrélées avec la target mais ne sont pas corrélées entre elles. Pour cela, on peut utiliser un algorithme de sélection des x meilleures features, où x est un hyperparamètre que l'on peut trouver par une recherche sur grille."
   ]
  },
  {
   "cell_type": "code",
   "execution_count": 15,
   "id": "806301de",
   "metadata": {},
   "outputs": [
    {
     "name": "stdout",
     "output_type": "stream",
     "text": [
      "Le meilleur coefficient r2 = 0.8720961045980872 est obtenu en sélectionnant les 2 meilleures features\n"
     ]
    }
   ],
   "source": [
    "#GridSearch pour trouver le(s) paramètre(s) qui renvoie(nt) le meilleur score R²\n",
    "r2 = []\n",
    "nb_features = range(1, X_train_std.shape[1])\n",
    "\n",
    "for i in nb_features:\n",
    "    f_selector = SelectKBest(score_func=f_regression, k=i)\n",
    "    f_selector.fit(X_train_std, y_train)\n",
    "    X_train_fs = f_selector.transform(X_train_std)\n",
    "    lm = LinearRegression()\n",
    "    r2.append(cross_val_score(lm, X_train_fs, y_train).mean())\n",
    "\n",
    "r2_max = max(r2)\n",
    "k = r2.index(r2_max)+1\n",
    "print(\"Le meilleur coefficient r2 = \" + str(r2_max) + \" est obtenu en sélectionnant les \" + str(k) + \" meilleures features\")"
   ]
  },
  {
   "cell_type": "code",
   "execution_count": 16,
   "id": "44f9fc5e",
   "metadata": {},
   "outputs": [
    {
     "name": "stdout",
     "output_type": "stream",
     "text": [
      "[0.89531487 0.86659288 0.90425655 0.85607833 0.83823789]\n"
     ]
    }
   ],
   "source": [
    "#Cross-validation du modèle (avec les paramètres optimaux)\n",
    "lm = LinearRegression()\n",
    "f_selector = SelectKBest(score_func=f_regression, k=k)\n",
    "f_selector.fit(X_train_std, y_train)\n",
    "X_train_fs = f_selector.transform(X_train_std)\n",
    "print(cross_val_score(lm, X_train_fs, y_train,  cv=5))"
   ]
  },
  {
   "cell_type": "code",
   "execution_count": 17,
   "id": "e07bc1f0",
   "metadata": {},
   "outputs": [
    {
     "name": "stdout",
     "output_type": "stream",
     "text": [
      "r2_score train: 0.9057\n"
     ]
    }
   ],
   "source": [
    "#Entrainement du modèle sur le training_set\n",
    "f_selector = SelectKBest(score_func=f_regression, k=k)\n",
    "f_selector.fit(X_train_std, y_train)\n",
    "X_train_fs = f_selector.transform(X_train_std)\n",
    "X_test_fs = f_selector.transform(X_test_std)\n",
    "\n",
    "start_time = timeit.default_timer()\n",
    "lm = LinearRegression().fit(X_train_fs, y_train)\n",
    "y_predict = lm.predict(X_test_fs)\n",
    "time = timeit.default_timer() - start_time\n",
    "\n",
    "#Score sur le jeu d'entraînement\n",
    "print(\"r2_score train: {:.4f}\".format(lm.score(X_train_fs, y_train)))\n",
    "listeR2_train.append(lm.score(X_train_fs, y_train))"
   ]
  },
  {
   "cell_type": "code",
   "execution_count": 18,
   "id": "7f2047f3",
   "metadata": {},
   "outputs": [
    {
     "name": "stdout",
     "output_type": "stream",
     "text": [
      "Mean squared error: 61955901846097.7812\n",
      "r2_score: 0.7640\n",
      "Temps de calcul: 0.0013\n"
     ]
    }
   ],
   "source": [
    "#Score du modèle sur le test_set\n",
    "print(\"Mean squared error: {:.4f}\".format(mean_squared_error(y_test, y_predict)))\n",
    "print(\"r2_score: {:.4f}\".format(r2_score(y_test, y_predict)))\n",
    "print(\"Temps de calcul: {:.4f}\".format(time))"
   ]
  },
  {
   "cell_type": "code",
   "execution_count": 19,
   "id": "5c49d3ac",
   "metadata": {},
   "outputs": [],
   "source": [
    "#Enregistrement des métriques\n",
    "listeMSE.append(round(mean_squared_error(y_test, y_predict),4))\n",
    "listeR2.append(round(r2_score(y_test, y_predict),4))\n",
    "listeTemps.append(round(time,4))"
   ]
  },
  {
   "cell_type": "markdown",
   "id": "5d1d6ffc",
   "metadata": {},
   "source": [
    "On note de l'instabilité lors de la validation croisée et un soucis de sur-apprentissage sur le jeu d'entraînement."
   ]
  },
  {
   "cell_type": "markdown",
   "id": "23cfd681",
   "metadata": {},
   "source": [
    "### 2.2.2: Jeu avec transformation"
   ]
  },
  {
   "cell_type": "code",
   "execution_count": 20,
   "id": "c72a3662",
   "metadata": {},
   "outputs": [
    {
     "name": "stdout",
     "output_type": "stream",
     "text": [
      "Le meilleur coefficient r2 = 0.6247041542249571 est obtenu en sélectionnant les 17 meilleures features\n"
     ]
    }
   ],
   "source": [
    "#GridSearch pour trouver le(s) paramètre(s) qui renvoie(nt) le meilleur score R²\n",
    "r2 = []\n",
    "nb_features = range(1, X_log_train_std.shape[1])\n",
    "\n",
    "for i in nb_features:\n",
    "    f_selector = SelectKBest(score_func=f_regression, k=i)\n",
    "    f_selector.fit(X_log_train_std, y_log_train)\n",
    "    X_log_train_fs = f_selector.transform(X_log_train_std)\n",
    "    lm = LinearRegression()\n",
    "    r2.append(cross_val_score(lm, X_log_train_fs, y_log_train).mean())\n",
    "\n",
    "r2_max = max(r2)\n",
    "k = r2.index(r2_max)+1\n",
    "print(\"Le meilleur coefficient r2 = \" + str(r2_max) + \" est obtenu en sélectionnant les \" + str(k) + \" meilleures features\")"
   ]
  },
  {
   "cell_type": "code",
   "execution_count": 21,
   "id": "8cf0bb6e",
   "metadata": {},
   "outputs": [
    {
     "name": "stdout",
     "output_type": "stream",
     "text": [
      "[0.55766597 0.60548773 0.62653678 0.71570915 0.61812113]\n"
     ]
    }
   ],
   "source": [
    "#Cross-validation du modèle (avec les paramètres optimaux)\n",
    "lm = LinearRegression()\n",
    "f_selector = SelectKBest(score_func=f_regression, k=k)\n",
    "f_selector.fit(X_log_train_std, y_log_train)\n",
    "X_log_train_fs = f_selector.transform(X_log_train_std)\n",
    "print(cross_val_score(lm, X_log_train_fs, y_log_train,  cv=5))"
   ]
  },
  {
   "cell_type": "code",
   "execution_count": 22,
   "id": "5f16f1a4",
   "metadata": {},
   "outputs": [
    {
     "name": "stdout",
     "output_type": "stream",
     "text": [
      "r2_score train: 0.6273\n"
     ]
    }
   ],
   "source": [
    "#Entrainement du modèle sur le training_set\n",
    "f_selector = SelectKBest(score_func=f_regression, k=k)\n",
    "f_selector.fit(X_log_train_std, y_log_train)\n",
    "X_log_train_fs = f_selector.transform(X_log_train_std)\n",
    "X_log_test_fs = f_selector.transform(X_log_test_std)\n",
    "\n",
    "start_time = timeit.default_timer()\n",
    "lm = LinearRegression().fit(X_log_train_fs, y_log_train)\n",
    "y_log_predict = lm.predict(X_log_test_fs)\n",
    "time = timeit.default_timer() - start_time\n",
    "\n",
    "#Score sur le jeu d'entraînement\n",
    "print(\"r2_score train: {:.4f}\".format(lm.score(X_log_train_fs, y_log_train)))\n",
    "listeR2_log_train.append(lm.score(X_log_train_fs, y_log_train))"
   ]
  },
  {
   "cell_type": "code",
   "execution_count": 23,
   "id": "f1f85e81",
   "metadata": {},
   "outputs": [
    {
     "name": "stdout",
     "output_type": "stream",
     "text": [
      "Mean squared error: 0.5494\n",
      "r2_score: 0.7066\n",
      "Temps de calcul: 0.0083\n"
     ]
    }
   ],
   "source": [
    "#Score du modèle sur le test_set\n",
    "print(\"Mean squared error: {:.4f}\".format(mean_squared_error(y_log_test, y_log_predict)))\n",
    "print(\"r2_score: {:.4f}\".format(r2_score(y_log_test, y_log_predict)))\n",
    "print(\"Temps de calcul: {:.4f}\".format(time))"
   ]
  },
  {
   "cell_type": "code",
   "execution_count": 24,
   "id": "9d338f16",
   "metadata": {},
   "outputs": [],
   "source": [
    "#Enregistrement des métriques\n",
    "listeMSE_log.append(round(mean_squared_error(y_log_test, y_log_predict),4))\n",
    "listeR2_log.append(round(r2_score(y_log_test, y_log_predict),4))\n",
    "listeTemps_log.append(round(time,4))"
   ]
  },
  {
   "cell_type": "markdown",
   "id": "9f63c9eb",
   "metadata": {},
   "source": [
    "Les transformations logarithmiques n'améliorent pas le score de prédiciton."
   ]
  },
  {
   "cell_type": "markdown",
   "id": "e6d5004c",
   "metadata": {},
   "source": [
    "## <a name=\"C5\">2.3: Régression Ridge</a>\n",
    "Pour éviter l'éventuel sur-appretissage du modèle de régression linéaire, on va utiliser une technique de régularisation afin de pouvoir contrôler en plus de l'erreur du modèle, sa complexité.\n",
    "### 2.3.1: Jeu sans transformation"
   ]
  },
  {
   "cell_type": "code",
   "execution_count": 25,
   "id": "a71a6028",
   "metadata": {},
   "outputs": [],
   "source": [
    "listeModeles.append(\"regression_ridge\")"
   ]
  },
  {
   "cell_type": "code",
   "execution_count": 26,
   "id": "ec4f9701",
   "metadata": {},
   "outputs": [],
   "source": [
    "#GridSearch pour trouver le(s) paramètre(s) qui renvoie(nt) le meilleur score R²\n",
    "reg = RidgeCV(alphas=[1e-3, 1e-2, 1e-1, 1, 10]).fit(X_train_std, y_train)\n",
    "alpha = reg.alpha_"
   ]
  },
  {
   "cell_type": "code",
   "execution_count": 27,
   "id": "76a7885c",
   "metadata": {},
   "outputs": [
    {
     "name": "stdout",
     "output_type": "stream",
     "text": [
      "[0.88381533 0.85169902 0.87339425 0.8368557  0.81610432]\n"
     ]
    }
   ],
   "source": [
    "#Cross-validation du modèle (avec les paramètres optimaux)\n",
    "lmr = Ridge(alpha)\n",
    "print(cross_val_score(lmr, X_train_std, y_train,  cv=5))"
   ]
  },
  {
   "cell_type": "code",
   "execution_count": 28,
   "id": "75484f09",
   "metadata": {},
   "outputs": [
    {
     "name": "stdout",
     "output_type": "stream",
     "text": [
      "r2_score train: 0.9244\n"
     ]
    }
   ],
   "source": [
    "#Entrainement du modèle sur le training_set\n",
    "start_time = timeit.default_timer()\n",
    "lmr = Ridge(alpha).fit(X_train_std, y_train)\n",
    "y_predict = lmr.predict(X_test_std)\n",
    "time = timeit.default_timer() - start_time\n",
    "\n",
    "#Score sur le jeu d'entraînement\n",
    "print(\"r2_score train: {:.4f}\".format(lmr.score(X_train_std, y_train)))\n",
    "listeR2_train.append(lmr.score(X_train_std, y_train))"
   ]
  },
  {
   "cell_type": "code",
   "execution_count": 29,
   "id": "d33c7a5c",
   "metadata": {},
   "outputs": [
    {
     "name": "stdout",
     "output_type": "stream",
     "text": [
      "Mean squared error: 60302742798950.3359\n",
      "r2_score: 0.7703\n",
      "Temps de calcul: 0.0358\n"
     ]
    }
   ],
   "source": [
    "#Score du modèle sur le test_set\n",
    "print(\"Mean squared error: {:.4f}\".format(mean_squared_error(y_test, y_predict)))\n",
    "print(\"r2_score: {:.4f}\".format(r2_score(y_test, y_predict)))\n",
    "print(\"Temps de calcul: {:.4f}\".format(time))"
   ]
  },
  {
   "cell_type": "code",
   "execution_count": 30,
   "id": "fe649571",
   "metadata": {},
   "outputs": [],
   "source": [
    "#Enregistrement des métriques\n",
    "listeMSE.append(round(mean_squared_error(y_test, y_predict),4))\n",
    "listeR2.append(round(r2_score(y_test, y_predict),4))\n",
    "listeTemps.append(round(time,4))"
   ]
  },
  {
   "cell_type": "markdown",
   "id": "a818c45f",
   "metadata": {},
   "source": [
    "Bon score mais avec du sur-apprentissage."
   ]
  },
  {
   "cell_type": "markdown",
   "id": "32586ae0",
   "metadata": {},
   "source": [
    "### 2.3.2: Jeu avec transformations"
   ]
  },
  {
   "cell_type": "code",
   "execution_count": 31,
   "id": "b1e950ff",
   "metadata": {},
   "outputs": [],
   "source": [
    "#GridSearch pour trouver le(s) paramètre(s) qui renvoie(nt) le meilleur score R²\n",
    "reg = RidgeCV(alphas=[1e-3, 1e-2, 1e-1, 1, 10]).fit(X_log_train_std, y_log_train)\n",
    "alpha = reg.alpha_"
   ]
  },
  {
   "cell_type": "code",
   "execution_count": 32,
   "id": "070280f5",
   "metadata": {},
   "outputs": [
    {
     "name": "stdout",
     "output_type": "stream",
     "text": [
      "[0.59486996 0.6162871  0.56954364 0.73823023 0.62494982]\n"
     ]
    }
   ],
   "source": [
    "#Cross-validation du modèle (avec les paramètres optimaux)\n",
    "lmr = Ridge(alpha)\n",
    "print(cross_val_score(lmr, X_log_train_std, y_log_train,  cv=5))"
   ]
  },
  {
   "cell_type": "code",
   "execution_count": 33,
   "id": "913daa4f",
   "metadata": {},
   "outputs": [
    {
     "name": "stdout",
     "output_type": "stream",
     "text": [
      "r2_score train: 0.6943\n"
     ]
    }
   ],
   "source": [
    "#Entrainement du modèle sur le training_set\n",
    "start_time = timeit.default_timer()\n",
    "lmr = Ridge(alpha).fit(X_log_train_std, y_log_train)\n",
    "y_log_predict = lmr.predict(X_log_test_std)\n",
    "time = timeit.default_timer() - start_time\n",
    "\n",
    "#Score sur le jeu d'entraînement\n",
    "print(\"r2_score train: {:.4f}\".format(lmr.score(X_log_train_std, y_log_train)))\n",
    "listeR2_log_train.append(lmr.score(X_log_train_std, y_log_train))"
   ]
  },
  {
   "cell_type": "code",
   "execution_count": 34,
   "id": "36c167ad",
   "metadata": {},
   "outputs": [
    {
     "name": "stdout",
     "output_type": "stream",
     "text": [
      "Mean squared error: 0.6618\n",
      "r2_score: 0.6466\n",
      "Temps de calcul: 0.0386\n"
     ]
    }
   ],
   "source": [
    "#Score du modèle sur le test_set\n",
    "print(\"Mean squared error: {:.4f}\".format(mean_squared_error(y_log_test, y_log_predict)))\n",
    "print(\"r2_score: {:.4f}\".format(r2_score(y_log_test, y_log_predict)))\n",
    "print(\"Temps de calcul: {:.4f}\".format(time))"
   ]
  },
  {
   "cell_type": "code",
   "execution_count": 35,
   "id": "67552295",
   "metadata": {},
   "outputs": [],
   "source": [
    "#Enregistrement des métriques\n",
    "listeMSE_log.append(round(mean_squared_error(y_log_test, y_log_predict),4))\n",
    "listeR2_log.append(round(r2_score(y_log_test, y_log_predict),4))\n",
    "listeTemps_log.append(round(time,4))"
   ]
  },
  {
   "cell_type": "markdown",
   "id": "20ebc463",
   "metadata": {},
   "source": [
    "Plus stable mais score moins bon."
   ]
  },
  {
   "cell_type": "markdown",
   "id": "d1955014",
   "metadata": {},
   "source": [
    "## <a name=\"C6\">2.4: Régression Lasso</a>\n",
    "Pour tenter d'améliorer la capacité de généralisation de la régression ridge on peut ajouter en plus une réduction dimensionnelle, notamment pour supprimer les éventuelles variables corrélées.\n",
    "### 2.4.1: Jeu sans transformation:"
   ]
  },
  {
   "cell_type": "code",
   "execution_count": 36,
   "id": "b51af4bd",
   "metadata": {},
   "outputs": [],
   "source": [
    "listeModeles.append('regression_lasso')"
   ]
  },
  {
   "cell_type": "code",
   "execution_count": 37,
   "id": "cfcd0856",
   "metadata": {},
   "outputs": [],
   "source": [
    "#GridSearch pour trouver le(s) paramètre(s) qui renvoie(nt) le meilleur score R²\n",
    "reg = LassoCV(cv=5, random_state=0).fit(X_train_std, y_train)\n",
    "alpha = reg.alpha_"
   ]
  },
  {
   "cell_type": "code",
   "execution_count": 38,
   "id": "30fc6e16",
   "metadata": {},
   "outputs": [
    {
     "name": "stdout",
     "output_type": "stream",
     "text": [
      "[0.89219645 0.86847906 0.89611824 0.85481584 0.81485454]\n"
     ]
    }
   ],
   "source": [
    "#Cross-validation du modèle (avec les paramètres optimaux)\n",
    "lml = Lasso(alpha)\n",
    "print(cross_val_score(lml, X_train_std, y_train,  cv=5))"
   ]
  },
  {
   "cell_type": "code",
   "execution_count": 39,
   "id": "69bdd61e",
   "metadata": {},
   "outputs": [
    {
     "name": "stdout",
     "output_type": "stream",
     "text": [
      "r2_score train: 0.9205\n"
     ]
    }
   ],
   "source": [
    "#Entrainement du modèle sur le training_set\n",
    "start_time = timeit.default_timer()\n",
    "lml = Lasso(alpha).fit(X_train_std, y_train)\n",
    "y_predict = lml.predict(X_test_std)\n",
    "time = timeit.default_timer() - start_time\n",
    "\n",
    "#Score sur le jeu d'entraînement\n",
    "print(\"r2_score train: {:.4f}\".format(lml.score(X_train_std, y_train)))\n",
    "listeR2_train.append(lml.score(X_train_std, y_train))"
   ]
  },
  {
   "cell_type": "code",
   "execution_count": 40,
   "id": "6e803dd0",
   "metadata": {},
   "outputs": [
    {
     "name": "stdout",
     "output_type": "stream",
     "text": [
      "Mean squared error: 59703455711659.5156\n",
      "r2_score: 0.7726\n",
      "Temps de calcul: 0.0688\n"
     ]
    }
   ],
   "source": [
    "#Score du modèle sur le test_set\n",
    "print(\"Mean squared error: {:.4f}\".format(mean_squared_error(y_test, y_predict)))\n",
    "print(\"r2_score: {:.4f}\".format(r2_score(y_test, y_predict)))\n",
    "print(\"Temps de calcul: {:.4f}\".format(time))"
   ]
  },
  {
   "cell_type": "code",
   "execution_count": 41,
   "id": "f327ec6a",
   "metadata": {},
   "outputs": [],
   "source": [
    "#Enregistrement des métriques\n",
    "listeMSE.append(round(mean_squared_error(y_test, y_predict),4))\n",
    "listeR2.append(round(r2_score(y_test, y_predict),4))\n",
    "listeTemps.append(round(time,4))"
   ]
  },
  {
   "cell_type": "markdown",
   "id": "af65836c",
   "metadata": {},
   "source": [
    "Encore un soucis de sur-apprentissage."
   ]
  },
  {
   "cell_type": "markdown",
   "id": "525faaa0",
   "metadata": {},
   "source": [
    "### 2.4.2: Jeu avec transformations"
   ]
  },
  {
   "cell_type": "code",
   "execution_count": 42,
   "id": "e89a72b7",
   "metadata": {},
   "outputs": [],
   "source": [
    "#GridSearch pour trouver le(s) paramètre(s) qui renvoie(nt) le meilleur score R²\n",
    "reg = LassoCV(cv=5, random_state=0).fit(X_log_train_std, y_log_train)\n",
    "alpha = reg.alpha_"
   ]
  },
  {
   "cell_type": "code",
   "execution_count": 43,
   "id": "39c1372c",
   "metadata": {},
   "outputs": [
    {
     "name": "stdout",
     "output_type": "stream",
     "text": [
      "[0.5851821  0.62840481 0.58832619 0.7376808  0.62799986]\n"
     ]
    }
   ],
   "source": [
    "#Cross-validation du modèle (avec les paramètres optimaux)\n",
    "lml = Lasso(alpha)\n",
    "print(cross_val_score(lml, X_log_train_std, y_log_train,  cv=5))"
   ]
  },
  {
   "cell_type": "code",
   "execution_count": 44,
   "id": "e4596556",
   "metadata": {},
   "outputs": [
    {
     "name": "stdout",
     "output_type": "stream",
     "text": [
      "r2_score train: 0.6817\n"
     ]
    }
   ],
   "source": [
    "#Entrainement du modèle sur le training_set\n",
    "start_time = timeit.default_timer()\n",
    "lml = Lasso(alpha).fit(X_log_train_std, y_log_train)\n",
    "y_log_predict = lml.predict(X_log_test_std)\n",
    "time = timeit.default_timer() - start_time\n",
    "\n",
    "#Score sur le jeu d'entraînement\n",
    "print(\"r2_score train: {:.4f}\".format(lml.score(X_log_train_std, y_log_train)))\n",
    "listeR2_log_train.append(lml.score(X_log_train_std, y_log_train))"
   ]
  },
  {
   "cell_type": "code",
   "execution_count": 45,
   "id": "a3474da8",
   "metadata": {},
   "outputs": [
    {
     "name": "stdout",
     "output_type": "stream",
     "text": [
      "Mean squared error: 0.6271\n",
      "r2_score: 0.6651\n",
      "Temps de calcul: 0.0926\n"
     ]
    }
   ],
   "source": [
    "#Score du modèle sur le test_set\n",
    "print(\"Mean squared error: {:.4f}\".format(mean_squared_error(y_log_test, y_log_predict)))\n",
    "print(\"r2_score: {:.4f}\".format(r2_score(y_log_test, y_log_predict)))\n",
    "print(\"Temps de calcul: {:.4f}\".format(time))"
   ]
  },
  {
   "cell_type": "code",
   "execution_count": 46,
   "id": "510c1824",
   "metadata": {},
   "outputs": [],
   "source": [
    "#Enregistrement des métriques\n",
    "listeMSE_log.append(round(mean_squared_error(y_log_test, y_log_predict),4))\n",
    "listeR2_log.append(round(r2_score(y_log_test, y_log_predict),4))\n",
    "listeTemps_log.append(round(time,4))"
   ]
  },
  {
   "cell_type": "markdown",
   "id": "34ecd873",
   "metadata": {},
   "source": [
    "## <a name=\"C7\">2.5: Régression ElasticNet</a>\n",
    "La régression ridge permet d'éviter le sur-appretissage avec une solution unique lorsque la régression lasso permet d'avoir un modèle plus parcimonieux mais instable. Il exite un modèle de prédiction linéaire intermédiaire qui combine les deux approches: la régression ElasticNet.\n",
    "### 2.5.1: Jeu sans transformation"
   ]
  },
  {
   "cell_type": "code",
   "execution_count": 47,
   "id": "9188f596",
   "metadata": {},
   "outputs": [],
   "source": [
    "listeModeles.append('regression_elasticNet')"
   ]
  },
  {
   "cell_type": "code",
   "execution_count": 48,
   "id": "7e530a65",
   "metadata": {},
   "outputs": [],
   "source": [
    "#GridSearch pour trouver le(s) paramètre(s) qui renvoie(nt) le meilleur score R²\n",
    "reg = ElasticNetCV(l1_ratio=[.1, .3, .5, .7, .9], cv=5).fit(X_train_std, y_train)\n",
    "alpha = reg.alpha_\n",
    "l1_ratio = reg.l1_ratio_"
   ]
  },
  {
   "cell_type": "code",
   "execution_count": 49,
   "id": "166b0cc8",
   "metadata": {},
   "outputs": [
    {
     "name": "stderr",
     "output_type": "stream",
     "text": [
      "C:\\Users\\vbour\\anaconda3\\lib\\site-packages\\sklearn\\linear_model\\_coordinate_descent.py:530: ConvergenceWarning: Objective did not converge. You might want to increase the number of iterations. Duality gap: 6.0899696486248616e+16, tolerance: 167198021309764.5\n",
      "  model = cd_fast.enet_coordinate_descent(\n",
      "C:\\Users\\vbour\\anaconda3\\lib\\site-packages\\sklearn\\linear_model\\_coordinate_descent.py:530: ConvergenceWarning: Objective did not converge. You might want to increase the number of iterations. Duality gap: 6.070738451199455e+16, tolerance: 168761484656366.56\n",
      "  model = cd_fast.enet_coordinate_descent(\n",
      "C:\\Users\\vbour\\anaconda3\\lib\\site-packages\\sklearn\\linear_model\\_coordinate_descent.py:530: ConvergenceWarning: Objective did not converge. You might want to increase the number of iterations. Duality gap: 6.20022078673733e+16, tolerance: 169336538221690.6\n",
      "  model = cd_fast.enet_coordinate_descent(\n",
      "C:\\Users\\vbour\\anaconda3\\lib\\site-packages\\sklearn\\linear_model\\_coordinate_descent.py:530: ConvergenceWarning: Objective did not converge. You might want to increase the number of iterations. Duality gap: 5.792779269197424e+16, tolerance: 164499924117382.2\n",
      "  model = cd_fast.enet_coordinate_descent(\n"
     ]
    },
    {
     "name": "stdout",
     "output_type": "stream",
     "text": [
      "[0.8832066  0.84956832 0.87178261 0.83621119 0.81782764]\n"
     ]
    },
    {
     "name": "stderr",
     "output_type": "stream",
     "text": [
      "C:\\Users\\vbour\\anaconda3\\lib\\site-packages\\sklearn\\linear_model\\_coordinate_descent.py:530: ConvergenceWarning: Objective did not converge. You might want to increase the number of iterations. Duality gap: 1.4401473099411936e+16, tolerance: 64319035816794.4\n",
      "  model = cd_fast.enet_coordinate_descent(\n"
     ]
    }
   ],
   "source": [
    "#Cross-validation du modèle (avec les paramètres optimaux)\n",
    "lmE = ElasticNet(alpha=alpha, l1_ratio=l1_ratio)\n",
    "print(cross_val_score(lml, X_train_std, y_train,  cv=5))"
   ]
  },
  {
   "cell_type": "code",
   "execution_count": 50,
   "id": "5a940fae",
   "metadata": {},
   "outputs": [
    {
     "name": "stdout",
     "output_type": "stream",
     "text": [
      "r2_score train: 0.0024\n"
     ]
    }
   ],
   "source": [
    "#Entrainement du modèle sur le training_set\n",
    "start_time = timeit.default_timer()\n",
    "lmE = ElasticNet(alpha=alpha, l1_ratio=l1_ratio).fit(X_train_std, y_train)\n",
    "y_predict = lmE.predict(X_test_std)\n",
    "time = timeit.default_timer() - start_time\n",
    "\n",
    "#Score sur le jeu d'entraînement\n",
    "print(\"r2_score train: {:.4f}\".format(lmE.score(X_train_std, y_train)))\n",
    "listeR2_train.append(lmE.score(X_train_std, y_train))"
   ]
  },
  {
   "cell_type": "code",
   "execution_count": 51,
   "id": "67415b09",
   "metadata": {},
   "outputs": [
    {
     "name": "stdout",
     "output_type": "stream",
     "text": [
      "Mean squared error: 261999458004006.6562\n",
      "r2_score: 0.0021\n",
      "Temps de calcul: 0.0396\n"
     ]
    }
   ],
   "source": [
    "#Score du modèle sur le test_set\n",
    "print(\"Mean squared error: {:.4f}\".format(mean_squared_error(y_test, y_predict)))\n",
    "print(\"r2_score: {:.4f}\".format(r2_score(y_test, y_predict)))\n",
    "print(\"Temps de calcul: {:.4f}\".format(time))"
   ]
  },
  {
   "cell_type": "code",
   "execution_count": 52,
   "id": "241a4d9c",
   "metadata": {},
   "outputs": [],
   "source": [
    "#Enregistrement des métriques\n",
    "listeMSE.append(round(mean_squared_error(y_test, y_predict),4))\n",
    "listeR2.append(round(r2_score(y_test, y_predict),4))\n",
    "listeTemps.append(round(time,4))"
   ]
  },
  {
   "cell_type": "markdown",
   "id": "6fee6bdd",
   "metadata": {},
   "source": [
    "Instabilité propre à la régression lasso."
   ]
  },
  {
   "cell_type": "markdown",
   "id": "c7ef4b21",
   "metadata": {},
   "source": [
    "### 2.5.2: Jeu avec transformations"
   ]
  },
  {
   "cell_type": "code",
   "execution_count": 53,
   "id": "87867cad",
   "metadata": {},
   "outputs": [],
   "source": [
    "#GridSearch pour trouver le(s) paramètre(s) qui renvoie(nt) le meilleur score R²\n",
    "reg = ElasticNetCV(l1_ratio=[.1, .3, .5, .7, .9], cv=5).fit(X_log_train_std, y_log_train)\n",
    "alpha = reg.alpha_\n",
    "l1_ratio = reg.l1_ratio_"
   ]
  },
  {
   "cell_type": "code",
   "execution_count": 54,
   "id": "c93736a9",
   "metadata": {},
   "outputs": [
    {
     "name": "stdout",
     "output_type": "stream",
     "text": [
      "[0.58400565 0.63050978 0.58951621 0.73805939 0.62623544]\n"
     ]
    }
   ],
   "source": [
    "#Cross-validation du modèle (avec les paramètres optimaux)\n",
    "lmE = ElasticNet(alpha=alpha, l1_ratio=l1_ratio)\n",
    "print(cross_val_score(lmE, X_log_train_std, y_log_train,  cv=5))"
   ]
  },
  {
   "cell_type": "code",
   "execution_count": 55,
   "id": "1f08961d",
   "metadata": {},
   "outputs": [
    {
     "name": "stdout",
     "output_type": "stream",
     "text": [
      "r2_score train: 0.6813\n"
     ]
    }
   ],
   "source": [
    "#Entrainement du modèle sur le training_set\n",
    "start_time = timeit.default_timer()\n",
    "lmE = ElasticNet(alpha=alpha, l1_ratio=l1_ratio).fit(X_log_train_std, y_log_train)\n",
    "y_log_predict = lmE.predict(X_log_test_std)\n",
    "time = timeit.default_timer() - start_time\n",
    "\n",
    "#Score sur le jeu d'entraînement\n",
    "print(\"r2_score train: {:.4f}\".format(lmE.score(X_log_train_std, y_log_train)))\n",
    "listeR2_log_train.append(lmE.score(X_log_train_std, y_log_train))"
   ]
  },
  {
   "cell_type": "code",
   "execution_count": 56,
   "id": "e95d5e5e",
   "metadata": {},
   "outputs": [
    {
     "name": "stdout",
     "output_type": "stream",
     "text": [
      "Mean squared error: 0.6251\n",
      "r2_score: 0.6662\n",
      "Temps de calcul: 0.1122\n"
     ]
    }
   ],
   "source": [
    "#Score du modèle sur le test_set\n",
    "print(\"Mean squared error: {:.4f}\".format(mean_squared_error(y_log_test, y_log_predict)))\n",
    "print(\"r2_score: {:.4f}\".format(r2_score(y_log_test, y_log_predict)))\n",
    "print(\"Temps de calcul: {:.4f}\".format(time))"
   ]
  },
  {
   "cell_type": "code",
   "execution_count": 57,
   "id": "90705354",
   "metadata": {},
   "outputs": [],
   "source": [
    "#Enregistrement des métriques\n",
    "listeMSE_log.append(round(mean_squared_error(y_log_test, y_log_predict),4))\n",
    "listeR2_log.append(round(r2_score(y_log_test, y_log_predict),4))\n",
    "listeTemps_log.append(round(time,4))"
   ]
  },
  {
   "cell_type": "markdown",
   "id": "a7e7c780",
   "metadata": {},
   "source": [
    "# <a name=\"C8\">Partie 3: Méthodes ensemblistes</a>\n",
    "Le principe des méthodes ensemblistes est de combiner un certain nombre de modèles avec des performances faibles pour obtenir un modèle prédictif plus efficace en combinant les résultats via la moyenne par exemple pour les problèmes de régression.\n",
    "## <a name=\"C9\">3.1: Bagging</a>\n",
    "Le bagging fonctionne en 3 étapes:\n",
    "- On génère N nouveaux jeux de données en tirant aléatoirement (avec remise) chaque observation dans le jeu de données initial\n",
    "- On entraîne un apprenant faible sur chaque jeu, ici un arbre de décision\n",
    "- On effectue une prédiction en faisant la moyenne des prédictions des apprenants faibles\n",
    "### 3.1.1: Jeu sans transformation"
   ]
  },
  {
   "cell_type": "code",
   "execution_count": 58,
   "id": "415ac3b6",
   "metadata": {},
   "outputs": [],
   "source": [
    "listeModeles.append('Bagging')"
   ]
  },
  {
   "cell_type": "code",
   "execution_count": 59,
   "id": "23da2d43",
   "metadata": {},
   "outputs": [],
   "source": [
    "#GridSearch pour trouver le(s) paramètre(s) qui renvoie(nt) le meilleur score R²\n",
    "params = {'n_estimators': [10, 50, 100]}\n",
    "reg = GridSearchCV (estimator=BaggingRegressor(), param_grid=params, cv=5, scoring='r2')\n",
    "reg.fit(X_train_std, y_train)\n",
    "n_estimators = reg.best_params_.get('n_estimators')"
   ]
  },
  {
   "cell_type": "code",
   "execution_count": 60,
   "id": "8a636a30",
   "metadata": {},
   "outputs": [
    {
     "name": "stdout",
     "output_type": "stream",
     "text": [
      "[0.84804425 0.84778657 0.92099902 0.9247515  0.57114665]\n"
     ]
    }
   ],
   "source": [
    "#Cross-validation du modèle (avec les paramètres optimaux)\n",
    "bagging = BaggingRegressor(n_estimators=n_estimators)\n",
    "print(cross_val_score(bagging, X_train_std, y_train,  cv=5))"
   ]
  },
  {
   "cell_type": "code",
   "execution_count": 61,
   "id": "c5e095cb",
   "metadata": {},
   "outputs": [
    {
     "name": "stdout",
     "output_type": "stream",
     "text": [
      "r2_score train: 0.9826\n"
     ]
    }
   ],
   "source": [
    "#Entrainement du modèle sur le training_set\n",
    "start_time = timeit.default_timer()\n",
    "bagging = BaggingRegressor(n_estimators=n_estimators).fit(X_train_std, y_train)\n",
    "y_predict = bagging.predict(X_test_std)\n",
    "time = timeit.default_timer() - start_time\n",
    "\n",
    "#Score sur le jeu d'entraînement\n",
    "print(\"r2_score train: {:.4f}\".format(bagging.score(X_train_std, y_train)))\n",
    "listeR2_train.append(bagging.score(X_train_std, y_train))"
   ]
  },
  {
   "cell_type": "code",
   "execution_count": 62,
   "id": "0884372b",
   "metadata": {},
   "outputs": [
    {
     "name": "stdout",
     "output_type": "stream",
     "text": [
      "Mean squared error: 34570920842303.6680\n",
      "r2_score: 0.8683\n",
      "Temps de calcul: 1.1578\n"
     ]
    }
   ],
   "source": [
    "#Score du modèle sur le test_set\n",
    "print(\"Mean squared error: {:.4f}\".format(mean_squared_error(y_test, y_predict)))\n",
    "print(\"r2_score: {:.4f}\".format(r2_score(y_test, y_predict)))\n",
    "print(\"Temps de calcul: {:.4f}\".format(time))"
   ]
  },
  {
   "cell_type": "code",
   "execution_count": 63,
   "id": "843f1271",
   "metadata": {},
   "outputs": [],
   "source": [
    "#Enregistrement des métriques\n",
    "listeMSE.append(round(mean_squared_error(y_test, y_predict),4))\n",
    "listeR2.append(round(r2_score(y_test, y_predict),4))\n",
    "listeTemps.append(round(time,4))"
   ]
  },
  {
   "cell_type": "markdown",
   "id": "2dff0248",
   "metadata": {},
   "source": [
    "Instabilité et sur-apprentissage."
   ]
  },
  {
   "cell_type": "markdown",
   "id": "488a1fc6",
   "metadata": {},
   "source": [
    "### 3.1.2: Jeu avec transformations"
   ]
  },
  {
   "cell_type": "code",
   "execution_count": 64,
   "id": "e7918ecc",
   "metadata": {},
   "outputs": [],
   "source": [
    "#GridSearch pour trouver le(s) paramètre(s) qui renvoie(nt) le meilleur score R²\n",
    "params = {'n_estimators': [10, 50, 100]}\n",
    "reg = GridSearchCV (estimator=BaggingRegressor(), param_grid=params, cv=5, scoring='r2')\n",
    "reg.fit(X_log_train_std, y_log_train)\n",
    "n_estimators = reg.best_params_.get('n_estimators')"
   ]
  },
  {
   "cell_type": "code",
   "execution_count": 65,
   "id": "21ba92ca",
   "metadata": {},
   "outputs": [
    {
     "name": "stdout",
     "output_type": "stream",
     "text": [
      "[0.76510641 0.61400888 0.80466126 0.72960754 0.8084001 ]\n"
     ]
    }
   ],
   "source": [
    "#Cross-validation du modèle (avec les paramètres optimaux)\n",
    "bagging = BaggingRegressor(n_estimators=n_estimators)\n",
    "print(cross_val_score(bagging, X_log_train_std, y_log_train,  cv=5))"
   ]
  },
  {
   "cell_type": "code",
   "execution_count": 66,
   "id": "0d50b126",
   "metadata": {},
   "outputs": [
    {
     "name": "stdout",
     "output_type": "stream",
     "text": [
      "r2_score train: 0.9669\n"
     ]
    }
   ],
   "source": [
    "#Entrainement du modèle sur le training_set\n",
    "start_time = timeit.default_timer()\n",
    "bagging = BaggingRegressor(n_estimators=n_estimators).fit(X_log_train_std, y_log_train)\n",
    "y_log_predict = bagging.predict(X_log_test_std)\n",
    "time = timeit.default_timer() - start_time\n",
    "\n",
    "#Score sur le jeu d'entraînement\n",
    "print(\"r2_score train: {:.4f}\".format(bagging.score(X_log_train_std, y_log_train)))\n",
    "listeR2_log_train.append(bagging.score(X_log_train_std, y_log_train))"
   ]
  },
  {
   "cell_type": "code",
   "execution_count": 67,
   "id": "d9931fa5",
   "metadata": {},
   "outputs": [
    {
     "name": "stdout",
     "output_type": "stream",
     "text": [
      "Mean squared error: 0.3174\n",
      "r2_score: 0.8305\n",
      "Temps de calcul: 11.0795\n"
     ]
    }
   ],
   "source": [
    "#Score du modèle sur le test_set\n",
    "print(\"Mean squared error: {:.4f}\".format(mean_squared_error(y_log_test, y_log_predict)))\n",
    "print(\"r2_score: {:.4f}\".format(r2_score(y_log_test, y_log_predict)))\n",
    "print(\"Temps de calcul: {:.4f}\".format(time))"
   ]
  },
  {
   "cell_type": "code",
   "execution_count": 68,
   "id": "46545f3d",
   "metadata": {},
   "outputs": [],
   "source": [
    "#Enregistrement des métriques\n",
    "listeMSE_log.append(round(mean_squared_error(y_log_test, y_log_predict),4))\n",
    "listeR2_log.append(round(r2_score(y_log_test, y_log_predict),4))\n",
    "listeTemps_log.append(round(time,4))"
   ]
  },
  {
   "cell_type": "markdown",
   "id": "1b3c9148",
   "metadata": {},
   "source": [
    "Résultats similaires avec ou sans la variable `ENERGYSTARScore`."
   ]
  },
  {
   "cell_type": "markdown",
   "id": "7ce3657a",
   "metadata": {},
   "source": [
    "## <a name=\"C10\">3.2: Random Forest</a>\n",
    "Les forêts aléatoires reposent sur le même principe que le bagging mais en sélectionnant un nombre plus restreint de features afin de créer des arbres les plus différents possible les uns des autres et limiter ainsi le sur-apprentissage.\n",
    "### 3.2.1: Jeu sans transformation"
   ]
  },
  {
   "cell_type": "code",
   "execution_count": 69,
   "id": "04f68641",
   "metadata": {},
   "outputs": [],
   "source": [
    "listeModeles.append('RandomForest')"
   ]
  },
  {
   "cell_type": "code",
   "execution_count": 70,
   "id": "08ea3f43",
   "metadata": {},
   "outputs": [],
   "source": [
    "#GridSearch pour trouver le(s) paramètre(s) qui renvoie(nt) le meilleur score R²\n",
    "params = {'n_estimators': [10, 50, 100],\n",
    "         'max_depth': [10, 25, 50, 100]}\n",
    "reg = GridSearchCV (estimator=RandomForestRegressor(), param_grid=params, cv=5, scoring='r2')\n",
    "reg.fit(X_train_std, y_train)\n",
    "n_estimators = reg.best_params_.get('n_estimators')\n",
    "max_depth = reg.best_params_.get('max_depth')"
   ]
  },
  {
   "cell_type": "code",
   "execution_count": 71,
   "id": "9f28e26c",
   "metadata": {},
   "outputs": [
    {
     "name": "stdout",
     "output_type": "stream",
     "text": [
      "[0.93489615 0.89320569 0.92494715 0.93330945 0.57184434]\n"
     ]
    }
   ],
   "source": [
    "#Cross-validation du modèle (avec les paramètres optimaux)\n",
    "forest = RandomForestRegressor(n_estimators=n_estimators, max_depth=max_depth, random_state=0)\n",
    "print(cross_val_score(forest, X_train_std, y_train,  cv=5))"
   ]
  },
  {
   "cell_type": "code",
   "execution_count": 72,
   "id": "50983782",
   "metadata": {},
   "outputs": [
    {
     "name": "stdout",
     "output_type": "stream",
     "text": [
      "r2_score train: 0.9265\n"
     ]
    }
   ],
   "source": [
    "#Entrainement du modèle sur le training_set\n",
    "start_time = timeit.default_timer()\n",
    "forest = RandomForestRegressor(n_estimators=n_estimators, max_depth=max_depth, random_state=0).fit(X_train_std, y_train)\n",
    "y_predict = forest.predict(X_test_std)\n",
    "time = timeit.default_timer() - start_time\n",
    "\n",
    "#Score sur le jeu d'entraînement\n",
    "print(\"r2_score train: {:.4f}\".format(forest.score(X_train_std, y_train))) \n",
    "listeR2_train.append(forest.score(X_train_std, y_train))"
   ]
  },
  {
   "cell_type": "code",
   "execution_count": 73,
   "id": "cd838055",
   "metadata": {},
   "outputs": [
    {
     "name": "stdout",
     "output_type": "stream",
     "text": [
      "Mean squared error: 34463818195127.7109\n",
      "r2_score: 0.8687\n",
      "Temps de calcul: 6.0335\n"
     ]
    }
   ],
   "source": [
    "#Score du modèle sur le test_set\n",
    "print(\"Mean squared error: {:.4f}\".format(mean_squared_error(y_test, y_predict)))\n",
    "print(\"r2_score: {:.4f}\".format(r2_score(y_test, y_predict)))\n",
    "print(\"Temps de calcul: {:.4f}\".format(time))"
   ]
  },
  {
   "cell_type": "code",
   "execution_count": 74,
   "id": "3d2c644c",
   "metadata": {},
   "outputs": [],
   "source": [
    "#Enregistrement des métriques\n",
    "listeMSE.append(round(mean_squared_error(y_test, y_predict),4))\n",
    "listeR2.append(round(r2_score(y_test, y_predict),4))\n",
    "listeTemps.append(round(time,4))"
   ]
  },
  {
   "cell_type": "markdown",
   "id": "248ba789",
   "metadata": {},
   "source": [
    "Un petit peu d'instabilité et de sur-apprentissage."
   ]
  },
  {
   "cell_type": "markdown",
   "id": "5cc1f4f3",
   "metadata": {},
   "source": [
    "### 3.2.2: Jeu avec transformations"
   ]
  },
  {
   "cell_type": "code",
   "execution_count": 75,
   "id": "0de9259c",
   "metadata": {},
   "outputs": [],
   "source": [
    "#GridSearch pour trouver le(s) paramètre(s) qui renvoie(nt) le meilleur score R²\n",
    "params = {'n_estimators': [10, 50, 100],\n",
    "         'max_depth': [10, 25, 50, 100]}\n",
    "reg = GridSearchCV (estimator=RandomForestRegressor(), param_grid=params, cv=5, scoring='r2')\n",
    "reg.fit(X_log_train_std, y_log_train)\n",
    "n_estimators = reg.best_params_.get('n_estimators')\n",
    "max_depth = reg.best_params_.get('max_depth')"
   ]
  },
  {
   "cell_type": "code",
   "execution_count": 76,
   "id": "e3d2c5b3",
   "metadata": {},
   "outputs": [
    {
     "name": "stdout",
     "output_type": "stream",
     "text": [
      "[0.74398959 0.6257683  0.8141205  0.71765055 0.80505023]\n"
     ]
    }
   ],
   "source": [
    "#Cross-validation du modèle (avec les paramètres optimaux)\n",
    "forest = RandomForestRegressor(n_estimators=n_estimators, max_depth=max_depth, random_state=0)\n",
    "print(cross_val_score(forest, X_log_train_std, y_log_train,  cv=5))"
   ]
  },
  {
   "cell_type": "code",
   "execution_count": 77,
   "id": "5caf8712",
   "metadata": {},
   "outputs": [
    {
     "name": "stdout",
     "output_type": "stream",
     "text": [
      "r2_score train: 0.9681\n"
     ]
    }
   ],
   "source": [
    "#Entrainement du modèle sur le training_set\n",
    "start_time = timeit.default_timer()\n",
    "forest = RandomForestRegressor(n_estimators=n_estimators, max_depth=max_depth, random_state=0).fit(X_log_train_std, y_log_train)\n",
    "y_log_predict = forest.predict(X_log_test_std)\n",
    "time = timeit.default_timer() - start_time\n",
    "\n",
    "#Score sur le jeu d'entraînement\n",
    "print(\"r2_score train: {:.4f}\".format(forest.score(X_log_train_std, y_log_train))) \n",
    "listeR2_log_train.append(forest.score(X_log_train_std, y_log_train))"
   ]
  },
  {
   "cell_type": "code",
   "execution_count": 78,
   "id": "df9a1357",
   "metadata": {},
   "outputs": [
    {
     "name": "stdout",
     "output_type": "stream",
     "text": [
      "Mean squared error: 0.2874\n",
      "r2_score: 0.8465\n",
      "Temps de calcul: 8.2716\n"
     ]
    }
   ],
   "source": [
    "#Score du modèle sur le test_set\n",
    "print(\"Mean squared error: {:.4f}\".format(mean_squared_error(y_log_test, y_log_predict)))\n",
    "print(\"r2_score: {:.4f}\".format(r2_score(y_log_test, y_log_predict)))\n",
    "print(\"Temps de calcul: {:.4f}\".format(time))"
   ]
  },
  {
   "cell_type": "code",
   "execution_count": 79,
   "id": "1b469dd0",
   "metadata": {},
   "outputs": [],
   "source": [
    "#Enregistrement des métriques\n",
    "listeMSE_log.append(round(mean_squared_error(y_log_test, y_log_predict),4))\n",
    "listeR2_log.append(round(r2_score(y_log_test, y_log_predict),4))\n",
    "listeTemps_log.append(round(time,4))"
   ]
  },
  {
   "cell_type": "markdown",
   "id": "496782c4",
   "metadata": {},
   "source": [
    "Instabilité et sur-apprentissage."
   ]
  },
  {
   "cell_type": "markdown",
   "id": "ad93cc3f",
   "metadata": {},
   "source": [
    "## <a name=\"C11\">3.3: Gradient Boosting</a>\n",
    "Les méthodes ensemblistes utilisées plus haut sont dites parallèles, c'est-à-dire que les apprenants faibles sont entraînés indépendamment les uns des autres. Le Gradient Boosting au contraire est une méthode ensembliste dite séquentielle. Les apprenants faibles sont entraînés les uns à la suite des autres, notamment en mettant un peu plus l'accent sur les observations qui ont provoqué des erreurs sur l'apprenant précédent.\n",
    "### 3.3.1: Jeu sans transformation"
   ]
  },
  {
   "cell_type": "code",
   "execution_count": 80,
   "id": "bb9e33ab",
   "metadata": {},
   "outputs": [],
   "source": [
    "listeModeles.append('GradientBoosting')"
   ]
  },
  {
   "cell_type": "code",
   "execution_count": 81,
   "id": "7c708a85",
   "metadata": {},
   "outputs": [],
   "source": [
    "#GridSearch pour trouver le(s) paramètre(s) qui renvoie(nt) le meilleur score R²\n",
    "params = {'n_estimators': [10, 50, 100],\n",
    "         'learning_rate': [0.01, 0.1, 0.2, 0.3]}\n",
    "reg = GridSearchCV (estimator=GradientBoostingRegressor(), param_grid=params, cv=5, scoring='r2')\n",
    "reg.fit(X_train_std, y_train)\n",
    "n_estimators = reg.best_params_.get('n_estimators')\n",
    "learning_rate = reg.best_params_.get('learning_rate')"
   ]
  },
  {
   "cell_type": "code",
   "execution_count": 82,
   "id": "0aab81b6",
   "metadata": {},
   "outputs": [
    {
     "name": "stdout",
     "output_type": "stream",
     "text": [
      "[0.93312085 0.90389181 0.93941667 0.9538519  0.60022129]\n"
     ]
    }
   ],
   "source": [
    "#Cross-validation du modèle (avec les paramètres optimaux)\n",
    "boosting = GradientBoostingRegressor(n_estimators=n_estimators, learning_rate=learning_rate, random_state=0)\n",
    "print(cross_val_score(boosting, X_train_std, y_train,  cv=5))"
   ]
  },
  {
   "cell_type": "code",
   "execution_count": 83,
   "id": "e9ced9ce",
   "metadata": {},
   "outputs": [
    {
     "name": "stdout",
     "output_type": "stream",
     "text": [
      "r2_score train: 0.9931\n"
     ]
    }
   ],
   "source": [
    "#Entrainement du modèle sur le training_set\n",
    "start_time = timeit.default_timer()\n",
    "boosting = GradientBoostingRegressor(n_estimators=n_estimators, learning_rate=learning_rate, random_state=0).fit(X_train_std, \n",
    "                                                                                                               y_train)\n",
    "y_predict = boosting.predict(X_test_std)\n",
    "time = timeit.default_timer() - start_time\n",
    "\n",
    "#Score sur le jeu d'entraînement\n",
    "print(\"r2_score train: {:.4f}\".format(boosting.score(X_train_std, y_train))) \n",
    "listeR2_train.append(boosting.score(X_train_std, y_train))"
   ]
  },
  {
   "cell_type": "code",
   "execution_count": 84,
   "id": "3a8c464b",
   "metadata": {},
   "outputs": [
    {
     "name": "stdout",
     "output_type": "stream",
     "text": [
      "Mean squared error: 32826867892228.5625\n",
      "r2_score: 0.8750\n",
      "Temps de calcul: 2.9462\n"
     ]
    }
   ],
   "source": [
    "#Score du modèle sur le test_set\n",
    "print(\"Mean squared error: {:.4f}\".format(mean_squared_error(y_test, y_predict)))\n",
    "print(\"r2_score: {:.4f}\".format(r2_score(y_test, y_predict)))\n",
    "print(\"Temps de calcul: {:.4f}\".format(time))"
   ]
  },
  {
   "cell_type": "code",
   "execution_count": 85,
   "id": "b414335e",
   "metadata": {},
   "outputs": [],
   "source": [
    "#Enregistrement des métriques\n",
    "listeMSE.append(round(mean_squared_error(y_test, y_predict),4))\n",
    "listeR2.append(round(r2_score(y_test, y_predict),4))\n",
    "listeTemps.append(round(time,4))"
   ]
  },
  {
   "cell_type": "markdown",
   "id": "f1a840e5",
   "metadata": {},
   "source": [
    "Un petit peu d'instabilité et du sur-apprentissage."
   ]
  },
  {
   "cell_type": "markdown",
   "id": "f250c6dc",
   "metadata": {},
   "source": [
    "### 3.3.2: Jeu avec transformations"
   ]
  },
  {
   "cell_type": "code",
   "execution_count": 86,
   "id": "2e2a6af0",
   "metadata": {},
   "outputs": [],
   "source": [
    "#GridSearch pour trouver le(s) paramètre(s) qui renvoie(nt) le meilleur score R²\n",
    "params = {'n_estimators': [10, 50, 100],\n",
    "         'learning_rate': [0.01, 0.1, 0.2, 0.3]}\n",
    "reg = GridSearchCV (estimator=GradientBoostingRegressor(), param_grid=params, cv=5, scoring='r2')\n",
    "reg.fit(X_log_train_std, y_log_train)\n",
    "n_estimators = reg.best_params_.get('n_estimators')\n",
    "learning_rate = reg.best_params_.get('learning_rate')"
   ]
  },
  {
   "cell_type": "code",
   "execution_count": 87,
   "id": "80d79793",
   "metadata": {},
   "outputs": [
    {
     "name": "stdout",
     "output_type": "stream",
     "text": [
      "[0.79654621 0.64988404 0.80893843 0.74488517 0.88002611]\n"
     ]
    }
   ],
   "source": [
    "#Cross-validation du modèle (avec les paramètres optimaux)\n",
    "boosting = GradientBoostingRegressor(n_estimators=n_estimators, learning_rate=learning_rate, random_state=0)\n",
    "print(cross_val_score(boosting, X_log_train_std, y_log_train,  cv=5))"
   ]
  },
  {
   "cell_type": "code",
   "execution_count": 88,
   "id": "4d84c100",
   "metadata": {},
   "outputs": [
    {
     "name": "stdout",
     "output_type": "stream",
     "text": [
      "r2_score train: 0.8962\n"
     ]
    }
   ],
   "source": [
    "#Entrainement du modèle sur le training_set\n",
    "start_time = timeit.default_timer()\n",
    "boosting = GradientBoostingRegressor(n_estimators=n_estimators, learning_rate=learning_rate, random_state=0).fit(X_log_train_std, \n",
    "                                                                                                               y_log_train)\n",
    "y_log_predict = boosting.predict(X_log_test_std)\n",
    "time = timeit.default_timer() - start_time\n",
    "\n",
    "#Score sur le jeu d'entraînement\n",
    "print(\"r2_score train: {:.4f}\".format(boosting.score(X_log_train_std, y_log_train))) \n",
    "listeR2_log_train.append(boosting.score(X_log_train_std, y_log_train))"
   ]
  },
  {
   "cell_type": "code",
   "execution_count": 89,
   "id": "b1005c6f",
   "metadata": {},
   "outputs": [
    {
     "name": "stdout",
     "output_type": "stream",
     "text": [
      "Mean squared error: 0.3051\n",
      "r2_score: 0.8371\n",
      "Temps de calcul: 2.0297\n"
     ]
    }
   ],
   "source": [
    "#Score du modèle sur le test_set\n",
    "print(\"Mean squared error: {:.4f}\".format(mean_squared_error(y_log_test, y_log_predict)))\n",
    "print(\"r2_score: {:.4f}\".format(r2_score(y_log_test, y_log_predict)))\n",
    "print(\"Temps de calcul: {:.4f}\".format(time))"
   ]
  },
  {
   "cell_type": "code",
   "execution_count": 90,
   "id": "9bae2572",
   "metadata": {},
   "outputs": [],
   "source": [
    "#Enregistrement des métriques\n",
    "listeMSE_log.append(round(mean_squared_error(y_log_test, y_log_predict),4))\n",
    "listeR2_log.append(round(r2_score(y_log_test, y_log_predict),4))\n",
    "listeTemps_log.append(round(time,4))"
   ]
  },
  {
   "cell_type": "markdown",
   "id": "31b07a3b",
   "metadata": {},
   "source": [
    "Instabilité."
   ]
  },
  {
   "cell_type": "markdown",
   "id": "4ab169e7",
   "metadata": {},
   "source": [
    "# <a name=\"C12\">Partie 4: Méthodes non linéaires</a>\n",
    "Beaucoup de phénomènes n'étant pas linéaires, on peut se retrouver dans une impasse si l'on cherche à effectuer des prédictions à l'aide de méthodes linéaires comme celles utilisées jusqu'à maintenant. On va ainsi tester des méthodes non linéaires pour voir si l'on peut obtenir de meilleures performances de généralisation.\n",
    "## <a name=\"C13\">4.1: SVM à noyau</a>\n",
    "### 4.1.1: Jeu sans transformation"
   ]
  },
  {
   "cell_type": "code",
   "execution_count": 91,
   "id": "c39af27d",
   "metadata": {},
   "outputs": [],
   "source": [
    "listeModeles.append('SVM_noyau')"
   ]
  },
  {
   "cell_type": "code",
   "execution_count": 92,
   "id": "24cddefc",
   "metadata": {},
   "outputs": [],
   "source": [
    "#GridSearch pour trouver le(s) paramètre(s) qui renvoie(nt) le meilleur score R²\n",
    "params = {'C': np.logspace(-2, 3, 3),\n",
    "         'gamma': np.logspace(-2, 1, 3)\n",
    "}\n",
    "reg = GridSearchCV (estimator=SVR(), param_grid=params, cv=5, scoring='r2')\n",
    "reg.fit(X_train_std, y_train)\n",
    "C = reg.best_params_.get('C')\n",
    "gamma = reg.best_params_.get('gamma')"
   ]
  },
  {
   "cell_type": "code",
   "execution_count": 93,
   "id": "c329ef9d",
   "metadata": {},
   "outputs": [
    {
     "name": "stdout",
     "output_type": "stream",
     "text": [
      "[-0.04384446 -0.04710484 -0.04637958 -0.0533015  -0.020493  ]\n"
     ]
    }
   ],
   "source": [
    "#Cross-validation du modèle (avec les paramètres optimaux)\n",
    "svr = SVR(kernel='rbf', C=C, gamma=gamma)\n",
    "print(cross_val_score(svr, X_train_std, y_train,  cv=5))"
   ]
  },
  {
   "cell_type": "code",
   "execution_count": 94,
   "id": "da7c90ce",
   "metadata": {},
   "outputs": [
    {
     "name": "stdout",
     "output_type": "stream",
     "text": [
      "r2_score train: -0.0274\n"
     ]
    }
   ],
   "source": [
    "#Entrainement du modèle sur le training_set\n",
    "start_time = timeit.default_timer()\n",
    "svr = SVR(kernel='rbf', C=C, gamma=gamma).fit(X_train_std, y_train)\n",
    "y_predict = svr.predict(X_test_std)\n",
    "time = timeit.default_timer() - start_time\n",
    "\n",
    "#Score sur le jeu d'entraînement\n",
    "print(\"r2_score train: {:.4f}\".format(svr.score(X_train_std, y_train))) \n",
    "listeR2_train.append(svr.score(X_train_std, y_train))"
   ]
  },
  {
   "cell_type": "code",
   "execution_count": 95,
   "id": "97ba7b8e",
   "metadata": {},
   "outputs": [
    {
     "name": "stdout",
     "output_type": "stream",
     "text": [
      "Mean squared error: 273902099379896.0000\n",
      "r2_score: -0.0433\n",
      "Temps de calcul: 11.9544\n"
     ]
    }
   ],
   "source": [
    "#Score du modèle sur le test_set\n",
    "print(\"Mean squared error: {:.4f}\".format(mean_squared_error(y_test, y_predict)))\n",
    "print(\"r2_score: {:.4f}\".format(r2_score(y_test, y_predict)))\n",
    "print(\"Temps de calcul: {:.4f}\".format(time))"
   ]
  },
  {
   "cell_type": "code",
   "execution_count": 96,
   "id": "c76e3197",
   "metadata": {},
   "outputs": [],
   "source": [
    "#Enregistrement des métriques\n",
    "listeMSE.append(round(mean_squared_error(y_test, y_predict),4))\n",
    "listeR2.append(round(r2_score(y_test, y_predict),4))\n",
    "listeTemps.append(round(time,4))"
   ]
  },
  {
   "cell_type": "markdown",
   "id": "472d540b",
   "metadata": {},
   "source": [
    "### 4.1.2: Jeu avec Transformations"
   ]
  },
  {
   "cell_type": "code",
   "execution_count": 97,
   "id": "35db6931",
   "metadata": {},
   "outputs": [],
   "source": [
    "#GridSearch pour trouver le(s) paramètre(s) qui renvoie(nt) le meilleur score R²\n",
    "params = {'C': np.logspace(-2, 3, 3),\n",
    "         'gamma': np.logspace(-2, 1, 3)\n",
    "}\n",
    "reg = GridSearchCV (estimator=SVR(), param_grid=params, cv=5, scoring='r2')\n",
    "reg.fit(X_log_train_std, y_log_train)\n",
    "C = reg.best_params_.get('C')\n",
    "gamma = reg.best_params_.get('gamma')"
   ]
  },
  {
   "cell_type": "code",
   "execution_count": 98,
   "id": "588d6c37",
   "metadata": {},
   "outputs": [
    {
     "name": "stdout",
     "output_type": "stream",
     "text": [
      "[0.50002277 0.5878945  0.55374873 0.65748647 0.55689429]\n"
     ]
    }
   ],
   "source": [
    "#Cross-validation du modèle (avec les paramètres optimaux)\n",
    "svr = SVR(kernel='rbf', C=C, gamma=gamma)\n",
    "print(cross_val_score(svr, X_log_train_std, y_log_train,  cv=5))"
   ]
  },
  {
   "cell_type": "code",
   "execution_count": 99,
   "id": "a6bf08b1",
   "metadata": {},
   "outputs": [
    {
     "name": "stdout",
     "output_type": "stream",
     "text": [
      "r2_score train: 0.6686\n"
     ]
    }
   ],
   "source": [
    "#Entrainement du modèle sur le training_set\n",
    "start_time = timeit.default_timer()\n",
    "svr = SVR(kernel='rbf', C=C, gamma=gamma).fit(X_log_train_std, y_log_train)\n",
    "y_log_predict = svr.predict(X_log_test_std)\n",
    "time = timeit.default_timer() - start_time\n",
    "\n",
    "#Score sur le jeu d'entraînement\n",
    "print(\"r2_score train: {:.4f}\".format(svr.score(X_log_train_std, y_log_train))) \n",
    "listeR2_log_train.append(svr.score(X_log_train_std, y_log_train))"
   ]
  },
  {
   "cell_type": "code",
   "execution_count": 100,
   "id": "1176dfa1",
   "metadata": {},
   "outputs": [
    {
     "name": "stdout",
     "output_type": "stream",
     "text": [
      "Mean squared error: 0.6185\n",
      "r2_score: 0.6697\n",
      "Temps de calcul: 7.2911\n"
     ]
    }
   ],
   "source": [
    "#Score du modèle sur le test_set\n",
    "print(\"Mean squared error: {:.4f}\".format(mean_squared_error(y_log_test, y_log_predict)))\n",
    "print(\"r2_score: {:.4f}\".format(r2_score(y_log_test, y_log_predict)))\n",
    "print(\"Temps de calcul: {:.4f}\".format(time))"
   ]
  },
  {
   "cell_type": "code",
   "execution_count": 101,
   "id": "03e00e98",
   "metadata": {},
   "outputs": [],
   "source": [
    "#Enregistrement des métriques\n",
    "listeMSE_log.append(round(mean_squared_error(y_log_test, y_log_predict),4))\n",
    "listeR2_log.append(round(r2_score(y_log_test, y_log_predict),4))\n",
    "listeTemps_log.append(round(time,4))"
   ]
  },
  {
   "cell_type": "markdown",
   "id": "e7af88b0",
   "metadata": {},
   "source": [
    "On obtient de meilleurs résultats avec les transformations logarithmiques même si le modèle reste instable."
   ]
  },
  {
   "cell_type": "markdown",
   "id": "a30d70f8",
   "metadata": {},
   "source": [
    "## <a name=\"C14\">4.2: Régression ridge à noyau</a>\n",
    "Le principe de fonctionnement est le même que pour la SVM à noyau, seule la fonction de perte utilisée diffère.\n",
    "### 4.2.1: Jeu sans transformation"
   ]
  },
  {
   "cell_type": "code",
   "execution_count": 102,
   "id": "7cf41f65",
   "metadata": {},
   "outputs": [],
   "source": [
    "listeModeles.append('Ridge_noyau')"
   ]
  },
  {
   "cell_type": "code",
   "execution_count": 103,
   "id": "229ddb1e",
   "metadata": {},
   "outputs": [],
   "source": [
    "#GridSearch pour trouver le(s) paramètre(s) qui renvoie(nt) le meilleur score R²\n",
    "params = {'alpha': np.logspace(-2, 2, 3),\n",
    "         'gamma': np.logspace(-2, 1, 3)\n",
    "}\n",
    "reg = GridSearchCV (estimator=KernelRidge(kernel='rbf'), param_grid=params, cv=5, scoring='r2')\n",
    "reg.fit(X_train_std, y_train)\n",
    "alpha = reg.best_params_.get('alpha')\n",
    "gamma = reg.best_params_.get('gamma')"
   ]
  },
  {
   "cell_type": "code",
   "execution_count": 104,
   "id": "9406129e",
   "metadata": {},
   "outputs": [
    {
     "name": "stdout",
     "output_type": "stream",
     "text": [
      "[0.91661739 0.74557024 0.80588276 0.79190096 0.11636417]\n"
     ]
    }
   ],
   "source": [
    "#Cross-validation du modèle (avec les paramètres optimaux)\n",
    "krr = KernelRidge(kernel='rbf', alpha=alpha, gamma=gamma)\n",
    "print(cross_val_score(krr, X_train_std, y_train,  cv=5))"
   ]
  },
  {
   "cell_type": "code",
   "execution_count": 105,
   "id": "1903f483",
   "metadata": {},
   "outputs": [
    {
     "name": "stdout",
     "output_type": "stream",
     "text": [
      "r2_score train: 0.9981\n"
     ]
    }
   ],
   "source": [
    "#Entrainement du modèle sur le training_set\n",
    "start_time = timeit.default_timer()\n",
    "krr = KernelRidge(kernel='rbf', alpha=alpha, gamma=gamma).fit(X_train_std, y_train)\n",
    "y_predict = krr.predict(X_test_std)\n",
    "time = timeit.default_timer() - start_time\n",
    "\n",
    "#Score sur le jeu d'entraînement\n",
    "print(\"r2_score train: {:.4f}\".format(krr.score(X_train_std, y_train))) \n",
    "listeR2_train.append(krr.score(X_train_std, y_train))"
   ]
  },
  {
   "cell_type": "code",
   "execution_count": 106,
   "id": "936ff035",
   "metadata": {},
   "outputs": [
    {
     "name": "stdout",
     "output_type": "stream",
     "text": [
      "Mean squared error: 59467639647582.5938\n",
      "r2_score: 0.7735\n",
      "Temps de calcul: 5.5905\n"
     ]
    }
   ],
   "source": [
    "#Score du modèle sur le test_set\n",
    "print(\"Mean squared error: {:.4f}\".format(mean_squared_error(y_test, y_predict)))\n",
    "print(\"r2_score: {:.4f}\".format(r2_score(y_test, y_predict)))\n",
    "print(\"Temps de calcul: {:.4f}\".format(time))"
   ]
  },
  {
   "cell_type": "code",
   "execution_count": 107,
   "id": "19783de5",
   "metadata": {},
   "outputs": [],
   "source": [
    "#Enregistrement des métriques\n",
    "listeMSE.append(round(mean_squared_error(y_test, y_predict),4))\n",
    "listeR2.append(round(r2_score(y_test, y_predict),4))\n",
    "listeTemps.append(round(time,4))"
   ]
  },
  {
   "cell_type": "markdown",
   "id": "f640d11a",
   "metadata": {},
   "source": [
    "Modèle instable et sur-apprentissage."
   ]
  },
  {
   "cell_type": "markdown",
   "id": "a7a5d716",
   "metadata": {},
   "source": [
    "### 4.2.2: Jeu avec transformations"
   ]
  },
  {
   "cell_type": "code",
   "execution_count": 108,
   "id": "0c78f5a2",
   "metadata": {},
   "outputs": [],
   "source": [
    "#GridSearch pour trouver le(s) paramètre(s) qui renvoie(nt) le meilleur score R²\n",
    "params = {'alpha': np.logspace(-2, 2, 3),\n",
    "         'gamma': np.logspace(-2, 1, 3)\n",
    "}\n",
    "reg = GridSearchCV (estimator=KernelRidge(kernel='rbf'), param_grid=params, cv=5, scoring='r2')\n",
    "reg.fit(X_log_train_std, y_log_train)\n",
    "alpha = reg.best_params_.get('alpha')\n",
    "gamma = reg.best_params_.get('gamma')"
   ]
  },
  {
   "cell_type": "code",
   "execution_count": 109,
   "id": "cf784a2c",
   "metadata": {},
   "outputs": [
    {
     "name": "stdout",
     "output_type": "stream",
     "text": [
      "[-2.39195938 -2.54296061 -2.38484026 -2.062677   -1.56570367]\n"
     ]
    }
   ],
   "source": [
    "#Cross-validation du modèle (avec les paramètres optimaux)\n",
    "krr = KernelRidge(kernel='rbf', alpha=alpha, gamma=gamma)\n",
    "print(cross_val_score(krr, X_log_train_std, y_log_train,  cv=5))"
   ]
  },
  {
   "cell_type": "code",
   "execution_count": 110,
   "id": "2debc304",
   "metadata": {},
   "outputs": [
    {
     "name": "stdout",
     "output_type": "stream",
     "text": [
      "r2_score train: 0.8828\n"
     ]
    }
   ],
   "source": [
    "#Entrainement du modèle sur le training_set\n",
    "start_time = timeit.default_timer()\n",
    "krr = KernelRidge(kernel='rbf', alpha=alpha, gamma=gamma).fit(X_log_train_std, y_log_train)\n",
    "y_log_predict = krr.predict(X_log_test_std)\n",
    "time = timeit.default_timer() - start_time\n",
    "\n",
    "#Score sur le jeu d'entraînement\n",
    "print(\"r2_score train: {:.4f}\".format(krr.score(X_log_train_std, y_log_train))) \n",
    "listeR2_log_train.append(krr.score(X_log_train_std, y_log_train))"
   ]
  },
  {
   "cell_type": "code",
   "execution_count": 111,
   "id": "862da091",
   "metadata": {},
   "outputs": [
    {
     "name": "stdout",
     "output_type": "stream",
     "text": [
      "Mean squared error: 4.7763\n",
      "r2_score: -1.5507\n",
      "Temps de calcul: 6.1542\n"
     ]
    }
   ],
   "source": [
    "#Score du modèle sur le test_set\n",
    "print(\"Mean squared error: {:.4f}\".format(mean_squared_error(y_log_test, y_log_predict)))\n",
    "print(\"r2_score: {:.4f}\".format(r2_score(y_log_test, y_log_predict)))\n",
    "print(\"Temps de calcul: {:.4f}\".format(time))"
   ]
  },
  {
   "cell_type": "code",
   "execution_count": 112,
   "id": "d40afb48",
   "metadata": {},
   "outputs": [],
   "source": [
    "#Enregistrement des métriques\n",
    "listeMSE_log.append(round(mean_squared_error(y_log_test, y_log_predict),4))\n",
    "listeR2_log.append(round(r2_score(y_log_test, y_log_predict),4))\n",
    "listeTemps_log.append(round(time,4))"
   ]
  },
  {
   "cell_type": "markdown",
   "id": "5848e1ff",
   "metadata": {},
   "source": [
    "résultats médiocres."
   ]
  },
  {
   "cell_type": "markdown",
   "id": "f62fbd23",
   "metadata": {},
   "source": [
    "# <a name=\"C15\">Partie 5: Sélection du modèle de prédiction</a>\n",
    "Il est maintenant temps de choisir parmis les modèles testés, lequel semble le plus pertinent et adapté pour prédire les émissions de CO2 des bâtiments de la ville de Seattle. Notre choix s'appuiera sur la capacité de généralisation du modèle, son temps de calcul et les contraintes liées à la sélection des hyperparamètres."
   ]
  },
  {
   "cell_type": "code",
   "execution_count": 113,
   "id": "bc2d85aa",
   "metadata": {},
   "outputs": [
    {
     "data": {
      "text/html": [
       "<div>\n",
       "<style scoped>\n",
       "    .dataframe tbody tr th:only-of-type {\n",
       "        vertical-align: middle;\n",
       "    }\n",
       "\n",
       "    .dataframe tbody tr th {\n",
       "        vertical-align: top;\n",
       "    }\n",
       "\n",
       "    .dataframe thead th {\n",
       "        text-align: right;\n",
       "    }\n",
       "</style>\n",
       "<table border=\"1\" class=\"dataframe\">\n",
       "  <thead>\n",
       "    <tr style=\"text-align: right;\">\n",
       "      <th></th>\n",
       "      <th>Dummy_mean</th>\n",
       "      <th>Dummy_median</th>\n",
       "      <th>regression_lineaire</th>\n",
       "      <th>regression_ridge</th>\n",
       "      <th>regression_lasso</th>\n",
       "      <th>regression_elasticNet</th>\n",
       "      <th>Bagging</th>\n",
       "      <th>RandomForest</th>\n",
       "      <th>GradientBoosting</th>\n",
       "      <th>SVM_noyau</th>\n",
       "      <th>Ridge_noyau</th>\n",
       "    </tr>\n",
       "  </thead>\n",
       "  <tbody>\n",
       "    <tr>\n",
       "      <th>MSE</th>\n",
       "      <td>2.626130e+14</td>\n",
       "      <td>2.752834e+14</td>\n",
       "      <td>6.195590e+13</td>\n",
       "      <td>6.030274e+13</td>\n",
       "      <td>5.970346e+13</td>\n",
       "      <td>2.619995e+14</td>\n",
       "      <td>3.457092e+13</td>\n",
       "      <td>3.446382e+13</td>\n",
       "      <td>3.282687e+13</td>\n",
       "      <td>2.739021e+14</td>\n",
       "      <td>5.946764e+13</td>\n",
       "    </tr>\n",
       "    <tr>\n",
       "      <th>r2 train</th>\n",
       "      <td>0.000000e+00</td>\n",
       "      <td>-3.112603e-02</td>\n",
       "      <td>9.057054e-01</td>\n",
       "      <td>9.244434e-01</td>\n",
       "      <td>9.204933e-01</td>\n",
       "      <td>2.400787e-03</td>\n",
       "      <td>9.825816e-01</td>\n",
       "      <td>9.265382e-01</td>\n",
       "      <td>9.930764e-01</td>\n",
       "      <td>-2.736532e-02</td>\n",
       "      <td>9.980674e-01</td>\n",
       "    </tr>\n",
       "    <tr>\n",
       "      <th>r2 test</th>\n",
       "      <td>-3.000000e-04</td>\n",
       "      <td>-4.850000e-02</td>\n",
       "      <td>7.640000e-01</td>\n",
       "      <td>7.703000e-01</td>\n",
       "      <td>7.726000e-01</td>\n",
       "      <td>2.100000e-03</td>\n",
       "      <td>8.683000e-01</td>\n",
       "      <td>8.687000e-01</td>\n",
       "      <td>8.750000e-01</td>\n",
       "      <td>-4.330000e-02</td>\n",
       "      <td>7.735000e-01</td>\n",
       "    </tr>\n",
       "    <tr>\n",
       "      <th>Temps_Calcul</th>\n",
       "      <td>2.200000e-03</td>\n",
       "      <td>9.000000e-04</td>\n",
       "      <td>1.300000e-03</td>\n",
       "      <td>3.580000e-02</td>\n",
       "      <td>6.880000e-02</td>\n",
       "      <td>3.960000e-02</td>\n",
       "      <td>1.157800e+00</td>\n",
       "      <td>6.033500e+00</td>\n",
       "      <td>2.946200e+00</td>\n",
       "      <td>1.195440e+01</td>\n",
       "      <td>5.590500e+00</td>\n",
       "    </tr>\n",
       "  </tbody>\n",
       "</table>\n",
       "</div>"
      ],
      "text/plain": [
       "                Dummy_mean  Dummy_median  regression_lineaire  \\\n",
       "MSE           2.626130e+14  2.752834e+14         6.195590e+13   \n",
       "r2 train      0.000000e+00 -3.112603e-02         9.057054e-01   \n",
       "r2 test      -3.000000e-04 -4.850000e-02         7.640000e-01   \n",
       "Temps_Calcul  2.200000e-03  9.000000e-04         1.300000e-03   \n",
       "\n",
       "              regression_ridge  regression_lasso  regression_elasticNet  \\\n",
       "MSE               6.030274e+13      5.970346e+13           2.619995e+14   \n",
       "r2 train          9.244434e-01      9.204933e-01           2.400787e-03   \n",
       "r2 test           7.703000e-01      7.726000e-01           2.100000e-03   \n",
       "Temps_Calcul      3.580000e-02      6.880000e-02           3.960000e-02   \n",
       "\n",
       "                   Bagging  RandomForest  GradientBoosting     SVM_noyau  \\\n",
       "MSE           3.457092e+13  3.446382e+13      3.282687e+13  2.739021e+14   \n",
       "r2 train      9.825816e-01  9.265382e-01      9.930764e-01 -2.736532e-02   \n",
       "r2 test       8.683000e-01  8.687000e-01      8.750000e-01 -4.330000e-02   \n",
       "Temps_Calcul  1.157800e+00  6.033500e+00      2.946200e+00  1.195440e+01   \n",
       "\n",
       "               Ridge_noyau  \n",
       "MSE           5.946764e+13  \n",
       "r2 train      9.980674e-01  \n",
       "r2 test       7.735000e-01  \n",
       "Temps_Calcul  5.590500e+00  "
      ]
     },
     "execution_count": 113,
     "metadata": {},
     "output_type": "execute_result"
    }
   ],
   "source": [
    "#Jeu non transformé\n",
    "tab = np.array([listeMSE, listeR2_train, listeR2, listeTemps])\n",
    "df = pd.DataFrame(tab, index=['MSE', 'r2 train', 'r2 test', 'Temps_Calcul'], columns=listeModeles)\n",
    "df"
   ]
  },
  {
   "cell_type": "code",
   "execution_count": 114,
   "id": "96aba159",
   "metadata": {},
   "outputs": [
    {
     "data": {
      "text/html": [
       "<div>\n",
       "<style scoped>\n",
       "    .dataframe tbody tr th:only-of-type {\n",
       "        vertical-align: middle;\n",
       "    }\n",
       "\n",
       "    .dataframe tbody tr th {\n",
       "        vertical-align: top;\n",
       "    }\n",
       "\n",
       "    .dataframe thead th {\n",
       "        text-align: right;\n",
       "    }\n",
       "</style>\n",
       "<table border=\"1\" class=\"dataframe\">\n",
       "  <thead>\n",
       "    <tr style=\"text-align: right;\">\n",
       "      <th></th>\n",
       "      <th>Dummy_mean</th>\n",
       "      <th>Dummy_median</th>\n",
       "      <th>regression_lineaire</th>\n",
       "      <th>regression_ridge</th>\n",
       "      <th>regression_lasso</th>\n",
       "      <th>regression_elasticNet</th>\n",
       "      <th>Bagging</th>\n",
       "      <th>RandomForest</th>\n",
       "      <th>GradientBoosting</th>\n",
       "      <th>SVM_noyau</th>\n",
       "      <th>Ridge_noyau</th>\n",
       "    </tr>\n",
       "  </thead>\n",
       "  <tbody>\n",
       "    <tr>\n",
       "      <th>MSE</th>\n",
       "      <td>1.8750</td>\n",
       "      <td>1.901100</td>\n",
       "      <td>0.549400</td>\n",
       "      <td>0.661800</td>\n",
       "      <td>0.627100</td>\n",
       "      <td>0.625100</td>\n",
       "      <td>0.317400</td>\n",
       "      <td>0.287400</td>\n",
       "      <td>0.305100</td>\n",
       "      <td>0.618500</td>\n",
       "      <td>4.776300</td>\n",
       "    </tr>\n",
       "    <tr>\n",
       "      <th>r2 train</th>\n",
       "      <td>0.0000</td>\n",
       "      <td>-0.007161</td>\n",
       "      <td>0.627319</td>\n",
       "      <td>0.694333</td>\n",
       "      <td>0.681658</td>\n",
       "      <td>0.681273</td>\n",
       "      <td>0.966899</td>\n",
       "      <td>0.968068</td>\n",
       "      <td>0.896245</td>\n",
       "      <td>0.668586</td>\n",
       "      <td>0.882772</td>\n",
       "    </tr>\n",
       "    <tr>\n",
       "      <th>r2 test</th>\n",
       "      <td>-0.0013</td>\n",
       "      <td>-0.015300</td>\n",
       "      <td>0.706600</td>\n",
       "      <td>0.646600</td>\n",
       "      <td>0.665100</td>\n",
       "      <td>0.666200</td>\n",
       "      <td>0.830500</td>\n",
       "      <td>0.846500</td>\n",
       "      <td>0.837100</td>\n",
       "      <td>0.669700</td>\n",
       "      <td>-1.550700</td>\n",
       "    </tr>\n",
       "    <tr>\n",
       "      <th>Temps_Calcul</th>\n",
       "      <td>0.0010</td>\n",
       "      <td>0.001300</td>\n",
       "      <td>0.008300</td>\n",
       "      <td>0.038600</td>\n",
       "      <td>0.092600</td>\n",
       "      <td>0.112200</td>\n",
       "      <td>11.079500</td>\n",
       "      <td>8.271600</td>\n",
       "      <td>2.029700</td>\n",
       "      <td>7.291100</td>\n",
       "      <td>6.154200</td>\n",
       "    </tr>\n",
       "  </tbody>\n",
       "</table>\n",
       "</div>"
      ],
      "text/plain": [
       "              Dummy_mean  Dummy_median  regression_lineaire  regression_ridge  \\\n",
       "MSE               1.8750      1.901100             0.549400          0.661800   \n",
       "r2 train          0.0000     -0.007161             0.627319          0.694333   \n",
       "r2 test          -0.0013     -0.015300             0.706600          0.646600   \n",
       "Temps_Calcul      0.0010      0.001300             0.008300          0.038600   \n",
       "\n",
       "              regression_lasso  regression_elasticNet    Bagging  \\\n",
       "MSE                   0.627100               0.625100   0.317400   \n",
       "r2 train              0.681658               0.681273   0.966899   \n",
       "r2 test               0.665100               0.666200   0.830500   \n",
       "Temps_Calcul          0.092600               0.112200  11.079500   \n",
       "\n",
       "              RandomForest  GradientBoosting  SVM_noyau  Ridge_noyau  \n",
       "MSE               0.287400          0.305100   0.618500     4.776300  \n",
       "r2 train          0.968068          0.896245   0.668586     0.882772  \n",
       "r2 test           0.846500          0.837100   0.669700    -1.550700  \n",
       "Temps_Calcul      8.271600          2.029700   7.291100     6.154200  "
      ]
     },
     "execution_count": 114,
     "metadata": {},
     "output_type": "execute_result"
    }
   ],
   "source": [
    "#Jeu transformé\n",
    "tab = np.array([listeMSE_log, listeR2_log_train, listeR2_log, listeTemps_log])\n",
    "df_log = pd.DataFrame(tab, index=['MSE', 'r2 train', 'r2 test', 'Temps_Calcul'], columns=listeModeles)\n",
    "df_log"
   ]
  },
  {
   "cell_type": "markdown",
   "id": "3454e31e",
   "metadata": {},
   "source": [
    "Les transformations logarithmiques n'apportent pas de gain sur les scores de prédiction et n'améliorent pas la robustesse des modèles comme ce fut le cas lors de la prédiciton des émissions de CO2. On préfèrerra donc conserver le jeu sans transformations. \n",
    "\n",
    "Les modèles les plus intéressants sont les méthodes ensemblistes.</br>\n",
    "Le bagging avait tendance à être plus instable que les deux autres. On va donc l'écarter.</br>\n",
    "Les fôrets aléatoire souffrent moins de sur-apprentissage mais ont un temps d'exécution assez long sans pour autant gagner en précision. On écarte également ce modèle.\n",
    "\n",
    "Finalement, on fait le choix du **Gradient Boosting** sur le jeu de données non transformé qui donne de bons résultats avec un temps d'exécution assez court. Attention toutefois à un petit peu d'instabilité. </br>\n",
    "Pour tenter d'améliorer encore plus ce modèle, on peut essayer d'optimiser les deux hyperparamètres **n_estimators** et **learning_rate** sur des plages de valeurs plus larges, notamment pour le nombre d'apprenants faibles **n_estimators**."
   ]
  },
  {
   "cell_type": "code",
   "execution_count": null,
   "id": "07bfbc3d",
   "metadata": {},
   "outputs": [],
   "source": []
  }
 ],
 "metadata": {
  "kernelspec": {
   "display_name": "Python 3 (ipykernel)",
   "language": "python",
   "name": "python3"
  },
  "language_info": {
   "codemirror_mode": {
    "name": "ipython",
    "version": 3
   },
   "file_extension": ".py",
   "mimetype": "text/x-python",
   "name": "python",
   "nbconvert_exporter": "python",
   "pygments_lexer": "ipython3",
   "version": "3.9.7"
  }
 },
 "nbformat": 4,
 "nbformat_minor": 5
}
