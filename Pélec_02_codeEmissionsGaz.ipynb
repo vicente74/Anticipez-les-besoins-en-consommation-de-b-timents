{
 "cells": [
  {
   "cell_type": "markdown",
   "id": "18f5fe3f",
   "metadata": {},
   "source": [
    "# Anticipez les besoins en consommation électrique de bâtiments\n",
    "Nous travaillons pour la ville de Seattle. Pour atteindre son objectif de ville neutre en émissions de carbone en 2050, notre équipe s’intéresse de près aux émissions des bâtiments non destinés à l’habitation individuelle. Des relevés minutieux ont été effectués en 2015 et en 2016. Cependant, ces relevés sont coûteux à obtenir, et à partir de ceux déjà réalisés, nous voulons tenter de prédire les émissions de CO2 et la consommation totale d’énergie des bâtiments pour lesquels elles n’ont pas encore été mesurées. </br>\n",
    "Dans ce notebook, nous testerons différents modèles de prédiction des émissions de CO2 des bâtiments de la ville de Seattle."
   ]
  },
  {
   "cell_type": "markdown",
   "id": "92e37852",
   "metadata": {},
   "source": [
    "# Sommaire :\n",
    "- **Partie 1:** <a href=\"#C1\">Importation des données</a>\n",
    "- **Partie 2:** <a href=\"#C2\">Méthodes de Régression</a>\n",
    "    - <a href=\"#C3\">Régressions naïves</a>\n",
    "    - <a href=\"#C4\">Régression Linéaire</a>\n",
    "    - <a href=\"#C5\">Régression Ridge</a>\n",
    "    - <a href=\"#C6\">Régression Lasso</a>\n",
    "    - <a href=\"#C7\">Régression ElasticNet</a>\n",
    "- **Partie 3:** <a href=\"#C8\">Méthodes ensemblistes</a>\n",
    "    - <a href=\"#C9\">Bagging</a>\n",
    "    - <a href=\"#C10\">Random Forest</a>\n",
    "    - <a href=\"#C11\">Gradient Boosting</a>\n",
    "- **Partie 4:** <a href=\"#C12\">Méthodes non linéaires</a>\n",
    "    - <a href=\"#C13\"> SVM à noyau</a>\n",
    "    - <a href=\"#C14\">Régression ridge à noyau</a>\n",
    "- **Partie 5:** <a href=\"#C15\">Sélection du modèle de prédiction</a>"
   ]
  },
  {
   "cell_type": "markdown",
   "id": "43af135f",
   "metadata": {},
   "source": [
    "# <a name=\"C1\">Partie 1: Importation des données</a>"
   ]
  },
  {
   "cell_type": "code",
   "execution_count": 1,
   "id": "84a79216",
   "metadata": {},
   "outputs": [
    {
     "data": {
      "text/plain": [
       "{'divide': 'warn', 'over': 'warn', 'under': 'ignore', 'invalid': 'warn'}"
      ]
     },
     "execution_count": 1,
     "metadata": {},
     "output_type": "execute_result"
    }
   ],
   "source": [
    "import pandas as pd\n",
    "import numpy as np\n",
    "import matplotlib.pyplot as plt\n",
    "import seaborn as sns\n",
    "import timeit\n",
    "from sklearn.model_selection import train_test_split, GridSearchCV, cross_val_score\n",
    "from sklearn.preprocessing import StandardScaler\n",
    "from sklearn.feature_selection import SelectKBest, f_regression\n",
    "from sklearn import datasets\n",
    "from sklearn.linear_model import LinearRegression, RidgeCV, Ridge, LassoCV, Lasso, ElasticNetCV, ElasticNet\n",
    "from sklearn.metrics import mean_squared_error, r2_score, mean_squared_log_error\n",
    "from sklearn.dummy import DummyRegressor\n",
    "from sklearn import preprocessing\n",
    "from sklearn.ensemble import BaggingRegressor, RandomForestRegressor, GradientBoostingRegressor\n",
    "from sklearn.svm import SVR\n",
    "from sklearn.kernel_ridge import KernelRidge\n",
    "\n",
    "pd.set_option('display.max_columns', 100)\n",
    "np.seterr(invalid='ignore')"
   ]
  },
  {
   "cell_type": "code",
   "execution_count": 2,
   "id": "aad9ce89",
   "metadata": {},
   "outputs": [
    {
     "data": {
      "text/html": [
       "<div>\n",
       "<style scoped>\n",
       "    .dataframe tbody tr th:only-of-type {\n",
       "        vertical-align: middle;\n",
       "    }\n",
       "\n",
       "    .dataframe tbody tr th {\n",
       "        vertical-align: top;\n",
       "    }\n",
       "\n",
       "    .dataframe thead th {\n",
       "        text-align: right;\n",
       "    }\n",
       "</style>\n",
       "<table border=\"1\" class=\"dataframe\">\n",
       "  <thead>\n",
       "    <tr style=\"text-align: right;\">\n",
       "      <th></th>\n",
       "      <th>YearBuilt</th>\n",
       "      <th>NumberofBuildings</th>\n",
       "      <th>NumberofFloors</th>\n",
       "      <th>PropertyGFATotal</th>\n",
       "      <th>ENERGYSTARScore</th>\n",
       "      <th>SiteEnergyUse(kBtu)</th>\n",
       "      <th>GHGEmissions(MetricTonsCO2e)</th>\n",
       "      <th>BuildingAge</th>\n",
       "      <th>BuildingType_Multifamily HR (10+)</th>\n",
       "      <th>BuildingType_Multifamily LR (1-4)</th>\n",
       "      <th>BuildingType_Multifamily MR (5-9)</th>\n",
       "      <th>BuildingType_NonResidential</th>\n",
       "      <th>BuildingType_Nonresidential COS</th>\n",
       "      <th>BuildingType_SPS-District K-12</th>\n",
       "      <th>PrimaryPropertyType_Distribution Center</th>\n",
       "      <th>PrimaryPropertyType_Distribution Center\\n</th>\n",
       "      <th>PrimaryPropertyType_High-Rise Multifamily</th>\n",
       "      <th>PrimaryPropertyType_Hospital</th>\n",
       "      <th>PrimaryPropertyType_Hotel</th>\n",
       "      <th>PrimaryPropertyType_K-12 School</th>\n",
       "      <th>PrimaryPropertyType_Laboratory</th>\n",
       "      <th>PrimaryPropertyType_Large Office</th>\n",
       "      <th>PrimaryPropertyType_Low-Rise Multifamily</th>\n",
       "      <th>PrimaryPropertyType_Medical Office</th>\n",
       "      <th>PrimaryPropertyType_Mid-Rise Multifamily</th>\n",
       "      <th>PrimaryPropertyType_Mixed Use Property</th>\n",
       "      <th>PrimaryPropertyType_Non-Refrigerated Warehouse</th>\n",
       "      <th>PrimaryPropertyType_Office</th>\n",
       "      <th>PrimaryPropertyType_Other</th>\n",
       "      <th>PrimaryPropertyType_Refrigerated Warehouse</th>\n",
       "      <th>PrimaryPropertyType_Residence Hall</th>\n",
       "      <th>PrimaryPropertyType_Residence Hall/Dormitory</th>\n",
       "      <th>PrimaryPropertyType_Restaurant</th>\n",
       "      <th>PrimaryPropertyType_Restaurant\\n</th>\n",
       "      <th>PrimaryPropertyType_Retail Store</th>\n",
       "      <th>PrimaryPropertyType_Self-Storage Facility</th>\n",
       "      <th>PrimaryPropertyType_Self-Storage Facility\\n</th>\n",
       "      <th>PrimaryPropertyType_Senior Care Community</th>\n",
       "      <th>PrimaryPropertyType_Small- and Mid-Sized Office</th>\n",
       "      <th>PrimaryPropertyType_Supermarket / Grocery Store</th>\n",
       "      <th>PrimaryPropertyType_Supermarket/Grocery Store</th>\n",
       "      <th>PrimaryPropertyType_University</th>\n",
       "      <th>PrimaryPropertyType_Warehouse</th>\n",
       "      <th>PrimaryPropertyType_Worship Facility</th>\n",
       "      <th>Neighborhood_Ballard</th>\n",
       "      <th>Neighborhood_CENTRAL</th>\n",
       "      <th>Neighborhood_Central</th>\n",
       "      <th>Neighborhood_DELRIDGE</th>\n",
       "      <th>Neighborhood_DELRIDGE NEIGHBORHOODS</th>\n",
       "      <th>Neighborhood_DOWNTOWN</th>\n",
       "      <th>...</th>\n",
       "      <th>SecondLargestPropertyUseType_Repair Services (Vehicle</th>\n",
       "      <th>SecondLargestPropertyUseType_Residence Hall/Dormitory</th>\n",
       "      <th>SecondLargestPropertyUseType_Restaurant</th>\n",
       "      <th>SecondLargestPropertyUseType_Retail Store</th>\n",
       "      <th>SecondLargestPropertyUseType_Self-Storage Facility</th>\n",
       "      <th>SecondLargestPropertyUseType_Senior Care Community</th>\n",
       "      <th>SecondLargestPropertyUseType_Shoe</th>\n",
       "      <th>SecondLargestPropertyUseType_Social/Meeting Hall</th>\n",
       "      <th>SecondLargestPropertyUseType_Strip Mall</th>\n",
       "      <th>SecondLargestPropertyUseType_Supermarket/Grocery Store</th>\n",
       "      <th>SecondLargestPropertyUseType_Swimming Pool</th>\n",
       "      <th>SecondLargestPropertyUseType_Worship Facility</th>\n",
       "      <th>ThirdLargestPropertyUseType_Financial Office</th>\n",
       "      <th>ThirdLargestPropertyUseType_Locksmith</th>\n",
       "      <th>ThirdLargestPropertyUseType_Manufacturing/Industrial Plant</th>\n",
       "      <th>ThirdLargestPropertyUseType_Medical Office</th>\n",
       "      <th>ThirdLargestPropertyUseType_Movie Theater</th>\n",
       "      <th>ThirdLargestPropertyUseType_Multifamily Housing</th>\n",
       "      <th>ThirdLargestPropertyUseType_Museum</th>\n",
       "      <th>ThirdLargestPropertyUseType_NoThirdUse</th>\n",
       "      <th>ThirdLargestPropertyUseType_Non-Refrigerated Warehouse</th>\n",
       "      <th>ThirdLargestPropertyUseType_Office</th>\n",
       "      <th>ThirdLargestPropertyUseType_Other</th>\n",
       "      <th>ThirdLargestPropertyUseType_Other - Education</th>\n",
       "      <th>ThirdLargestPropertyUseType_Other - Entertainment/Public Assembly</th>\n",
       "      <th>ThirdLargestPropertyUseType_Other - Lodging/Residential</th>\n",
       "      <th>ThirdLargestPropertyUseType_Other - Mall</th>\n",
       "      <th>ThirdLargestPropertyUseType_Other - Public Services</th>\n",
       "      <th>ThirdLargestPropertyUseType_Other - Recreation</th>\n",
       "      <th>ThirdLargestPropertyUseType_Other - Restaurant/Bar</th>\n",
       "      <th>ThirdLargestPropertyUseType_Other - Services</th>\n",
       "      <th>ThirdLargestPropertyUseType_Other - Technology/Science</th>\n",
       "      <th>ThirdLargestPropertyUseType_Outpatient Rehabilitation/Physical Therapy</th>\n",
       "      <th>ThirdLargestPropertyUseType_Parking</th>\n",
       "      <th>ThirdLargestPropertyUseType_Personal Services (Health/Beauty</th>\n",
       "      <th>ThirdLargestPropertyUseType_Pre-school/Daycare</th>\n",
       "      <th>ThirdLargestPropertyUseType_Refrigerated Warehouse</th>\n",
       "      <th>ThirdLargestPropertyUseType_Repair Services (Vehicle</th>\n",
       "      <th>ThirdLargestPropertyUseType_Residence Hall/Dormitory</th>\n",
       "      <th>ThirdLargestPropertyUseType_Restaurant</th>\n",
       "      <th>ThirdLargestPropertyUseType_Retail Store</th>\n",
       "      <th>ThirdLargestPropertyUseType_Self-Storage Facility</th>\n",
       "      <th>ThirdLargestPropertyUseType_Senior Care Community</th>\n",
       "      <th>ThirdLargestPropertyUseType_Shoe</th>\n",
       "      <th>ThirdLargestPropertyUseType_Social/Meeting Hall</th>\n",
       "      <th>ThirdLargestPropertyUseType_Supermarket/Grocery Store</th>\n",
       "      <th>ThirdLargestPropertyUseType_Swimming Pool</th>\n",
       "      <th>ThirdLargestPropertyUseType_Vocational School</th>\n",
       "      <th>ThirdLargestPropertyUseType_Worship Facility</th>\n",
       "      <th>ThirdLargestPropertyUseType_etc)</th>\n",
       "    </tr>\n",
       "  </thead>\n",
       "  <tbody>\n",
       "    <tr>\n",
       "      <th>0</th>\n",
       "      <td>1927</td>\n",
       "      <td>1</td>\n",
       "      <td>1</td>\n",
       "      <td>88434</td>\n",
       "      <td>65.0</td>\n",
       "      <td>6981428.0</td>\n",
       "      <td>249.43</td>\n",
       "      <td>88</td>\n",
       "      <td>0</td>\n",
       "      <td>0</td>\n",
       "      <td>0</td>\n",
       "      <td>1</td>\n",
       "      <td>0</td>\n",
       "      <td>0</td>\n",
       "      <td>0</td>\n",
       "      <td>0</td>\n",
       "      <td>0</td>\n",
       "      <td>0</td>\n",
       "      <td>1</td>\n",
       "      <td>0</td>\n",
       "      <td>0</td>\n",
       "      <td>0</td>\n",
       "      <td>0</td>\n",
       "      <td>0</td>\n",
       "      <td>0</td>\n",
       "      <td>0</td>\n",
       "      <td>0</td>\n",
       "      <td>0</td>\n",
       "      <td>0</td>\n",
       "      <td>0</td>\n",
       "      <td>0</td>\n",
       "      <td>0</td>\n",
       "      <td>0</td>\n",
       "      <td>0</td>\n",
       "      <td>0</td>\n",
       "      <td>0</td>\n",
       "      <td>0</td>\n",
       "      <td>0</td>\n",
       "      <td>0</td>\n",
       "      <td>0</td>\n",
       "      <td>0</td>\n",
       "      <td>0</td>\n",
       "      <td>0</td>\n",
       "      <td>0</td>\n",
       "      <td>0</td>\n",
       "      <td>0</td>\n",
       "      <td>0</td>\n",
       "      <td>0</td>\n",
       "      <td>0</td>\n",
       "      <td>1</td>\n",
       "      <td>...</td>\n",
       "      <td>0</td>\n",
       "      <td>0</td>\n",
       "      <td>0</td>\n",
       "      <td>0</td>\n",
       "      <td>0</td>\n",
       "      <td>0</td>\n",
       "      <td>0</td>\n",
       "      <td>0</td>\n",
       "      <td>0</td>\n",
       "      <td>0</td>\n",
       "      <td>0</td>\n",
       "      <td>0</td>\n",
       "      <td>0</td>\n",
       "      <td>0</td>\n",
       "      <td>0</td>\n",
       "      <td>0</td>\n",
       "      <td>0</td>\n",
       "      <td>0</td>\n",
       "      <td>0</td>\n",
       "      <td>1</td>\n",
       "      <td>0</td>\n",
       "      <td>0</td>\n",
       "      <td>0</td>\n",
       "      <td>0</td>\n",
       "      <td>0</td>\n",
       "      <td>0</td>\n",
       "      <td>0</td>\n",
       "      <td>0</td>\n",
       "      <td>0</td>\n",
       "      <td>0</td>\n",
       "      <td>0</td>\n",
       "      <td>0</td>\n",
       "      <td>0</td>\n",
       "      <td>0</td>\n",
       "      <td>0</td>\n",
       "      <td>0</td>\n",
       "      <td>0</td>\n",
       "      <td>0</td>\n",
       "      <td>0</td>\n",
       "      <td>0</td>\n",
       "      <td>0</td>\n",
       "      <td>0</td>\n",
       "      <td>0</td>\n",
       "      <td>0</td>\n",
       "      <td>0</td>\n",
       "      <td>0</td>\n",
       "      <td>0</td>\n",
       "      <td>0</td>\n",
       "      <td>0</td>\n",
       "      <td>0</td>\n",
       "    </tr>\n",
       "    <tr>\n",
       "      <th>1</th>\n",
       "      <td>1996</td>\n",
       "      <td>1</td>\n",
       "      <td>1</td>\n",
       "      <td>103566</td>\n",
       "      <td>51.0</td>\n",
       "      <td>8354235.0</td>\n",
       "      <td>263.51</td>\n",
       "      <td>19</td>\n",
       "      <td>0</td>\n",
       "      <td>0</td>\n",
       "      <td>0</td>\n",
       "      <td>1</td>\n",
       "      <td>0</td>\n",
       "      <td>0</td>\n",
       "      <td>0</td>\n",
       "      <td>0</td>\n",
       "      <td>0</td>\n",
       "      <td>0</td>\n",
       "      <td>1</td>\n",
       "      <td>0</td>\n",
       "      <td>0</td>\n",
       "      <td>0</td>\n",
       "      <td>0</td>\n",
       "      <td>0</td>\n",
       "      <td>0</td>\n",
       "      <td>0</td>\n",
       "      <td>0</td>\n",
       "      <td>0</td>\n",
       "      <td>0</td>\n",
       "      <td>0</td>\n",
       "      <td>0</td>\n",
       "      <td>0</td>\n",
       "      <td>0</td>\n",
       "      <td>0</td>\n",
       "      <td>0</td>\n",
       "      <td>0</td>\n",
       "      <td>0</td>\n",
       "      <td>0</td>\n",
       "      <td>0</td>\n",
       "      <td>0</td>\n",
       "      <td>0</td>\n",
       "      <td>0</td>\n",
       "      <td>0</td>\n",
       "      <td>0</td>\n",
       "      <td>0</td>\n",
       "      <td>0</td>\n",
       "      <td>0</td>\n",
       "      <td>0</td>\n",
       "      <td>0</td>\n",
       "      <td>1</td>\n",
       "      <td>...</td>\n",
       "      <td>0</td>\n",
       "      <td>0</td>\n",
       "      <td>0</td>\n",
       "      <td>0</td>\n",
       "      <td>0</td>\n",
       "      <td>0</td>\n",
       "      <td>0</td>\n",
       "      <td>0</td>\n",
       "      <td>0</td>\n",
       "      <td>0</td>\n",
       "      <td>0</td>\n",
       "      <td>0</td>\n",
       "      <td>0</td>\n",
       "      <td>0</td>\n",
       "      <td>0</td>\n",
       "      <td>0</td>\n",
       "      <td>0</td>\n",
       "      <td>0</td>\n",
       "      <td>0</td>\n",
       "      <td>0</td>\n",
       "      <td>0</td>\n",
       "      <td>0</td>\n",
       "      <td>0</td>\n",
       "      <td>0</td>\n",
       "      <td>0</td>\n",
       "      <td>0</td>\n",
       "      <td>0</td>\n",
       "      <td>0</td>\n",
       "      <td>0</td>\n",
       "      <td>0</td>\n",
       "      <td>0</td>\n",
       "      <td>0</td>\n",
       "      <td>0</td>\n",
       "      <td>0</td>\n",
       "      <td>0</td>\n",
       "      <td>0</td>\n",
       "      <td>0</td>\n",
       "      <td>0</td>\n",
       "      <td>0</td>\n",
       "      <td>1</td>\n",
       "      <td>0</td>\n",
       "      <td>0</td>\n",
       "      <td>0</td>\n",
       "      <td>0</td>\n",
       "      <td>0</td>\n",
       "      <td>0</td>\n",
       "      <td>0</td>\n",
       "      <td>0</td>\n",
       "      <td>0</td>\n",
       "      <td>0</td>\n",
       "    </tr>\n",
       "    <tr>\n",
       "      <th>2</th>\n",
       "      <td>1969</td>\n",
       "      <td>1</td>\n",
       "      <td>1</td>\n",
       "      <td>961990</td>\n",
       "      <td>18.0</td>\n",
       "      <td>73130656.0</td>\n",
       "      <td>2061.48</td>\n",
       "      <td>46</td>\n",
       "      <td>0</td>\n",
       "      <td>0</td>\n",
       "      <td>0</td>\n",
       "      <td>1</td>\n",
       "      <td>0</td>\n",
       "      <td>0</td>\n",
       "      <td>0</td>\n",
       "      <td>0</td>\n",
       "      <td>0</td>\n",
       "      <td>0</td>\n",
       "      <td>1</td>\n",
       "      <td>0</td>\n",
       "      <td>0</td>\n",
       "      <td>0</td>\n",
       "      <td>0</td>\n",
       "      <td>0</td>\n",
       "      <td>0</td>\n",
       "      <td>0</td>\n",
       "      <td>0</td>\n",
       "      <td>0</td>\n",
       "      <td>0</td>\n",
       "      <td>0</td>\n",
       "      <td>0</td>\n",
       "      <td>0</td>\n",
       "      <td>0</td>\n",
       "      <td>0</td>\n",
       "      <td>0</td>\n",
       "      <td>0</td>\n",
       "      <td>0</td>\n",
       "      <td>0</td>\n",
       "      <td>0</td>\n",
       "      <td>0</td>\n",
       "      <td>0</td>\n",
       "      <td>0</td>\n",
       "      <td>0</td>\n",
       "      <td>0</td>\n",
       "      <td>0</td>\n",
       "      <td>0</td>\n",
       "      <td>0</td>\n",
       "      <td>0</td>\n",
       "      <td>0</td>\n",
       "      <td>1</td>\n",
       "      <td>...</td>\n",
       "      <td>0</td>\n",
       "      <td>0</td>\n",
       "      <td>0</td>\n",
       "      <td>0</td>\n",
       "      <td>0</td>\n",
       "      <td>0</td>\n",
       "      <td>0</td>\n",
       "      <td>0</td>\n",
       "      <td>0</td>\n",
       "      <td>0</td>\n",
       "      <td>0</td>\n",
       "      <td>0</td>\n",
       "      <td>0</td>\n",
       "      <td>0</td>\n",
       "      <td>0</td>\n",
       "      <td>0</td>\n",
       "      <td>0</td>\n",
       "      <td>0</td>\n",
       "      <td>0</td>\n",
       "      <td>0</td>\n",
       "      <td>0</td>\n",
       "      <td>0</td>\n",
       "      <td>0</td>\n",
       "      <td>0</td>\n",
       "      <td>0</td>\n",
       "      <td>0</td>\n",
       "      <td>0</td>\n",
       "      <td>0</td>\n",
       "      <td>0</td>\n",
       "      <td>0</td>\n",
       "      <td>0</td>\n",
       "      <td>0</td>\n",
       "      <td>0</td>\n",
       "      <td>0</td>\n",
       "      <td>0</td>\n",
       "      <td>0</td>\n",
       "      <td>0</td>\n",
       "      <td>0</td>\n",
       "      <td>0</td>\n",
       "      <td>0</td>\n",
       "      <td>0</td>\n",
       "      <td>0</td>\n",
       "      <td>0</td>\n",
       "      <td>0</td>\n",
       "      <td>0</td>\n",
       "      <td>0</td>\n",
       "      <td>1</td>\n",
       "      <td>0</td>\n",
       "      <td>0</td>\n",
       "      <td>0</td>\n",
       "    </tr>\n",
       "    <tr>\n",
       "      <th>3</th>\n",
       "      <td>1980</td>\n",
       "      <td>1</td>\n",
       "      <td>1</td>\n",
       "      <td>119890</td>\n",
       "      <td>67.0</td>\n",
       "      <td>14829099.0</td>\n",
       "      <td>507.70</td>\n",
       "      <td>35</td>\n",
       "      <td>0</td>\n",
       "      <td>0</td>\n",
       "      <td>0</td>\n",
       "      <td>1</td>\n",
       "      <td>0</td>\n",
       "      <td>0</td>\n",
       "      <td>0</td>\n",
       "      <td>0</td>\n",
       "      <td>0</td>\n",
       "      <td>0</td>\n",
       "      <td>1</td>\n",
       "      <td>0</td>\n",
       "      <td>0</td>\n",
       "      <td>0</td>\n",
       "      <td>0</td>\n",
       "      <td>0</td>\n",
       "      <td>0</td>\n",
       "      <td>0</td>\n",
       "      <td>0</td>\n",
       "      <td>0</td>\n",
       "      <td>0</td>\n",
       "      <td>0</td>\n",
       "      <td>0</td>\n",
       "      <td>0</td>\n",
       "      <td>0</td>\n",
       "      <td>0</td>\n",
       "      <td>0</td>\n",
       "      <td>0</td>\n",
       "      <td>0</td>\n",
       "      <td>0</td>\n",
       "      <td>0</td>\n",
       "      <td>0</td>\n",
       "      <td>0</td>\n",
       "      <td>0</td>\n",
       "      <td>0</td>\n",
       "      <td>0</td>\n",
       "      <td>0</td>\n",
       "      <td>0</td>\n",
       "      <td>0</td>\n",
       "      <td>0</td>\n",
       "      <td>0</td>\n",
       "      <td>1</td>\n",
       "      <td>...</td>\n",
       "      <td>0</td>\n",
       "      <td>0</td>\n",
       "      <td>0</td>\n",
       "      <td>0</td>\n",
       "      <td>0</td>\n",
       "      <td>0</td>\n",
       "      <td>0</td>\n",
       "      <td>0</td>\n",
       "      <td>0</td>\n",
       "      <td>0</td>\n",
       "      <td>0</td>\n",
       "      <td>0</td>\n",
       "      <td>0</td>\n",
       "      <td>0</td>\n",
       "      <td>0</td>\n",
       "      <td>0</td>\n",
       "      <td>0</td>\n",
       "      <td>0</td>\n",
       "      <td>0</td>\n",
       "      <td>0</td>\n",
       "      <td>0</td>\n",
       "      <td>0</td>\n",
       "      <td>0</td>\n",
       "      <td>0</td>\n",
       "      <td>0</td>\n",
       "      <td>0</td>\n",
       "      <td>0</td>\n",
       "      <td>0</td>\n",
       "      <td>0</td>\n",
       "      <td>0</td>\n",
       "      <td>0</td>\n",
       "      <td>0</td>\n",
       "      <td>0</td>\n",
       "      <td>0</td>\n",
       "      <td>0</td>\n",
       "      <td>0</td>\n",
       "      <td>0</td>\n",
       "      <td>0</td>\n",
       "      <td>0</td>\n",
       "      <td>0</td>\n",
       "      <td>0</td>\n",
       "      <td>0</td>\n",
       "      <td>0</td>\n",
       "      <td>0</td>\n",
       "      <td>0</td>\n",
       "      <td>0</td>\n",
       "      <td>1</td>\n",
       "      <td>0</td>\n",
       "      <td>0</td>\n",
       "      <td>0</td>\n",
       "    </tr>\n",
       "    <tr>\n",
       "      <th>4</th>\n",
       "      <td>1999</td>\n",
       "      <td>1</td>\n",
       "      <td>1</td>\n",
       "      <td>97288</td>\n",
       "      <td>59.0</td>\n",
       "      <td>12051984.0</td>\n",
       "      <td>304.62</td>\n",
       "      <td>16</td>\n",
       "      <td>0</td>\n",
       "      <td>0</td>\n",
       "      <td>0</td>\n",
       "      <td>0</td>\n",
       "      <td>1</td>\n",
       "      <td>0</td>\n",
       "      <td>0</td>\n",
       "      <td>0</td>\n",
       "      <td>0</td>\n",
       "      <td>0</td>\n",
       "      <td>0</td>\n",
       "      <td>0</td>\n",
       "      <td>0</td>\n",
       "      <td>0</td>\n",
       "      <td>0</td>\n",
       "      <td>0</td>\n",
       "      <td>0</td>\n",
       "      <td>0</td>\n",
       "      <td>0</td>\n",
       "      <td>0</td>\n",
       "      <td>1</td>\n",
       "      <td>0</td>\n",
       "      <td>0</td>\n",
       "      <td>0</td>\n",
       "      <td>0</td>\n",
       "      <td>0</td>\n",
       "      <td>0</td>\n",
       "      <td>0</td>\n",
       "      <td>0</td>\n",
       "      <td>0</td>\n",
       "      <td>0</td>\n",
       "      <td>0</td>\n",
       "      <td>0</td>\n",
       "      <td>0</td>\n",
       "      <td>0</td>\n",
       "      <td>0</td>\n",
       "      <td>0</td>\n",
       "      <td>0</td>\n",
       "      <td>0</td>\n",
       "      <td>0</td>\n",
       "      <td>0</td>\n",
       "      <td>1</td>\n",
       "      <td>...</td>\n",
       "      <td>0</td>\n",
       "      <td>0</td>\n",
       "      <td>0</td>\n",
       "      <td>0</td>\n",
       "      <td>0</td>\n",
       "      <td>0</td>\n",
       "      <td>0</td>\n",
       "      <td>0</td>\n",
       "      <td>0</td>\n",
       "      <td>0</td>\n",
       "      <td>0</td>\n",
       "      <td>0</td>\n",
       "      <td>0</td>\n",
       "      <td>0</td>\n",
       "      <td>0</td>\n",
       "      <td>0</td>\n",
       "      <td>0</td>\n",
       "      <td>0</td>\n",
       "      <td>0</td>\n",
       "      <td>1</td>\n",
       "      <td>0</td>\n",
       "      <td>0</td>\n",
       "      <td>0</td>\n",
       "      <td>0</td>\n",
       "      <td>0</td>\n",
       "      <td>0</td>\n",
       "      <td>0</td>\n",
       "      <td>0</td>\n",
       "      <td>0</td>\n",
       "      <td>0</td>\n",
       "      <td>0</td>\n",
       "      <td>0</td>\n",
       "      <td>0</td>\n",
       "      <td>0</td>\n",
       "      <td>0</td>\n",
       "      <td>0</td>\n",
       "      <td>0</td>\n",
       "      <td>0</td>\n",
       "      <td>0</td>\n",
       "      <td>0</td>\n",
       "      <td>0</td>\n",
       "      <td>0</td>\n",
       "      <td>0</td>\n",
       "      <td>0</td>\n",
       "      <td>0</td>\n",
       "      <td>0</td>\n",
       "      <td>0</td>\n",
       "      <td>0</td>\n",
       "      <td>0</td>\n",
       "      <td>0</td>\n",
       "    </tr>\n",
       "  </tbody>\n",
       "</table>\n",
       "<p>5 rows × 207 columns</p>\n",
       "</div>"
      ],
      "text/plain": [
       "   YearBuilt  NumberofBuildings  NumberofFloors  PropertyGFATotal  \\\n",
       "0       1927                  1               1             88434   \n",
       "1       1996                  1               1            103566   \n",
       "2       1969                  1               1            961990   \n",
       "3       1980                  1               1            119890   \n",
       "4       1999                  1               1             97288   \n",
       "\n",
       "   ENERGYSTARScore  SiteEnergyUse(kBtu)  GHGEmissions(MetricTonsCO2e)  \\\n",
       "0             65.0            6981428.0                        249.43   \n",
       "1             51.0            8354235.0                        263.51   \n",
       "2             18.0           73130656.0                       2061.48   \n",
       "3             67.0           14829099.0                        507.70   \n",
       "4             59.0           12051984.0                        304.62   \n",
       "\n",
       "   BuildingAge  BuildingType_Multifamily HR (10+)  \\\n",
       "0           88                                  0   \n",
       "1           19                                  0   \n",
       "2           46                                  0   \n",
       "3           35                                  0   \n",
       "4           16                                  0   \n",
       "\n",
       "   BuildingType_Multifamily LR (1-4)  BuildingType_Multifamily MR (5-9)  \\\n",
       "0                                  0                                  0   \n",
       "1                                  0                                  0   \n",
       "2                                  0                                  0   \n",
       "3                                  0                                  0   \n",
       "4                                  0                                  0   \n",
       "\n",
       "   BuildingType_NonResidential  BuildingType_Nonresidential COS  \\\n",
       "0                            1                                0   \n",
       "1                            1                                0   \n",
       "2                            1                                0   \n",
       "3                            1                                0   \n",
       "4                            0                                1   \n",
       "\n",
       "   BuildingType_SPS-District K-12  PrimaryPropertyType_Distribution Center  \\\n",
       "0                               0                                        0   \n",
       "1                               0                                        0   \n",
       "2                               0                                        0   \n",
       "3                               0                                        0   \n",
       "4                               0                                        0   \n",
       "\n",
       "   PrimaryPropertyType_Distribution Center\\n  \\\n",
       "0                                          0   \n",
       "1                                          0   \n",
       "2                                          0   \n",
       "3                                          0   \n",
       "4                                          0   \n",
       "\n",
       "   PrimaryPropertyType_High-Rise Multifamily  PrimaryPropertyType_Hospital  \\\n",
       "0                                          0                             0   \n",
       "1                                          0                             0   \n",
       "2                                          0                             0   \n",
       "3                                          0                             0   \n",
       "4                                          0                             0   \n",
       "\n",
       "   PrimaryPropertyType_Hotel  PrimaryPropertyType_K-12 School  \\\n",
       "0                          1                                0   \n",
       "1                          1                                0   \n",
       "2                          1                                0   \n",
       "3                          1                                0   \n",
       "4                          0                                0   \n",
       "\n",
       "   PrimaryPropertyType_Laboratory  PrimaryPropertyType_Large Office  \\\n",
       "0                               0                                 0   \n",
       "1                               0                                 0   \n",
       "2                               0                                 0   \n",
       "3                               0                                 0   \n",
       "4                               0                                 0   \n",
       "\n",
       "   PrimaryPropertyType_Low-Rise Multifamily  \\\n",
       "0                                         0   \n",
       "1                                         0   \n",
       "2                                         0   \n",
       "3                                         0   \n",
       "4                                         0   \n",
       "\n",
       "   PrimaryPropertyType_Medical Office  \\\n",
       "0                                   0   \n",
       "1                                   0   \n",
       "2                                   0   \n",
       "3                                   0   \n",
       "4                                   0   \n",
       "\n",
       "   PrimaryPropertyType_Mid-Rise Multifamily  \\\n",
       "0                                         0   \n",
       "1                                         0   \n",
       "2                                         0   \n",
       "3                                         0   \n",
       "4                                         0   \n",
       "\n",
       "   PrimaryPropertyType_Mixed Use Property  \\\n",
       "0                                       0   \n",
       "1                                       0   \n",
       "2                                       0   \n",
       "3                                       0   \n",
       "4                                       0   \n",
       "\n",
       "   PrimaryPropertyType_Non-Refrigerated Warehouse  PrimaryPropertyType_Office  \\\n",
       "0                                               0                           0   \n",
       "1                                               0                           0   \n",
       "2                                               0                           0   \n",
       "3                                               0                           0   \n",
       "4                                               0                           0   \n",
       "\n",
       "   PrimaryPropertyType_Other  PrimaryPropertyType_Refrigerated Warehouse  \\\n",
       "0                          0                                           0   \n",
       "1                          0                                           0   \n",
       "2                          0                                           0   \n",
       "3                          0                                           0   \n",
       "4                          1                                           0   \n",
       "\n",
       "   PrimaryPropertyType_Residence Hall  \\\n",
       "0                                   0   \n",
       "1                                   0   \n",
       "2                                   0   \n",
       "3                                   0   \n",
       "4                                   0   \n",
       "\n",
       "   PrimaryPropertyType_Residence Hall/Dormitory  \\\n",
       "0                                             0   \n",
       "1                                             0   \n",
       "2                                             0   \n",
       "3                                             0   \n",
       "4                                             0   \n",
       "\n",
       "   PrimaryPropertyType_Restaurant  PrimaryPropertyType_Restaurant\\n  \\\n",
       "0                               0                                 0   \n",
       "1                               0                                 0   \n",
       "2                               0                                 0   \n",
       "3                               0                                 0   \n",
       "4                               0                                 0   \n",
       "\n",
       "   PrimaryPropertyType_Retail Store  \\\n",
       "0                                 0   \n",
       "1                                 0   \n",
       "2                                 0   \n",
       "3                                 0   \n",
       "4                                 0   \n",
       "\n",
       "   PrimaryPropertyType_Self-Storage Facility  \\\n",
       "0                                          0   \n",
       "1                                          0   \n",
       "2                                          0   \n",
       "3                                          0   \n",
       "4                                          0   \n",
       "\n",
       "   PrimaryPropertyType_Self-Storage Facility\\n  \\\n",
       "0                                            0   \n",
       "1                                            0   \n",
       "2                                            0   \n",
       "3                                            0   \n",
       "4                                            0   \n",
       "\n",
       "   PrimaryPropertyType_Senior Care Community  \\\n",
       "0                                          0   \n",
       "1                                          0   \n",
       "2                                          0   \n",
       "3                                          0   \n",
       "4                                          0   \n",
       "\n",
       "   PrimaryPropertyType_Small- and Mid-Sized Office  \\\n",
       "0                                                0   \n",
       "1                                                0   \n",
       "2                                                0   \n",
       "3                                                0   \n",
       "4                                                0   \n",
       "\n",
       "   PrimaryPropertyType_Supermarket / Grocery Store  \\\n",
       "0                                                0   \n",
       "1                                                0   \n",
       "2                                                0   \n",
       "3                                                0   \n",
       "4                                                0   \n",
       "\n",
       "   PrimaryPropertyType_Supermarket/Grocery Store  \\\n",
       "0                                              0   \n",
       "1                                              0   \n",
       "2                                              0   \n",
       "3                                              0   \n",
       "4                                              0   \n",
       "\n",
       "   PrimaryPropertyType_University  PrimaryPropertyType_Warehouse  \\\n",
       "0                               0                              0   \n",
       "1                               0                              0   \n",
       "2                               0                              0   \n",
       "3                               0                              0   \n",
       "4                               0                              0   \n",
       "\n",
       "   PrimaryPropertyType_Worship Facility  Neighborhood_Ballard  \\\n",
       "0                                     0                     0   \n",
       "1                                     0                     0   \n",
       "2                                     0                     0   \n",
       "3                                     0                     0   \n",
       "4                                     0                     0   \n",
       "\n",
       "   Neighborhood_CENTRAL  Neighborhood_Central  Neighborhood_DELRIDGE  \\\n",
       "0                     0                     0                      0   \n",
       "1                     0                     0                      0   \n",
       "2                     0                     0                      0   \n",
       "3                     0                     0                      0   \n",
       "4                     0                     0                      0   \n",
       "\n",
       "   Neighborhood_DELRIDGE NEIGHBORHOODS  Neighborhood_DOWNTOWN  ...  \\\n",
       "0                                    0                      1  ...   \n",
       "1                                    0                      1  ...   \n",
       "2                                    0                      1  ...   \n",
       "3                                    0                      1  ...   \n",
       "4                                    0                      1  ...   \n",
       "\n",
       "   SecondLargestPropertyUseType_Repair Services (Vehicle  \\\n",
       "0                                                  0       \n",
       "1                                                  0       \n",
       "2                                                  0       \n",
       "3                                                  0       \n",
       "4                                                  0       \n",
       "\n",
       "   SecondLargestPropertyUseType_Residence Hall/Dormitory  \\\n",
       "0                                                  0       \n",
       "1                                                  0       \n",
       "2                                                  0       \n",
       "3                                                  0       \n",
       "4                                                  0       \n",
       "\n",
       "   SecondLargestPropertyUseType_Restaurant  \\\n",
       "0                                        0   \n",
       "1                                        0   \n",
       "2                                        0   \n",
       "3                                        0   \n",
       "4                                        0   \n",
       "\n",
       "   SecondLargestPropertyUseType_Retail Store  \\\n",
       "0                                          0   \n",
       "1                                          0   \n",
       "2                                          0   \n",
       "3                                          0   \n",
       "4                                          0   \n",
       "\n",
       "   SecondLargestPropertyUseType_Self-Storage Facility  \\\n",
       "0                                                  0    \n",
       "1                                                  0    \n",
       "2                                                  0    \n",
       "3                                                  0    \n",
       "4                                                  0    \n",
       "\n",
       "   SecondLargestPropertyUseType_Senior Care Community  \\\n",
       "0                                                  0    \n",
       "1                                                  0    \n",
       "2                                                  0    \n",
       "3                                                  0    \n",
       "4                                                  0    \n",
       "\n",
       "   SecondLargestPropertyUseType_Shoe  \\\n",
       "0                                  0   \n",
       "1                                  0   \n",
       "2                                  0   \n",
       "3                                  0   \n",
       "4                                  0   \n",
       "\n",
       "   SecondLargestPropertyUseType_Social/Meeting Hall  \\\n",
       "0                                                 0   \n",
       "1                                                 0   \n",
       "2                                                 0   \n",
       "3                                                 0   \n",
       "4                                                 0   \n",
       "\n",
       "   SecondLargestPropertyUseType_Strip Mall  \\\n",
       "0                                        0   \n",
       "1                                        0   \n",
       "2                                        0   \n",
       "3                                        0   \n",
       "4                                        0   \n",
       "\n",
       "   SecondLargestPropertyUseType_Supermarket/Grocery Store  \\\n",
       "0                                                  0        \n",
       "1                                                  0        \n",
       "2                                                  0        \n",
       "3                                                  0        \n",
       "4                                                  0        \n",
       "\n",
       "   SecondLargestPropertyUseType_Swimming Pool  \\\n",
       "0                                           0   \n",
       "1                                           0   \n",
       "2                                           0   \n",
       "3                                           0   \n",
       "4                                           0   \n",
       "\n",
       "   SecondLargestPropertyUseType_Worship Facility  \\\n",
       "0                                              0   \n",
       "1                                              0   \n",
       "2                                              0   \n",
       "3                                              0   \n",
       "4                                              0   \n",
       "\n",
       "   ThirdLargestPropertyUseType_Financial Office  \\\n",
       "0                                             0   \n",
       "1                                             0   \n",
       "2                                             0   \n",
       "3                                             0   \n",
       "4                                             0   \n",
       "\n",
       "   ThirdLargestPropertyUseType_Locksmith  \\\n",
       "0                                      0   \n",
       "1                                      0   \n",
       "2                                      0   \n",
       "3                                      0   \n",
       "4                                      0   \n",
       "\n",
       "   ThirdLargestPropertyUseType_Manufacturing/Industrial Plant  \\\n",
       "0                                                  0            \n",
       "1                                                  0            \n",
       "2                                                  0            \n",
       "3                                                  0            \n",
       "4                                                  0            \n",
       "\n",
       "   ThirdLargestPropertyUseType_Medical Office  \\\n",
       "0                                           0   \n",
       "1                                           0   \n",
       "2                                           0   \n",
       "3                                           0   \n",
       "4                                           0   \n",
       "\n",
       "   ThirdLargestPropertyUseType_Movie Theater  \\\n",
       "0                                          0   \n",
       "1                                          0   \n",
       "2                                          0   \n",
       "3                                          0   \n",
       "4                                          0   \n",
       "\n",
       "   ThirdLargestPropertyUseType_Multifamily Housing  \\\n",
       "0                                                0   \n",
       "1                                                0   \n",
       "2                                                0   \n",
       "3                                                0   \n",
       "4                                                0   \n",
       "\n",
       "   ThirdLargestPropertyUseType_Museum  ThirdLargestPropertyUseType_NoThirdUse  \\\n",
       "0                                   0                                       1   \n",
       "1                                   0                                       0   \n",
       "2                                   0                                       0   \n",
       "3                                   0                                       0   \n",
       "4                                   0                                       1   \n",
       "\n",
       "   ThirdLargestPropertyUseType_Non-Refrigerated Warehouse  \\\n",
       "0                                                  0        \n",
       "1                                                  0        \n",
       "2                                                  0        \n",
       "3                                                  0        \n",
       "4                                                  0        \n",
       "\n",
       "   ThirdLargestPropertyUseType_Office  ThirdLargestPropertyUseType_Other  \\\n",
       "0                                   0                                  0   \n",
       "1                                   0                                  0   \n",
       "2                                   0                                  0   \n",
       "3                                   0                                  0   \n",
       "4                                   0                                  0   \n",
       "\n",
       "   ThirdLargestPropertyUseType_Other - Education  \\\n",
       "0                                              0   \n",
       "1                                              0   \n",
       "2                                              0   \n",
       "3                                              0   \n",
       "4                                              0   \n",
       "\n",
       "   ThirdLargestPropertyUseType_Other - Entertainment/Public Assembly  \\\n",
       "0                                                  0                   \n",
       "1                                                  0                   \n",
       "2                                                  0                   \n",
       "3                                                  0                   \n",
       "4                                                  0                   \n",
       "\n",
       "   ThirdLargestPropertyUseType_Other - Lodging/Residential  \\\n",
       "0                                                  0         \n",
       "1                                                  0         \n",
       "2                                                  0         \n",
       "3                                                  0         \n",
       "4                                                  0         \n",
       "\n",
       "   ThirdLargestPropertyUseType_Other - Mall  \\\n",
       "0                                         0   \n",
       "1                                         0   \n",
       "2                                         0   \n",
       "3                                         0   \n",
       "4                                         0   \n",
       "\n",
       "   ThirdLargestPropertyUseType_Other - Public Services  \\\n",
       "0                                                  0     \n",
       "1                                                  0     \n",
       "2                                                  0     \n",
       "3                                                  0     \n",
       "4                                                  0     \n",
       "\n",
       "   ThirdLargestPropertyUseType_Other - Recreation  \\\n",
       "0                                               0   \n",
       "1                                               0   \n",
       "2                                               0   \n",
       "3                                               0   \n",
       "4                                               0   \n",
       "\n",
       "   ThirdLargestPropertyUseType_Other - Restaurant/Bar  \\\n",
       "0                                                  0    \n",
       "1                                                  0    \n",
       "2                                                  0    \n",
       "3                                                  0    \n",
       "4                                                  0    \n",
       "\n",
       "   ThirdLargestPropertyUseType_Other - Services  \\\n",
       "0                                             0   \n",
       "1                                             0   \n",
       "2                                             0   \n",
       "3                                             0   \n",
       "4                                             0   \n",
       "\n",
       "   ThirdLargestPropertyUseType_Other - Technology/Science  \\\n",
       "0                                                  0        \n",
       "1                                                  0        \n",
       "2                                                  0        \n",
       "3                                                  0        \n",
       "4                                                  0        \n",
       "\n",
       "   ThirdLargestPropertyUseType_Outpatient Rehabilitation/Physical Therapy  \\\n",
       "0                                                  0                        \n",
       "1                                                  0                        \n",
       "2                                                  0                        \n",
       "3                                                  0                        \n",
       "4                                                  0                        \n",
       "\n",
       "   ThirdLargestPropertyUseType_Parking  \\\n",
       "0                                    0   \n",
       "1                                    0   \n",
       "2                                    0   \n",
       "3                                    0   \n",
       "4                                    0   \n",
       "\n",
       "   ThirdLargestPropertyUseType_Personal Services (Health/Beauty  \\\n",
       "0                                                  0              \n",
       "1                                                  0              \n",
       "2                                                  0              \n",
       "3                                                  0              \n",
       "4                                                  0              \n",
       "\n",
       "   ThirdLargestPropertyUseType_Pre-school/Daycare  \\\n",
       "0                                               0   \n",
       "1                                               0   \n",
       "2                                               0   \n",
       "3                                               0   \n",
       "4                                               0   \n",
       "\n",
       "   ThirdLargestPropertyUseType_Refrigerated Warehouse  \\\n",
       "0                                                  0    \n",
       "1                                                  0    \n",
       "2                                                  0    \n",
       "3                                                  0    \n",
       "4                                                  0    \n",
       "\n",
       "   ThirdLargestPropertyUseType_Repair Services (Vehicle  \\\n",
       "0                                                  0      \n",
       "1                                                  0      \n",
       "2                                                  0      \n",
       "3                                                  0      \n",
       "4                                                  0      \n",
       "\n",
       "   ThirdLargestPropertyUseType_Residence Hall/Dormitory  \\\n",
       "0                                                  0      \n",
       "1                                                  0      \n",
       "2                                                  0      \n",
       "3                                                  0      \n",
       "4                                                  0      \n",
       "\n",
       "   ThirdLargestPropertyUseType_Restaurant  \\\n",
       "0                                       0   \n",
       "1                                       1   \n",
       "2                                       0   \n",
       "3                                       0   \n",
       "4                                       0   \n",
       "\n",
       "   ThirdLargestPropertyUseType_Retail Store  \\\n",
       "0                                         0   \n",
       "1                                         0   \n",
       "2                                         0   \n",
       "3                                         0   \n",
       "4                                         0   \n",
       "\n",
       "   ThirdLargestPropertyUseType_Self-Storage Facility  \\\n",
       "0                                                  0   \n",
       "1                                                  0   \n",
       "2                                                  0   \n",
       "3                                                  0   \n",
       "4                                                  0   \n",
       "\n",
       "   ThirdLargestPropertyUseType_Senior Care Community  \\\n",
       "0                                                  0   \n",
       "1                                                  0   \n",
       "2                                                  0   \n",
       "3                                                  0   \n",
       "4                                                  0   \n",
       "\n",
       "   ThirdLargestPropertyUseType_Shoe  \\\n",
       "0                                 0   \n",
       "1                                 0   \n",
       "2                                 0   \n",
       "3                                 0   \n",
       "4                                 0   \n",
       "\n",
       "   ThirdLargestPropertyUseType_Social/Meeting Hall  \\\n",
       "0                                                0   \n",
       "1                                                0   \n",
       "2                                                0   \n",
       "3                                                0   \n",
       "4                                                0   \n",
       "\n",
       "   ThirdLargestPropertyUseType_Supermarket/Grocery Store  \\\n",
       "0                                                  0       \n",
       "1                                                  0       \n",
       "2                                                  0       \n",
       "3                                                  0       \n",
       "4                                                  0       \n",
       "\n",
       "   ThirdLargestPropertyUseType_Swimming Pool  \\\n",
       "0                                          0   \n",
       "1                                          0   \n",
       "2                                          1   \n",
       "3                                          1   \n",
       "4                                          0   \n",
       "\n",
       "   ThirdLargestPropertyUseType_Vocational School  \\\n",
       "0                                              0   \n",
       "1                                              0   \n",
       "2                                              0   \n",
       "3                                              0   \n",
       "4                                              0   \n",
       "\n",
       "   ThirdLargestPropertyUseType_Worship Facility  \\\n",
       "0                                             0   \n",
       "1                                             0   \n",
       "2                                             0   \n",
       "3                                             0   \n",
       "4                                             0   \n",
       "\n",
       "   ThirdLargestPropertyUseType_etc)  \n",
       "0                                 0  \n",
       "1                                 0  \n",
       "2                                 0  \n",
       "3                                 0  \n",
       "4                                 0  \n",
       "\n",
       "[5 rows x 207 columns]"
      ]
     },
     "execution_count": 2,
     "metadata": {},
     "output_type": "execute_result"
    }
   ],
   "source": [
    "#Jeu de données nettoyé sans transformation\n",
    "data_original = pd.read_csv('dataNettoye.csv',sep=',',encoding='utf-8')\n",
    "data = data_original.copy()\n",
    "data.head()"
   ]
  },
  {
   "cell_type": "code",
   "execution_count": 3,
   "id": "cc231f88",
   "metadata": {},
   "outputs": [
    {
     "data": {
      "text/html": [
       "<div>\n",
       "<style scoped>\n",
       "    .dataframe tbody tr th:only-of-type {\n",
       "        vertical-align: middle;\n",
       "    }\n",
       "\n",
       "    .dataframe tbody tr th {\n",
       "        vertical-align: top;\n",
       "    }\n",
       "\n",
       "    .dataframe thead th {\n",
       "        text-align: right;\n",
       "    }\n",
       "</style>\n",
       "<table border=\"1\" class=\"dataframe\">\n",
       "  <thead>\n",
       "    <tr style=\"text-align: right;\">\n",
       "      <th></th>\n",
       "      <th>YearBuilt</th>\n",
       "      <th>NumberofBuildings</th>\n",
       "      <th>NumberofFloors</th>\n",
       "      <th>PropertyGFATotal</th>\n",
       "      <th>ENERGYSTARScore</th>\n",
       "      <th>SiteEnergyUse(kBtu)</th>\n",
       "      <th>GHGEmissions(MetricTonsCO2e)</th>\n",
       "      <th>BuildingAge</th>\n",
       "      <th>BuildingType_Multifamily HR (10+)</th>\n",
       "      <th>BuildingType_Multifamily LR (1-4)</th>\n",
       "      <th>BuildingType_Multifamily MR (5-9)</th>\n",
       "      <th>BuildingType_NonResidential</th>\n",
       "      <th>BuildingType_Nonresidential COS</th>\n",
       "      <th>BuildingType_SPS-District K-12</th>\n",
       "      <th>PrimaryPropertyType_Distribution Center</th>\n",
       "      <th>PrimaryPropertyType_Distribution Center\\n</th>\n",
       "      <th>PrimaryPropertyType_High-Rise Multifamily</th>\n",
       "      <th>PrimaryPropertyType_Hospital</th>\n",
       "      <th>PrimaryPropertyType_Hotel</th>\n",
       "      <th>PrimaryPropertyType_K-12 School</th>\n",
       "      <th>PrimaryPropertyType_Laboratory</th>\n",
       "      <th>PrimaryPropertyType_Large Office</th>\n",
       "      <th>PrimaryPropertyType_Low-Rise Multifamily</th>\n",
       "      <th>PrimaryPropertyType_Medical Office</th>\n",
       "      <th>PrimaryPropertyType_Mid-Rise Multifamily</th>\n",
       "      <th>PrimaryPropertyType_Mixed Use Property</th>\n",
       "      <th>PrimaryPropertyType_Non-Refrigerated Warehouse</th>\n",
       "      <th>PrimaryPropertyType_Office</th>\n",
       "      <th>PrimaryPropertyType_Other</th>\n",
       "      <th>PrimaryPropertyType_Refrigerated Warehouse</th>\n",
       "      <th>PrimaryPropertyType_Residence Hall</th>\n",
       "      <th>PrimaryPropertyType_Residence Hall/Dormitory</th>\n",
       "      <th>PrimaryPropertyType_Restaurant</th>\n",
       "      <th>PrimaryPropertyType_Restaurant\\n</th>\n",
       "      <th>PrimaryPropertyType_Retail Store</th>\n",
       "      <th>PrimaryPropertyType_Self-Storage Facility</th>\n",
       "      <th>PrimaryPropertyType_Self-Storage Facility\\n</th>\n",
       "      <th>PrimaryPropertyType_Senior Care Community</th>\n",
       "      <th>PrimaryPropertyType_Small- and Mid-Sized Office</th>\n",
       "      <th>PrimaryPropertyType_Supermarket / Grocery Store</th>\n",
       "      <th>PrimaryPropertyType_Supermarket/Grocery Store</th>\n",
       "      <th>PrimaryPropertyType_University</th>\n",
       "      <th>PrimaryPropertyType_Warehouse</th>\n",
       "      <th>PrimaryPropertyType_Worship Facility</th>\n",
       "      <th>Neighborhood_Ballard</th>\n",
       "      <th>Neighborhood_CENTRAL</th>\n",
       "      <th>Neighborhood_Central</th>\n",
       "      <th>Neighborhood_DELRIDGE</th>\n",
       "      <th>Neighborhood_DELRIDGE NEIGHBORHOODS</th>\n",
       "      <th>Neighborhood_DOWNTOWN</th>\n",
       "      <th>...</th>\n",
       "      <th>SecondLargestPropertyUseType_Repair Services (Vehicle</th>\n",
       "      <th>SecondLargestPropertyUseType_Residence Hall/Dormitory</th>\n",
       "      <th>SecondLargestPropertyUseType_Restaurant</th>\n",
       "      <th>SecondLargestPropertyUseType_Retail Store</th>\n",
       "      <th>SecondLargestPropertyUseType_Self-Storage Facility</th>\n",
       "      <th>SecondLargestPropertyUseType_Senior Care Community</th>\n",
       "      <th>SecondLargestPropertyUseType_Shoe</th>\n",
       "      <th>SecondLargestPropertyUseType_Social/Meeting Hall</th>\n",
       "      <th>SecondLargestPropertyUseType_Strip Mall</th>\n",
       "      <th>SecondLargestPropertyUseType_Supermarket/Grocery Store</th>\n",
       "      <th>SecondLargestPropertyUseType_Swimming Pool</th>\n",
       "      <th>SecondLargestPropertyUseType_Worship Facility</th>\n",
       "      <th>ThirdLargestPropertyUseType_Financial Office</th>\n",
       "      <th>ThirdLargestPropertyUseType_Locksmith</th>\n",
       "      <th>ThirdLargestPropertyUseType_Manufacturing/Industrial Plant</th>\n",
       "      <th>ThirdLargestPropertyUseType_Medical Office</th>\n",
       "      <th>ThirdLargestPropertyUseType_Movie Theater</th>\n",
       "      <th>ThirdLargestPropertyUseType_Multifamily Housing</th>\n",
       "      <th>ThirdLargestPropertyUseType_Museum</th>\n",
       "      <th>ThirdLargestPropertyUseType_NoThirdUse</th>\n",
       "      <th>ThirdLargestPropertyUseType_Non-Refrigerated Warehouse</th>\n",
       "      <th>ThirdLargestPropertyUseType_Office</th>\n",
       "      <th>ThirdLargestPropertyUseType_Other</th>\n",
       "      <th>ThirdLargestPropertyUseType_Other - Education</th>\n",
       "      <th>ThirdLargestPropertyUseType_Other - Entertainment/Public Assembly</th>\n",
       "      <th>ThirdLargestPropertyUseType_Other - Lodging/Residential</th>\n",
       "      <th>ThirdLargestPropertyUseType_Other - Mall</th>\n",
       "      <th>ThirdLargestPropertyUseType_Other - Public Services</th>\n",
       "      <th>ThirdLargestPropertyUseType_Other - Recreation</th>\n",
       "      <th>ThirdLargestPropertyUseType_Other - Restaurant/Bar</th>\n",
       "      <th>ThirdLargestPropertyUseType_Other - Services</th>\n",
       "      <th>ThirdLargestPropertyUseType_Other - Technology/Science</th>\n",
       "      <th>ThirdLargestPropertyUseType_Outpatient Rehabilitation/Physical Therapy</th>\n",
       "      <th>ThirdLargestPropertyUseType_Parking</th>\n",
       "      <th>ThirdLargestPropertyUseType_Personal Services (Health/Beauty</th>\n",
       "      <th>ThirdLargestPropertyUseType_Pre-school/Daycare</th>\n",
       "      <th>ThirdLargestPropertyUseType_Refrigerated Warehouse</th>\n",
       "      <th>ThirdLargestPropertyUseType_Repair Services (Vehicle</th>\n",
       "      <th>ThirdLargestPropertyUseType_Residence Hall/Dormitory</th>\n",
       "      <th>ThirdLargestPropertyUseType_Restaurant</th>\n",
       "      <th>ThirdLargestPropertyUseType_Retail Store</th>\n",
       "      <th>ThirdLargestPropertyUseType_Self-Storage Facility</th>\n",
       "      <th>ThirdLargestPropertyUseType_Senior Care Community</th>\n",
       "      <th>ThirdLargestPropertyUseType_Shoe</th>\n",
       "      <th>ThirdLargestPropertyUseType_Social/Meeting Hall</th>\n",
       "      <th>ThirdLargestPropertyUseType_Supermarket/Grocery Store</th>\n",
       "      <th>ThirdLargestPropertyUseType_Swimming Pool</th>\n",
       "      <th>ThirdLargestPropertyUseType_Vocational School</th>\n",
       "      <th>ThirdLargestPropertyUseType_Worship Facility</th>\n",
       "      <th>ThirdLargestPropertyUseType_etc)</th>\n",
       "    </tr>\n",
       "  </thead>\n",
       "  <tbody>\n",
       "    <tr>\n",
       "      <th>0</th>\n",
       "      <td>7.564238</td>\n",
       "      <td>1</td>\n",
       "      <td>1</td>\n",
       "      <td>11.390023</td>\n",
       "      <td>4.189655</td>\n",
       "      <td>15.758764</td>\n",
       "      <td>5.523179</td>\n",
       "      <td>4.488636</td>\n",
       "      <td>0</td>\n",
       "      <td>0</td>\n",
       "      <td>0</td>\n",
       "      <td>1</td>\n",
       "      <td>0</td>\n",
       "      <td>0</td>\n",
       "      <td>0</td>\n",
       "      <td>0</td>\n",
       "      <td>0</td>\n",
       "      <td>0</td>\n",
       "      <td>1</td>\n",
       "      <td>0</td>\n",
       "      <td>0</td>\n",
       "      <td>0</td>\n",
       "      <td>0</td>\n",
       "      <td>0</td>\n",
       "      <td>0</td>\n",
       "      <td>0</td>\n",
       "      <td>0</td>\n",
       "      <td>0</td>\n",
       "      <td>0</td>\n",
       "      <td>0</td>\n",
       "      <td>0</td>\n",
       "      <td>0</td>\n",
       "      <td>0</td>\n",
       "      <td>0</td>\n",
       "      <td>0</td>\n",
       "      <td>0</td>\n",
       "      <td>0</td>\n",
       "      <td>0</td>\n",
       "      <td>0</td>\n",
       "      <td>0</td>\n",
       "      <td>0</td>\n",
       "      <td>0</td>\n",
       "      <td>0</td>\n",
       "      <td>0</td>\n",
       "      <td>0</td>\n",
       "      <td>0</td>\n",
       "      <td>0</td>\n",
       "      <td>0</td>\n",
       "      <td>0</td>\n",
       "      <td>1</td>\n",
       "      <td>...</td>\n",
       "      <td>0</td>\n",
       "      <td>0</td>\n",
       "      <td>0</td>\n",
       "      <td>0</td>\n",
       "      <td>0</td>\n",
       "      <td>0</td>\n",
       "      <td>0</td>\n",
       "      <td>0</td>\n",
       "      <td>0</td>\n",
       "      <td>0</td>\n",
       "      <td>0</td>\n",
       "      <td>0</td>\n",
       "      <td>0</td>\n",
       "      <td>0</td>\n",
       "      <td>0</td>\n",
       "      <td>0</td>\n",
       "      <td>0</td>\n",
       "      <td>0</td>\n",
       "      <td>0</td>\n",
       "      <td>1</td>\n",
       "      <td>0</td>\n",
       "      <td>0</td>\n",
       "      <td>0</td>\n",
       "      <td>0</td>\n",
       "      <td>0</td>\n",
       "      <td>0</td>\n",
       "      <td>0</td>\n",
       "      <td>0</td>\n",
       "      <td>0</td>\n",
       "      <td>0</td>\n",
       "      <td>0</td>\n",
       "      <td>0</td>\n",
       "      <td>0</td>\n",
       "      <td>0</td>\n",
       "      <td>0</td>\n",
       "      <td>0</td>\n",
       "      <td>0</td>\n",
       "      <td>0</td>\n",
       "      <td>0</td>\n",
       "      <td>0</td>\n",
       "      <td>0</td>\n",
       "      <td>0</td>\n",
       "      <td>0</td>\n",
       "      <td>0</td>\n",
       "      <td>0</td>\n",
       "      <td>0</td>\n",
       "      <td>0</td>\n",
       "      <td>0</td>\n",
       "      <td>0</td>\n",
       "      <td>0</td>\n",
       "    </tr>\n",
       "    <tr>\n",
       "      <th>1</th>\n",
       "      <td>7.599401</td>\n",
       "      <td>1</td>\n",
       "      <td>1</td>\n",
       "      <td>11.547974</td>\n",
       "      <td>3.951244</td>\n",
       "      <td>15.938279</td>\n",
       "      <td>5.577879</td>\n",
       "      <td>2.995732</td>\n",
       "      <td>0</td>\n",
       "      <td>0</td>\n",
       "      <td>0</td>\n",
       "      <td>1</td>\n",
       "      <td>0</td>\n",
       "      <td>0</td>\n",
       "      <td>0</td>\n",
       "      <td>0</td>\n",
       "      <td>0</td>\n",
       "      <td>0</td>\n",
       "      <td>1</td>\n",
       "      <td>0</td>\n",
       "      <td>0</td>\n",
       "      <td>0</td>\n",
       "      <td>0</td>\n",
       "      <td>0</td>\n",
       "      <td>0</td>\n",
       "      <td>0</td>\n",
       "      <td>0</td>\n",
       "      <td>0</td>\n",
       "      <td>0</td>\n",
       "      <td>0</td>\n",
       "      <td>0</td>\n",
       "      <td>0</td>\n",
       "      <td>0</td>\n",
       "      <td>0</td>\n",
       "      <td>0</td>\n",
       "      <td>0</td>\n",
       "      <td>0</td>\n",
       "      <td>0</td>\n",
       "      <td>0</td>\n",
       "      <td>0</td>\n",
       "      <td>0</td>\n",
       "      <td>0</td>\n",
       "      <td>0</td>\n",
       "      <td>0</td>\n",
       "      <td>0</td>\n",
       "      <td>0</td>\n",
       "      <td>0</td>\n",
       "      <td>0</td>\n",
       "      <td>0</td>\n",
       "      <td>1</td>\n",
       "      <td>...</td>\n",
       "      <td>0</td>\n",
       "      <td>0</td>\n",
       "      <td>0</td>\n",
       "      <td>0</td>\n",
       "      <td>0</td>\n",
       "      <td>0</td>\n",
       "      <td>0</td>\n",
       "      <td>0</td>\n",
       "      <td>0</td>\n",
       "      <td>0</td>\n",
       "      <td>0</td>\n",
       "      <td>0</td>\n",
       "      <td>0</td>\n",
       "      <td>0</td>\n",
       "      <td>0</td>\n",
       "      <td>0</td>\n",
       "      <td>0</td>\n",
       "      <td>0</td>\n",
       "      <td>0</td>\n",
       "      <td>0</td>\n",
       "      <td>0</td>\n",
       "      <td>0</td>\n",
       "      <td>0</td>\n",
       "      <td>0</td>\n",
       "      <td>0</td>\n",
       "      <td>0</td>\n",
       "      <td>0</td>\n",
       "      <td>0</td>\n",
       "      <td>0</td>\n",
       "      <td>0</td>\n",
       "      <td>0</td>\n",
       "      <td>0</td>\n",
       "      <td>0</td>\n",
       "      <td>0</td>\n",
       "      <td>0</td>\n",
       "      <td>0</td>\n",
       "      <td>0</td>\n",
       "      <td>0</td>\n",
       "      <td>0</td>\n",
       "      <td>1</td>\n",
       "      <td>0</td>\n",
       "      <td>0</td>\n",
       "      <td>0</td>\n",
       "      <td>0</td>\n",
       "      <td>0</td>\n",
       "      <td>0</td>\n",
       "      <td>0</td>\n",
       "      <td>0</td>\n",
       "      <td>0</td>\n",
       "      <td>0</td>\n",
       "    </tr>\n",
       "    <tr>\n",
       "      <th>2</th>\n",
       "      <td>7.585789</td>\n",
       "      <td>1</td>\n",
       "      <td>1</td>\n",
       "      <td>13.776760</td>\n",
       "      <td>2.944439</td>\n",
       "      <td>18.107758</td>\n",
       "      <td>7.631664</td>\n",
       "      <td>3.850148</td>\n",
       "      <td>0</td>\n",
       "      <td>0</td>\n",
       "      <td>0</td>\n",
       "      <td>1</td>\n",
       "      <td>0</td>\n",
       "      <td>0</td>\n",
       "      <td>0</td>\n",
       "      <td>0</td>\n",
       "      <td>0</td>\n",
       "      <td>0</td>\n",
       "      <td>1</td>\n",
       "      <td>0</td>\n",
       "      <td>0</td>\n",
       "      <td>0</td>\n",
       "      <td>0</td>\n",
       "      <td>0</td>\n",
       "      <td>0</td>\n",
       "      <td>0</td>\n",
       "      <td>0</td>\n",
       "      <td>0</td>\n",
       "      <td>0</td>\n",
       "      <td>0</td>\n",
       "      <td>0</td>\n",
       "      <td>0</td>\n",
       "      <td>0</td>\n",
       "      <td>0</td>\n",
       "      <td>0</td>\n",
       "      <td>0</td>\n",
       "      <td>0</td>\n",
       "      <td>0</td>\n",
       "      <td>0</td>\n",
       "      <td>0</td>\n",
       "      <td>0</td>\n",
       "      <td>0</td>\n",
       "      <td>0</td>\n",
       "      <td>0</td>\n",
       "      <td>0</td>\n",
       "      <td>0</td>\n",
       "      <td>0</td>\n",
       "      <td>0</td>\n",
       "      <td>0</td>\n",
       "      <td>1</td>\n",
       "      <td>...</td>\n",
       "      <td>0</td>\n",
       "      <td>0</td>\n",
       "      <td>0</td>\n",
       "      <td>0</td>\n",
       "      <td>0</td>\n",
       "      <td>0</td>\n",
       "      <td>0</td>\n",
       "      <td>0</td>\n",
       "      <td>0</td>\n",
       "      <td>0</td>\n",
       "      <td>0</td>\n",
       "      <td>0</td>\n",
       "      <td>0</td>\n",
       "      <td>0</td>\n",
       "      <td>0</td>\n",
       "      <td>0</td>\n",
       "      <td>0</td>\n",
       "      <td>0</td>\n",
       "      <td>0</td>\n",
       "      <td>0</td>\n",
       "      <td>0</td>\n",
       "      <td>0</td>\n",
       "      <td>0</td>\n",
       "      <td>0</td>\n",
       "      <td>0</td>\n",
       "      <td>0</td>\n",
       "      <td>0</td>\n",
       "      <td>0</td>\n",
       "      <td>0</td>\n",
       "      <td>0</td>\n",
       "      <td>0</td>\n",
       "      <td>0</td>\n",
       "      <td>0</td>\n",
       "      <td>0</td>\n",
       "      <td>0</td>\n",
       "      <td>0</td>\n",
       "      <td>0</td>\n",
       "      <td>0</td>\n",
       "      <td>0</td>\n",
       "      <td>0</td>\n",
       "      <td>0</td>\n",
       "      <td>0</td>\n",
       "      <td>0</td>\n",
       "      <td>0</td>\n",
       "      <td>0</td>\n",
       "      <td>0</td>\n",
       "      <td>1</td>\n",
       "      <td>0</td>\n",
       "      <td>0</td>\n",
       "      <td>0</td>\n",
       "    </tr>\n",
       "    <tr>\n",
       "      <th>3</th>\n",
       "      <td>7.591357</td>\n",
       "      <td>1</td>\n",
       "      <td>1</td>\n",
       "      <td>11.694338</td>\n",
       "      <td>4.219508</td>\n",
       "      <td>16.512102</td>\n",
       "      <td>6.231858</td>\n",
       "      <td>3.583519</td>\n",
       "      <td>0</td>\n",
       "      <td>0</td>\n",
       "      <td>0</td>\n",
       "      <td>1</td>\n",
       "      <td>0</td>\n",
       "      <td>0</td>\n",
       "      <td>0</td>\n",
       "      <td>0</td>\n",
       "      <td>0</td>\n",
       "      <td>0</td>\n",
       "      <td>1</td>\n",
       "      <td>0</td>\n",
       "      <td>0</td>\n",
       "      <td>0</td>\n",
       "      <td>0</td>\n",
       "      <td>0</td>\n",
       "      <td>0</td>\n",
       "      <td>0</td>\n",
       "      <td>0</td>\n",
       "      <td>0</td>\n",
       "      <td>0</td>\n",
       "      <td>0</td>\n",
       "      <td>0</td>\n",
       "      <td>0</td>\n",
       "      <td>0</td>\n",
       "      <td>0</td>\n",
       "      <td>0</td>\n",
       "      <td>0</td>\n",
       "      <td>0</td>\n",
       "      <td>0</td>\n",
       "      <td>0</td>\n",
       "      <td>0</td>\n",
       "      <td>0</td>\n",
       "      <td>0</td>\n",
       "      <td>0</td>\n",
       "      <td>0</td>\n",
       "      <td>0</td>\n",
       "      <td>0</td>\n",
       "      <td>0</td>\n",
       "      <td>0</td>\n",
       "      <td>0</td>\n",
       "      <td>1</td>\n",
       "      <td>...</td>\n",
       "      <td>0</td>\n",
       "      <td>0</td>\n",
       "      <td>0</td>\n",
       "      <td>0</td>\n",
       "      <td>0</td>\n",
       "      <td>0</td>\n",
       "      <td>0</td>\n",
       "      <td>0</td>\n",
       "      <td>0</td>\n",
       "      <td>0</td>\n",
       "      <td>0</td>\n",
       "      <td>0</td>\n",
       "      <td>0</td>\n",
       "      <td>0</td>\n",
       "      <td>0</td>\n",
       "      <td>0</td>\n",
       "      <td>0</td>\n",
       "      <td>0</td>\n",
       "      <td>0</td>\n",
       "      <td>0</td>\n",
       "      <td>0</td>\n",
       "      <td>0</td>\n",
       "      <td>0</td>\n",
       "      <td>0</td>\n",
       "      <td>0</td>\n",
       "      <td>0</td>\n",
       "      <td>0</td>\n",
       "      <td>0</td>\n",
       "      <td>0</td>\n",
       "      <td>0</td>\n",
       "      <td>0</td>\n",
       "      <td>0</td>\n",
       "      <td>0</td>\n",
       "      <td>0</td>\n",
       "      <td>0</td>\n",
       "      <td>0</td>\n",
       "      <td>0</td>\n",
       "      <td>0</td>\n",
       "      <td>0</td>\n",
       "      <td>0</td>\n",
       "      <td>0</td>\n",
       "      <td>0</td>\n",
       "      <td>0</td>\n",
       "      <td>0</td>\n",
       "      <td>0</td>\n",
       "      <td>0</td>\n",
       "      <td>1</td>\n",
       "      <td>0</td>\n",
       "      <td>0</td>\n",
       "      <td>0</td>\n",
       "    </tr>\n",
       "    <tr>\n",
       "      <th>4</th>\n",
       "      <td>7.600902</td>\n",
       "      <td>1</td>\n",
       "      <td>1</td>\n",
       "      <td>11.485441</td>\n",
       "      <td>4.094345</td>\n",
       "      <td>16.304740</td>\n",
       "      <td>5.722343</td>\n",
       "      <td>2.833213</td>\n",
       "      <td>0</td>\n",
       "      <td>0</td>\n",
       "      <td>0</td>\n",
       "      <td>0</td>\n",
       "      <td>1</td>\n",
       "      <td>0</td>\n",
       "      <td>0</td>\n",
       "      <td>0</td>\n",
       "      <td>0</td>\n",
       "      <td>0</td>\n",
       "      <td>0</td>\n",
       "      <td>0</td>\n",
       "      <td>0</td>\n",
       "      <td>0</td>\n",
       "      <td>0</td>\n",
       "      <td>0</td>\n",
       "      <td>0</td>\n",
       "      <td>0</td>\n",
       "      <td>0</td>\n",
       "      <td>0</td>\n",
       "      <td>1</td>\n",
       "      <td>0</td>\n",
       "      <td>0</td>\n",
       "      <td>0</td>\n",
       "      <td>0</td>\n",
       "      <td>0</td>\n",
       "      <td>0</td>\n",
       "      <td>0</td>\n",
       "      <td>0</td>\n",
       "      <td>0</td>\n",
       "      <td>0</td>\n",
       "      <td>0</td>\n",
       "      <td>0</td>\n",
       "      <td>0</td>\n",
       "      <td>0</td>\n",
       "      <td>0</td>\n",
       "      <td>0</td>\n",
       "      <td>0</td>\n",
       "      <td>0</td>\n",
       "      <td>0</td>\n",
       "      <td>0</td>\n",
       "      <td>1</td>\n",
       "      <td>...</td>\n",
       "      <td>0</td>\n",
       "      <td>0</td>\n",
       "      <td>0</td>\n",
       "      <td>0</td>\n",
       "      <td>0</td>\n",
       "      <td>0</td>\n",
       "      <td>0</td>\n",
       "      <td>0</td>\n",
       "      <td>0</td>\n",
       "      <td>0</td>\n",
       "      <td>0</td>\n",
       "      <td>0</td>\n",
       "      <td>0</td>\n",
       "      <td>0</td>\n",
       "      <td>0</td>\n",
       "      <td>0</td>\n",
       "      <td>0</td>\n",
       "      <td>0</td>\n",
       "      <td>0</td>\n",
       "      <td>1</td>\n",
       "      <td>0</td>\n",
       "      <td>0</td>\n",
       "      <td>0</td>\n",
       "      <td>0</td>\n",
       "      <td>0</td>\n",
       "      <td>0</td>\n",
       "      <td>0</td>\n",
       "      <td>0</td>\n",
       "      <td>0</td>\n",
       "      <td>0</td>\n",
       "      <td>0</td>\n",
       "      <td>0</td>\n",
       "      <td>0</td>\n",
       "      <td>0</td>\n",
       "      <td>0</td>\n",
       "      <td>0</td>\n",
       "      <td>0</td>\n",
       "      <td>0</td>\n",
       "      <td>0</td>\n",
       "      <td>0</td>\n",
       "      <td>0</td>\n",
       "      <td>0</td>\n",
       "      <td>0</td>\n",
       "      <td>0</td>\n",
       "      <td>0</td>\n",
       "      <td>0</td>\n",
       "      <td>0</td>\n",
       "      <td>0</td>\n",
       "      <td>0</td>\n",
       "      <td>0</td>\n",
       "    </tr>\n",
       "  </tbody>\n",
       "</table>\n",
       "<p>5 rows × 207 columns</p>\n",
       "</div>"
      ],
      "text/plain": [
       "   YearBuilt  NumberofBuildings  NumberofFloors  PropertyGFATotal  \\\n",
       "0   7.564238                  1               1         11.390023   \n",
       "1   7.599401                  1               1         11.547974   \n",
       "2   7.585789                  1               1         13.776760   \n",
       "3   7.591357                  1               1         11.694338   \n",
       "4   7.600902                  1               1         11.485441   \n",
       "\n",
       "   ENERGYSTARScore  SiteEnergyUse(kBtu)  GHGEmissions(MetricTonsCO2e)  \\\n",
       "0         4.189655            15.758764                      5.523179   \n",
       "1         3.951244            15.938279                      5.577879   \n",
       "2         2.944439            18.107758                      7.631664   \n",
       "3         4.219508            16.512102                      6.231858   \n",
       "4         4.094345            16.304740                      5.722343   \n",
       "\n",
       "   BuildingAge  BuildingType_Multifamily HR (10+)  \\\n",
       "0     4.488636                                  0   \n",
       "1     2.995732                                  0   \n",
       "2     3.850148                                  0   \n",
       "3     3.583519                                  0   \n",
       "4     2.833213                                  0   \n",
       "\n",
       "   BuildingType_Multifamily LR (1-4)  BuildingType_Multifamily MR (5-9)  \\\n",
       "0                                  0                                  0   \n",
       "1                                  0                                  0   \n",
       "2                                  0                                  0   \n",
       "3                                  0                                  0   \n",
       "4                                  0                                  0   \n",
       "\n",
       "   BuildingType_NonResidential  BuildingType_Nonresidential COS  \\\n",
       "0                            1                                0   \n",
       "1                            1                                0   \n",
       "2                            1                                0   \n",
       "3                            1                                0   \n",
       "4                            0                                1   \n",
       "\n",
       "   BuildingType_SPS-District K-12  PrimaryPropertyType_Distribution Center  \\\n",
       "0                               0                                        0   \n",
       "1                               0                                        0   \n",
       "2                               0                                        0   \n",
       "3                               0                                        0   \n",
       "4                               0                                        0   \n",
       "\n",
       "   PrimaryPropertyType_Distribution Center\\n  \\\n",
       "0                                          0   \n",
       "1                                          0   \n",
       "2                                          0   \n",
       "3                                          0   \n",
       "4                                          0   \n",
       "\n",
       "   PrimaryPropertyType_High-Rise Multifamily  PrimaryPropertyType_Hospital  \\\n",
       "0                                          0                             0   \n",
       "1                                          0                             0   \n",
       "2                                          0                             0   \n",
       "3                                          0                             0   \n",
       "4                                          0                             0   \n",
       "\n",
       "   PrimaryPropertyType_Hotel  PrimaryPropertyType_K-12 School  \\\n",
       "0                          1                                0   \n",
       "1                          1                                0   \n",
       "2                          1                                0   \n",
       "3                          1                                0   \n",
       "4                          0                                0   \n",
       "\n",
       "   PrimaryPropertyType_Laboratory  PrimaryPropertyType_Large Office  \\\n",
       "0                               0                                 0   \n",
       "1                               0                                 0   \n",
       "2                               0                                 0   \n",
       "3                               0                                 0   \n",
       "4                               0                                 0   \n",
       "\n",
       "   PrimaryPropertyType_Low-Rise Multifamily  \\\n",
       "0                                         0   \n",
       "1                                         0   \n",
       "2                                         0   \n",
       "3                                         0   \n",
       "4                                         0   \n",
       "\n",
       "   PrimaryPropertyType_Medical Office  \\\n",
       "0                                   0   \n",
       "1                                   0   \n",
       "2                                   0   \n",
       "3                                   0   \n",
       "4                                   0   \n",
       "\n",
       "   PrimaryPropertyType_Mid-Rise Multifamily  \\\n",
       "0                                         0   \n",
       "1                                         0   \n",
       "2                                         0   \n",
       "3                                         0   \n",
       "4                                         0   \n",
       "\n",
       "   PrimaryPropertyType_Mixed Use Property  \\\n",
       "0                                       0   \n",
       "1                                       0   \n",
       "2                                       0   \n",
       "3                                       0   \n",
       "4                                       0   \n",
       "\n",
       "   PrimaryPropertyType_Non-Refrigerated Warehouse  PrimaryPropertyType_Office  \\\n",
       "0                                               0                           0   \n",
       "1                                               0                           0   \n",
       "2                                               0                           0   \n",
       "3                                               0                           0   \n",
       "4                                               0                           0   \n",
       "\n",
       "   PrimaryPropertyType_Other  PrimaryPropertyType_Refrigerated Warehouse  \\\n",
       "0                          0                                           0   \n",
       "1                          0                                           0   \n",
       "2                          0                                           0   \n",
       "3                          0                                           0   \n",
       "4                          1                                           0   \n",
       "\n",
       "   PrimaryPropertyType_Residence Hall  \\\n",
       "0                                   0   \n",
       "1                                   0   \n",
       "2                                   0   \n",
       "3                                   0   \n",
       "4                                   0   \n",
       "\n",
       "   PrimaryPropertyType_Residence Hall/Dormitory  \\\n",
       "0                                             0   \n",
       "1                                             0   \n",
       "2                                             0   \n",
       "3                                             0   \n",
       "4                                             0   \n",
       "\n",
       "   PrimaryPropertyType_Restaurant  PrimaryPropertyType_Restaurant\\n  \\\n",
       "0                               0                                 0   \n",
       "1                               0                                 0   \n",
       "2                               0                                 0   \n",
       "3                               0                                 0   \n",
       "4                               0                                 0   \n",
       "\n",
       "   PrimaryPropertyType_Retail Store  \\\n",
       "0                                 0   \n",
       "1                                 0   \n",
       "2                                 0   \n",
       "3                                 0   \n",
       "4                                 0   \n",
       "\n",
       "   PrimaryPropertyType_Self-Storage Facility  \\\n",
       "0                                          0   \n",
       "1                                          0   \n",
       "2                                          0   \n",
       "3                                          0   \n",
       "4                                          0   \n",
       "\n",
       "   PrimaryPropertyType_Self-Storage Facility\\n  \\\n",
       "0                                            0   \n",
       "1                                            0   \n",
       "2                                            0   \n",
       "3                                            0   \n",
       "4                                            0   \n",
       "\n",
       "   PrimaryPropertyType_Senior Care Community  \\\n",
       "0                                          0   \n",
       "1                                          0   \n",
       "2                                          0   \n",
       "3                                          0   \n",
       "4                                          0   \n",
       "\n",
       "   PrimaryPropertyType_Small- and Mid-Sized Office  \\\n",
       "0                                                0   \n",
       "1                                                0   \n",
       "2                                                0   \n",
       "3                                                0   \n",
       "4                                                0   \n",
       "\n",
       "   PrimaryPropertyType_Supermarket / Grocery Store  \\\n",
       "0                                                0   \n",
       "1                                                0   \n",
       "2                                                0   \n",
       "3                                                0   \n",
       "4                                                0   \n",
       "\n",
       "   PrimaryPropertyType_Supermarket/Grocery Store  \\\n",
       "0                                              0   \n",
       "1                                              0   \n",
       "2                                              0   \n",
       "3                                              0   \n",
       "4                                              0   \n",
       "\n",
       "   PrimaryPropertyType_University  PrimaryPropertyType_Warehouse  \\\n",
       "0                               0                              0   \n",
       "1                               0                              0   \n",
       "2                               0                              0   \n",
       "3                               0                              0   \n",
       "4                               0                              0   \n",
       "\n",
       "   PrimaryPropertyType_Worship Facility  Neighborhood_Ballard  \\\n",
       "0                                     0                     0   \n",
       "1                                     0                     0   \n",
       "2                                     0                     0   \n",
       "3                                     0                     0   \n",
       "4                                     0                     0   \n",
       "\n",
       "   Neighborhood_CENTRAL  Neighborhood_Central  Neighborhood_DELRIDGE  \\\n",
       "0                     0                     0                      0   \n",
       "1                     0                     0                      0   \n",
       "2                     0                     0                      0   \n",
       "3                     0                     0                      0   \n",
       "4                     0                     0                      0   \n",
       "\n",
       "   Neighborhood_DELRIDGE NEIGHBORHOODS  Neighborhood_DOWNTOWN  ...  \\\n",
       "0                                    0                      1  ...   \n",
       "1                                    0                      1  ...   \n",
       "2                                    0                      1  ...   \n",
       "3                                    0                      1  ...   \n",
       "4                                    0                      1  ...   \n",
       "\n",
       "   SecondLargestPropertyUseType_Repair Services (Vehicle  \\\n",
       "0                                                  0       \n",
       "1                                                  0       \n",
       "2                                                  0       \n",
       "3                                                  0       \n",
       "4                                                  0       \n",
       "\n",
       "   SecondLargestPropertyUseType_Residence Hall/Dormitory  \\\n",
       "0                                                  0       \n",
       "1                                                  0       \n",
       "2                                                  0       \n",
       "3                                                  0       \n",
       "4                                                  0       \n",
       "\n",
       "   SecondLargestPropertyUseType_Restaurant  \\\n",
       "0                                        0   \n",
       "1                                        0   \n",
       "2                                        0   \n",
       "3                                        0   \n",
       "4                                        0   \n",
       "\n",
       "   SecondLargestPropertyUseType_Retail Store  \\\n",
       "0                                          0   \n",
       "1                                          0   \n",
       "2                                          0   \n",
       "3                                          0   \n",
       "4                                          0   \n",
       "\n",
       "   SecondLargestPropertyUseType_Self-Storage Facility  \\\n",
       "0                                                  0    \n",
       "1                                                  0    \n",
       "2                                                  0    \n",
       "3                                                  0    \n",
       "4                                                  0    \n",
       "\n",
       "   SecondLargestPropertyUseType_Senior Care Community  \\\n",
       "0                                                  0    \n",
       "1                                                  0    \n",
       "2                                                  0    \n",
       "3                                                  0    \n",
       "4                                                  0    \n",
       "\n",
       "   SecondLargestPropertyUseType_Shoe  \\\n",
       "0                                  0   \n",
       "1                                  0   \n",
       "2                                  0   \n",
       "3                                  0   \n",
       "4                                  0   \n",
       "\n",
       "   SecondLargestPropertyUseType_Social/Meeting Hall  \\\n",
       "0                                                 0   \n",
       "1                                                 0   \n",
       "2                                                 0   \n",
       "3                                                 0   \n",
       "4                                                 0   \n",
       "\n",
       "   SecondLargestPropertyUseType_Strip Mall  \\\n",
       "0                                        0   \n",
       "1                                        0   \n",
       "2                                        0   \n",
       "3                                        0   \n",
       "4                                        0   \n",
       "\n",
       "   SecondLargestPropertyUseType_Supermarket/Grocery Store  \\\n",
       "0                                                  0        \n",
       "1                                                  0        \n",
       "2                                                  0        \n",
       "3                                                  0        \n",
       "4                                                  0        \n",
       "\n",
       "   SecondLargestPropertyUseType_Swimming Pool  \\\n",
       "0                                           0   \n",
       "1                                           0   \n",
       "2                                           0   \n",
       "3                                           0   \n",
       "4                                           0   \n",
       "\n",
       "   SecondLargestPropertyUseType_Worship Facility  \\\n",
       "0                                              0   \n",
       "1                                              0   \n",
       "2                                              0   \n",
       "3                                              0   \n",
       "4                                              0   \n",
       "\n",
       "   ThirdLargestPropertyUseType_Financial Office  \\\n",
       "0                                             0   \n",
       "1                                             0   \n",
       "2                                             0   \n",
       "3                                             0   \n",
       "4                                             0   \n",
       "\n",
       "   ThirdLargestPropertyUseType_Locksmith  \\\n",
       "0                                      0   \n",
       "1                                      0   \n",
       "2                                      0   \n",
       "3                                      0   \n",
       "4                                      0   \n",
       "\n",
       "   ThirdLargestPropertyUseType_Manufacturing/Industrial Plant  \\\n",
       "0                                                  0            \n",
       "1                                                  0            \n",
       "2                                                  0            \n",
       "3                                                  0            \n",
       "4                                                  0            \n",
       "\n",
       "   ThirdLargestPropertyUseType_Medical Office  \\\n",
       "0                                           0   \n",
       "1                                           0   \n",
       "2                                           0   \n",
       "3                                           0   \n",
       "4                                           0   \n",
       "\n",
       "   ThirdLargestPropertyUseType_Movie Theater  \\\n",
       "0                                          0   \n",
       "1                                          0   \n",
       "2                                          0   \n",
       "3                                          0   \n",
       "4                                          0   \n",
       "\n",
       "   ThirdLargestPropertyUseType_Multifamily Housing  \\\n",
       "0                                                0   \n",
       "1                                                0   \n",
       "2                                                0   \n",
       "3                                                0   \n",
       "4                                                0   \n",
       "\n",
       "   ThirdLargestPropertyUseType_Museum  ThirdLargestPropertyUseType_NoThirdUse  \\\n",
       "0                                   0                                       1   \n",
       "1                                   0                                       0   \n",
       "2                                   0                                       0   \n",
       "3                                   0                                       0   \n",
       "4                                   0                                       1   \n",
       "\n",
       "   ThirdLargestPropertyUseType_Non-Refrigerated Warehouse  \\\n",
       "0                                                  0        \n",
       "1                                                  0        \n",
       "2                                                  0        \n",
       "3                                                  0        \n",
       "4                                                  0        \n",
       "\n",
       "   ThirdLargestPropertyUseType_Office  ThirdLargestPropertyUseType_Other  \\\n",
       "0                                   0                                  0   \n",
       "1                                   0                                  0   \n",
       "2                                   0                                  0   \n",
       "3                                   0                                  0   \n",
       "4                                   0                                  0   \n",
       "\n",
       "   ThirdLargestPropertyUseType_Other - Education  \\\n",
       "0                                              0   \n",
       "1                                              0   \n",
       "2                                              0   \n",
       "3                                              0   \n",
       "4                                              0   \n",
       "\n",
       "   ThirdLargestPropertyUseType_Other - Entertainment/Public Assembly  \\\n",
       "0                                                  0                   \n",
       "1                                                  0                   \n",
       "2                                                  0                   \n",
       "3                                                  0                   \n",
       "4                                                  0                   \n",
       "\n",
       "   ThirdLargestPropertyUseType_Other - Lodging/Residential  \\\n",
       "0                                                  0         \n",
       "1                                                  0         \n",
       "2                                                  0         \n",
       "3                                                  0         \n",
       "4                                                  0         \n",
       "\n",
       "   ThirdLargestPropertyUseType_Other - Mall  \\\n",
       "0                                         0   \n",
       "1                                         0   \n",
       "2                                         0   \n",
       "3                                         0   \n",
       "4                                         0   \n",
       "\n",
       "   ThirdLargestPropertyUseType_Other - Public Services  \\\n",
       "0                                                  0     \n",
       "1                                                  0     \n",
       "2                                                  0     \n",
       "3                                                  0     \n",
       "4                                                  0     \n",
       "\n",
       "   ThirdLargestPropertyUseType_Other - Recreation  \\\n",
       "0                                               0   \n",
       "1                                               0   \n",
       "2                                               0   \n",
       "3                                               0   \n",
       "4                                               0   \n",
       "\n",
       "   ThirdLargestPropertyUseType_Other - Restaurant/Bar  \\\n",
       "0                                                  0    \n",
       "1                                                  0    \n",
       "2                                                  0    \n",
       "3                                                  0    \n",
       "4                                                  0    \n",
       "\n",
       "   ThirdLargestPropertyUseType_Other - Services  \\\n",
       "0                                             0   \n",
       "1                                             0   \n",
       "2                                             0   \n",
       "3                                             0   \n",
       "4                                             0   \n",
       "\n",
       "   ThirdLargestPropertyUseType_Other - Technology/Science  \\\n",
       "0                                                  0        \n",
       "1                                                  0        \n",
       "2                                                  0        \n",
       "3                                                  0        \n",
       "4                                                  0        \n",
       "\n",
       "   ThirdLargestPropertyUseType_Outpatient Rehabilitation/Physical Therapy  \\\n",
       "0                                                  0                        \n",
       "1                                                  0                        \n",
       "2                                                  0                        \n",
       "3                                                  0                        \n",
       "4                                                  0                        \n",
       "\n",
       "   ThirdLargestPropertyUseType_Parking  \\\n",
       "0                                    0   \n",
       "1                                    0   \n",
       "2                                    0   \n",
       "3                                    0   \n",
       "4                                    0   \n",
       "\n",
       "   ThirdLargestPropertyUseType_Personal Services (Health/Beauty  \\\n",
       "0                                                  0              \n",
       "1                                                  0              \n",
       "2                                                  0              \n",
       "3                                                  0              \n",
       "4                                                  0              \n",
       "\n",
       "   ThirdLargestPropertyUseType_Pre-school/Daycare  \\\n",
       "0                                               0   \n",
       "1                                               0   \n",
       "2                                               0   \n",
       "3                                               0   \n",
       "4                                               0   \n",
       "\n",
       "   ThirdLargestPropertyUseType_Refrigerated Warehouse  \\\n",
       "0                                                  0    \n",
       "1                                                  0    \n",
       "2                                                  0    \n",
       "3                                                  0    \n",
       "4                                                  0    \n",
       "\n",
       "   ThirdLargestPropertyUseType_Repair Services (Vehicle  \\\n",
       "0                                                  0      \n",
       "1                                                  0      \n",
       "2                                                  0      \n",
       "3                                                  0      \n",
       "4                                                  0      \n",
       "\n",
       "   ThirdLargestPropertyUseType_Residence Hall/Dormitory  \\\n",
       "0                                                  0      \n",
       "1                                                  0      \n",
       "2                                                  0      \n",
       "3                                                  0      \n",
       "4                                                  0      \n",
       "\n",
       "   ThirdLargestPropertyUseType_Restaurant  \\\n",
       "0                                       0   \n",
       "1                                       1   \n",
       "2                                       0   \n",
       "3                                       0   \n",
       "4                                       0   \n",
       "\n",
       "   ThirdLargestPropertyUseType_Retail Store  \\\n",
       "0                                         0   \n",
       "1                                         0   \n",
       "2                                         0   \n",
       "3                                         0   \n",
       "4                                         0   \n",
       "\n",
       "   ThirdLargestPropertyUseType_Self-Storage Facility  \\\n",
       "0                                                  0   \n",
       "1                                                  0   \n",
       "2                                                  0   \n",
       "3                                                  0   \n",
       "4                                                  0   \n",
       "\n",
       "   ThirdLargestPropertyUseType_Senior Care Community  \\\n",
       "0                                                  0   \n",
       "1                                                  0   \n",
       "2                                                  0   \n",
       "3                                                  0   \n",
       "4                                                  0   \n",
       "\n",
       "   ThirdLargestPropertyUseType_Shoe  \\\n",
       "0                                 0   \n",
       "1                                 0   \n",
       "2                                 0   \n",
       "3                                 0   \n",
       "4                                 0   \n",
       "\n",
       "   ThirdLargestPropertyUseType_Social/Meeting Hall  \\\n",
       "0                                                0   \n",
       "1                                                0   \n",
       "2                                                0   \n",
       "3                                                0   \n",
       "4                                                0   \n",
       "\n",
       "   ThirdLargestPropertyUseType_Supermarket/Grocery Store  \\\n",
       "0                                                  0       \n",
       "1                                                  0       \n",
       "2                                                  0       \n",
       "3                                                  0       \n",
       "4                                                  0       \n",
       "\n",
       "   ThirdLargestPropertyUseType_Swimming Pool  \\\n",
       "0                                          0   \n",
       "1                                          0   \n",
       "2                                          1   \n",
       "3                                          1   \n",
       "4                                          0   \n",
       "\n",
       "   ThirdLargestPropertyUseType_Vocational School  \\\n",
       "0                                              0   \n",
       "1                                              0   \n",
       "2                                              0   \n",
       "3                                              0   \n",
       "4                                              0   \n",
       "\n",
       "   ThirdLargestPropertyUseType_Worship Facility  \\\n",
       "0                                             0   \n",
       "1                                             0   \n",
       "2                                             0   \n",
       "3                                             0   \n",
       "4                                             0   \n",
       "\n",
       "   ThirdLargestPropertyUseType_etc)  \n",
       "0                                 0  \n",
       "1                                 0  \n",
       "2                                 0  \n",
       "3                                 0  \n",
       "4                                 0  \n",
       "\n",
       "[5 rows x 207 columns]"
      ]
     },
     "execution_count": 3,
     "metadata": {},
     "output_type": "execute_result"
    }
   ],
   "source": [
    "#Jeu de données nettoyé avec transformations\n",
    "dataTransfo_original = pd.read_csv('dataNettoyeTransforme.csv',sep=',',encoding='utf-8')\n",
    "dataLog = dataTransfo_original.copy()\n",
    "dataLog.head()"
   ]
  },
  {
   "cell_type": "markdown",
   "id": "f0033f45",
   "metadata": {},
   "source": [
    "Une des problèmatiques est d'évaluer l'intérêt de la varibale `ENERGYSTARScore` dans la prédiction des émissions de gaz à effet de serre. On va donc créer une copie du jeu de données sans cette variable afin de pouvoir comparer les différents modèles de prédiction avec ou sans la variable `ENERGYSTARScore`."
   ]
  },
  {
   "cell_type": "code",
   "execution_count": 4,
   "id": "e66f4545",
   "metadata": {},
   "outputs": [],
   "source": [
    "dataSE = data.drop(['ENERGYSTARScore'], axis=1)\n",
    "dataLogSE = dataLog.drop(['ENERGYSTARScore'], axis=1)"
   ]
  },
  {
   "cell_type": "markdown",
   "id": "64f33123",
   "metadata": {},
   "source": [
    "On peut à présent préparer notre jeu d'entraînement qui servira pour entrainer les différents modèles que l'on va traiter, et notre jeu de test qui servira à comparer les performances de généralisation des différents modèles."
   ]
  },
  {
   "cell_type": "code",
   "execution_count": 5,
   "id": "beb80666",
   "metadata": {},
   "outputs": [],
   "source": [
    "#Pour le jeu non transformé\n",
    "\n",
    "#Jeux d'entraînement et de test sans la varibale ENERGYSTARScore\n",
    "X_SE = dataSE.drop(['GHGEmissions(MetricTonsCO2e)', 'SiteEnergyUse(kBtu)'], axis=1)\n",
    "y_SE = dataSE['GHGEmissions(MetricTonsCO2e)']\n",
    "X_SE_train, X_SE_test, y_SE_train, y_SE_test = train_test_split(X_SE, y_SE, test_size = 0.2)\n",
    "\n",
    "#Jeux d'entraînement et de test avec la varibale ENERGYSTARScore\n",
    "X = data.drop(['GHGEmissions(MetricTonsCO2e)'], axis=1)\n",
    "y = data['GHGEmissions(MetricTonsCO2e)']\n",
    "X_train, X_test, y_train, y_test = train_test_split(X, y, test_size = 0.2)\n",
    "\n",
    "#Standardisation des données d'entraînement\n",
    "std_scale = StandardScaler().fit(X_SE_train)\n",
    "X_SE_train_std = std_scale.transform(X_SE_train)\n",
    "X_SE_test_std = std_scale.transform(X_SE_test)\n",
    "\n",
    "std_scale = StandardScaler().fit(X_train)\n",
    "X_train_std = std_scale.transform(X_train)\n",
    "X_test_std = std_scale.transform(X_test)"
   ]
  },
  {
   "cell_type": "code",
   "execution_count": 6,
   "id": "e6aaa93f",
   "metadata": {},
   "outputs": [],
   "source": [
    "#Pour le jeu transformé\n",
    "\n",
    "#Jeux d'entraînement et de test sans la varibale ENERGYSTARScore\n",
    "X_log_SE = dataLogSE.drop(['GHGEmissions(MetricTonsCO2e)', 'SiteEnergyUse(kBtu)'], axis=1)\n",
    "y_log_SE = dataLogSE['GHGEmissions(MetricTonsCO2e)']\n",
    "X_log_SE_train, X_log_SE_test, y_log_SE_train, y_log_SE_test = train_test_split(X_log_SE, y_log_SE, test_size = 0.2)\n",
    "\n",
    "#Jeux d'entraînement et de test avec la varibale ENERGYSTARScore\n",
    "X_log = dataLog.drop(['GHGEmissions(MetricTonsCO2e)'], axis=1)\n",
    "y_log = dataLog['GHGEmissions(MetricTonsCO2e)']\n",
    "X_log_train, X_log_test, y_log_train, y_log_test = train_test_split(X_log, y_log, test_size = 0.2)\n",
    "\n",
    "#Standardisation des données d'entraînement\n",
    "std_scale = StandardScaler().fit(X_log_SE_train)\n",
    "X_log_SE_train_std = std_scale.transform(X_log_SE_train)\n",
    "X_log_SE_test_std = std_scale.transform(X_log_SE_test)\n",
    "\n",
    "std_scale = StandardScaler().fit(X_log_train)\n",
    "X_log_train_std = std_scale.transform(X_log_train)\n",
    "X_log_test_std = std_scale.transform(X_log_test)"
   ]
  },
  {
   "cell_type": "markdown",
   "id": "b2ea3d5c",
   "metadata": {},
   "source": [
    "On prépare le tableau final de comparaison des modèles."
   ]
  },
  {
   "cell_type": "code",
   "execution_count": 7,
   "id": "a03716d6",
   "metadata": {},
   "outputs": [],
   "source": [
    "listeModeles = []\n",
    "\n",
    "#Modèles sans la variable ENERGYSTARScore\n",
    "listeR2_SE, listeR2_log_SE = [], []\n",
    "listeR2_SE_train, listeR2_log_SE_train = [], []\n",
    "listeMSE_SE, listeMSE_log_SE = [], []\n",
    "listeTemps_SE, listeTemps_log_SE = [], []\n",
    "\n",
    "#Modèles avec la variable ENERGYSTARScore\n",
    "listeR2, listeR2_log = [], []\n",
    "listeR2_train, listeR2_log_train = [], []\n",
    "listeMSE, listeMSE_log = [], []\n",
    "listeTemps, listeTemps_log = [], []"
   ]
  },
  {
   "cell_type": "markdown",
   "id": "55aaed7e",
   "metadata": {},
   "source": [
    "# <a name=\"C2\">Partie 2: Méthodes de Régression</a>\n",
    "## <a name=\"C3\">2.1: Régressions naïves</a> \n",
    "On va commencer par les modèles les plus simples possibles, à savoir prédire à chaque fois la valeur moyenne dans un premier temps, puis la valeur médiane dans un second temps.\n",
    "### 2.1.1: Jeu sans transformation:\n",
    "#### A: Sans la variable `ENERGYSTARScore`"
   ]
  },
  {
   "cell_type": "code",
   "execution_count": 8,
   "id": "abaaeccb",
   "metadata": {},
   "outputs": [],
   "source": [
    "listeModeles.append('Dummy_mean')\n",
    "listeModeles.append('Dummy_median')"
   ]
  },
  {
   "cell_type": "code",
   "execution_count": 9,
   "id": "12af0aec",
   "metadata": {},
   "outputs": [
    {
     "name": "stdout",
     "output_type": "stream",
     "text": [
      "r2_score train (dummy moyenne): 0.0000\n",
      "r2_score train (dummy médiane): -0.0295\n"
     ]
    }
   ],
   "source": [
    "#Entrainement du modèle sur le training_set\n",
    "start_time = timeit.default_timer()\n",
    "lm_dummy_mean = DummyRegressor(strategy = 'mean').fit(X_SE_train_std, y_SE_train)\n",
    "y_SE_predict_dummy_mean = lm_dummy_mean.predict(X_SE_test_std)\n",
    "time_mean = timeit.default_timer() - start_time\n",
    "\n",
    "#Score sur le jeu d'entraînement\n",
    "print(\"r2_score train (dummy moyenne): {:.4f}\".format(lm_dummy_mean.score(X_SE_train_std, y_SE_train)))\n",
    "listeR2_SE_train.append(lm_dummy_mean.score(X_SE_train_std, y_SE_train))\n",
    "\n",
    "#Entrainement du modèle sur le training_set\n",
    "start_time = timeit.default_timer()\n",
    "lm_dummy_median = DummyRegressor(strategy = 'median').fit(X_SE_train_std, y_SE_train)\n",
    "y_SE_predict_dummy_median = lm_dummy_median.predict(X_SE_test_std)\n",
    "time_median = timeit.default_timer() - start_time\n",
    "\n",
    "#Score sur le jeu d'entraînement\n",
    "print(\"r2_score train (dummy médiane): {:.4f}\".format(lm_dummy_median.score(X_SE_train_std, y_SE_train)))\n",
    "listeR2_SE_train.append(lm_dummy_median.score(X_SE_train_std, y_SE_train))"
   ]
  },
  {
   "cell_type": "code",
   "execution_count": 10,
   "id": "a06f1d9f",
   "metadata": {},
   "outputs": [
    {
     "name": "stdout",
     "output_type": "stream",
     "text": [
      "Mean squared error (dummy moyenne): 358174.5940\n",
      "Mean squared error (dummy médiane): 366688.9485\n",
      "r2_score (dummy mean): -0.0008\n",
      "r2_score (dummy median): -0.0246\n",
      "Temps de calcul (dummy moyenne): 0.0011\n",
      "Temps de calcul (dummy médiane): 0.0006\n"
     ]
    }
   ],
   "source": [
    "#Score du modèle sur le test_set\n",
    "print(\"Mean squared error (dummy moyenne): {:.4f}\".format(mean_squared_error(y_SE_test, y_SE_predict_dummy_mean)))\n",
    "print(\"Mean squared error (dummy médiane): {:.4f}\".format(mean_squared_error(y_SE_test, y_SE_predict_dummy_median)))\n",
    "  \n",
    "print(\"r2_score (dummy mean): {:.4f}\".format(r2_score(y_SE_test, y_SE_predict_dummy_mean)))\n",
    "print(\"r2_score (dummy median): {:.4f}\".format(r2_score(y_SE_test, y_SE_predict_dummy_median)))\n",
    "\n",
    "print(\"Temps de calcul (dummy moyenne): {:.4f}\".format(time_mean))\n",
    "print(\"Temps de calcul (dummy médiane): {:.4f}\".format(time_median))"
   ]
  },
  {
   "cell_type": "markdown",
   "id": "d4513bd3",
   "metadata": {},
   "source": [
    "Pour les deux approches les coefficients r2 sont nuls. Ces modèles sont trop simples et ne nous donnerons pas de bons résultats de prédiction."
   ]
  },
  {
   "cell_type": "code",
   "execution_count": 11,
   "id": "3f0565ec",
   "metadata": {},
   "outputs": [],
   "source": [
    "#Enregistrement des métriques\n",
    "listeMSE_SE.append(round(mean_squared_error(y_SE_test, y_SE_predict_dummy_mean),4))\n",
    "listeMSE_SE.append(round(mean_squared_error(y_SE_test, y_SE_predict_dummy_median),4))\n",
    "\n",
    "listeR2_SE.append(round(r2_score(y_SE_test, y_SE_predict_dummy_mean),4))\n",
    "listeR2_SE.append(round(r2_score(y_SE_test, y_SE_predict_dummy_median),4))\n",
    "\n",
    "listeTemps_SE.append(round(time_mean,4))\n",
    "listeTemps_SE.append(round(time_median,4))"
   ]
  },
  {
   "cell_type": "markdown",
   "id": "c79370ae",
   "metadata": {},
   "source": [
    "#### B: Avec la variable `ENERGYSTARScore`\n",
    "Regardons si l'ajout de l'Energy Star Score peut améliorer les modèles."
   ]
  },
  {
   "cell_type": "code",
   "execution_count": 12,
   "id": "f75055bb",
   "metadata": {},
   "outputs": [
    {
     "name": "stdout",
     "output_type": "stream",
     "text": [
      "r2_score train (dummy moyenne): 0.0000\n",
      "r2_score train (dummy médiane): -0.0264\n"
     ]
    }
   ],
   "source": [
    "#Entrainement du modèle sur le training_set\n",
    "start_time = timeit.default_timer()\n",
    "lm_dummy_mean = DummyRegressor(strategy = 'mean').fit(X_train_std, y_train)\n",
    "y_predict_dummy_mean = lm_dummy_mean.predict(X_test_std)\n",
    "time_mean = timeit.default_timer() - start_time\n",
    "\n",
    "#Score sur le jeu d'entraînement\n",
    "print(\"r2_score train (dummy moyenne): {:.4f}\".format(lm_dummy_mean.score(X_train_std, y_train)))\n",
    "listeR2_train.append(lm_dummy_mean.score(X_train_std, y_train))\n",
    "\n",
    "#Entrainement du modèle sur le training_set\n",
    "start_time = timeit.default_timer()\n",
    "lm_dummy_median = DummyRegressor(strategy = 'median').fit(X_train_std, y_train)\n",
    "y_predict_dummy_median = lm_dummy_median.predict(X_test_std)\n",
    "time_median = timeit.default_timer() - start_time\n",
    "\n",
    "#Score sur le jeu d'entraînement\n",
    "print(\"r2_score train (dummy médiane): {:.4f}\".format(lm_dummy_median.score(X_train_std, y_train)))\n",
    "listeR2_train.append(lm_dummy_median.score(X_train_std, y_train))"
   ]
  },
  {
   "cell_type": "code",
   "execution_count": 13,
   "id": "231856e8",
   "metadata": {},
   "outputs": [
    {
     "name": "stdout",
     "output_type": "stream",
     "text": [
      "Mean squared error (dummy moyenne): 172972.6406\n",
      "Mean squared error (dummy médiane): 179015.8893\n",
      "r2_score (dummy mean): -0.0000\n",
      "r2_score (dummy median): -0.0350\n",
      "Temps de calcul (dummy moyenne): 0.0008\n",
      "Temps de calcul (dummy médiane): 0.0015\n"
     ]
    }
   ],
   "source": [
    "#Score du modèle sur le test_set\n",
    "print(\"Mean squared error (dummy moyenne): {:.4f}\".format(mean_squared_error(y_test, y_predict_dummy_mean)))\n",
    "print(\"Mean squared error (dummy médiane): {:.4f}\".format(mean_squared_error(y_test, y_predict_dummy_median)))\n",
    "  \n",
    "print(\"r2_score (dummy mean): {:.4f}\".format(r2_score(y_test, y_predict_dummy_mean)))\n",
    "print(\"r2_score (dummy median): {:.4f}\".format(r2_score(y_test, y_predict_dummy_median)))\n",
    "\n",
    "print(\"Temps de calcul (dummy moyenne): {:.4f}\".format(time_mean))\n",
    "print(\"Temps de calcul (dummy médiane): {:.4f}\".format(time_median))"
   ]
  },
  {
   "cell_type": "markdown",
   "id": "58f80818",
   "metadata": {},
   "source": [
    "Les résultats restent quasiment identiques."
   ]
  },
  {
   "cell_type": "code",
   "execution_count": 14,
   "id": "6317213f",
   "metadata": {},
   "outputs": [],
   "source": [
    "#Enregistrement des métriques\n",
    "listeMSE.append(round(mean_squared_error(y_test, y_predict_dummy_mean),4))\n",
    "listeMSE.append(round(mean_squared_error(y_test, y_predict_dummy_median),4))\n",
    "\n",
    "listeR2.append(round(r2_score(y_test, y_predict_dummy_mean),4))\n",
    "listeR2.append(round(r2_score(y_test, y_predict_dummy_median),4))\n",
    "\n",
    "listeTemps.append(round(time_mean,4))\n",
    "listeTemps.append(round(time_median,4))"
   ]
  },
  {
   "cell_type": "markdown",
   "id": "206f1e46",
   "metadata": {},
   "source": [
    "### 2.1.2: Jeu avec transformations\n",
    "Regardons si les transformations logarithmiques réalisées dans la partie nettoyage peuvent améliorer les capacités de généralisation de ces premières approches naïves.\n",
    "#### A: Sans la variable `ENERGYSTARScore`"
   ]
  },
  {
   "cell_type": "code",
   "execution_count": 15,
   "id": "3bdf7d28",
   "metadata": {},
   "outputs": [
    {
     "name": "stdout",
     "output_type": "stream",
     "text": [
      "r2_score train (dummy moyenne): 0.0000\n",
      "r2_score train (dummy médiane): -0.0000\n"
     ]
    }
   ],
   "source": [
    "#Entrainement du modèle sur le training_set\n",
    "start_time = timeit.default_timer()\n",
    "lm_dummy_mean = DummyRegressor(strategy = 'mean').fit(X_log_SE_train_std, y_log_SE_train)\n",
    "y_log_SE_predict_dummy_mean = lm_dummy_mean.predict(X_log_SE_test_std)\n",
    "time_mean = timeit.default_timer() - start_time\n",
    "\n",
    "#Score sur le jeu d'entraînement\n",
    "print(\"r2_score train (dummy moyenne): {:.4f}\".format(lm_dummy_mean.score(X_log_SE_train_std, y_log_SE_train)))\n",
    "listeR2_log_SE_train.append(lm_dummy_mean.score(X_log_SE_train_std, y_log_SE_train))\n",
    "\n",
    "#Entrainement du modèle sur le training_set\n",
    "start_time = timeit.default_timer()\n",
    "lm_dummy_median = DummyRegressor(strategy = 'median').fit(X_log_SE_train_std, y_log_SE_train)\n",
    "y_log_SE_predict_dummy_median = lm_dummy_median.predict(X_log_SE_test_std)\n",
    "time_median = timeit.default_timer() - start_time\n",
    "\n",
    "#Score sur le jeu d'entraînement\n",
    "print(\"r2_score train (dummy médiane): {:.4f}\".format(lm_dummy_median.score(X_log_SE_train_std, y_log_SE_train)))\n",
    "listeR2_log_SE_train.append(lm_dummy_median.score(X_log_SE_train_std, y_log_SE_train))"
   ]
  },
  {
   "cell_type": "code",
   "execution_count": 16,
   "id": "adb75d8b",
   "metadata": {},
   "outputs": [
    {
     "name": "stdout",
     "output_type": "stream",
     "text": [
      "Mean squared error (dummy moyenne): 2.1518\n",
      "Mean squared error (dummy médiane): 2.1523\n",
      "r2_score (dummy mean): -0.0025\n",
      "r2_score (dummy median): -0.0028\n",
      "Temps de calcul (dummy moyenne): 0.0005\n",
      "Temps de calcul (dummy médiane): 0.0007\n"
     ]
    }
   ],
   "source": [
    "#Score du modèle sur le test_set\n",
    "print(\"Mean squared error (dummy moyenne): {:.4f}\".format(mean_squared_error(y_log_SE_test, y_log_SE_predict_dummy_mean)))\n",
    "print(\"Mean squared error (dummy médiane): {:.4f}\".format(mean_squared_error(y_log_SE_test, y_log_SE_predict_dummy_median)))\n",
    "  \n",
    "print(\"r2_score (dummy mean): {:.4f}\".format(r2_score(y_log_SE_test, y_log_SE_predict_dummy_mean)))\n",
    "print(\"r2_score (dummy median): {:.4f}\".format(r2_score(y_log_SE_test, y_log_SE_predict_dummy_median)))\n",
    "\n",
    "print(\"Temps de calcul (dummy moyenne): {:.4f}\".format(time_mean))\n",
    "print(\"Temps de calcul (dummy médiane): {:.4f}\".format(time_median))"
   ]
  },
  {
   "cell_type": "code",
   "execution_count": 17,
   "id": "124f5a30",
   "metadata": {},
   "outputs": [],
   "source": [
    "#Enregistrement des métriques\n",
    "listeMSE_log_SE.append(round(mean_squared_error(y_log_SE_test, y_log_SE_predict_dummy_mean),4))\n",
    "listeMSE_log_SE.append(round(mean_squared_error(y_log_SE_test, y_log_SE_predict_dummy_median),4))\n",
    "\n",
    "listeR2_log_SE.append(round(r2_score(y_log_SE_test, y_log_SE_predict_dummy_mean),4))\n",
    "listeR2_log_SE.append(round(r2_score(y_log_SE_test, y_log_SE_predict_dummy_median),4))\n",
    "\n",
    "listeTemps_log_SE.append(round(time_mean,4))\n",
    "listeTemps_log_SE.append(round(time_median,4))"
   ]
  },
  {
   "cell_type": "markdown",
   "id": "23c84597",
   "metadata": {},
   "source": [
    "#### B: Avec la variable `ENERGYSTARScore`"
   ]
  },
  {
   "cell_type": "code",
   "execution_count": 18,
   "id": "2bf2ba77",
   "metadata": {},
   "outputs": [
    {
     "name": "stdout",
     "output_type": "stream",
     "text": [
      "r2_score train (dummy moyenne): 0.0000\n",
      "r2_score train (dummy médiane): -0.0001\n"
     ]
    }
   ],
   "source": [
    "#Entrainement du modèle sur le training_set\n",
    "start_time = timeit.default_timer()\n",
    "lm_dummy_mean = DummyRegressor(strategy = 'mean').fit(X_log_train_std, y_log_train)\n",
    "y_log_predict_dummy_mean = lm_dummy_mean.predict(X_log_test_std)\n",
    "time_mean = timeit.default_timer() - start_time\n",
    "\n",
    "#Score sur le jeu d'entraînement\n",
    "print(\"r2_score train (dummy moyenne): {:.4f}\".format(lm_dummy_mean.score(X_log_train_std, y_log_train)))\n",
    "listeR2_log_train.append(lm_dummy_mean.score(X_log_train_std, y_log_train))\n",
    "\n",
    "#Entrainement du modèle sur le training_set\n",
    "start_time = timeit.default_timer()\n",
    "lm_dummy_median = DummyRegressor(strategy = 'median').fit(X_log_train_std, y_log_train)\n",
    "y_log_predict_dummy_median = lm_dummy_median.predict(X_log_test_std)\n",
    "time_median = timeit.default_timer() - start_time\n",
    "\n",
    "#Score sur le jeu d'entraînement\n",
    "print(\"r2_score train (dummy médiane): {:.4f}\".format(lm_dummy_median.score(X_log_train_std, y_log_train)))\n",
    "listeR2_log_train.append(lm_dummy_median.score(X_log_train_std, y_log_train))"
   ]
  },
  {
   "cell_type": "code",
   "execution_count": 19,
   "id": "646ea5e9",
   "metadata": {},
   "outputs": [
    {
     "name": "stdout",
     "output_type": "stream",
     "text": [
      "Mean squared error (dummy moyenne): 2.1079\n",
      "Mean squared error (dummy médiane): 2.1079\n",
      "r2_score (dummy mean): -0.0000\n",
      "r2_score (dummy median): -0.0000\n",
      "Temps de calcul (dummy moyenne): 0.0011\n",
      "Temps de calcul (dummy médiane): 0.0007\n"
     ]
    }
   ],
   "source": [
    "#Score du modèle sur le test_set\n",
    "print(\"Mean squared error (dummy moyenne): {:.4f}\".format(mean_squared_error(y_log_test, y_log_predict_dummy_mean)))\n",
    "print(\"Mean squared error (dummy médiane): {:.4f}\".format(mean_squared_error(y_log_test, y_log_predict_dummy_median)))\n",
    "  \n",
    "print(\"r2_score (dummy mean): {:.4f}\".format(r2_score(y_log_test, y_log_predict_dummy_mean)))\n",
    "print(\"r2_score (dummy median): {:.4f}\".format(r2_score(y_log_test, y_log_predict_dummy_median)))\n",
    "\n",
    "print(\"Temps de calcul (dummy moyenne): {:.4f}\".format(time_mean))\n",
    "print(\"Temps de calcul (dummy médiane): {:.4f}\".format(time_median))"
   ]
  },
  {
   "cell_type": "code",
   "execution_count": 20,
   "id": "59e0f392",
   "metadata": {},
   "outputs": [],
   "source": [
    "#Enregistrement des métriques\n",
    "listeMSE_log.append(round(mean_squared_error(y_log_test, y_log_predict_dummy_mean),4))\n",
    "listeMSE_log.append(round(mean_squared_error(y_log_test, y_log_predict_dummy_median),4))\n",
    "\n",
    "listeR2_log.append(round(r2_score(y_log_test, y_log_predict_dummy_mean),4))\n",
    "listeR2_log.append(round(r2_score(y_log_test, y_log_predict_dummy_median),4))\n",
    "\n",
    "listeTemps_log.append(round(time_mean,4))\n",
    "listeTemps_log.append(round(time_median,4))"
   ]
  },
  {
   "cell_type": "markdown",
   "id": "4778f084",
   "metadata": {},
   "source": [
    "Les coefficients r2 sont toujours nuls, ce qui signifie que ces modèles sont médiocres pour faire des prédictions."
   ]
  },
  {
   "cell_type": "markdown",
   "id": "cfb83c3b",
   "metadata": {},
   "source": [
    "## <a name=\"C4\">Partie 2.2: Régression Linéaire</a>\n",
    "Les premières approches naïves n'étant pas satisfaisantes, on va complexifier un peu le modèle.\n",
    "\n",
    "Notre démarche, qui sera la même pour tous les prochains modèles, est la suivante:\n",
    "- Trouver les meilleurs hyperparamètres (lorqu'il y en a) par recherche sur grille\n",
    "- Réaliser une validation croisée sur le jeu d'entraînement pour avoir une idée des capacités de généralisation du modèle et pouvoir contrôler l'éventuel sur/sous-apprentissage\n",
    "- Entraîner le modèle sur le jeu d'entraînement\n",
    "- Evaluer le score du modèle sur le jeu de test\n",
    "- Récupérer les différentes métriques du modèle pour pouvoir le comparer aux autres\n",
    "\n",
    "### 2.2.1: Jeu sans transformation\n",
    "#### A: Sans la variable `ENERGYSTARScore`"
   ]
  },
  {
   "cell_type": "code",
   "execution_count": 21,
   "id": "39a4efc2",
   "metadata": {},
   "outputs": [],
   "source": [
    "listeModeles.append('regression_lineaire')"
   ]
  },
  {
   "cell_type": "markdown",
   "id": "2611eeb4",
   "metadata": {},
   "source": [
    "Pour optimiser la méthode de régression linéaire, il faut sélectionner les features qui sont corrélées avec la target mais ne sont pas corrélées entre elles. Pour cela, on peut utiliser un algorithme de sélection des x meilleures features, où x est un hyperparamètre que l'on peut trouver par une recherche sur grille."
   ]
  },
  {
   "cell_type": "code",
   "execution_count": 22,
   "id": "8989063e",
   "metadata": {},
   "outputs": [
    {
     "name": "stdout",
     "output_type": "stream",
     "text": [
      "Le meilleur coefficient r2 = 0.5177484851546111 est obtenu en sélectionnant les 4 meilleures features\n"
     ]
    }
   ],
   "source": [
    "#GridSearch pour trouver le(s) paramètre(s) qui renvoie(nt) le meilleur score R²\n",
    "r2 = []\n",
    "nb_features = range(1, X_SE_train_std.shape[1])\n",
    "\n",
    "for i in nb_features:\n",
    "    f_selector = SelectKBest(score_func=f_regression, k=i)\n",
    "    f_selector.fit(X_SE_train_std, y_SE_train)\n",
    "    X_SE_train_fs = f_selector.transform(X_SE_train_std)\n",
    "    lm = LinearRegression()\n",
    "    r2.append(cross_val_score(lm, X_SE_train_fs, y_SE_train).mean())\n",
    "\n",
    "r2_max = max(r2)\n",
    "k = r2.index(r2_max)+1\n",
    "print(\"Le meilleur coefficient r2 = \" + str(r2_max) + \" est obtenu en sélectionnant les \" + str(k) + \" meilleures features\")"
   ]
  },
  {
   "cell_type": "code",
   "execution_count": 23,
   "id": "84fb5a88",
   "metadata": {},
   "outputs": [
    {
     "name": "stdout",
     "output_type": "stream",
     "text": [
      "[ 0.58993871  0.74793189  0.54860045  0.1191379  -0.10010975]\n"
     ]
    }
   ],
   "source": [
    "#Cross-validation du modèle (avec les paramètres optimaux)\n",
    "lm = LinearRegression()\n",
    "f_selector = SelectKBest(score_func=f_regression, k=k)\n",
    "f_selector.fit(X_SE_train_std, y_SE_train)\n",
    "X_SE_train_fs = f_selector.transform(X_SE_train)\n",
    "print(cross_val_score(lm, X_SE_train_fs, y_SE_train,  cv=5))"
   ]
  },
  {
   "cell_type": "code",
   "execution_count": 24,
   "id": "4efe935f",
   "metadata": {},
   "outputs": [
    {
     "name": "stdout",
     "output_type": "stream",
     "text": [
      "r2_score train: 0.7023\n"
     ]
    }
   ],
   "source": [
    "#Entrainement du modèle sur le training_set\n",
    "f_selector = SelectKBest(score_func=f_regression, k=k)\n",
    "f_selector.fit(X_SE_train, y_SE_train)\n",
    "X_SE_train_fs = f_selector.transform(X_SE_train_std)\n",
    "X_SE_test_fs = f_selector.transform(X_SE_test)\n",
    "\n",
    "start_time = timeit.default_timer()\n",
    "lm = LinearRegression().fit(X_SE_train_fs, y_SE_train)\n",
    "y_SE_predict = lm.predict(X_SE_test_fs)\n",
    "time = timeit.default_timer() - start_time\n",
    "\n",
    "#Score sur le jeu d'entraînement\n",
    "print(\"r2_score train: {:.4f}\".format(lm.score(X_SE_train_fs, y_SE_train)))\n",
    "listeR2_SE_train.append(lm.score(X_SE_train_fs, y_SE_train))"
   ]
  },
  {
   "cell_type": "code",
   "execution_count": 25,
   "id": "5f2b89c2",
   "metadata": {},
   "outputs": [
    {
     "name": "stdout",
     "output_type": "stream",
     "text": [
      "Mean squared error: 1401482754522089.2500\n",
      "r2_score: -3916104304.3819\n",
      "Temps de calcul: 0.0009\n"
     ]
    }
   ],
   "source": [
    "#Score du modèle sur le test_set\n",
    "print(\"Mean squared error: {:.4f}\".format(mean_squared_error(y_SE_test, y_SE_predict)))\n",
    "print(\"r2_score: {:.4f}\".format(r2_score(y_SE_test, y_SE_predict)))\n",
    "print(\"Temps de calcul: {:.4f}\".format(time))\n"
   ]
  },
  {
   "cell_type": "code",
   "execution_count": 26,
   "id": "f9c447d7",
   "metadata": {},
   "outputs": [],
   "source": [
    "#Enregistrement des métriques\n",
    "listeMSE_SE.append(round(mean_squared_error(y_SE_test, y_SE_predict),4))\n",
    "listeR2_SE.append(round(r2_score(y_SE_test, y_SE_predict),4))\n",
    "listeTemps_SE.append(round(time,4))"
   ]
  },
  {
   "cell_type": "markdown",
   "id": "6235760d",
   "metadata": {},
   "source": [
    "On note de l'insatbilité lors de la validation croisée. Le r2 du test est négatif et on note un problème de sur-apprentissage lors de l'entraînement où on obtient un r2 de 0,7."
   ]
  },
  {
   "cell_type": "markdown",
   "id": "17993b29",
   "metadata": {},
   "source": [
    "#### B: Avec la variable `ENERGYSTARScore`"
   ]
  },
  {
   "cell_type": "code",
   "execution_count": 27,
   "id": "32634a15",
   "metadata": {},
   "outputs": [
    {
     "name": "stdout",
     "output_type": "stream",
     "text": [
      "Le meilleur coefficient r2 = 0.7279269772180148 est obtenu en sélectionnant les 2 meilleures features\n"
     ]
    }
   ],
   "source": [
    "#GridSearch pour trouver le(s) paramètre(s) qui renvoie(nt) le meilleur score R²\n",
    "r2 = []\n",
    "nb_features = range(1, X_train_std.shape[1])\n",
    "\n",
    "for i in nb_features:\n",
    "    f_selector = SelectKBest(score_func=f_regression, k=i)\n",
    "    f_selector.fit(X_train_std, y_train)\n",
    "    X_train_fs = f_selector.transform(X_train_std)\n",
    "    lm = LinearRegression()\n",
    "    r2.append(cross_val_score(lm, X_train_fs, y_train).mean())\n",
    "\n",
    "r2_max = max(r2)\n",
    "k = r2.index(r2_max)+1\n",
    "print(\"Le meilleur coefficient r2 = \" + str(r2_max) + \" est obtenu en sélectionnant les \" + str(k) + \" meilleures features\")"
   ]
  },
  {
   "cell_type": "code",
   "execution_count": 28,
   "id": "6e9c2204",
   "metadata": {},
   "outputs": [
    {
     "name": "stdout",
     "output_type": "stream",
     "text": [
      "[0.69574853 0.52346711 0.82733653 0.71953926 0.87354346]\n"
     ]
    }
   ],
   "source": [
    "#Cross-validation du modèle (avec les paramètres optimaux)\n",
    "lm = LinearRegression()\n",
    "f_selector = SelectKBest(score_func=f_regression, k=k)\n",
    "f_selector.fit(X_train_std, y_train)\n",
    "X_train_fs = f_selector.transform(X_train_std)\n",
    "print(cross_val_score(lm, X_train_fs, y_train,  cv=5))"
   ]
  },
  {
   "cell_type": "code",
   "execution_count": 29,
   "id": "5f38875d",
   "metadata": {},
   "outputs": [
    {
     "name": "stdout",
     "output_type": "stream",
     "text": [
      "r2_score train: 0.7868\n"
     ]
    }
   ],
   "source": [
    "#Entrainement du modèle sur le training_set\n",
    "f_selector = SelectKBest(score_func=f_regression, k=k)\n",
    "f_selector.fit(X_train_std, y_train)\n",
    "X_train_fs = f_selector.transform(X_train_std)\n",
    "X_test_fs = f_selector.transform(X_test_std)\n",
    "\n",
    "start_time = timeit.default_timer()\n",
    "lm = LinearRegression().fit(X_train_fs, y_train)\n",
    "y_predict = lm.predict(X_test_fs)\n",
    "time = timeit.default_timer() - start_time\n",
    "\n",
    "#Score sur le jeu d'entraînement\n",
    "print(\"r2_score train: {:.4f}\".format(lm.score(X_train_fs, y_train)))\n",
    "listeR2_train.append(lm.score(X_train_fs, y_train))"
   ]
  },
  {
   "cell_type": "code",
   "execution_count": 30,
   "id": "15955672",
   "metadata": {},
   "outputs": [
    {
     "name": "stdout",
     "output_type": "stream",
     "text": [
      "Mean squared error: 21076.3836\n",
      "r2_score: 0.8781\n",
      "Temps de calcul: 0.0010\n"
     ]
    }
   ],
   "source": [
    "#Score du modèle sur le test_set\n",
    "print(\"Mean squared error: {:.4f}\".format(mean_squared_error(y_test, y_predict)))\n",
    "print(\"r2_score: {:.4f}\".format(r2_score(y_test, y_predict)))\n",
    "print(\"Temps de calcul: {:.4f}\".format(time))"
   ]
  },
  {
   "cell_type": "code",
   "execution_count": 31,
   "id": "ea7e2838",
   "metadata": {},
   "outputs": [],
   "source": [
    "#Enregistrement des métriques\n",
    "listeMSE.append(round(mean_squared_error(y_test, y_predict),4))\n",
    "listeR2.append(round(r2_score(y_test, y_predict),4))\n",
    "listeTemps.append(round(time,4))"
   ]
  },
  {
   "cell_type": "markdown",
   "id": "57ed12a9",
   "metadata": {},
   "source": [
    "Il y a encore de l'instabilité lors de la validation croisée et du sous-apprentissage avec un coefficient r2 plus grand pour le test que pour l'entraînement."
   ]
  },
  {
   "cell_type": "markdown",
   "id": "9170cea0",
   "metadata": {},
   "source": [
    "### 2.2.2: Jeu avec transformation\n",
    "#### A: Sans la variable `ENERGYSTARScore`"
   ]
  },
  {
   "cell_type": "code",
   "execution_count": 32,
   "id": "786a3bd4",
   "metadata": {},
   "outputs": [
    {
     "name": "stdout",
     "output_type": "stream",
     "text": [
      "Le meilleur coefficient r2 = 0.5441251509404189 est obtenu en sélectionnant les 56 meilleures features\n"
     ]
    }
   ],
   "source": [
    "#GridSearch pour trouver le(s) paramètre(s) qui renvoie(nt) le meilleur score R²\n",
    "r2 = []\n",
    "nb_features = range(1, X_log_SE_train_std.shape[1])\n",
    "\n",
    "for i in nb_features:\n",
    "    f_selector = SelectKBest(score_func=f_regression, k=i)\n",
    "    f_selector.fit(X_log_SE_train_std, y_log_SE_train)\n",
    "    X_log_SE_train_fs = f_selector.transform(X_log_SE_train_std)\n",
    "    lm = LinearRegression()\n",
    "    r2.append(cross_val_score(lm, X_log_SE_train_fs, y_log_SE_train).mean())\n",
    "\n",
    "r2_max = max(r2)\n",
    "k = r2.index(r2_max)+1\n",
    "print(\"Le meilleur coefficient r2 = \" + str(r2_max) + \" est obtenu en sélectionnant les \" + str(k) + \" meilleures features\")"
   ]
  },
  {
   "cell_type": "code",
   "execution_count": 33,
   "id": "845949b6",
   "metadata": {},
   "outputs": [
    {
     "name": "stdout",
     "output_type": "stream",
     "text": [
      "[0.58019477 0.53462208 0.51665598 0.49856654 0.59058638]\n"
     ]
    }
   ],
   "source": [
    "#Cross-validation du modèle (avec les paramètres optimaux)\n",
    "lm = LinearRegression()\n",
    "f_selector = SelectKBest(score_func=f_regression, k=k)\n",
    "f_selector.fit(X_log_SE_train_std, y_log_SE_train)\n",
    "X_log_SE_train_fs = f_selector.transform(X_log_SE_train_std)\n",
    "print(cross_val_score(lm, X_log_SE_train_fs, y_log_SE_train,  cv=5))"
   ]
  },
  {
   "cell_type": "code",
   "execution_count": 34,
   "id": "a2534763",
   "metadata": {},
   "outputs": [
    {
     "name": "stdout",
     "output_type": "stream",
     "text": [
      "r2_score train: 0.5602\n"
     ]
    }
   ],
   "source": [
    "#Entrainement du modèle sur le training_set\n",
    "f_selector = SelectKBest(score_func=f_regression, k=k)\n",
    "f_selector.fit(X_log_SE_train_std, y_log_SE_train)\n",
    "X_log_SE_train_fs = f_selector.transform(X_log_SE_train_std)\n",
    "X_log_SE_test_fs = f_selector.transform(X_log_SE_test_std)\n",
    "\n",
    "start_time = timeit.default_timer()\n",
    "lm = LinearRegression().fit(X_log_SE_train_fs, y_log_SE_train)\n",
    "y_log_SE_predict = lm.predict(X_log_SE_test_fs)\n",
    "time = timeit.default_timer() - start_time\n",
    "\n",
    "#Score sur le jeu d'entraînement\n",
    "print(\"r2_score train: {:.4f}\".format(lm.score(X_log_SE_train_fs, y_log_SE_train)))\n",
    "listeR2_log_SE_train.append(lm.score(X_log_SE_train_fs, y_log_SE_train))"
   ]
  },
  {
   "cell_type": "code",
   "execution_count": 35,
   "id": "7de1baa6",
   "metadata": {},
   "outputs": [
    {
     "name": "stdout",
     "output_type": "stream",
     "text": [
      "Mean squared error: 0.9376\n",
      "r2_score: 0.5631\n",
      "Temps de calcul: 0.0077\n"
     ]
    }
   ],
   "source": [
    "#Score du modèle sur le test_set\n",
    "print(\"Mean squared error: {:.4f}\".format(mean_squared_error(y_log_SE_test, y_log_SE_predict)))\n",
    "print(\"r2_score: {:.4f}\".format(r2_score(y_log_SE_test, y_log_SE_predict)))\n",
    "print(\"Temps de calcul: {:.4f}\".format(time))"
   ]
  },
  {
   "cell_type": "code",
   "execution_count": 36,
   "id": "83be4ecd",
   "metadata": {},
   "outputs": [],
   "source": [
    "#Enregistrement des métriques\n",
    "listeMSE_log_SE.append(round(mean_squared_error(y_log_SE_test, y_log_SE_predict),4))\n",
    "listeR2_log_SE.append(round(r2_score(y_log_SE_test, y_log_SE_predict),4))\n",
    "listeTemps_log_SE.append(round(time,4))"
   ]
  },
  {
   "cell_type": "markdown",
   "id": "4c448563",
   "metadata": {},
   "source": [
    "Les transformations logarithmiques ont stabilisé le modèle et amoindri les effets de sur/sous-apprentissage. Le coefficient n'est toutefois pas très élevé."
   ]
  },
  {
   "cell_type": "markdown",
   "id": "bf9d1bc6",
   "metadata": {},
   "source": [
    "#### B: Avec la variable `ENERGYSTARScore`"
   ]
  },
  {
   "cell_type": "code",
   "execution_count": 37,
   "id": "bae76e1c",
   "metadata": {},
   "outputs": [
    {
     "name": "stdout",
     "output_type": "stream",
     "text": [
      "Le meilleur coefficient r2 = 0.6847700531365462 est obtenu en sélectionnant les 59 meilleures features\n"
     ]
    }
   ],
   "source": [
    "#GridSearch pour trouver le(s) paramètre(s) qui renvoie(nt) le meilleur score R²\n",
    "r2 = []\n",
    "nb_features = range(1, X_log_train_std.shape[1])\n",
    "\n",
    "for i in nb_features:\n",
    "    f_selector = SelectKBest(score_func=f_regression, k=i)\n",
    "    f_selector.fit(X_log_train_std, y_log_train)\n",
    "    X_log_train_fs = f_selector.transform(X_log_train_std)\n",
    "    lm = LinearRegression()\n",
    "    r2.append(cross_val_score(lm, X_log_train_fs, y_log_train).mean())\n",
    "\n",
    "r2_max = max(r2)\n",
    "k = r2.index(r2_max)+1\n",
    "print(\"Le meilleur coefficient r2 = \" + str(r2_max) + \" est obtenu en sélectionnant les \" + str(k) + \" meilleures features\")"
   ]
  },
  {
   "cell_type": "code",
   "execution_count": 38,
   "id": "f24506f6",
   "metadata": {},
   "outputs": [
    {
     "name": "stdout",
     "output_type": "stream",
     "text": [
      "[0.70362102 0.72509661 0.73182637 0.65895942 0.60434685]\n"
     ]
    }
   ],
   "source": [
    "#Cross-validation du modèle (avec les paramètres optimaux)\n",
    "lm = LinearRegression()\n",
    "f_selector = SelectKBest(score_func=f_regression, k=k)\n",
    "f_selector.fit(X_log_train_std, y_log_train)\n",
    "X_log_train_fs = f_selector.transform(X_log_train_std)\n",
    "print(cross_val_score(lm, X_log_train_fs, y_log_train,  cv=5))"
   ]
  },
  {
   "cell_type": "code",
   "execution_count": 39,
   "id": "a12ec4a7",
   "metadata": {},
   "outputs": [
    {
     "name": "stdout",
     "output_type": "stream",
     "text": [
      "r2_score train: 0.6995\n"
     ]
    }
   ],
   "source": [
    "#Entrainement du modèle sur le training_set\n",
    "f_selector = SelectKBest(score_func=f_regression, k=k)\n",
    "f_selector.fit(X_log_train_std, y_log_train)\n",
    "X_log_train_fs = f_selector.transform(X_log_train_std)\n",
    "X_log_test_fs = f_selector.transform(X_log_test_std)\n",
    "\n",
    "start_time = timeit.default_timer()\n",
    "lm = LinearRegression().fit(X_log_train_fs, y_log_train)\n",
    "y_log_predict = lm.predict(X_log_test_fs)\n",
    "time = timeit.default_timer() - start_time\n",
    "\n",
    "#Score sur le jeu d'entraînement\n",
    "print(\"r2_score train: {:.4f}\".format(lm.score(X_log_train_fs, y_log_train)))\n",
    "listeR2_log_train.append(lm.score(X_log_train_fs, y_log_train))"
   ]
  },
  {
   "cell_type": "code",
   "execution_count": 40,
   "id": "e25a1137",
   "metadata": {},
   "outputs": [
    {
     "name": "stdout",
     "output_type": "stream",
     "text": [
      "Mean squared error: 0.6198\n",
      "r2_score: 0.7060\n",
      "Temps de calcul: 0.0096\n"
     ]
    }
   ],
   "source": [
    "#Score du modèle sur le test_set\n",
    "print(\"Mean squared error: {:.4f}\".format(mean_squared_error(y_log_test, y_log_predict)))\n",
    "print(\"r2_score: {:.4f}\".format(r2_score(y_log_test, y_log_predict)))\n",
    "print(\"Temps de calcul: {:.4f}\".format(time))"
   ]
  },
  {
   "cell_type": "code",
   "execution_count": 41,
   "id": "d5443672",
   "metadata": {},
   "outputs": [],
   "source": [
    "#Enregistrement des métriques\n",
    "listeMSE_log.append(round(mean_squared_error(y_log_test, y_log_predict),4))\n",
    "listeR2_log.append(round(r2_score(y_log_test, y_log_predict),4))\n",
    "listeTemps_log.append(round(time,4))"
   ]
  },
  {
   "cell_type": "markdown",
   "id": "2f6c7ae7",
   "metadata": {},
   "source": [
    "L'ajout de la varibale `ENERGYSTARScore` produit un gain d'environ 0,1 sur le coefficient r2."
   ]
  },
  {
   "cell_type": "markdown",
   "id": "5bc30d26",
   "metadata": {},
   "source": [
    "## <a name=\"C5\">2.3: Régression Ridge</a>\n",
    "Pour éviter l'éventuel sur-appretissage du modèle de régression linéaire, on va utiliser une technique de régularisation afin de pouvoir contrôler en plus de l'erreur du modèle, sa complexité.\n",
    "### 2.3.1: Jeu sans transformation\n",
    "#### A: Sans la variable `ENERGYSTARScore`"
   ]
  },
  {
   "cell_type": "code",
   "execution_count": 42,
   "id": "9ae22070",
   "metadata": {},
   "outputs": [],
   "source": [
    "listeModeles.append(\"regression_ridge\")"
   ]
  },
  {
   "cell_type": "code",
   "execution_count": 43,
   "id": "6661b556",
   "metadata": {},
   "outputs": [],
   "source": [
    "#GridSearch pour trouver le(s) paramètre(s) qui renvoie(nt) le meilleur score R²\n",
    "reg = RidgeCV(alphas=[1e-3, 1e-2, 1e-1, 1, 10]).fit(X_SE_train_std, y_SE_train)\n",
    "alpha = reg.alpha_"
   ]
  },
  {
   "cell_type": "code",
   "execution_count": 44,
   "id": "b0b292db",
   "metadata": {},
   "outputs": [
    {
     "name": "stdout",
     "output_type": "stream",
     "text": [
      "[0.5312539  0.79477082 0.63698635 0.17072091 0.12360071]\n"
     ]
    }
   ],
   "source": [
    "#Cross-validation du modèle (avec les paramètres optimaux)\n",
    "lmr = Ridge(alpha)\n",
    "print(cross_val_score(lmr, X_SE_train_std, y_SE_train,  cv=5))"
   ]
  },
  {
   "cell_type": "code",
   "execution_count": 45,
   "id": "43474d08",
   "metadata": {},
   "outputs": [
    {
     "name": "stdout",
     "output_type": "stream",
     "text": [
      "r2_score train: 0.7723\n"
     ]
    }
   ],
   "source": [
    "#Entrainement du modèle sur le training_set\n",
    "start_time = timeit.default_timer()\n",
    "lmr = Ridge(alpha).fit(X_SE_train_std, y_SE_train)\n",
    "y_SE_predict = lmr.predict(X_SE_test_std)\n",
    "time = timeit.default_timer() - start_time\n",
    "\n",
    "#Score sur le jeu d'entraînement\n",
    "print(\"r2_score train: {:.4f}\".format(lmr.score(X_SE_train_std, y_SE_train)))\n",
    "listeR2_SE_train.append(lmr.score(X_SE_train_std, y_SE_train))"
   ]
  },
  {
   "cell_type": "code",
   "execution_count": 46,
   "id": "5e70e91c",
   "metadata": {
    "scrolled": true
   },
   "outputs": [
    {
     "name": "stdout",
     "output_type": "stream",
     "text": [
      "Mean squared error: 137001.5091\n",
      "r2_score: 0.6172\n",
      "Temps de calcul: 0.0460\n"
     ]
    }
   ],
   "source": [
    "#Score du modèle sur le test_set\n",
    "print(\"Mean squared error: {:.4f}\".format(mean_squared_error(y_SE_test, y_SE_predict)))\n",
    "print(\"r2_score: {:.4f}\".format(r2_score(y_SE_test, y_SE_predict)))\n",
    "print(\"Temps de calcul: {:.4f}\".format(time))"
   ]
  },
  {
   "cell_type": "code",
   "execution_count": 47,
   "id": "e6881e24",
   "metadata": {},
   "outputs": [],
   "source": [
    "#Enregistrement des métriques\n",
    "listeMSE_SE.append(round(mean_squared_error(y_SE_test, y_SE_predict),4))\n",
    "listeR2_SE.append(round(r2_score(y_SE_test, y_SE_predict),4))\n",
    "listeTemps_SE.append(round(time,4))"
   ]
  },
  {
   "cell_type": "markdown",
   "id": "1a094f80",
   "metadata": {},
   "source": [
    "Instabilité et sur-apprentissage."
   ]
  },
  {
   "cell_type": "markdown",
   "id": "b11a72ca",
   "metadata": {},
   "source": [
    "#### B: Avec la variable `ENERGYSTARScore`"
   ]
  },
  {
   "cell_type": "code",
   "execution_count": 48,
   "id": "ed63eec1",
   "metadata": {},
   "outputs": [],
   "source": [
    "#GridSearch pour trouver le(s) paramètre(s) qui renvoie(nt) le meilleur score R²\n",
    "reg = RidgeCV(alphas=[1e-3, 1e-2, 1e-1, 1, 10]).fit(X_train_std, y_train)\n",
    "alpha = reg.alpha_"
   ]
  },
  {
   "cell_type": "code",
   "execution_count": 49,
   "id": "addcfe80",
   "metadata": {},
   "outputs": [
    {
     "name": "stdout",
     "output_type": "stream",
     "text": [
      "[0.81551151 0.64312435 0.52246476 0.78507081 0.73293539]\n"
     ]
    }
   ],
   "source": [
    "#Cross-validation du modèle (avec les paramètres optimaux)\n",
    "lmr = Ridge(alpha)\n",
    "print(cross_val_score(lmr, X_train_std, y_train,  cv=5))"
   ]
  },
  {
   "cell_type": "code",
   "execution_count": 50,
   "id": "68754a51",
   "metadata": {},
   "outputs": [
    {
     "name": "stdout",
     "output_type": "stream",
     "text": [
      "r2_score train: 0.8696\n"
     ]
    }
   ],
   "source": [
    "#Entrainement du modèle sur le training_set\n",
    "start_time = timeit.default_timer()\n",
    "lmr = Ridge(alpha).fit(X_train_std, y_train)\n",
    "y_predict = lmr.predict(X_test_std)\n",
    "time = timeit.default_timer() - start_time\n",
    "\n",
    "#Score sur le jeu d'entraînement\n",
    "print(\"r2_score train: {:.4f}\".format(lmr.score(X_train_std, y_train)))\n",
    "listeR2_train.append(lmr.score(X_train_std, y_train))"
   ]
  },
  {
   "cell_type": "code",
   "execution_count": 51,
   "id": "02917b47",
   "metadata": {},
   "outputs": [
    {
     "name": "stdout",
     "output_type": "stream",
     "text": [
      "Mean squared error: 18933.6237\n",
      "r2_score: 0.8905\n",
      "Temps de calcul: 0.0441\n"
     ]
    }
   ],
   "source": [
    "#Score du modèle sur le test_set\n",
    "print(\"Mean squared error: {:.4f}\".format(mean_squared_error(y_test, y_predict)))\n",
    "print(\"r2_score: {:.4f}\".format(r2_score(y_test, y_predict)))\n",
    "print(\"Temps de calcul: {:.4f}\".format(time))"
   ]
  },
  {
   "cell_type": "code",
   "execution_count": 52,
   "id": "fb9c146b",
   "metadata": {},
   "outputs": [],
   "source": [
    "#Enregistrement des métriques\n",
    "listeMSE.append(round(mean_squared_error(y_test, y_predict),4))\n",
    "listeR2.append(round(r2_score(y_test, y_predict),4))\n",
    "listeTemps.append(round(time,4))"
   ]
  },
  {
   "cell_type": "markdown",
   "id": "f7b5dc58",
   "metadata": {},
   "source": [
    "Encore de l'instabilité."
   ]
  },
  {
   "cell_type": "markdown",
   "id": "cfd52208",
   "metadata": {},
   "source": [
    "### 2.3.2: Jeu avec transformations\n",
    "#### A: Sans la variable `ENERGYSTARScore`"
   ]
  },
  {
   "cell_type": "code",
   "execution_count": 53,
   "id": "f7e8ff08",
   "metadata": {},
   "outputs": [],
   "source": [
    "#GridSearch pour trouver le(s) paramètre(s) qui renvoie(nt) le meilleur score R²\n",
    "reg = RidgeCV(alphas=[1e-3, 1e-2, 1e-1, 1, 10]).fit(X_log_SE_train_std, y_log_SE_train)\n",
    "alpha = reg.alpha_"
   ]
  },
  {
   "cell_type": "code",
   "execution_count": 54,
   "id": "22422be7",
   "metadata": {},
   "outputs": [
    {
     "name": "stdout",
     "output_type": "stream",
     "text": [
      "[0.59626895 0.55566835 0.55257966 0.49333762 0.62017857]\n"
     ]
    }
   ],
   "source": [
    "#Cross-validation du modèle (avec les paramètres optimaux)\n",
    "lmr = Ridge(alpha)\n",
    "print(cross_val_score(lmr, X_log_SE_train_std, y_log_SE_train,  cv=5))"
   ]
  },
  {
   "cell_type": "code",
   "execution_count": 55,
   "id": "b03caec7",
   "metadata": {},
   "outputs": [
    {
     "name": "stdout",
     "output_type": "stream",
     "text": [
      "r2_score train: 0.6189\n"
     ]
    }
   ],
   "source": [
    "#Entrainement du modèle sur le training_set\n",
    "start_time = timeit.default_timer()\n",
    "lmr = Ridge(alpha).fit(X_log_SE_train_std, y_log_SE_train)\n",
    "y_log_SE_predict = lmr.predict(X_log_SE_test_std)\n",
    "time = timeit.default_timer() - start_time\n",
    "\n",
    "#Score sur le jeu d'entraînement\n",
    "print(\"r2_score train: {:.4f}\".format(lmr.score(X_log_SE_train_std, y_log_SE_train)))\n",
    "listeR2_log_SE_train.append(lmr.score(X_log_SE_train_std, y_log_SE_train))"
   ]
  },
  {
   "cell_type": "code",
   "execution_count": 56,
   "id": "877e21ef",
   "metadata": {},
   "outputs": [
    {
     "name": "stdout",
     "output_type": "stream",
     "text": [
      "Mean squared error: 0.9002\n",
      "r2_score: 0.5806\n",
      "Temps de calcul: 0.0560\n"
     ]
    }
   ],
   "source": [
    "#Score du modèle sur le test_set\n",
    "print(\"Mean squared error: {:.4f}\".format(mean_squared_error(y_log_SE_test, y_log_SE_predict)))\n",
    "print(\"r2_score: {:.4f}\".format(r2_score(y_log_SE_test, y_log_SE_predict)))\n",
    "print(\"Temps de calcul: {:.4f}\".format(time))"
   ]
  },
  {
   "cell_type": "code",
   "execution_count": 57,
   "id": "2a57f535",
   "metadata": {},
   "outputs": [],
   "source": [
    "#Enregistrement des métriques\n",
    "listeMSE_log_SE.append(round(mean_squared_error(y_log_SE_test, y_log_SE_predict),4))\n",
    "listeR2_log_SE.append(round(r2_score(y_log_SE_test, y_log_SE_predict),4))\n",
    "listeTemps_log_SE.append(round(time,4))"
   ]
  },
  {
   "cell_type": "markdown",
   "id": "5affd215",
   "metadata": {},
   "source": [
    "Moins d'instabilité mais un peu de sur-apprentissage."
   ]
  },
  {
   "cell_type": "markdown",
   "id": "232ea431",
   "metadata": {},
   "source": [
    "#### B: Avec la variable `ENERGYSTARScore`"
   ]
  },
  {
   "cell_type": "code",
   "execution_count": 58,
   "id": "5e1b06ea",
   "metadata": {},
   "outputs": [],
   "source": [
    "#GridSearch pour trouver le(s) paramètre(s) qui renvoie(nt) le meilleur score R²\n",
    "reg = RidgeCV(alphas=[1e-3, 1e-2, 1e-1, 1, 10]).fit(X_log_train_std, y_log_train)\n",
    "alpha = reg.alpha_"
   ]
  },
  {
   "cell_type": "code",
   "execution_count": 59,
   "id": "d974d1d9",
   "metadata": {},
   "outputs": [
    {
     "name": "stdout",
     "output_type": "stream",
     "text": [
      "[0.71635446 0.73497184 0.75118349 0.68745106 0.631709  ]\n"
     ]
    }
   ],
   "source": [
    "#Cross-validation du modèle (avec les paramètres optimaux)\n",
    "lmr = Ridge(alpha)\n",
    "print(cross_val_score(lmr, X_log_train_std, y_log_train,  cv=5))"
   ]
  },
  {
   "cell_type": "code",
   "execution_count": 60,
   "id": "6c7e03bd",
   "metadata": {},
   "outputs": [
    {
     "name": "stdout",
     "output_type": "stream",
     "text": [
      "r2_score train: 0.7353\n"
     ]
    }
   ],
   "source": [
    "#Entrainement du modèle sur le training_set\n",
    "start_time = timeit.default_timer()\n",
    "lmr = Ridge(alpha).fit(X_log_train_std, y_log_train)\n",
    "y_log_predict = lmr.predict(X_log_test_std)\n",
    "time = timeit.default_timer() - start_time\n",
    "\n",
    "#Score sur le jeu d'entraînement\n",
    "print(\"r2_score train: {:.4f}\".format(lmr.score(X_log_train_std, y_log_train)))\n",
    "listeR2_log_train.append(lmr.score(X_log_train_std, y_log_train))"
   ]
  },
  {
   "cell_type": "code",
   "execution_count": 61,
   "id": "c0af2ed1",
   "metadata": {},
   "outputs": [
    {
     "name": "stdout",
     "output_type": "stream",
     "text": [
      "Mean squared error: 0.5777\n",
      "r2_score: 0.7259\n",
      "Temps de calcul: 0.0442\n"
     ]
    }
   ],
   "source": [
    "#Score du modèle sur le test_set\n",
    "print(\"Mean squared error: {:.4f}\".format(mean_squared_error(y_log_test, y_log_predict)))\n",
    "print(\"r2_score: {:.4f}\".format(r2_score(y_log_test, y_log_predict)))\n",
    "print(\"Temps de calcul: {:.4f}\".format(time))"
   ]
  },
  {
   "cell_type": "code",
   "execution_count": 62,
   "id": "4b25a8d9",
   "metadata": {},
   "outputs": [],
   "source": [
    "#Enregistrement des métriques\n",
    "listeMSE_log.append(round(mean_squared_error(y_log_test, y_log_predict),4))\n",
    "listeR2_log.append(round(r2_score(y_log_test, y_log_predict),4))\n",
    "listeTemps_log.append(round(time,4))"
   ]
  },
  {
   "cell_type": "markdown",
   "id": "748d15a8",
   "metadata": {},
   "source": [
    "La variable `ENERGYSTARScore` et les transformations logarithmiques apportent un gain intéressant."
   ]
  },
  {
   "cell_type": "markdown",
   "id": "bf7583c8",
   "metadata": {},
   "source": [
    "## <a name=\"C6\">2.4: Régression Lasso</a>\n",
    "Pour tenter d'améliorer la capacité de généralisation de la régression ridge on peut ajouter en plus une réduction dimensionnelle, notamment pour supprimer les éventuelles variables corrélées.\n",
    "### 2.4.1: Jeu sans transformation:\n",
    "#### A: Sans la variable `ENERGYSTARScore`"
   ]
  },
  {
   "cell_type": "code",
   "execution_count": 63,
   "id": "bb11104d",
   "metadata": {},
   "outputs": [],
   "source": [
    "listeModeles.append('regression_lasso')"
   ]
  },
  {
   "cell_type": "code",
   "execution_count": 64,
   "id": "ea8aedd4",
   "metadata": {},
   "outputs": [],
   "source": [
    "#GridSearch pour trouver le(s) paramètre(s) qui renvoie(nt) le meilleur score R²\n",
    "reg = LassoCV(cv=5, random_state=0).fit(X_SE_train_std, y_SE_train)\n",
    "alpha = reg.alpha_"
   ]
  },
  {
   "cell_type": "code",
   "execution_count": 65,
   "id": "7b0e843c",
   "metadata": {},
   "outputs": [
    {
     "name": "stdout",
     "output_type": "stream",
     "text": [
      "[0.55993696 0.79348154 0.66197107 0.16194907 0.16626856]\n"
     ]
    }
   ],
   "source": [
    "#Cross-validation du modèle (avec les paramètres optimaux)\n",
    "lml = Lasso(alpha)\n",
    "print(cross_val_score(lml, X_SE_train_std, y_SE_train,  cv=5))"
   ]
  },
  {
   "cell_type": "code",
   "execution_count": 66,
   "id": "c222da7d",
   "metadata": {},
   "outputs": [
    {
     "name": "stdout",
     "output_type": "stream",
     "text": [
      "r2_score train: 0.7707\n"
     ]
    }
   ],
   "source": [
    "#Entrainement du modèle sur le training_set\n",
    "start_time = timeit.default_timer()\n",
    "lml = Lasso(alpha).fit(X_SE_train_std, y_SE_train)\n",
    "y_SE_predict = lml.predict(X_SE_test_std)\n",
    "time = timeit.default_timer() - start_time\n",
    "\n",
    "#Score sur le jeu d'entraînement\n",
    "print(\"r2_score train: {:.4f}\".format(lml.score(X_SE_train_std, y_SE_train)))\n",
    "listeR2_SE_train.append(lml.score(X_SE_train_std, y_SE_train))"
   ]
  },
  {
   "cell_type": "code",
   "execution_count": 67,
   "id": "c886cb79",
   "metadata": {},
   "outputs": [
    {
     "name": "stdout",
     "output_type": "stream",
     "text": [
      "Mean squared error: 136421.7538\n",
      "r2_score: 0.6188\n",
      "Temps de calcul: 0.6443\n"
     ]
    }
   ],
   "source": [
    "#Score du modèle sur le test_set\n",
    "print(\"Mean squared error: {:.4f}\".format(mean_squared_error(y_SE_test, y_SE_predict)))\n",
    "print(\"r2_score: {:.4f}\".format(r2_score(y_SE_test, y_SE_predict)))\n",
    "print(\"Temps de calcul: {:.4f}\".format(time))"
   ]
  },
  {
   "cell_type": "code",
   "execution_count": 68,
   "id": "3ffbfa3a",
   "metadata": {},
   "outputs": [],
   "source": [
    "#Enregistrement des métriques\n",
    "listeMSE_SE.append(round(mean_squared_error(y_SE_test, y_SE_predict),4))\n",
    "listeR2_SE.append(round(r2_score(y_SE_test, y_SE_predict),4))\n",
    "listeTemps_SE.append(round(time,4))"
   ]
  },
  {
   "cell_type": "markdown",
   "id": "839da4b7",
   "metadata": {},
   "source": [
    "Instabilité et sur-apprentissage."
   ]
  },
  {
   "cell_type": "markdown",
   "id": "8a04425f",
   "metadata": {},
   "source": [
    "#### B: Avec la variable `ENERGYSTARScore`"
   ]
  },
  {
   "cell_type": "code",
   "execution_count": 69,
   "id": "7a9bcdcc",
   "metadata": {},
   "outputs": [],
   "source": [
    "#GridSearch pour trouver le(s) paramètre(s) qui renvoie(nt) le meilleur score R²\n",
    "reg = LassoCV(cv=5, random_state=0).fit(X_train_std, y_train)\n",
    "alpha = reg.alpha_"
   ]
  },
  {
   "cell_type": "code",
   "execution_count": 70,
   "id": "a813484a",
   "metadata": {},
   "outputs": [
    {
     "name": "stdout",
     "output_type": "stream",
     "text": [
      "[0.81622473 0.63815021 0.52475489 0.78516628 0.72836054]\n"
     ]
    }
   ],
   "source": [
    "#Cross-validation du modèle (avec les paramètres optimaux)\n",
    "lml = Lasso(alpha)\n",
    "print(cross_val_score(lml, X_train_std, y_train,  cv=5))"
   ]
  },
  {
   "cell_type": "code",
   "execution_count": 71,
   "id": "59f2b254",
   "metadata": {},
   "outputs": [
    {
     "name": "stdout",
     "output_type": "stream",
     "text": [
      "r2_score train: 0.8691\n"
     ]
    }
   ],
   "source": [
    "#Entrainement du modèle sur le training_set\n",
    "start_time = timeit.default_timer()\n",
    "lml = Lasso(alpha).fit(X_train_std, y_train)\n",
    "y_predict = lml.predict(X_test_std)\n",
    "time = timeit.default_timer() - start_time\n",
    "\n",
    "#Score sur le jeu d'entraînement\n",
    "print(\"r2_score train: {:.4f}\".format(lml.score(X_train_std, y_train)))\n",
    "listeR2_train.append(lml.score(X_train_std, y_train))"
   ]
  },
  {
   "cell_type": "code",
   "execution_count": 72,
   "id": "dadc63d6",
   "metadata": {},
   "outputs": [
    {
     "name": "stdout",
     "output_type": "stream",
     "text": [
      "Mean squared error: 19011.7019\n",
      "r2_score: 0.8901\n",
      "Temps de calcul: 0.2231\n"
     ]
    }
   ],
   "source": [
    "#Score du modèle sur le test_set\n",
    "print(\"Mean squared error: {:.4f}\".format(mean_squared_error(y_test, y_predict)))\n",
    "print(\"r2_score: {:.4f}\".format(r2_score(y_test, y_predict)))\n",
    "print(\"Temps de calcul: {:.4f}\".format(time))"
   ]
  },
  {
   "cell_type": "code",
   "execution_count": 73,
   "id": "43f504c3",
   "metadata": {},
   "outputs": [],
   "source": [
    "#Enregistrement des métriques\n",
    "listeMSE.append(round(mean_squared_error(y_test, y_predict),4))\n",
    "listeR2.append(round(r2_score(y_test, y_predict),4))\n",
    "listeTemps.append(round(time,4))"
   ]
  },
  {
   "cell_type": "markdown",
   "id": "195304ab",
   "metadata": {},
   "source": [
    "### 2.4.2: Jeu avec transformations\n",
    "#### A: Sans la variable `ENERGYSTARScore`"
   ]
  },
  {
   "cell_type": "code",
   "execution_count": 74,
   "id": "08e96964",
   "metadata": {},
   "outputs": [],
   "source": [
    "#GridSearch pour trouver le(s) paramètre(s) qui renvoie(nt) le meilleur score R²\n",
    "reg = LassoCV(cv=5, random_state=0).fit(X_log_SE_train_std, y_log_SE_train)\n",
    "alpha = reg.alpha_"
   ]
  },
  {
   "cell_type": "code",
   "execution_count": 75,
   "id": "f8e39e28",
   "metadata": {},
   "outputs": [
    {
     "name": "stdout",
     "output_type": "stream",
     "text": [
      "[0.59762522 0.56724607 0.56389735 0.51362988 0.62662846]\n"
     ]
    }
   ],
   "source": [
    "#Cross-validation du modèle (avec les paramètres optimaux)\n",
    "lml = Lasso(alpha)\n",
    "print(cross_val_score(lml, X_log_SE_train_std, y_log_SE_train,  cv=5))"
   ]
  },
  {
   "cell_type": "code",
   "execution_count": 76,
   "id": "471cfa66",
   "metadata": {},
   "outputs": [
    {
     "name": "stdout",
     "output_type": "stream",
     "text": [
      "r2_score train: 0.6112\n"
     ]
    }
   ],
   "source": [
    "#Entrainement du modèle sur le training_set\n",
    "start_time = timeit.default_timer()\n",
    "lml = Lasso(alpha).fit(X_log_SE_train_std, y_log_SE_train)\n",
    "y_log_SE_predict = lml.predict(X_log_SE_test_std)\n",
    "time = timeit.default_timer() - start_time\n",
    "\n",
    "#Score sur le jeu d'entraînement\n",
    "print(\"r2_score train: {:.4f}\".format(lml.score(X_log_SE_train_std, y_log_SE_train)))\n",
    "listeR2_log_SE_train.append(lml.score(X_log_SE_train_std, y_log_SE_train))"
   ]
  },
  {
   "cell_type": "code",
   "execution_count": 77,
   "id": "e221d792",
   "metadata": {},
   "outputs": [
    {
     "name": "stdout",
     "output_type": "stream",
     "text": [
      "Mean squared error: 0.8892\n",
      "r2_score: 0.5857\n",
      "Temps de calcul: 0.1634\n"
     ]
    }
   ],
   "source": [
    "#Score du modèle sur le test_set\n",
    "print(\"Mean squared error: {:.4f}\".format(mean_squared_error(y_log_SE_test, y_log_SE_predict)))\n",
    "print(\"r2_score: {:.4f}\".format(r2_score(y_log_SE_test, y_log_SE_predict)))\n",
    "print(\"Temps de calcul: {:.4f}\".format(time))"
   ]
  },
  {
   "cell_type": "code",
   "execution_count": 78,
   "id": "ac84d5a8",
   "metadata": {},
   "outputs": [],
   "source": [
    "#Enregistrement des métriques\n",
    "listeMSE_log_SE.append(round(mean_squared_error(y_log_SE_test, y_log_SE_predict),4))\n",
    "listeR2_log_SE.append(round(r2_score(y_log_SE_test, y_log_SE_predict),4))\n",
    "listeTemps_log_SE.append(round(time,4))"
   ]
  },
  {
   "cell_type": "markdown",
   "id": "e9144cd0",
   "metadata": {},
   "source": [
    "Plus stable mais sur-apprentissage."
   ]
  },
  {
   "cell_type": "markdown",
   "id": "7c5f515f",
   "metadata": {},
   "source": [
    "#### B: Avec la variable `ENERGYSTARScore`"
   ]
  },
  {
   "cell_type": "code",
   "execution_count": 79,
   "id": "f43a160f",
   "metadata": {},
   "outputs": [],
   "source": [
    "#GridSearch pour trouver le(s) paramètre(s) qui renvoie(nt) le meilleur score R²\n",
    "reg = LassoCV(cv=5, random_state=0).fit(X_log_train_std, y_log_train)\n",
    "alpha = reg.alpha_"
   ]
  },
  {
   "cell_type": "code",
   "execution_count": 80,
   "id": "03ee3f2e",
   "metadata": {},
   "outputs": [
    {
     "name": "stdout",
     "output_type": "stream",
     "text": [
      "[0.72501134 0.73874435 0.75467083 0.68911725 0.63029026]\n"
     ]
    }
   ],
   "source": [
    "#Cross-validation du modèle (avec les paramètres optimaux)\n",
    "lml = Lasso(alpha)\n",
    "print(cross_val_score(lml, X_log_train_std, y_log_train,  cv=5))"
   ]
  },
  {
   "cell_type": "code",
   "execution_count": 81,
   "id": "11b53c6a",
   "metadata": {},
   "outputs": [
    {
     "name": "stdout",
     "output_type": "stream",
     "text": [
      "r2_score train: 0.7322\n"
     ]
    }
   ],
   "source": [
    "#Entrainement du modèle sur le training_set\n",
    "start_time = timeit.default_timer()\n",
    "lml = Lasso(alpha).fit(X_log_train_std, y_log_train)\n",
    "y_log_predict = lml.predict(X_log_test_std)\n",
    "time = timeit.default_timer() - start_time\n",
    "\n",
    "#Score sur le jeu d'entraînement\n",
    "print(\"r2_score train: {:.4f}\".format(lml.score(X_log_train_std, y_log_train)))\n",
    "listeR2_log_train.append(lml.score(X_log_train_std, y_log_train))"
   ]
  },
  {
   "cell_type": "code",
   "execution_count": 82,
   "id": "d0768f5b",
   "metadata": {},
   "outputs": [
    {
     "name": "stdout",
     "output_type": "stream",
     "text": [
      "Mean squared error: 0.5743\n",
      "r2_score: 0.7275\n",
      "Temps de calcul: 0.1625\n"
     ]
    }
   ],
   "source": [
    "#Score du modèle sur le test_set\n",
    "print(\"Mean squared error: {:.4f}\".format(mean_squared_error(y_log_test, y_log_predict)))\n",
    "print(\"r2_score: {:.4f}\".format(r2_score(y_log_test, y_log_predict)))\n",
    "print(\"Temps de calcul: {:.4f}\".format(time))"
   ]
  },
  {
   "cell_type": "code",
   "execution_count": 83,
   "id": "1da729dd",
   "metadata": {},
   "outputs": [],
   "source": [
    "#Enregistrement des métriques\n",
    "listeMSE_log.append(round(mean_squared_error(y_log_test, y_log_predict),4))\n",
    "listeR2_log.append(round(r2_score(y_log_test, y_log_predict),4))\n",
    "listeTemps_log.append(round(time,4))"
   ]
  },
  {
   "cell_type": "markdown",
   "id": "6fc3e4bf",
   "metadata": {},
   "source": [
    "Stable et avec un coefficient r2 qui commence à devenir intéressant. Continuons à augmenter la complexité des modèles testés."
   ]
  },
  {
   "cell_type": "markdown",
   "id": "eecfe4d6",
   "metadata": {},
   "source": [
    "## <a name=\"C7\">2.5: Régression ElasticNet</a>\n",
    "La régression ridge permet d'éviter le sur-appretissage avec une solution unique lorsque la régression lasso permet d'avoir un modèle plus parcimonieux mais instable. Il exite un modèle de prédiction linéaire intermédiaire qui combine les deux approches: la régression ElasticNet.\n",
    "### 2.5.1: Jeu sans transformation\n",
    "#### A: Sans la variable `ENERGYSTARScore`"
   ]
  },
  {
   "cell_type": "code",
   "execution_count": 84,
   "id": "31ee9d1b",
   "metadata": {},
   "outputs": [],
   "source": [
    "listeModeles.append('regression_elasticNet')"
   ]
  },
  {
   "cell_type": "code",
   "execution_count": 85,
   "id": "9b5958b1",
   "metadata": {},
   "outputs": [],
   "source": [
    "#GridSearch pour trouver le(s) paramètre(s) qui renvoie(nt) le meilleur score R²\n",
    "reg = ElasticNetCV(l1_ratio=[.1, .3, .5, .7, .9], cv=5).fit(X_SE_train_std, y_SE_train)\n",
    "alpha = reg.alpha_\n",
    "l1_ratio = reg.l1_ratio_"
   ]
  },
  {
   "cell_type": "code",
   "execution_count": 86,
   "id": "34ea341e",
   "metadata": {},
   "outputs": [
    {
     "name": "stderr",
     "output_type": "stream",
     "text": [
      "C:\\Users\\vbour\\anaconda3\\lib\\site-packages\\sklearn\\utils\\validation.py:70: FutureWarning: Pass l1_ratio=0.9 as keyword args. From version 1.0 (renaming of 0.25) passing these as positional arguments will result in an error\n",
      "  warnings.warn(f\"Pass {args_msg} as keyword args. From version \"\n",
      "C:\\Users\\vbour\\anaconda3\\lib\\site-packages\\sklearn\\linear_model\\_coordinate_descent.py:530: ConvergenceWarning: Objective did not converge. You might want to increase the number of iterations. Duality gap: 73701531.41355705, tolerance: 87370.6021122844\n",
      "  model = cd_fast.enet_coordinate_descent(\n",
      "C:\\Users\\vbour\\anaconda3\\lib\\site-packages\\sklearn\\linear_model\\_coordinate_descent.py:530: ConvergenceWarning: Objective did not converge. You might want to increase the number of iterations. Duality gap: 68436105.52169967, tolerance: 71431.61208464052\n",
      "  model = cd_fast.enet_coordinate_descent(\n",
      "C:\\Users\\vbour\\anaconda3\\lib\\site-packages\\sklearn\\linear_model\\_coordinate_descent.py:530: ConvergenceWarning: Objective did not converge. You might want to increase the number of iterations. Duality gap: 76098919.67767096, tolerance: 90546.30721692299\n",
      "  model = cd_fast.enet_coordinate_descent(\n",
      "C:\\Users\\vbour\\anaconda3\\lib\\site-packages\\sklearn\\linear_model\\_coordinate_descent.py:530: ConvergenceWarning: Objective did not converge. You might want to increase the number of iterations. Duality gap: 85870162.19193797, tolerance: 67388.97801729375\n",
      "  model = cd_fast.enet_coordinate_descent(\n"
     ]
    },
    {
     "name": "stdout",
     "output_type": "stream",
     "text": [
      "[0.52988576 0.7947272  0.6625462  0.1717644  0.12000768]\n"
     ]
    },
    {
     "name": "stderr",
     "output_type": "stream",
     "text": [
      "C:\\Users\\vbour\\anaconda3\\lib\\site-packages\\sklearn\\linear_model\\_coordinate_descent.py:530: ConvergenceWarning: Objective did not converge. You might want to increase the number of iterations. Duality gap: 85470793.02432205, tolerance: 98906.00717406295\n",
      "  model = cd_fast.enet_coordinate_descent(\n"
     ]
    }
   ],
   "source": [
    "#Cross-validation du modèle (avec les paramètres optimaux)\n",
    "lmE = ElasticNet(alpha, l1_ratio)\n",
    "print(cross_val_score(lml, X_SE_train_std, y_SE_train,  cv=5))"
   ]
  },
  {
   "cell_type": "code",
   "execution_count": 87,
   "id": "0aa0dca6",
   "metadata": {},
   "outputs": [
    {
     "name": "stderr",
     "output_type": "stream",
     "text": [
      "C:\\Users\\vbour\\anaconda3\\lib\\site-packages\\sklearn\\utils\\validation.py:70: FutureWarning: Pass l1_ratio=0.9 as keyword args. From version 1.0 (renaming of 0.25) passing these as positional arguments will result in an error\n",
      "  warnings.warn(f\"Pass {args_msg} as keyword args. From version \"\n"
     ]
    },
    {
     "name": "stdout",
     "output_type": "stream",
     "text": [
      "r2_score train: 0.7666\n"
     ]
    }
   ],
   "source": [
    "#Entrainement du modèle sur le training_set\n",
    "start_time = timeit.default_timer()\n",
    "lmE = ElasticNet(alpha, l1_ratio).fit(X_SE_train_std, y_SE_train)\n",
    "y_SE_predict = lmE.predict(X_SE_test_std)\n",
    "time = timeit.default_timer() - start_time\n",
    "\n",
    "#Score sur le jeu d'entraînement\n",
    "print(\"r2_score train: {:.4f}\".format(lmE.score(X_SE_train_std, y_SE_train)))\n",
    "listeR2_SE_train.append(lmE.score(X_SE_train_std, y_SE_train))"
   ]
  },
  {
   "cell_type": "code",
   "execution_count": 88,
   "id": "366ab3be",
   "metadata": {},
   "outputs": [
    {
     "name": "stdout",
     "output_type": "stream",
     "text": [
      "Mean squared error: 137229.8957\n",
      "r2_score: 0.6165\n",
      "Temps de calcul: 0.2348\n"
     ]
    }
   ],
   "source": [
    "#Score du modèle sur le test_set\n",
    "print(\"Mean squared error: {:.4f}\".format(mean_squared_error(y_SE_test, y_SE_predict)))\n",
    "print(\"r2_score: {:.4f}\".format(r2_score(y_SE_test, y_SE_predict)))\n",
    "print(\"Temps de calcul: {:.4f}\".format(time))"
   ]
  },
  {
   "cell_type": "code",
   "execution_count": 89,
   "id": "624be045",
   "metadata": {},
   "outputs": [],
   "source": [
    "#Enregistrement des métriques\n",
    "listeMSE_SE.append(round(mean_squared_error(y_SE_test, y_SE_predict),4))\n",
    "listeR2_SE.append(round(r2_score(y_SE_test, y_SE_predict),4))\n",
    "listeTemps_SE.append(round(time,4))"
   ]
  },
  {
   "cell_type": "markdown",
   "id": "fb54121f",
   "metadata": {},
   "source": [
    "Instable et sur-apprentissage."
   ]
  },
  {
   "cell_type": "markdown",
   "id": "befe7ed1",
   "metadata": {},
   "source": [
    "#### B: Avec la variable `ENERGYSTARScore`"
   ]
  },
  {
   "cell_type": "code",
   "execution_count": 90,
   "id": "6b58e366",
   "metadata": {},
   "outputs": [],
   "source": [
    "#GridSearch pour trouver le(s) paramètre(s) qui renvoie(nt) le meilleur score R²\n",
    "reg = ElasticNetCV(l1_ratio=[.1, .3, .5, .7, .9], cv=5).fit(X_train, y_train)\n",
    "alpha = reg.alpha_\n",
    "l1_ratio = reg.l1_ratio_"
   ]
  },
  {
   "cell_type": "code",
   "execution_count": 91,
   "id": "8e86519b",
   "metadata": {},
   "outputs": [
    {
     "name": "stderr",
     "output_type": "stream",
     "text": [
      "C:\\Users\\vbour\\anaconda3\\lib\\site-packages\\sklearn\\utils\\validation.py:70: FutureWarning: Pass l1_ratio=0.1 as keyword args. From version 1.0 (renaming of 0.25) passing these as positional arguments will result in an error\n",
      "  warnings.warn(f\"Pass {args_msg} as keyword args. From version \"\n",
      "C:\\Users\\vbour\\anaconda3\\lib\\site-packages\\sklearn\\linear_model\\_coordinate_descent.py:530: ConvergenceWarning: Objective did not converge. You might want to increase the number of iterations. Duality gap: 64738855.86143594, tolerance: 105851.56566027328\n",
      "  model = cd_fast.enet_coordinate_descent(\n",
      "C:\\Users\\vbour\\anaconda3\\lib\\site-packages\\sklearn\\linear_model\\_coordinate_descent.py:530: ConvergenceWarning: Objective did not converge. You might want to increase the number of iterations. Duality gap: 55363525.14301769, tolerance: 96312.87273523679\n",
      "  model = cd_fast.enet_coordinate_descent(\n",
      "C:\\Users\\vbour\\anaconda3\\lib\\site-packages\\sklearn\\linear_model\\_coordinate_descent.py:530: ConvergenceWarning: Objective did not converge. You might want to increase the number of iterations. Duality gap: 70960061.41530357, tolerance: 120440.40447730306\n",
      "  model = cd_fast.enet_coordinate_descent(\n",
      "C:\\Users\\vbour\\anaconda3\\lib\\site-packages\\sklearn\\linear_model\\_coordinate_descent.py:530: ConvergenceWarning: Objective did not converge. You might want to increase the number of iterations. Duality gap: 52775875.873749204, tolerance: 94076.25309375308\n",
      "  model = cd_fast.enet_coordinate_descent(\n"
     ]
    },
    {
     "name": "stdout",
     "output_type": "stream",
     "text": [
      "[0.81333482 0.63622472 0.52475404 0.7810649  0.73791428]\n"
     ]
    },
    {
     "name": "stderr",
     "output_type": "stream",
     "text": [
      "C:\\Users\\vbour\\anaconda3\\lib\\site-packages\\sklearn\\linear_model\\_coordinate_descent.py:530: ConvergenceWarning: Objective did not converge. You might want to increase the number of iterations. Duality gap: 74321498.95116487, tolerance: 95634.16481359571\n",
      "  model = cd_fast.enet_coordinate_descent(\n"
     ]
    }
   ],
   "source": [
    "#Cross-validation du modèle (avec les paramètres optimaux)\n",
    "lmE = ElasticNet(alpha, l1_ratio)\n",
    "print(cross_val_score(lml, X_train, y_train,  cv=5))"
   ]
  },
  {
   "cell_type": "code",
   "execution_count": 92,
   "id": "b5ba8e40",
   "metadata": {},
   "outputs": [
    {
     "name": "stdout",
     "output_type": "stream",
     "text": [
      "r2_score train: -0.0390\n"
     ]
    },
    {
     "name": "stderr",
     "output_type": "stream",
     "text": [
      "C:\\Users\\vbour\\anaconda3\\lib\\site-packages\\sklearn\\utils\\validation.py:70: FutureWarning: Pass l1_ratio=0.1 as keyword args. From version 1.0 (renaming of 0.25) passing these as positional arguments will result in an error\n",
      "  warnings.warn(f\"Pass {args_msg} as keyword args. From version \"\n"
     ]
    }
   ],
   "source": [
    "#Entrainement du modèle sur le training_set\n",
    "start_time = timeit.default_timer()\n",
    "lmE = ElasticNet(alpha, l1_ratio).fit(X_train, y_train)\n",
    "y_predict = lmE.predict(X_test)\n",
    "time = timeit.default_timer() - start_time\n",
    "\n",
    "#Score sur le jeu d'entraînement\n",
    "print(\"r2_score train: {:.4f}\".format(lmE.score(X_train_std, y_train)))\n",
    "listeR2_train.append(lmE.score(X_train_std, y_train))"
   ]
  },
  {
   "cell_type": "code",
   "execution_count": 93,
   "id": "b94c2f1f",
   "metadata": {},
   "outputs": [
    {
     "name": "stdout",
     "output_type": "stream",
     "text": [
      "Mean squared error: 38125.0236\n",
      "r2_score: 0.7796\n",
      "Temps de calcul: 0.0390\n"
     ]
    }
   ],
   "source": [
    "#Score du modèle sur le test_set\n",
    "print(\"Mean squared error: {:.4f}\".format(mean_squared_error(y_test, y_predict)))\n",
    "print(\"r2_score: {:.4f}\".format(r2_score(y_test, y_predict)))\n",
    "print(\"Temps de calcul: {:.4f}\".format(time))"
   ]
  },
  {
   "cell_type": "code",
   "execution_count": 94,
   "id": "2cbf8af5",
   "metadata": {},
   "outputs": [],
   "source": [
    "#Enregistrement des métriques\n",
    "listeMSE.append(round(mean_squared_error(y_test, y_predict),4))\n",
    "listeR2.append(round(r2_score(y_test, y_predict),4))\n",
    "listeTemps.append(round(time,4))"
   ]
  },
  {
   "cell_type": "markdown",
   "id": "60ea8683",
   "metadata": {},
   "source": [
    "Instable."
   ]
  },
  {
   "cell_type": "markdown",
   "id": "6ae3e664",
   "metadata": {},
   "source": [
    "### 2.5.2: Jeu avec transformations\n",
    "#### A: Sans la variable `ENERGYSTARScore`"
   ]
  },
  {
   "cell_type": "code",
   "execution_count": 95,
   "id": "23deebd8",
   "metadata": {},
   "outputs": [],
   "source": [
    "#GridSearch pour trouver le(s) paramètre(s) qui renvoie(nt) le meilleur score R²\n",
    "reg = ElasticNetCV(l1_ratio=[.1, .3, .5, .7, .9], cv=5).fit(X_log_SE_train_std, y_log_SE_train)\n",
    "alpha = reg.alpha_\n",
    "l1_ratio = reg.l1_ratio_"
   ]
  },
  {
   "cell_type": "code",
   "execution_count": 96,
   "id": "9f89df6e",
   "metadata": {},
   "outputs": [
    {
     "name": "stdout",
     "output_type": "stream",
     "text": [
      "[0.59758607 0.56720346 0.56385993 0.51368142 0.62657506]\n"
     ]
    }
   ],
   "source": [
    "#Cross-validation du modèle (avec les paramètres optimaux)\n",
    "lmE = ElasticNet(alpha=alpha, l1_ratio=l1_ratio)\n",
    "print(cross_val_score(lmE, X_log_SE_train_std, y_log_SE_train,  cv=5))"
   ]
  },
  {
   "cell_type": "code",
   "execution_count": 97,
   "id": "fbfb0697",
   "metadata": {},
   "outputs": [
    {
     "name": "stdout",
     "output_type": "stream",
     "text": [
      "r2_score train: 0.6111\n"
     ]
    }
   ],
   "source": [
    "#Entrainement du modèle sur le training_set\n",
    "start_time = timeit.default_timer()\n",
    "lmE = ElasticNet(alpha=alpha, l1_ratio=l1_ratio).fit(X_log_SE_train_std, y_log_SE_train)\n",
    "y_log_SE_predict = lmE.predict(X_log_SE_test_std)\n",
    "time = timeit.default_timer() - start_time\n",
    "\n",
    "#Score sur le jeu d'entraînement\n",
    "print(\"r2_score train: {:.4f}\".format(lmE.score(X_log_SE_train_std, y_log_SE_train)))\n",
    "listeR2_log_SE_train.append(lmE.score(X_log_SE_train_std, y_log_SE_train))"
   ]
  },
  {
   "cell_type": "code",
   "execution_count": 98,
   "id": "7d3c77b2",
   "metadata": {},
   "outputs": [
    {
     "name": "stdout",
     "output_type": "stream",
     "text": [
      "Mean squared error: 0.8893\n",
      "r2_score: 0.5857\n",
      "Temps de calcul: 0.1922\n"
     ]
    }
   ],
   "source": [
    "#Score du modèle sur le test_set\n",
    "print(\"Mean squared error: {:.4f}\".format(mean_squared_error(y_log_SE_test, y_log_SE_predict)))\n",
    "print(\"r2_score: {:.4f}\".format(r2_score(y_log_SE_test, y_log_SE_predict)))\n",
    "print(\"Temps de calcul: {:.4f}\".format(time))"
   ]
  },
  {
   "cell_type": "code",
   "execution_count": 99,
   "id": "5de12e8f",
   "metadata": {},
   "outputs": [],
   "source": [
    "#Enregistrement des métriques\n",
    "listeMSE_log_SE.append(round(mean_squared_error(y_log_SE_test, y_log_SE_predict),4))\n",
    "listeR2_log_SE.append(round(r2_score(y_log_SE_test, y_log_SE_predict),4))\n",
    "listeTemps_log_SE.append(round(time,4))"
   ]
  },
  {
   "cell_type": "markdown",
   "id": "8e9a034f",
   "metadata": {},
   "source": [
    "Plus stable mais avec un léger sur-apprentissage."
   ]
  },
  {
   "cell_type": "markdown",
   "id": "e7604739",
   "metadata": {},
   "source": [
    "#### B: Avec la variable `ENERGYSTARScore`"
   ]
  },
  {
   "cell_type": "code",
   "execution_count": 100,
   "id": "3b1cb206",
   "metadata": {},
   "outputs": [],
   "source": [
    "#GridSearch pour trouver le(s) paramètre(s) qui renvoie(nt) le meilleur score R²\n",
    "reg = ElasticNetCV(l1_ratio=[.1, .3, .5, .7, .9], cv=5).fit(X_log_train_std, y_log_train)\n",
    "alpha = reg.alpha_\n",
    "l1_ratio = reg.l1_ratio_"
   ]
  },
  {
   "cell_type": "code",
   "execution_count": 101,
   "id": "94960cdb",
   "metadata": {},
   "outputs": [
    {
     "name": "stdout",
     "output_type": "stream",
     "text": [
      "[0.7228949  0.73638761 0.75258376 0.688962   0.64277054]\n"
     ]
    }
   ],
   "source": [
    "#Cross-validation du modèle (avec les paramètres optimaux)\n",
    "lmE = ElasticNet(alpha=alpha, l1_ratio=l1_ratio)\n",
    "print(cross_val_score(lmE, X_log_train_std, y_log_train,  cv=5))"
   ]
  },
  {
   "cell_type": "code",
   "execution_count": 102,
   "id": "cf6cd104",
   "metadata": {},
   "outputs": [
    {
     "name": "stdout",
     "output_type": "stream",
     "text": [
      "r2_score train: 0.7311\n"
     ]
    }
   ],
   "source": [
    "#Entrainement du modèle sur le training_set\n",
    "start_time = timeit.default_timer()\n",
    "lmE = ElasticNet(alpha=alpha, l1_ratio=l1_ratio).fit(X_log_train_std, y_log_train)\n",
    "y_log_predict = lmE.predict(X_log_test_std)\n",
    "time = timeit.default_timer() - start_time\n",
    "\n",
    "#Score sur le jeu d'entraînement\n",
    "print(\"r2_score train: {:.4f}\".format(lmE.score(X_log_train_std, y_log_train)))\n",
    "listeR2_log_train.append(lmE.score(X_log_train_std, y_log_train))"
   ]
  },
  {
   "cell_type": "code",
   "execution_count": 103,
   "id": "07830f27",
   "metadata": {},
   "outputs": [
    {
     "name": "stdout",
     "output_type": "stream",
     "text": [
      "Mean squared error: 0.5779\n",
      "r2_score: 0.7258\n",
      "Temps de calcul: 0.1275\n"
     ]
    }
   ],
   "source": [
    "#Score du modèle sur le test_set\n",
    "print(\"Mean squared error: {:.4f}\".format(mean_squared_error(y_log_test, y_log_predict)))\n",
    "print(\"r2_score: {:.4f}\".format(r2_score(y_log_test, y_log_predict)))\n",
    "print(\"Temps de calcul: {:.4f}\".format(time))"
   ]
  },
  {
   "cell_type": "code",
   "execution_count": 104,
   "id": "7939bea9",
   "metadata": {},
   "outputs": [],
   "source": [
    "#Enregistrement des métriques\n",
    "listeMSE_log.append(round(mean_squared_error(y_log_test, y_log_predict),4))\n",
    "listeR2_log.append(round(r2_score(y_log_test, y_log_predict),4))\n",
    "listeTemps_log.append(round(time,4))"
   ]
  },
  {
   "cell_type": "markdown",
   "id": "523e37c4",
   "metadata": {},
   "source": [
    "De meilleurs résultats avec le jeu transformé et la variable `ENERGYSTARScore`"
   ]
  },
  {
   "cell_type": "markdown",
   "id": "84df14d5",
   "metadata": {},
   "source": [
    "# <a name=\"C8\">Partie 3: Méthodes ensemblistes</a>\n",
    "Le principe des méthodes ensemblistes est de combiner un certain nombre de modèles avec des performances faibles pour obtenir un modèle prédictif plus efficace en combinant les résultats via la moyenne par exemple pour les problèmes de régression.\n",
    "## <a name=\"C9\">3.1: Bagging</a>\n",
    "Le bagging fonctionne en 3 étapes:\n",
    "- On génère N nouveaux jeux de données en tirant aléatoirement (avec remise) chaque observation dans le jeu de données initial\n",
    "- On entraîne un apprenant faible sur chaque jeu, ici un arbre de décision\n",
    "- On effectue une prédiction en faisant la moyenne des prédictions des apprenants faibles\n",
    "### 3.1.1: Jeu sans transformation\n",
    "#### A: Sans la variable `ENERGYSTARScore`"
   ]
  },
  {
   "cell_type": "code",
   "execution_count": 105,
   "id": "9e09ee54",
   "metadata": {},
   "outputs": [],
   "source": [
    "listeModeles.append('Bagging')"
   ]
  },
  {
   "cell_type": "code",
   "execution_count": 106,
   "id": "99de6be6",
   "metadata": {},
   "outputs": [],
   "source": [
    "#GridSearch pour trouver le(s) paramètre(s) qui renvoie(nt) le meilleur score R²\n",
    "params = {'n_estimators': [10, 50, 100]}\n",
    "reg = GridSearchCV (estimator=BaggingRegressor(), param_grid=params, cv=5, scoring='r2')\n",
    "reg.fit(X_SE_train_std, y_SE_train)\n",
    "n_estimators = reg.best_params_.get('n_estimators')"
   ]
  },
  {
   "cell_type": "code",
   "execution_count": 107,
   "id": "ff8837a1",
   "metadata": {},
   "outputs": [
    {
     "name": "stdout",
     "output_type": "stream",
     "text": [
      "[0.62310101 0.64545677 0.8437748  0.18567495 0.66161423]\n"
     ]
    }
   ],
   "source": [
    "#Cross-validation du modèle (avec les paramètres optimaux)\n",
    "bagging = BaggingRegressor(n_estimators=n_estimators)\n",
    "print(cross_val_score(bagging, X_SE_train_std, y_SE_train,  cv=5))"
   ]
  },
  {
   "cell_type": "code",
   "execution_count": 108,
   "id": "7a7c201a",
   "metadata": {},
   "outputs": [
    {
     "name": "stdout",
     "output_type": "stream",
     "text": [
      "r2_score train: 0.9372\n"
     ]
    }
   ],
   "source": [
    "#Entrainement du modèle sur le training_set\n",
    "start_time = timeit.default_timer()\n",
    "bagging = BaggingRegressor(n_estimators=n_estimators).fit(X_SE_train_std, y_SE_train)\n",
    "y_SE_predict = bagging.predict(X_SE_test_std)\n",
    "time = timeit.default_timer() - start_time\n",
    "\n",
    "#Score sur le jeu d'entraînement\n",
    "print(\"r2_score train: {:.4f}\".format(bagging.score(X_SE_train_std, y_SE_train)))\n",
    "listeR2_SE_train.append(bagging.score(X_SE_train_std, y_SE_train))"
   ]
  },
  {
   "cell_type": "code",
   "execution_count": 109,
   "id": "27448a96",
   "metadata": {},
   "outputs": [
    {
     "name": "stdout",
     "output_type": "stream",
     "text": [
      "Mean squared error: 37705.7766\n",
      "r2_score: 0.8946\n",
      "Temps de calcul: 11.8310\n"
     ]
    }
   ],
   "source": [
    "#Score du modèle sur le test_set\n",
    "print(\"Mean squared error: {:.4f}\".format(mean_squared_error(y_SE_test, y_SE_predict)))\n",
    "print(\"r2_score: {:.4f}\".format(r2_score(y_SE_test, y_SE_predict)))\n",
    "print(\"Temps de calcul: {:.4f}\".format(time))"
   ]
  },
  {
   "cell_type": "code",
   "execution_count": 110,
   "id": "d3a7e74e",
   "metadata": {},
   "outputs": [],
   "source": [
    "#Enregistrement des métriques\n",
    "listeMSE_SE.append(round(mean_squared_error(y_SE_test, y_SE_predict),4))\n",
    "listeR2_SE.append(round(r2_score(y_SE_test, y_SE_predict),4))\n",
    "listeTemps_SE.append(round(time,4))"
   ]
  },
  {
   "cell_type": "markdown",
   "id": "a36312da",
   "metadata": {},
   "source": [
    "Instable et sur-apprentissage."
   ]
  },
  {
   "cell_type": "markdown",
   "id": "97a84fdb",
   "metadata": {},
   "source": [
    "#### B: Avec la variable `ENERGYSTARScore`"
   ]
  },
  {
   "cell_type": "code",
   "execution_count": 111,
   "id": "bf1c56b0",
   "metadata": {},
   "outputs": [],
   "source": [
    "#GridSearch pour trouver le(s) paramètre(s) qui renvoie(nt) le meilleur score R²\n",
    "params = {'n_estimators': [10, 50, 100]}\n",
    "reg = GridSearchCV (estimator=BaggingRegressor(), param_grid=params, cv=5, scoring='r2')\n",
    "reg.fit(X_train_std, y_train)\n",
    "n_estimators = reg.best_params_.get('n_estimators')"
   ]
  },
  {
   "cell_type": "code",
   "execution_count": 112,
   "id": "50e9aabb",
   "metadata": {},
   "outputs": [
    {
     "name": "stdout",
     "output_type": "stream",
     "text": [
      "[0.52441095 0.89749702 0.87620746 0.92242821 0.83382224]\n"
     ]
    }
   ],
   "source": [
    "#Cross-validation du modèle (avec les paramètres optimaux)\n",
    "bagging = BaggingRegressor(n_estimators=n_estimators)\n",
    "print(cross_val_score(bagging, X_train_std, y_train,  cv=5))"
   ]
  },
  {
   "cell_type": "code",
   "execution_count": 113,
   "id": "ca6129eb",
   "metadata": {},
   "outputs": [
    {
     "name": "stdout",
     "output_type": "stream",
     "text": [
      "r2_score train: 0.9773\n"
     ]
    }
   ],
   "source": [
    "#Entrainement du modèle sur le training_set\n",
    "start_time = timeit.default_timer()\n",
    "bagging = BaggingRegressor(n_estimators=n_estimators).fit(X_train_std, y_train)\n",
    "y_predict = bagging.predict(X_test_std)\n",
    "time = timeit.default_timer() - start_time\n",
    "\n",
    "#Score sur le jeu d'entraînement\n",
    "print(\"r2_score train: {:.4f}\".format(bagging.score(X_train_std, y_train)))\n",
    "listeR2_train.append(bagging.score(X_train_std, y_train))"
   ]
  },
  {
   "cell_type": "code",
   "execution_count": 114,
   "id": "981fd280",
   "metadata": {},
   "outputs": [
    {
     "name": "stdout",
     "output_type": "stream",
     "text": [
      "Mean squared error: 24525.4067\n",
      "r2_score: 0.8582\n",
      "Temps de calcul: 10.6939\n"
     ]
    }
   ],
   "source": [
    "#Score du modèle sur le test_set\n",
    "print(\"Mean squared error: {:.4f}\".format(mean_squared_error(y_test, y_predict)))\n",
    "print(\"r2_score: {:.4f}\".format(r2_score(y_test, y_predict)))\n",
    "print(\"Temps de calcul: {:.4f}\".format(time))"
   ]
  },
  {
   "cell_type": "code",
   "execution_count": 115,
   "id": "e4096a94",
   "metadata": {},
   "outputs": [],
   "source": [
    "#Enregistrement des métriques\n",
    "listeMSE.append(round(mean_squared_error(y_test, y_predict),4))\n",
    "listeR2.append(round(r2_score(y_test, y_predict),4))\n",
    "listeTemps.append(round(time,4))"
   ]
  },
  {
   "cell_type": "markdown",
   "id": "81d57a91",
   "metadata": {},
   "source": [
    "Encore un peu d'instabilité et de sur-apprentissage mais un coefficient r2 qui devient de plus en plus intéressant."
   ]
  },
  {
   "cell_type": "markdown",
   "id": "75ab3363",
   "metadata": {},
   "source": [
    "### 3.1.2: Jeu avec transformations\n",
    "#### A: Sans la variable `ENERGYSTARScore`"
   ]
  },
  {
   "cell_type": "code",
   "execution_count": 116,
   "id": "dbfe38f0",
   "metadata": {},
   "outputs": [],
   "source": [
    "#GridSearch pour trouver le(s) paramètre(s) qui renvoie(nt) le meilleur score R²\n",
    "params = {'n_estimators': [10, 50, 100]}\n",
    "reg = GridSearchCV (estimator=BaggingRegressor(), param_grid=params, cv=5, scoring='r2')\n",
    "reg.fit(X_log_SE_train_std, y_log_SE_train)\n",
    "n_estimators = reg.best_params_.get('n_estimators')"
   ]
  },
  {
   "cell_type": "code",
   "execution_count": 117,
   "id": "586bbed0",
   "metadata": {},
   "outputs": [
    {
     "name": "stdout",
     "output_type": "stream",
     "text": [
      "[0.74796341 0.70884586 0.71351567 0.68562176 0.75456993]\n"
     ]
    }
   ],
   "source": [
    "#Cross-validation du modèle (avec les paramètres optimaux)\n",
    "bagging = BaggingRegressor(n_estimators=n_estimators)\n",
    "print(cross_val_score(bagging, X_log_SE_train_std, y_log_SE_train,  cv=5))"
   ]
  },
  {
   "cell_type": "code",
   "execution_count": 118,
   "id": "035f2dc3",
   "metadata": {},
   "outputs": [
    {
     "name": "stdout",
     "output_type": "stream",
     "text": [
      "r2_score train: 0.9674\n"
     ]
    }
   ],
   "source": [
    "#Entrainement du modèle sur le training_set\n",
    "start_time = timeit.default_timer()\n",
    "bagging = BaggingRegressor(n_estimators=n_estimators).fit(X_log_SE_train_std, y_log_SE_train)\n",
    "y_log_SE_predict = bagging.predict(X_log_SE_test_std)\n",
    "time = timeit.default_timer() - start_time\n",
    "\n",
    "#Score sur le jeu d'entraînement\n",
    "print(\"r2_score train: {:.4f}\".format(bagging.score(X_log_SE_train_std, y_log_SE_train)))\n",
    "listeR2_log_SE_train.append(bagging.score(X_log_SE_train_std, y_log_SE_train))"
   ]
  },
  {
   "cell_type": "code",
   "execution_count": 119,
   "id": "0deb60ad",
   "metadata": {},
   "outputs": [
    {
     "name": "stdout",
     "output_type": "stream",
     "text": [
      "Mean squared error: 0.4529\n",
      "r2_score: 0.7890\n",
      "Temps de calcul: 10.6800\n"
     ]
    }
   ],
   "source": [
    "#Score du modèle sur le test_set\n",
    "print(\"Mean squared error: {:.4f}\".format(mean_squared_error(y_log_SE_test, y_log_SE_predict)))\n",
    "print(\"r2_score: {:.4f}\".format(r2_score(y_log_SE_test, y_log_SE_predict)))\n",
    "print(\"Temps de calcul: {:.4f}\".format(time))"
   ]
  },
  {
   "cell_type": "code",
   "execution_count": 120,
   "id": "3cb4357f",
   "metadata": {},
   "outputs": [],
   "source": [
    "#Enregistrement des métriques\n",
    "listeMSE_log_SE.append(round(mean_squared_error(y_log_SE_test, y_log_SE_predict),4))\n",
    "listeR2_log_SE.append(round(r2_score(y_log_SE_test, y_log_SE_predict),4))\n",
    "listeTemps_log_SE.append(round(time,4))"
   ]
  },
  {
   "cell_type": "markdown",
   "id": "8b89f129",
   "metadata": {},
   "source": [
    "Instable et sur-apprentissage.\n",
    "#### B: Avec la variable `ENERGYSTARScore`"
   ]
  },
  {
   "cell_type": "code",
   "execution_count": 121,
   "id": "8db1dd3f",
   "metadata": {},
   "outputs": [],
   "source": [
    "#GridSearch pour trouver le(s) paramètre(s) qui renvoie(nt) le meilleur score R²\n",
    "params = {'n_estimators': [10, 50, 100]}\n",
    "reg = GridSearchCV (estimator=BaggingRegressor(), param_grid=params, cv=5, scoring='r2')\n",
    "reg.fit(X_log_train_std, y_log_train)\n",
    "n_estimators = reg.best_params_.get('n_estimators')"
   ]
  },
  {
   "cell_type": "code",
   "execution_count": 122,
   "id": "c79681a0",
   "metadata": {},
   "outputs": [
    {
     "name": "stdout",
     "output_type": "stream",
     "text": [
      "[0.90693107 0.91527297 0.90657714 0.90341107 0.90876143]\n"
     ]
    }
   ],
   "source": [
    "#Cross-validation du modèle (avec les paramètres optimaux)\n",
    "bagging = BaggingRegressor(n_estimators=n_estimators)\n",
    "print(cross_val_score(bagging, X_log_train_std, y_log_train,  cv=5))"
   ]
  },
  {
   "cell_type": "code",
   "execution_count": 123,
   "id": "531b1274",
   "metadata": {},
   "outputs": [
    {
     "name": "stdout",
     "output_type": "stream",
     "text": [
      "r2_score train: 0.9884\n"
     ]
    }
   ],
   "source": [
    "#Entrainement du modèle sur le training_set\n",
    "start_time = timeit.default_timer()\n",
    "bagging = BaggingRegressor(n_estimators=n_estimators).fit(X_log_train_std, y_log_train)\n",
    "y_log_predict = bagging.predict(X_log_test_std)\n",
    "time = timeit.default_timer() - start_time\n",
    "\n",
    "#Score sur le jeu d'entraînement\n",
    "print(\"r2_score train: {:.4f}\".format(bagging.score(X_log_train_std, y_log_train)))\n",
    "listeR2_log_train.append(bagging.score(X_log_train_std, y_log_train))"
   ]
  },
  {
   "cell_type": "code",
   "execution_count": 124,
   "id": "f53c3710",
   "metadata": {},
   "outputs": [
    {
     "name": "stdout",
     "output_type": "stream",
     "text": [
      "Mean squared error: 0.2039\n",
      "r2_score: 0.9033\n",
      "Temps de calcul: 11.5592\n"
     ]
    }
   ],
   "source": [
    "#Score du modèle sur le test_set\n",
    "print(\"Mean squared error: {:.4f}\".format(mean_squared_error(y_log_test, y_log_predict)))\n",
    "print(\"r2_score: {:.4f}\".format(r2_score(y_log_test, y_log_predict)))\n",
    "print(\"Temps de calcul: {:.4f}\".format(time))"
   ]
  },
  {
   "cell_type": "code",
   "execution_count": 125,
   "id": "91d72d2c",
   "metadata": {},
   "outputs": [],
   "source": [
    "#Enregistrement des métriques\n",
    "listeMSE_log.append(round(mean_squared_error(y_log_test, y_log_predict),4))\n",
    "listeR2_log.append(round(r2_score(y_log_test, y_log_predict),4))\n",
    "listeTemps_log.append(round(time,4))"
   ]
  },
  {
   "cell_type": "markdown",
   "id": "63e11b2f",
   "metadata": {},
   "source": [
    "Encore du sur-apprentissage mais un coefficient de test r2 très bon."
   ]
  },
  {
   "cell_type": "markdown",
   "id": "e546bdbf",
   "metadata": {},
   "source": [
    "## <a name=\"C10\">3.2: Random Forest</a>\n",
    "Les forêts aléatoires reposent sur le même principe que le bagging mais en sélectionnant un nombre plus restreint de features afin de créer des arbres les plus différents possible les uns des autres et limiter ainsi le sur-apprentissage.\n",
    "### 3.2.1: Jeu sans transformation\n",
    "#### A: Sans la variable `ENERGYSTARScore`"
   ]
  },
  {
   "cell_type": "code",
   "execution_count": 126,
   "id": "f86bf21d",
   "metadata": {},
   "outputs": [],
   "source": [
    "listeModeles.append('RandomForest')"
   ]
  },
  {
   "cell_type": "code",
   "execution_count": 127,
   "id": "a05bbbe0",
   "metadata": {},
   "outputs": [],
   "source": [
    "#GridSearch pour trouver le(s) paramètre(s) qui renvoie(nt) le meilleur score R²\n",
    "params = {'n_estimators': [10, 50, 100],\n",
    "         'max_depth': [10, 25, 50, 100]}\n",
    "reg = GridSearchCV (estimator=RandomForestRegressor(), param_grid=params, cv=5, scoring='r2')\n",
    "reg.fit(X_SE_train_std, y_SE_train)\n",
    "n_estimators = reg.best_params_.get('n_estimators')\n",
    "max_depth = reg.best_params_.get('max_depth')"
   ]
  },
  {
   "cell_type": "code",
   "execution_count": 128,
   "id": "fe82c27f",
   "metadata": {},
   "outputs": [
    {
     "name": "stdout",
     "output_type": "stream",
     "text": [
      "[0.59906129 0.65960767 0.85155887 0.19527017 0.61682125]\n"
     ]
    }
   ],
   "source": [
    "#Cross-validation du modèle (avec les paramètres optimaux)\n",
    "forest = RandomForestRegressor(n_estimators=n_estimators, max_depth=max_depth, random_state=0)\n",
    "print(cross_val_score(forest, X_SE_train_std, y_SE_train,  cv=5))"
   ]
  },
  {
   "cell_type": "code",
   "execution_count": 129,
   "id": "a41e8685",
   "metadata": {},
   "outputs": [
    {
     "name": "stdout",
     "output_type": "stream",
     "text": [
      "r2_score train: 0.9170\n"
     ]
    }
   ],
   "source": [
    "#Entrainement du modèle sur le training_set\n",
    "start_time = timeit.default_timer()\n",
    "forest = RandomForestRegressor(n_estimators=n_estimators, max_depth=max_depth, random_state=0).fit(X_SE_train_std, y_SE_train)\n",
    "y_SE_predict = forest.predict(X_SE_test_std)\n",
    "time = timeit.default_timer() - start_time\n",
    "\n",
    "#Score sur le jeu d'entraînement\n",
    "print(\"r2_score train: {:.4f}\".format(forest.score(X_SE_train_std, y_SE_train)))\n",
    "listeR2_SE_train.append(forest.score(X_SE_train_std, y_SE_train))"
   ]
  },
  {
   "cell_type": "code",
   "execution_count": 130,
   "id": "3957e756",
   "metadata": {},
   "outputs": [
    {
     "name": "stdout",
     "output_type": "stream",
     "text": [
      "Mean squared error: 41945.5092\n",
      "r2_score: 0.8828\n",
      "Temps de calcul: 16.3511\n"
     ]
    }
   ],
   "source": [
    "#Score du modèle sur le test_set\n",
    "print(\"Mean squared error: {:.4f}\".format(mean_squared_error(y_SE_test, y_SE_predict)))\n",
    "print(\"r2_score: {:.4f}\".format(r2_score(y_SE_test, y_SE_predict)))\n",
    "print(\"Temps de calcul: {:.4f}\".format(time))"
   ]
  },
  {
   "cell_type": "code",
   "execution_count": 131,
   "id": "7c7d6450",
   "metadata": {},
   "outputs": [],
   "source": [
    "#Enregistrement des métriques\n",
    "listeMSE_SE.append(round(mean_squared_error(y_SE_test, y_SE_predict),4))\n",
    "listeR2_SE.append(round(r2_score(y_SE_test, y_SE_predict),4))\n",
    "listeTemps_SE.append(round(time,4))"
   ]
  },
  {
   "cell_type": "markdown",
   "id": "0f6fbaf2",
   "metadata": {},
   "source": [
    "Instable."
   ]
  },
  {
   "cell_type": "markdown",
   "id": "7205ecdf",
   "metadata": {},
   "source": [
    "#### B: Avec la variable `ENERGYSTARScore`"
   ]
  },
  {
   "cell_type": "code",
   "execution_count": 132,
   "id": "35ca0411",
   "metadata": {},
   "outputs": [],
   "source": [
    "#GridSearch pour trouver le(s) paramètre(s) qui renvoie(nt) le meilleur score R²\n",
    "params = {'n_estimators': [10, 50, 100],\n",
    "         'max_depth': [10, 25, 50, 100]}\n",
    "reg = GridSearchCV (estimator=RandomForestRegressor(), param_grid=params, cv=5, scoring='r2')\n",
    "reg.fit(X_train_std, y_train)\n",
    "n_estimators = reg.best_params_.get('n_estimators')\n",
    "max_depth = reg.best_params_.get('max_depth')"
   ]
  },
  {
   "cell_type": "code",
   "execution_count": 133,
   "id": "3177178f",
   "metadata": {},
   "outputs": [
    {
     "name": "stdout",
     "output_type": "stream",
     "text": [
      "[0.35789499 0.91190238 0.83741522 0.93509273 0.82453455]\n"
     ]
    }
   ],
   "source": [
    "#Cross-validation du modèle (avec les paramètres optimaux)\n",
    "forest = RandomForestRegressor(n_estimators=n_estimators, max_depth=max_depth, random_state=0)\n",
    "print(cross_val_score(forest, X_train_std, y_train,  cv=5))"
   ]
  },
  {
   "cell_type": "code",
   "execution_count": 134,
   "id": "8a860d36",
   "metadata": {},
   "outputs": [
    {
     "name": "stdout",
     "output_type": "stream",
     "text": [
      "r2_score train: 0.9721\n"
     ]
    }
   ],
   "source": [
    "#Entrainement du modèle sur le training_set\n",
    "start_time = timeit.default_timer()\n",
    "forest = RandomForestRegressor(n_estimators=n_estimators, max_depth=max_depth, random_state=0).fit(X_train_std, y_train)\n",
    "y_predict = forest.predict(X_test_std)\n",
    "time = timeit.default_timer() - start_time\n",
    "\n",
    "#Score sur le jeu d'entraînement\n",
    "print(\"r2_score train: {:.4f}\".format(forest.score(X_train_std, y_train)))\n",
    "listeR2_train.append(forest.score(X_train_std, y_train))"
   ]
  },
  {
   "cell_type": "code",
   "execution_count": 135,
   "id": "3d1e2b84",
   "metadata": {},
   "outputs": [
    {
     "name": "stdout",
     "output_type": "stream",
     "text": [
      "Mean squared error: 18078.9690\n",
      "r2_score: 0.8955\n",
      "Temps de calcul: 0.7909\n"
     ]
    }
   ],
   "source": [
    "#Score du modèle sur le test_set\n",
    "print(\"Mean squared error: {:.4f}\".format(mean_squared_error(y_test, y_predict)))\n",
    "print(\"r2_score: {:.4f}\".format(r2_score(y_test, y_predict)))\n",
    "print(\"Temps de calcul: {:.4f}\".format(time))"
   ]
  },
  {
   "cell_type": "code",
   "execution_count": 136,
   "id": "4fcc4f3a",
   "metadata": {},
   "outputs": [],
   "source": [
    "#Enregistrement des métriques\n",
    "listeMSE.append(round(mean_squared_error(y_test, y_predict),4))\n",
    "listeR2.append(round(r2_score(y_test, y_predict),4))\n",
    "listeTemps.append(round(time,4))"
   ]
  },
  {
   "cell_type": "markdown",
   "id": "13ec45bc",
   "metadata": {},
   "source": [
    "Encore un petit peu d'instabilité."
   ]
  },
  {
   "cell_type": "markdown",
   "id": "11c9383b",
   "metadata": {},
   "source": [
    "### 3.2.2: Jeu avec transformations\n",
    "#### A: Sans la variable `ENERGYSTARScore`"
   ]
  },
  {
   "cell_type": "code",
   "execution_count": 137,
   "id": "07bcc588",
   "metadata": {},
   "outputs": [],
   "source": [
    "#GridSearch pour trouver le(s) paramètre(s) qui renvoie(nt) le meilleur score R²\n",
    "params = {'n_estimators': [10, 50, 100],\n",
    "         'max_depth': [10, 25, 50, 100]}\n",
    "reg = GridSearchCV (estimator=RandomForestRegressor(), param_grid=params, cv=5, scoring='r2')\n",
    "reg.fit(X_log_SE_train_std, y_log_SE_train)\n",
    "n_estimators = reg.best_params_.get('n_estimators')\n",
    "max_depth = reg.best_params_.get('max_depth')"
   ]
  },
  {
   "cell_type": "code",
   "execution_count": 138,
   "id": "9b186589",
   "metadata": {},
   "outputs": [
    {
     "name": "stdout",
     "output_type": "stream",
     "text": [
      "[0.74675524 0.70850505 0.70748871 0.68925363 0.74999905]\n"
     ]
    }
   ],
   "source": [
    "#Cross-validation du modèle (avec les paramètres optimaux)\n",
    "forest = RandomForestRegressor(n_estimators=n_estimators, max_depth=max_depth, random_state=0)\n",
    "print(cross_val_score(forest, X_log_SE_train_std, y_log_SE_train,  cv=5))"
   ]
  },
  {
   "cell_type": "code",
   "execution_count": 139,
   "id": "d36751de",
   "metadata": {},
   "outputs": [
    {
     "name": "stdout",
     "output_type": "stream",
     "text": [
      "r2_score train: 0.9676\n"
     ]
    }
   ],
   "source": [
    "#Entrainement du modèle sur le training_set\n",
    "start_time = timeit.default_timer()\n",
    "forest = RandomForestRegressor(n_estimators=n_estimators, max_depth=max_depth, random_state=0).fit(X_log_SE_train_std, \n",
    "                                                                                                   y_log_SE_train)\n",
    "y_log_SE_predict = forest.predict(X_log_SE_test_std)\n",
    "time = timeit.default_timer() - start_time\n",
    "\n",
    "#Score sur le jeu d'entraînement\n",
    "print(\"r2_score train: {:.4f}\".format(forest.score(X_log_SE_train_std, y_log_SE_train)))\n",
    "listeR2_log_SE_train.append(forest.score(X_log_SE_train_std, y_log_SE_train))"
   ]
  },
  {
   "cell_type": "code",
   "execution_count": 140,
   "id": "ff44b8eb",
   "metadata": {},
   "outputs": [
    {
     "name": "stdout",
     "output_type": "stream",
     "text": [
      "Mean squared error: 0.4526\n",
      "r2_score: 0.7892\n",
      "Temps de calcul: 8.2552\n"
     ]
    }
   ],
   "source": [
    "#Score du modèle sur le test_set\n",
    "print(\"Mean squared error: {:.4f}\".format(mean_squared_error(y_log_SE_test, y_log_SE_predict)))\n",
    "print(\"r2_score: {:.4f}\".format(r2_score(y_log_SE_test, y_log_SE_predict)))\n",
    "print(\"Temps de calcul: {:.4f}\".format(time))"
   ]
  },
  {
   "cell_type": "code",
   "execution_count": 141,
   "id": "fd83b6b3",
   "metadata": {},
   "outputs": [],
   "source": [
    "#Enregistrement des métriques\n",
    "listeMSE_log_SE.append(round(mean_squared_error(y_log_SE_test, y_log_SE_predict),4))\n",
    "listeR2_log_SE.append(round(r2_score(y_log_SE_test, y_log_SE_predict),4))\n",
    "listeTemps_log_SE.append(round(time,4))"
   ]
  },
  {
   "cell_type": "markdown",
   "id": "891798f6",
   "metadata": {},
   "source": [
    "Sur-apprentissage marqué sur le jeu d'entraînement."
   ]
  },
  {
   "cell_type": "markdown",
   "id": "374d221e",
   "metadata": {},
   "source": [
    "#### B: Avec la variable `ENERGYSTARScore`"
   ]
  },
  {
   "cell_type": "code",
   "execution_count": 142,
   "id": "50735d05",
   "metadata": {},
   "outputs": [],
   "source": [
    "#GridSearch pour trouver le(s) paramètre(s) qui renvoie(nt) le meilleur score R²\n",
    "params = {'n_estimators': [10, 50, 100],\n",
    "         'max_depth': [10, 25, 50, 100]}\n",
    "reg = GridSearchCV (estimator=RandomForestRegressor(), param_grid=params, cv=5, scoring='r2')\n",
    "reg.fit(X_log_train_std, y_log_train)\n",
    "n_estimators = reg.best_params_.get('n_estimators')\n",
    "max_depth = reg.best_params_.get('max_depth')"
   ]
  },
  {
   "cell_type": "code",
   "execution_count": 143,
   "id": "a4729495",
   "metadata": {},
   "outputs": [
    {
     "name": "stdout",
     "output_type": "stream",
     "text": [
      "[0.90695144 0.91478722 0.90790295 0.90376693 0.91053677]\n"
     ]
    }
   ],
   "source": [
    "#Cross-validation du modèle (avec les paramètres optimaux)\n",
    "forest = RandomForestRegressor(n_estimators=n_estimators, max_depth=max_depth, random_state=0)\n",
    "print(cross_val_score(forest, X_log_train_std, y_log_train,  cv=5))"
   ]
  },
  {
   "cell_type": "code",
   "execution_count": 144,
   "id": "b6bc49bf",
   "metadata": {},
   "outputs": [
    {
     "name": "stdout",
     "output_type": "stream",
     "text": [
      "r2_score train: 0.9883\n"
     ]
    }
   ],
   "source": [
    "#Entrainement du modèle sur le training_set\n",
    "start_time = timeit.default_timer()\n",
    "forest = RandomForestRegressor(n_estimators=n_estimators, max_depth=max_depth, random_state=0).fit(X_log_train_std, y_log_train)\n",
    "y_log_predict = forest.predict(X_log_test_std)\n",
    "time = timeit.default_timer() - start_time\n",
    "\n",
    "#Score sur le jeu d'entraînement\n",
    "print(\"r2_score train: {:.4f}\".format(forest.score(X_log_train_std, y_log_train)))\n",
    "listeR2_log_train.append(forest.score(X_log_train_std, y_log_train))"
   ]
  },
  {
   "cell_type": "code",
   "execution_count": 145,
   "id": "fbc215e7",
   "metadata": {},
   "outputs": [
    {
     "name": "stdout",
     "output_type": "stream",
     "text": [
      "Mean squared error: 0.2007\n",
      "r2_score: 0.9048\n",
      "Temps de calcul: 6.9382\n"
     ]
    }
   ],
   "source": [
    "#Score du modèle sur le test_set\n",
    "print(\"Mean squared error: {:.4f}\".format(mean_squared_error(y_log_test, y_log_predict)))\n",
    "print(\"r2_score: {:.4f}\".format(r2_score(y_log_test, y_log_predict)))\n",
    "print(\"Temps de calcul: {:.4f}\".format(time))"
   ]
  },
  {
   "cell_type": "code",
   "execution_count": 146,
   "id": "f80d92c8",
   "metadata": {},
   "outputs": [],
   "source": [
    "#Enregistrement des métriques\n",
    "listeMSE_log.append(round(mean_squared_error(y_log_test, y_log_predict),4))\n",
    "listeR2_log.append(round(r2_score(y_log_test, y_log_predict),4))\n",
    "listeTemps_log.append(round(time,4))"
   ]
  },
  {
   "cell_type": "markdown",
   "id": "699c9276",
   "metadata": {},
   "source": [
    "Du sur-apprentissage mais un très bon coefficient de test r2."
   ]
  },
  {
   "cell_type": "markdown",
   "id": "1b9ae0dd",
   "metadata": {},
   "source": [
    "## <a name=\"C11\">3.3: Gradient Boosting</a>\n",
    "Les méthodes ensemblistes utilisées plus haut sont dites parallèles, c'est-à-dire que les apprenants faibles sont entraînés indépendamment les uns des autres. Le Gradient Boosting au contraire est une méthode ensembliste dite séquentielle. Les apprenants faibles sont entraînés les uns à la suite des autres, notamment en mettant un peu plus l'accent sur les observations qui ont provoqué des erreurs sur l'apprenant précédent.\n",
    "### 3.3.1: Jeu sans transformation\n",
    "#### A: Sans la variable `ENERGYSTARScore`"
   ]
  },
  {
   "cell_type": "code",
   "execution_count": 147,
   "id": "ba8b34a2",
   "metadata": {},
   "outputs": [],
   "source": [
    "listeModeles.append('GradientBoosting')"
   ]
  },
  {
   "cell_type": "code",
   "execution_count": 148,
   "id": "d0d6f4fb",
   "metadata": {},
   "outputs": [],
   "source": [
    "#GridSearch pour trouver le(s) paramètre(s) qui renvoie(nt) le meilleur score R²\n",
    "params = {'n_estimators': [10, 50, 100],\n",
    "         'learning_rate': [0.01, 0.1, 0.2, 0.3]}\n",
    "reg = GridSearchCV (estimator=GradientBoostingRegressor(), param_grid=params, cv=5, scoring='r2')\n",
    "reg.fit(X_SE_train_std, y_SE_train)\n",
    "n_estimators = reg.best_params_.get('n_estimators')\n",
    "learning_rate = reg.best_params_.get('learning_rate')"
   ]
  },
  {
   "cell_type": "code",
   "execution_count": 149,
   "id": "045cda82",
   "metadata": {},
   "outputs": [
    {
     "name": "stdout",
     "output_type": "stream",
     "text": [
      "[0.59403661 0.61078895 0.87304181 0.16245609 0.69656671]\n"
     ]
    }
   ],
   "source": [
    "#Cross-validation du modèle (avec les paramètres optimaux)\n",
    "boosting = GradientBoostingRegressor(n_estimators=n_estimators, learning_rate=learning_rate, random_state=0)\n",
    "print(cross_val_score(boosting, X_SE_train_std, y_SE_train,  cv=5))"
   ]
  },
  {
   "cell_type": "code",
   "execution_count": 150,
   "id": "1f09fe6f",
   "metadata": {},
   "outputs": [
    {
     "name": "stdout",
     "output_type": "stream",
     "text": [
      "r2_score train: 0.9699\n"
     ]
    }
   ],
   "source": [
    "#Entrainement du modèle sur le training_set\n",
    "start_time = timeit.default_timer()\n",
    "boosting = GradientBoostingRegressor(n_estimators=n_estimators, learning_rate=learning_rate, random_state=0).fit(X_SE_train_std, \n",
    "                                                                                                               y_SE_train)\n",
    "y_SE_predict = boosting.predict(X_SE_test_std)\n",
    "time = timeit.default_timer() - start_time\n",
    "\n",
    "#Score sur le jeu d'entraînement\n",
    "print(\"r2_score train: {:.4f}\".format(boosting.score(X_SE_train_std, y_SE_train)))\n",
    "listeR2_SE_train.append(boosting.score(X_SE_train_std, y_SE_train))"
   ]
  },
  {
   "cell_type": "code",
   "execution_count": 151,
   "id": "e61bc31f",
   "metadata": {},
   "outputs": [
    {
     "name": "stdout",
     "output_type": "stream",
     "text": [
      "Mean squared error: 29667.2679\n",
      "r2_score: 0.9171\n",
      "Temps de calcul: 2.2072\n"
     ]
    }
   ],
   "source": [
    "#Score du modèle sur le test_set\n",
    "print(\"Mean squared error: {:.4f}\".format(mean_squared_error(y_SE_test, y_SE_predict)))\n",
    "print(\"r2_score: {:.4f}\".format(r2_score(y_SE_test, y_SE_predict)))\n",
    "print(\"Temps de calcul: {:.4f}\".format(time))"
   ]
  },
  {
   "cell_type": "code",
   "execution_count": 152,
   "id": "f99dc6d0",
   "metadata": {},
   "outputs": [],
   "source": [
    "#Enregistrement des métriques\n",
    "listeMSE_SE.append(round(mean_squared_error(y_SE_test, y_SE_predict),4))\n",
    "listeR2_SE.append(round(r2_score(y_SE_test, y_SE_predict),4))\n",
    "listeTemps_SE.append(round(time,4))"
   ]
  },
  {
   "cell_type": "markdown",
   "id": "d8cb410c",
   "metadata": {},
   "source": [
    "Instable."
   ]
  },
  {
   "cell_type": "markdown",
   "id": "e596f8ac",
   "metadata": {},
   "source": [
    "#### B: Avec la variable `ENERGYSTARScore`"
   ]
  },
  {
   "cell_type": "code",
   "execution_count": 153,
   "id": "33055c79",
   "metadata": {},
   "outputs": [],
   "source": [
    "#GridSearch pour trouver le(s) paramètre(s) qui renvoie(nt) le meilleur score R²\n",
    "params = {'n_estimators': [10, 50, 100],\n",
    "         'learning_rate': [0.01, 0.1, 0.2, 0.3]}\n",
    "reg = GridSearchCV (estimator=GradientBoostingRegressor(), param_grid=params, cv=5, scoring='r2')\n",
    "reg.fit(X_train_std, y_train)\n",
    "n_estimators = reg.best_params_.get('n_estimators')\n",
    "learning_rate = reg.best_params_.get('learning_rate')"
   ]
  },
  {
   "cell_type": "code",
   "execution_count": 154,
   "id": "31cd8f12",
   "metadata": {},
   "outputs": [
    {
     "name": "stdout",
     "output_type": "stream",
     "text": [
      "[0.69856233 0.72316543 0.90278415 0.9770997  0.86020388]\n"
     ]
    }
   ],
   "source": [
    "#Cross-validation du modèle (avec les paramètres optimaux)\n",
    "boosting = GradientBoostingRegressor(n_estimators=n_estimators, learning_rate=learning_rate, random_state=0)\n",
    "print(cross_val_score(boosting, X_train_std, y_train,  cv=5))"
   ]
  },
  {
   "cell_type": "code",
   "execution_count": 155,
   "id": "d8b02601",
   "metadata": {},
   "outputs": [
    {
     "name": "stdout",
     "output_type": "stream",
     "text": [
      "r2_score train: 0.9944\n"
     ]
    }
   ],
   "source": [
    "#Entrainement du modèle sur le training_set\n",
    "start_time = timeit.default_timer()\n",
    "boosting = GradientBoostingRegressor(n_estimators=n_estimators, learning_rate=learning_rate, random_state=0).fit(X_train_std, \n",
    "                                                                                                               y_train)\n",
    "y_predict = boosting.predict(X_test_std)\n",
    "time = timeit.default_timer() - start_time\n",
    "\n",
    "#Score sur le jeu d'entraînement\n",
    "print(\"r2_score train: {:.4f}\".format(boosting.score(X_train_std, y_train)))\n",
    "listeR2_train.append(boosting.score(X_train_std, y_train))"
   ]
  },
  {
   "cell_type": "code",
   "execution_count": 156,
   "id": "ca2fe661",
   "metadata": {},
   "outputs": [
    {
     "name": "stdout",
     "output_type": "stream",
     "text": [
      "Mean squared error: 20528.8318\n",
      "r2_score: 0.8813\n",
      "Temps de calcul: 2.4952\n"
     ]
    }
   ],
   "source": [
    "#Score du modèle sur le test_set\n",
    "print(\"Mean squared error: {:.4f}\".format(mean_squared_error(y_test, y_predict)))\n",
    "print(\"r2_score: {:.4f}\".format(r2_score(y_test, y_predict)))\n",
    "print(\"Temps de calcul: {:.4f}\".format(time))"
   ]
  },
  {
   "cell_type": "code",
   "execution_count": 157,
   "id": "ed7e3792",
   "metadata": {},
   "outputs": [],
   "source": [
    "#Enregistrement des métriques\n",
    "listeMSE.append(round(mean_squared_error(y_test, y_predict),4))\n",
    "listeR2.append(round(r2_score(y_test, y_predict),4))\n",
    "listeTemps.append(round(time,4))"
   ]
  },
  {
   "cell_type": "markdown",
   "id": "c1cfbb77",
   "metadata": {},
   "source": [
    "Encore un peu d'instabilité et de sur-apprentissage.\n",
    "### 3.3.2: Jeu avec transformations\n",
    "#### A: Sans la variable `ENERGYSTARScore`"
   ]
  },
  {
   "cell_type": "code",
   "execution_count": 158,
   "id": "3442626c",
   "metadata": {},
   "outputs": [],
   "source": [
    "#GridSearch pour trouver le(s) paramètre(s) qui renvoie(nt) le meilleur score R²\n",
    "params = {'n_estimators': [10, 50, 100],\n",
    "         'learning_rate': [0.01, 0.1, 0.2, 0.3]}\n",
    "reg = GridSearchCV (estimator=GradientBoostingRegressor(), param_grid=params, cv=5, scoring='r2')\n",
    "reg.fit(X_log_SE_train_std, y_log_SE_train)\n",
    "n_estimators = reg.best_params_.get('n_estimators')\n",
    "learning_rate = reg.best_params_.get('learning_rate')"
   ]
  },
  {
   "cell_type": "code",
   "execution_count": 159,
   "id": "f4083e20",
   "metadata": {},
   "outputs": [
    {
     "name": "stdout",
     "output_type": "stream",
     "text": [
      "[0.66097648 0.61908549 0.6055046  0.59851342 0.67647783]\n"
     ]
    }
   ],
   "source": [
    "#Cross-validation du modèle (avec les paramètres optimaux)\n",
    "boosting = GradientBoostingRegressor(n_estimators=n_estimators, learning_rate=learning_rate, random_state=0)\n",
    "print(cross_val_score(boosting, X_log_SE_train_std, y_log_SE_train,  cv=5))"
   ]
  },
  {
   "cell_type": "code",
   "execution_count": 160,
   "id": "5d0661ba",
   "metadata": {},
   "outputs": [
    {
     "name": "stdout",
     "output_type": "stream",
     "text": [
      "r2_score train: 0.7172\n"
     ]
    }
   ],
   "source": [
    "#Entrainement du modèle sur le training_set\n",
    "start_time = timeit.default_timer()\n",
    "boosting = GradientBoostingRegressor(n_estimators=n_estimators, learning_rate=learning_rate, random_state=0).fit(X_log_SE_train_std, \n",
    "                                                                                                               y_log_SE_train)\n",
    "y_log_SE_predict = boosting.predict(X_log_SE_test_std)\n",
    "time = timeit.default_timer() - start_time\n",
    "\n",
    "#Score sur le jeu d'entraînement\n",
    "print(\"r2_score train: {:.4f}\".format(boosting.score(X_log_SE_train_std, y_log_SE_train)))\n",
    "listeR2_log_SE_train.append(boosting.score(X_log_SE_train_std, y_log_SE_train))"
   ]
  },
  {
   "cell_type": "code",
   "execution_count": 161,
   "id": "34e69450",
   "metadata": {},
   "outputs": [
    {
     "name": "stdout",
     "output_type": "stream",
     "text": [
      "Mean squared error: 0.7237\n",
      "r2_score: 0.6628\n",
      "Temps de calcul: 2.2399\n"
     ]
    }
   ],
   "source": [
    "#Score du modèle sur le test_set\n",
    "print(\"Mean squared error: {:.4f}\".format(mean_squared_error(y_log_SE_test, y_log_SE_predict)))\n",
    "print(\"r2_score: {:.4f}\".format(r2_score(y_log_SE_test, y_log_SE_predict)))\n",
    "print(\"Temps de calcul: {:.4f}\".format(time))"
   ]
  },
  {
   "cell_type": "code",
   "execution_count": 162,
   "id": "fab74d11",
   "metadata": {},
   "outputs": [],
   "source": [
    "#Enregistrement des métriques\n",
    "listeMSE_log_SE.append(round(mean_squared_error(y_log_SE_test, y_log_SE_predict),4))\n",
    "listeR2_log_SE.append(round(r2_score(y_log_SE_test, y_log_SE_predict),4))\n",
    "listeTemps_log_SE.append(round(time,4))"
   ]
  },
  {
   "cell_type": "markdown",
   "id": "92eb5cb6",
   "metadata": {},
   "source": [
    "Stable, un peu de sur-apprentissage mais score moins bon que ceux rencontrés un peu plus haut.\n",
    "#### B: Avec la variable `ENERGYSTARScore`"
   ]
  },
  {
   "cell_type": "code",
   "execution_count": 163,
   "id": "16c13712",
   "metadata": {},
   "outputs": [],
   "source": [
    "#GridSearch pour trouver le(s) paramètre(s) qui renvoie(nt) le meilleur score R²\n",
    "params = {'n_estimators': [10, 50, 100],\n",
    "         'learning_rate': [0.01, 0.1, 0.2, 0.3]}\n",
    "reg = GridSearchCV (estimator=GradientBoostingRegressor(), param_grid=params, cv=5, scoring='r2')\n",
    "reg.fit(X_log_train_std, y_log_train)\n",
    "n_estimators = reg.best_params_.get('n_estimators')\n",
    "learning_rate = reg.best_params_.get('learning_rate')"
   ]
  },
  {
   "cell_type": "code",
   "execution_count": 164,
   "id": "39033e8a",
   "metadata": {},
   "outputs": [
    {
     "name": "stdout",
     "output_type": "stream",
     "text": [
      "[0.89148236 0.89608588 0.89615496 0.88532838 0.89142975]\n"
     ]
    }
   ],
   "source": [
    "#Cross-validation du modèle (avec les paramètres optimaux)\n",
    "boosting = GradientBoostingRegressor(n_estimators=n_estimators, learning_rate=learning_rate, random_state=0)\n",
    "print(cross_val_score(boosting, X_log_train_std, y_log_train,  cv=5))"
   ]
  },
  {
   "cell_type": "code",
   "execution_count": 165,
   "id": "193e2594",
   "metadata": {},
   "outputs": [
    {
     "name": "stdout",
     "output_type": "stream",
     "text": [
      "r2_score train: 0.9229\n"
     ]
    }
   ],
   "source": [
    "#Entrainement du modèle sur le training_set\n",
    "start_time = timeit.default_timer()\n",
    "boosting = GradientBoostingRegressor(n_estimators=n_estimators, learning_rate=learning_rate, random_state=0).fit(X_log_train_std, \n",
    "                                                                                                               y_log_train)\n",
    "y_log_predict = boosting.predict(X_log_test_std)\n",
    "time = timeit.default_timer() - start_time\n",
    "\n",
    "#Score sur le jeu d'entraînement\n",
    "print(\"r2_score train: {:.4f}\".format(boosting.score(X_log_train_std, y_log_train)))\n",
    "listeR2_log_train.append(boosting.score(X_log_train_std, y_log_train))"
   ]
  },
  {
   "cell_type": "code",
   "execution_count": 166,
   "id": "e9403705",
   "metadata": {},
   "outputs": [
    {
     "name": "stdout",
     "output_type": "stream",
     "text": [
      "Mean squared error: 0.2514\n",
      "r2_score: 0.8807\n",
      "Temps de calcul: 2.6471\n"
     ]
    }
   ],
   "source": [
    "#Score du modèle sur le test_set\n",
    "print(\"Mean squared error: {:.4f}\".format(mean_squared_error(y_log_test, y_log_predict)))\n",
    "print(\"r2_score: {:.4f}\".format(r2_score(y_log_test, y_log_predict)))\n",
    "print(\"Temps de calcul: {:.4f}\".format(time))"
   ]
  },
  {
   "cell_type": "code",
   "execution_count": 167,
   "id": "272fd79a",
   "metadata": {},
   "outputs": [],
   "source": [
    "#Enregistrement des métriques\n",
    "listeMSE_log.append(round(mean_squared_error(y_log_test, y_log_predict),4))\n",
    "listeR2_log.append(round(r2_score(y_log_test, y_log_predict),4))\n",
    "listeTemps_log.append(round(time,4))"
   ]
  },
  {
   "cell_type": "markdown",
   "id": "d1daef9e",
   "metadata": {},
   "source": [
    "Un peu de sur-apprentissage mais un bon coefficient de test r2."
   ]
  },
  {
   "cell_type": "markdown",
   "id": "34d97965",
   "metadata": {},
   "source": [
    "# <a name=\"C12\">Partie 4: Méthodes non linéaires</a>\n",
    "Beaucoup de phénomènes n'étant pas linéaires, on peut se retrouver dans une impasse si l'on cherche à effectuer des prédictions à l'aide de méthodes linéaires comme celles utilisées jusqu'à maintenant. On va ainsi tester des méthodes non linéaires pour voir si l'on peut obtenir de meilleures performances de généralisation.\n",
    "## <a name=\"C13\">4.1: SVM à noyau</a>\n",
    "### 4.1.1: Jeu sans transformation\n",
    "#### A: Sans la variable `ENERGYSTARScore`"
   ]
  },
  {
   "cell_type": "code",
   "execution_count": 168,
   "id": "d16bc6eb",
   "metadata": {},
   "outputs": [],
   "source": [
    "listeModeles.append('SVM_noyau')"
   ]
  },
  {
   "cell_type": "code",
   "execution_count": 169,
   "id": "333d3a83",
   "metadata": {},
   "outputs": [],
   "source": [
    "#GridSearch pour trouver le(s) paramètre(s) qui renvoie(nt) le meilleur score R²\n",
    "params = {'C': np.logspace(-2, 3, 3),\n",
    "         'gamma': np.logspace(-2, 1, 3)\n",
    "}\n",
    "reg = GridSearchCV (estimator=SVR(), param_grid=params, cv=5, scoring='r2')\n",
    "reg.fit(X_SE_train_std, y_SE_train)\n",
    "C = reg.best_params_.get('C')\n",
    "gamma = reg.best_params_.get('gamma')"
   ]
  },
  {
   "cell_type": "code",
   "execution_count": 170,
   "id": "50d47eda",
   "metadata": {},
   "outputs": [
    {
     "name": "stdout",
     "output_type": "stream",
     "text": [
      "[0.35406637 0.29045803 0.48996457 0.09951381 0.40991838]\n"
     ]
    }
   ],
   "source": [
    "#Cross-validation du modèle (avec les paramètres optimaux)\n",
    "svr = SVR(kernel='rbf', C=C, gamma=gamma)\n",
    "print(cross_val_score(svr, X_SE_train_std, y_SE_train,  cv=5))"
   ]
  },
  {
   "cell_type": "code",
   "execution_count": 171,
   "id": "a342053a",
   "metadata": {},
   "outputs": [
    {
     "name": "stdout",
     "output_type": "stream",
     "text": [
      "r2_score train: 0.4255\n"
     ]
    }
   ],
   "source": [
    "#Entrainement du modèle sur le training_set\n",
    "start_time = timeit.default_timer()\n",
    "svr = SVR(kernel='rbf', C=C, gamma=gamma).fit(X_SE_train_std, y_SE_train)\n",
    "y_SE_predict = svr.predict(X_SE_test_std)\n",
    "time = timeit.default_timer() - start_time\n",
    "\n",
    "#Score sur le jeu d'entraînement\n",
    "print(\"r2_score train: {:.4f}\".format(svr.score(X_SE_train_std, y_SE_train)))\n",
    "listeR2_SE_train.append(svr.score(X_SE_train_std, y_SE_train))"
   ]
  },
  {
   "cell_type": "code",
   "execution_count": 172,
   "id": "ce362dce",
   "metadata": {},
   "outputs": [
    {
     "name": "stdout",
     "output_type": "stream",
     "text": [
      "Mean squared error: 202855.0794\n",
      "r2_score: 0.4332\n",
      "Temps de calcul: 11.2614\n"
     ]
    }
   ],
   "source": [
    "#Score du modèle sur le test_set\n",
    "print(\"Mean squared error: {:.4f}\".format(mean_squared_error(y_SE_test, y_SE_predict)))\n",
    "print(\"r2_score: {:.4f}\".format(r2_score(y_SE_test, y_SE_predict)))\n",
    "print(\"Temps de calcul: {:.4f}\".format(time))"
   ]
  },
  {
   "cell_type": "code",
   "execution_count": 173,
   "id": "9af564a5",
   "metadata": {},
   "outputs": [],
   "source": [
    "#Enregistrement des métriques\n",
    "listeMSE_SE.append(round(mean_squared_error(y_SE_test, y_SE_predict),4))\n",
    "listeR2_SE.append(round(r2_score(y_SE_test, y_SE_predict),4))\n",
    "listeTemps_SE.append(round(time,4))"
   ]
  },
  {
   "cell_type": "markdown",
   "id": "c956aed0",
   "metadata": {},
   "source": [
    "Stable mais score faible."
   ]
  },
  {
   "cell_type": "markdown",
   "id": "548540af",
   "metadata": {},
   "source": [
    "#### B: Avec la variable `ENERGYSTARScore`"
   ]
  },
  {
   "cell_type": "code",
   "execution_count": 174,
   "id": "d4937fa4",
   "metadata": {},
   "outputs": [],
   "source": [
    "#GridSearch pour trouver le(s) paramètre(s) qui renvoie(nt) le meilleur score R²\n",
    "params = {'C': np.logspace(-2, 3, 3),\n",
    "         'gamma': np.logspace(-2, 1, 3)\n",
    "}\n",
    "reg = GridSearchCV (estimator=SVR(), param_grid=params, cv=5, scoring='r2')\n",
    "reg.fit(X_train_std, y_train)\n",
    "C = reg.best_params_.get('C')\n",
    "gamma = reg.best_params_.get('gamma')"
   ]
  },
  {
   "cell_type": "code",
   "execution_count": 175,
   "id": "e1b6c6f5",
   "metadata": {},
   "outputs": [
    {
     "name": "stdout",
     "output_type": "stream",
     "text": [
      "[0.6068019  0.36937648 0.57090053 0.4623726  0.09475441]\n"
     ]
    }
   ],
   "source": [
    "#Cross-validation du modèle (avec les paramètres optimaux)\n",
    "svr = SVR(kernel='rbf', C=C, gamma=gamma)\n",
    "print(cross_val_score(svr, X_train_std, y_train,  cv=5))"
   ]
  },
  {
   "cell_type": "code",
   "execution_count": 176,
   "id": "dc6cd983",
   "metadata": {},
   "outputs": [
    {
     "name": "stdout",
     "output_type": "stream",
     "text": [
      "r2_score train: 0.5585\n"
     ]
    }
   ],
   "source": [
    "#Entrainement du modèle sur le training_set\n",
    "start_time = timeit.default_timer()\n",
    "svr = SVR(kernel='rbf', C=C, gamma=gamma).fit(X_train_std, y_train)\n",
    "y_predict = svr.predict(X_test_std)\n",
    "time = timeit.default_timer() - start_time\n",
    "\n",
    "#Score sur le jeu d'entraînement\n",
    "print(\"r2_score train: {:.4f}\".format(svr.score(X_train_std, y_train)))\n",
    "listeR2_train.append(svr.score(X_train_std, y_train))"
   ]
  },
  {
   "cell_type": "code",
   "execution_count": 177,
   "id": "cef373f5",
   "metadata": {},
   "outputs": [
    {
     "name": "stdout",
     "output_type": "stream",
     "text": [
      "Mean squared error: 58454.3501\n",
      "r2_score: 0.6620\n",
      "Temps de calcul: 12.5920\n"
     ]
    }
   ],
   "source": [
    "#Score du modèle sur le test_set\n",
    "print(\"Mean squared error: {:.4f}\".format(mean_squared_error(y_test, y_predict)))\n",
    "print(\"r2_score: {:.4f}\".format(r2_score(y_test, y_predict)))\n",
    "print(\"Temps de calcul: {:.4f}\".format(time))"
   ]
  },
  {
   "cell_type": "code",
   "execution_count": 178,
   "id": "3b8ce5c8",
   "metadata": {},
   "outputs": [],
   "source": [
    "#Enregistrement des métriques\n",
    "listeMSE.append(round(mean_squared_error(y_test, y_predict),4))\n",
    "listeR2.append(round(r2_score(y_test, y_predict),4))\n",
    "listeTemps.append(round(time,4))"
   ]
  },
  {
   "cell_type": "markdown",
   "id": "60ef1d29",
   "metadata": {},
   "source": [
    "Instable."
   ]
  },
  {
   "cell_type": "markdown",
   "id": "5920b18e",
   "metadata": {},
   "source": [
    "### 4.1.2: Jeu avec Transformations\n",
    "#### A: Sans la variable `ENERGYSTARScore`"
   ]
  },
  {
   "cell_type": "code",
   "execution_count": 179,
   "id": "26cbcdff",
   "metadata": {},
   "outputs": [],
   "source": [
    "#GridSearch pour trouver le(s) paramètre(s) qui renvoie(nt) le meilleur score R²\n",
    "params = {'C': np.logspace(-2, 3, 3),\n",
    "         'gamma': np.logspace(-2, 1, 3)\n",
    "}\n",
    "reg = GridSearchCV (estimator=SVR(), param_grid=params, cv=5, scoring='r2')\n",
    "reg.fit(X_log_SE_train_std, y_log_SE_train)\n",
    "C = reg.best_params_.get('C')\n",
    "gamma = reg.best_params_.get('gamma')"
   ]
  },
  {
   "cell_type": "code",
   "execution_count": 180,
   "id": "bcc754f8",
   "metadata": {},
   "outputs": [
    {
     "name": "stdout",
     "output_type": "stream",
     "text": [
      "[0.6532418  0.56274424 0.5725725  0.57006831 0.63639176]\n"
     ]
    }
   ],
   "source": [
    "#Cross-validation du modèle (avec les paramètres optimaux)\n",
    "svr = SVR(kernel='rbf', C=C, gamma=gamma)\n",
    "print(cross_val_score(svr, X_log_SE_train_std, y_log_SE_train,  cv=5))"
   ]
  },
  {
   "cell_type": "code",
   "execution_count": 181,
   "id": "79880825",
   "metadata": {},
   "outputs": [
    {
     "name": "stdout",
     "output_type": "stream",
     "text": [
      "r2_score train: 0.7553\n"
     ]
    }
   ],
   "source": [
    "#Entrainement du modèle sur le training_set\n",
    "start_time = timeit.default_timer()\n",
    "svr = SVR(kernel='rbf', C=C, gamma=gamma).fit(X_log_SE_train_std, y_log_SE_train)\n",
    "y_log_SE_predict = svr.predict(X_log_SE_test_std)\n",
    "time = timeit.default_timer() - start_time\n",
    "\n",
    "#Score sur le jeu d'entraînement\n",
    "print(\"r2_score train: {:.4f}\".format(svr.score(X_log_SE_train_std, y_log_SE_train)))\n",
    "listeR2_log_SE_train.append(svr.score(X_log_SE_train_std, y_log_SE_train))"
   ]
  },
  {
   "cell_type": "code",
   "execution_count": 182,
   "id": "7584c921",
   "metadata": {},
   "outputs": [
    {
     "name": "stdout",
     "output_type": "stream",
     "text": [
      "Mean squared error: 0.8076\n",
      "r2_score: 0.6238\n",
      "Temps de calcul: 5.2455\n"
     ]
    }
   ],
   "source": [
    "#Score du modèle sur le test_set\n",
    "print(\"Mean squared error: {:.4f}\".format(mean_squared_error(y_log_SE_test, y_log_SE_predict)))\n",
    "print(\"r2_score: {:.4f}\".format(r2_score(y_log_SE_test, y_log_SE_predict)))\n",
    "print(\"Temps de calcul: {:.4f}\".format(time))"
   ]
  },
  {
   "cell_type": "code",
   "execution_count": 183,
   "id": "6613b108",
   "metadata": {},
   "outputs": [],
   "source": [
    "#Enregistrement des métriques\n",
    "listeMSE_log_SE.append(round(mean_squared_error(y_log_SE_test, y_log_SE_predict),4))\n",
    "listeR2_log_SE.append(round(r2_score(y_log_SE_test, y_log_SE_predict),4))\n",
    "listeTemps_log_SE.append(round(time,4))"
   ]
  },
  {
   "cell_type": "markdown",
   "id": "99f6c32f",
   "metadata": {},
   "source": [
    "Plus stable mais avec du sur-apprentissage."
   ]
  },
  {
   "cell_type": "markdown",
   "id": "506c16a7",
   "metadata": {},
   "source": [
    "#### B: Avec la variable `ENERGYSTARScore`"
   ]
  },
  {
   "cell_type": "code",
   "execution_count": 184,
   "id": "d86b648f",
   "metadata": {},
   "outputs": [],
   "source": [
    "#GridSearch pour trouver le(s) paramètre(s) qui renvoie(nt) le meilleur score R²\n",
    "params = {'C': np.logspace(-2, 3, 3),\n",
    "         'gamma': np.logspace(-2, 1, 3)\n",
    "}\n",
    "reg = GridSearchCV (estimator=SVR(), param_grid=params, cv=5, scoring='r2')\n",
    "reg.fit(X_log_train_std, y_log_train)\n",
    "C = reg.best_params_.get('C')\n",
    "gamma = reg.best_params_.get('gamma')"
   ]
  },
  {
   "cell_type": "code",
   "execution_count": 185,
   "id": "b8fc5b69",
   "metadata": {},
   "outputs": [
    {
     "name": "stdout",
     "output_type": "stream",
     "text": [
      "[0.79836458 0.8155788  0.79694013 0.78028944 0.8037407 ]\n"
     ]
    }
   ],
   "source": [
    "#Cross-validation du modèle (avec les paramètres optimaux)\n",
    "svr = SVR(kernel='rbf', C=C, gamma=gamma)\n",
    "print(cross_val_score(svr, X_log_train_std, y_log_train,  cv=5))"
   ]
  },
  {
   "cell_type": "code",
   "execution_count": 186,
   "id": "20795763",
   "metadata": {},
   "outputs": [
    {
     "name": "stdout",
     "output_type": "stream",
     "text": [
      "r2_score train: 0.9171\n"
     ]
    }
   ],
   "source": [
    "#Entrainement du modèle sur le training_set\n",
    "start_time = timeit.default_timer()\n",
    "svr = SVR(kernel='rbf', C=C, gamma=gamma).fit(X_log_train_std, y_log_train)\n",
    "y_log_predict = svr.predict(X_log_test_std)\n",
    "time = timeit.default_timer() - start_time\n",
    "\n",
    "#Score sur le jeu d'entraînement\n",
    "print(\"r2_score train: {:.4f}\".format(svr.score(X_log_train_std, y_log_train)))\n",
    "listeR2_log_train.append(svr.score(X_log_train_std, y_log_train))"
   ]
  },
  {
   "cell_type": "code",
   "execution_count": 187,
   "id": "9747490b",
   "metadata": {},
   "outputs": [
    {
     "name": "stdout",
     "output_type": "stream",
     "text": [
      "Mean squared error: 0.4020\n",
      "r2_score: 0.8093\n",
      "Temps de calcul: 5.3700\n"
     ]
    }
   ],
   "source": [
    "#Score du modèle sur le test_set\n",
    "print(\"Mean squared error: {:.4f}\".format(mean_squared_error(y_log_test, y_log_predict)))\n",
    "print(\"r2_score: {:.4f}\".format(r2_score(y_log_test, y_log_predict)))\n",
    "print(\"Temps de calcul: {:.4f}\".format(time))"
   ]
  },
  {
   "cell_type": "code",
   "execution_count": 188,
   "id": "c1de4b4b",
   "metadata": {},
   "outputs": [],
   "source": [
    "#Enregistrement des métriques\n",
    "listeMSE_log.append(round(mean_squared_error(y_log_test, y_log_predict),4))\n",
    "listeR2_log.append(round(r2_score(y_log_test, y_log_predict),4))\n",
    "listeTemps_log.append(round(time,4))"
   ]
  },
  {
   "cell_type": "markdown",
   "id": "07cc913c",
   "metadata": {},
   "source": [
    "Stable mais avec un important problème de sur-apprentissage."
   ]
  },
  {
   "cell_type": "markdown",
   "id": "b0fc50b6",
   "metadata": {},
   "source": [
    "## <a name=\"C14\">4.2: Régression ridge à noyau</a>\n",
    "Le principe de fonctionnement est le même que pour la SVM à noyau, seule la fonction de perte utilisée diffère.\n",
    "### 4.2.1: Jeu sans transformation\n",
    "#### A: Sans la variable `ENERGYSTARScore`"
   ]
  },
  {
   "cell_type": "code",
   "execution_count": 189,
   "id": "381286fc",
   "metadata": {},
   "outputs": [],
   "source": [
    "listeModeles.append('Ridge_noyau')"
   ]
  },
  {
   "cell_type": "code",
   "execution_count": 190,
   "id": "758d747a",
   "metadata": {},
   "outputs": [],
   "source": [
    "#GridSearch pour trouver le(s) paramètre(s) qui renvoie(nt) le meilleur score R²\n",
    "params = {'alpha': np.logspace(-2, 2, 3),\n",
    "         'gamma': np.logspace(-2, 1, 3)\n",
    "}\n",
    "reg = GridSearchCV (estimator=KernelRidge(kernel='rbf'), param_grid=params, cv=5, scoring='r2')\n",
    "reg.fit(X_SE_train_std, y_SE_train)\n",
    "alpha = reg.best_params_.get('alpha')\n",
    "gamma = reg.best_params_.get('gamma')"
   ]
  },
  {
   "cell_type": "code",
   "execution_count": 191,
   "id": "f80738ec",
   "metadata": {},
   "outputs": [
    {
     "name": "stdout",
     "output_type": "stream",
     "text": [
      "[0.72203671 0.52175012 0.8089789  0.13752831 0.517304  ]\n"
     ]
    }
   ],
   "source": [
    "#Cross-validation du modèle (avec les paramètres optimaux)\n",
    "krr = KernelRidge(kernel='rbf', alpha=alpha, gamma=gamma)\n",
    "print(cross_val_score(krr, X_SE_train_std, y_SE_train,  cv=5))"
   ]
  },
  {
   "cell_type": "code",
   "execution_count": 192,
   "id": "46713455",
   "metadata": {},
   "outputs": [
    {
     "name": "stdout",
     "output_type": "stream",
     "text": [
      "r2_score train: 0.9862\n"
     ]
    }
   ],
   "source": [
    "#Entrainement du modèle sur le training_set\n",
    "start_time = timeit.default_timer()\n",
    "krr = KernelRidge(kernel='rbf', alpha=alpha, gamma=gamma).fit(X_SE_train_std, y_SE_train)\n",
    "y_SE_predict = krr.predict(X_SE_test_std)\n",
    "time = timeit.default_timer() - start_time\n",
    "\n",
    "#Score sur le jeu d'entraînement\n",
    "print(\"r2_score train: {:.4f}\".format(krr.score(X_SE_train_std, y_SE_train)))\n",
    "listeR2_SE_train.append(krr.score(X_SE_train_std, y_SE_train))"
   ]
  },
  {
   "cell_type": "code",
   "execution_count": 193,
   "id": "e443f001",
   "metadata": {},
   "outputs": [
    {
     "name": "stdout",
     "output_type": "stream",
     "text": [
      "Mean squared error: 38505.0971\n",
      "r2_score: 0.8924\n",
      "Temps de calcul: 4.3520\n"
     ]
    }
   ],
   "source": [
    "#Score du modèle sur le test_set\n",
    "print(\"Mean squared error: {:.4f}\".format(mean_squared_error(y_SE_test, y_SE_predict)))\n",
    "print(\"r2_score: {:.4f}\".format(r2_score(y_SE_test, y_SE_predict)))\n",
    "print(\"Temps de calcul: {:.4f}\".format(time))"
   ]
  },
  {
   "cell_type": "code",
   "execution_count": 194,
   "id": "605ecea9",
   "metadata": {},
   "outputs": [],
   "source": [
    "#Enregistrement des métriques\n",
    "listeMSE_SE.append(round(mean_squared_error(y_SE_test, y_SE_predict),4))\n",
    "listeR2_SE.append(round(r2_score(y_SE_test, y_SE_predict),4))\n",
    "listeTemps_SE.append(round(time,4))"
   ]
  },
  {
   "cell_type": "markdown",
   "id": "75ec606d",
   "metadata": {},
   "source": [
    "Modèle instable avec soucis de sur-apprentissage."
   ]
  },
  {
   "cell_type": "markdown",
   "id": "6ae8c2d1",
   "metadata": {},
   "source": [
    "#### B: Avec la variable `ENERGYSTARScore`"
   ]
  },
  {
   "cell_type": "code",
   "execution_count": 195,
   "id": "01f7785a",
   "metadata": {},
   "outputs": [],
   "source": [
    "#GridSearch pour trouver le(s) paramètre(s) qui renvoie(nt) le meilleur score R²\n",
    "params = {'alpha': np.logspace(-2, 2, 3),\n",
    "         'gamma': np.logspace(-2, 1, 3)\n",
    "}\n",
    "reg = GridSearchCV (estimator=KernelRidge(kernel='rbf'), param_grid=params, cv=5, scoring='r2')\n",
    "reg.fit(X_train_std, y_train)\n",
    "alpha = reg.best_params_.get('alpha')\n",
    "gamma = reg.best_params_.get('gamma')"
   ]
  },
  {
   "cell_type": "code",
   "execution_count": 196,
   "id": "40175acb",
   "metadata": {},
   "outputs": [
    {
     "name": "stdout",
     "output_type": "stream",
     "text": [
      "[0.91764413 0.5827606  0.62343971 0.90180449 0.06762842]\n"
     ]
    }
   ],
   "source": [
    "#Cross-validation du modèle (avec les paramètres optimaux)\n",
    "krr = KernelRidge(kernel='rbf', alpha=alpha, gamma=gamma)\n",
    "print(cross_val_score(krr, X_train_std, y_train,  cv=5))"
   ]
  },
  {
   "cell_type": "code",
   "execution_count": 197,
   "id": "9047e08e",
   "metadata": {},
   "outputs": [
    {
     "name": "stdout",
     "output_type": "stream",
     "text": [
      "r2_score train: 0.9974\n"
     ]
    }
   ],
   "source": [
    "#Entrainement du modèle sur le training_set\n",
    "start_time = timeit.default_timer()\n",
    "krr = KernelRidge(kernel='rbf', alpha=alpha, gamma=gamma).fit(X_train_std, y_train)\n",
    "y_predict = krr.predict(X_test_std)\n",
    "time = timeit.default_timer() - start_time\n",
    "\n",
    "#Score sur le jeu d'entraînement\n",
    "print(\"r2_score train: {:.4f}\".format(krr.score(X_train_std, y_train)))\n",
    "listeR2_train.append(krr.score(X_train_std, y_train))"
   ]
  },
  {
   "cell_type": "code",
   "execution_count": 198,
   "id": "b4f77922",
   "metadata": {},
   "outputs": [
    {
     "name": "stdout",
     "output_type": "stream",
     "text": [
      "Mean squared error: 23103.8239\n",
      "r2_score: 0.8664\n",
      "Temps de calcul: 4.1490\n"
     ]
    }
   ],
   "source": [
    "#Score du modèle sur le test_set\n",
    "print(\"Mean squared error: {:.4f}\".format(mean_squared_error(y_test, y_predict)))\n",
    "print(\"r2_score: {:.4f}\".format(r2_score(y_test, y_predict)))\n",
    "print(\"Temps de calcul: {:.4f}\".format(time))"
   ]
  },
  {
   "cell_type": "code",
   "execution_count": 199,
   "id": "181ecb67",
   "metadata": {},
   "outputs": [],
   "source": [
    "#Enregistrement des métriques\n",
    "listeMSE.append(round(mean_squared_error(y_test, y_predict),4))\n",
    "listeR2.append(round(r2_score(y_test, y_predict),4))\n",
    "listeTemps.append(round(time,4))"
   ]
  },
  {
   "cell_type": "markdown",
   "id": "8ce9002c",
   "metadata": {},
   "source": [
    "Résultats semblables avec ou sans la variable `ENERGYSTARScore`"
   ]
  },
  {
   "cell_type": "markdown",
   "id": "aee5b21e",
   "metadata": {},
   "source": [
    "### 4.2.2: Jeu avec transformations\n",
    "#### A: Sans la variable `ENERGYSTARScore`"
   ]
  },
  {
   "cell_type": "code",
   "execution_count": 200,
   "id": "db56733d",
   "metadata": {},
   "outputs": [],
   "source": [
    "#GridSearch pour trouver le(s) paramètre(s) qui renvoie(nt) le meilleur score R²\n",
    "params = {'alpha': np.logspace(-2, 2, 3),\n",
    "         'gamma': np.logspace(-2, 1, 3)\n",
    "}\n",
    "reg = GridSearchCV (estimator=KernelRidge(kernel='rbf'), param_grid=params, cv=5, scoring='r2')\n",
    "reg.fit(X_log_SE_train_std, y_log_SE_train)\n",
    "alpha = reg.best_params_.get('alpha')\n",
    "gamma = reg.best_params_.get('gamma')"
   ]
  },
  {
   "cell_type": "code",
   "execution_count": 201,
   "id": "2938142e",
   "metadata": {},
   "outputs": [
    {
     "name": "stdout",
     "output_type": "stream",
     "text": [
      "[0.40507398 0.2977881  0.25495386 0.38579244 0.38276704]\n"
     ]
    }
   ],
   "source": [
    "#Cross-validation du modèle (avec les paramètres optimaux)\n",
    "krr = KernelRidge(kernel='rbf', alpha=alpha, gamma=gamma)\n",
    "print(cross_val_score(krr, X_log_SE_train_std, y_log_SE_train,  cv=5))"
   ]
  },
  {
   "cell_type": "code",
   "execution_count": 202,
   "id": "3d212483",
   "metadata": {},
   "outputs": [
    {
     "name": "stdout",
     "output_type": "stream",
     "text": [
      "r2_score train: 0.8328\n"
     ]
    }
   ],
   "source": [
    "#Entrainement du modèle sur le training_set\n",
    "start_time = timeit.default_timer()\n",
    "krr = KernelRidge(kernel='rbf', alpha=alpha, gamma=gamma).fit(X_log_SE_train_std, y_log_SE_train)\n",
    "y_log_SE_predict = krr.predict(X_log_SE_test_std)\n",
    "time = timeit.default_timer() - start_time\n",
    "\n",
    "#Score sur le jeu d'entraînement\n",
    "print(\"r2_score train: {:.4f}\".format(krr.score(X_log_SE_train_std, y_log_SE_train)))\n",
    "listeR2_log_SE_train.append(krr.score(X_log_SE_train_std, y_log_SE_train))"
   ]
  },
  {
   "cell_type": "code",
   "execution_count": 203,
   "id": "35e46769",
   "metadata": {},
   "outputs": [
    {
     "name": "stdout",
     "output_type": "stream",
     "text": [
      "Mean squared error: 1.1702\n",
      "r2_score: 0.4548\n",
      "Temps de calcul: 4.1807\n"
     ]
    }
   ],
   "source": [
    "#Score du modèle sur le test_set\n",
    "print(\"Mean squared error: {:.4f}\".format(mean_squared_error(y_log_SE_test, y_log_SE_predict)))\n",
    "print(\"r2_score: {:.4f}\".format(r2_score(y_log_SE_test, y_log_SE_predict)))\n",
    "print(\"Temps de calcul: {:.4f}\".format(time))"
   ]
  },
  {
   "cell_type": "code",
   "execution_count": 204,
   "id": "134c2cf3",
   "metadata": {},
   "outputs": [],
   "source": [
    "#Enregistrement des métriques\n",
    "listeMSE_log_SE.append(round(mean_squared_error(y_log_SE_test, y_log_SE_predict),4))\n",
    "listeR2_log_SE.append(round(r2_score(y_log_SE_test, y_log_SE_predict),4))\n",
    "listeTemps_log_SE.append(round(time,4))"
   ]
  },
  {
   "cell_type": "markdown",
   "id": "49c35e65",
   "metadata": {},
   "source": [
    "Trop de sur-apprentissage."
   ]
  },
  {
   "cell_type": "markdown",
   "id": "82613a6f",
   "metadata": {},
   "source": [
    "#### B: Avec la variable `ENERGYSTARScore`"
   ]
  },
  {
   "cell_type": "code",
   "execution_count": 205,
   "id": "ac27b788",
   "metadata": {},
   "outputs": [],
   "source": [
    "#GridSearch pour trouver le(s) paramètre(s) qui renvoie(nt) le meilleur score R²\n",
    "params = {'alpha': np.logspace(-2, 2, 3),\n",
    "         'gamma': np.logspace(-2, 1, 3)\n",
    "}\n",
    "reg = GridSearchCV (estimator=KernelRidge(kernel='rbf'), param_grid=params, cv=5, scoring='r2')\n",
    "reg.fit(X_log_train_std, y_log_train)\n",
    "alpha = reg.best_params_.get('alpha')\n",
    "gamma = reg.best_params_.get('gamma')"
   ]
  },
  {
   "cell_type": "code",
   "execution_count": 206,
   "id": "08751cea",
   "metadata": {},
   "outputs": [
    {
     "name": "stdout",
     "output_type": "stream",
     "text": [
      "[0.53616015 0.59709723 0.44331084 0.63957292 0.63648376]\n"
     ]
    }
   ],
   "source": [
    "#Cross-validation du modèle (avec les paramètres optimaux)\n",
    "krr = KernelRidge(kernel='rbf', alpha=alpha, gamma=gamma)\n",
    "print(cross_val_score(krr, X_log_train_std, y_log_train,  cv=5))"
   ]
  },
  {
   "cell_type": "code",
   "execution_count": 207,
   "id": "8540c652",
   "metadata": {},
   "outputs": [
    {
     "name": "stdout",
     "output_type": "stream",
     "text": [
      "r2_score train: 0.9590\n"
     ]
    }
   ],
   "source": [
    "#Entrainement du modèle sur le training_set\n",
    "start_time = timeit.default_timer()\n",
    "krr = KernelRidge(kernel='rbf', alpha=alpha, gamma=gamma).fit(X_log_train_std, y_log_train)\n",
    "y_log_predict = krr.predict(X_log_test_std)\n",
    "time = timeit.default_timer() - start_time\n",
    "\n",
    "#Score sur le jeu d'entraînement\n",
    "print(\"r2_score train: {:.4f}\".format(krr.score(X_log_train_std, y_log_train)))\n",
    "listeR2_log_train.append(krr.score(X_log_train_std, y_log_train))"
   ]
  },
  {
   "cell_type": "code",
   "execution_count": 208,
   "id": "0aeffff4",
   "metadata": {},
   "outputs": [
    {
     "name": "stdout",
     "output_type": "stream",
     "text": [
      "Mean squared error: 0.6256\n",
      "r2_score: 0.7032\n",
      "Temps de calcul: 4.5472\n"
     ]
    }
   ],
   "source": [
    "#Score du modèle sur le test_set\n",
    "print(\"Mean squared error: {:.4f}\".format(mean_squared_error(y_log_test, y_log_predict)))\n",
    "print(\"r2_score: {:.4f}\".format(r2_score(y_log_test, y_log_predict)))\n",
    "print(\"Temps de calcul: {:.4f}\".format(time))"
   ]
  },
  {
   "cell_type": "code",
   "execution_count": 209,
   "id": "1fe0c82e",
   "metadata": {},
   "outputs": [],
   "source": [
    "#Enregistrement des métriques\n",
    "listeMSE_log.append(round(mean_squared_error(y_log_test, y_log_predict),4))\n",
    "listeR2_log.append(round(r2_score(y_log_test, y_log_predict),4))\n",
    "listeTemps_log.append(round(time,4))"
   ]
  },
  {
   "cell_type": "markdown",
   "id": "de28c0aa",
   "metadata": {},
   "source": [
    "Résultats semblables avec ou sans la variable `ENERGYSTARScore`"
   ]
  },
  {
   "cell_type": "markdown",
   "id": "7ff52405",
   "metadata": {},
   "source": [
    "# <a name=\"C15\">Partie 5: Sélection du modèle de prédiction</a>\n",
    "Il est maintenant temps de choisir parmis les modèles testés, lequel semble le plus pertinent et adapté pour prédire les émissions de CO2 des bâtiments de la ville de Seattle. Notre choix s'appuiera sur la capacité de généralisation du modèle, son temps de calcul et les contraintes liées à la sélection des hyperparamètres.\n",
    "## 5.1: Jeu non transformé\n",
    "Commençons par regrouper les scores des modèles dans des tableaux pour faciliter les comparaisons."
   ]
  },
  {
   "cell_type": "code",
   "execution_count": 214,
   "id": "39568271",
   "metadata": {},
   "outputs": [
    {
     "data": {
      "text/html": [
       "<div>\n",
       "<style scoped>\n",
       "    .dataframe tbody tr th:only-of-type {\n",
       "        vertical-align: middle;\n",
       "    }\n",
       "\n",
       "    .dataframe tbody tr th {\n",
       "        vertical-align: top;\n",
       "    }\n",
       "\n",
       "    .dataframe thead th {\n",
       "        text-align: right;\n",
       "    }\n",
       "</style>\n",
       "<table border=\"1\" class=\"dataframe\">\n",
       "  <thead>\n",
       "    <tr style=\"text-align: right;\">\n",
       "      <th></th>\n",
       "      <th>Dummy_mean</th>\n",
       "      <th>Dummy_median</th>\n",
       "      <th>regression_lineaire</th>\n",
       "      <th>regression_ridge</th>\n",
       "      <th>regression_lasso</th>\n",
       "      <th>regression_elasticNet</th>\n",
       "      <th>Bagging</th>\n",
       "      <th>RandomForest</th>\n",
       "      <th>GradientBoosting</th>\n",
       "      <th>SVM_noyau</th>\n",
       "      <th>Ridge_noyau</th>\n",
       "    </tr>\n",
       "  </thead>\n",
       "  <tbody>\n",
       "    <tr>\n",
       "      <th>MSE</th>\n",
       "      <td>358174.5940</td>\n",
       "      <td>366688.94850</td>\n",
       "      <td>1.401483e+15</td>\n",
       "      <td>137001.509100</td>\n",
       "      <td>136421.753800</td>\n",
       "      <td>137229.895700</td>\n",
       "      <td>37705.776600</td>\n",
       "      <td>41945.509200</td>\n",
       "      <td>29667.267900</td>\n",
       "      <td>202855.079400</td>\n",
       "      <td>38505.09710</td>\n",
       "    </tr>\n",
       "    <tr>\n",
       "      <th>r2 train</th>\n",
       "      <td>0.0000</td>\n",
       "      <td>-0.02948</td>\n",
       "      <td>7.022766e-01</td>\n",
       "      <td>0.772278</td>\n",
       "      <td>0.770675</td>\n",
       "      <td>0.766567</td>\n",
       "      <td>0.937171</td>\n",
       "      <td>0.917034</td>\n",
       "      <td>0.969869</td>\n",
       "      <td>0.425463</td>\n",
       "      <td>0.98619</td>\n",
       "    </tr>\n",
       "    <tr>\n",
       "      <th>r2 test</th>\n",
       "      <td>-0.0008</td>\n",
       "      <td>-0.02460</td>\n",
       "      <td>-3.916104e+09</td>\n",
       "      <td>0.617200</td>\n",
       "      <td>0.618800</td>\n",
       "      <td>0.616500</td>\n",
       "      <td>0.894600</td>\n",
       "      <td>0.882800</td>\n",
       "      <td>0.917100</td>\n",
       "      <td>0.433200</td>\n",
       "      <td>0.89240</td>\n",
       "    </tr>\n",
       "    <tr>\n",
       "      <th>Temps_Calcul</th>\n",
       "      <td>0.0011</td>\n",
       "      <td>0.00060</td>\n",
       "      <td>9.000000e-04</td>\n",
       "      <td>0.046000</td>\n",
       "      <td>0.644300</td>\n",
       "      <td>0.234800</td>\n",
       "      <td>11.831000</td>\n",
       "      <td>16.351100</td>\n",
       "      <td>2.207200</td>\n",
       "      <td>11.261400</td>\n",
       "      <td>4.35200</td>\n",
       "    </tr>\n",
       "  </tbody>\n",
       "</table>\n",
       "</div>"
      ],
      "text/plain": [
       "               Dummy_mean  Dummy_median  regression_lineaire  \\\n",
       "MSE           358174.5940  366688.94850         1.401483e+15   \n",
       "r2 train           0.0000      -0.02948         7.022766e-01   \n",
       "r2 test           -0.0008      -0.02460        -3.916104e+09   \n",
       "Temps_Calcul       0.0011       0.00060         9.000000e-04   \n",
       "\n",
       "              regression_ridge  regression_lasso  regression_elasticNet  \\\n",
       "MSE              137001.509100     136421.753800          137229.895700   \n",
       "r2 train              0.772278          0.770675               0.766567   \n",
       "r2 test               0.617200          0.618800               0.616500   \n",
       "Temps_Calcul          0.046000          0.644300               0.234800   \n",
       "\n",
       "                   Bagging  RandomForest  GradientBoosting      SVM_noyau  \\\n",
       "MSE           37705.776600  41945.509200      29667.267900  202855.079400   \n",
       "r2 train          0.937171      0.917034          0.969869       0.425463   \n",
       "r2 test           0.894600      0.882800          0.917100       0.433200   \n",
       "Temps_Calcul     11.831000     16.351100          2.207200      11.261400   \n",
       "\n",
       "              Ridge_noyau  \n",
       "MSE           38505.09710  \n",
       "r2 train          0.98619  \n",
       "r2 test           0.89240  \n",
       "Temps_Calcul      4.35200  "
      ]
     },
     "execution_count": 214,
     "metadata": {},
     "output_type": "execute_result"
    }
   ],
   "source": [
    "#Jeu non transformé sans la variable ENERGYSTARScore\n",
    "tab = np.array([listeMSE_SE, listeR2_SE_train, listeR2_SE, listeTemps_SE])\n",
    "df_SE = pd.DataFrame(tab, index=['MSE', 'r2 train', 'r2 test',  'Temps_Calcul'], columns=listeModeles)\n",
    "df_SE"
   ]
  },
  {
   "cell_type": "code",
   "execution_count": 215,
   "id": "01daa54b",
   "metadata": {},
   "outputs": [
    {
     "data": {
      "text/html": [
       "<div>\n",
       "<style scoped>\n",
       "    .dataframe tbody tr th:only-of-type {\n",
       "        vertical-align: middle;\n",
       "    }\n",
       "\n",
       "    .dataframe tbody tr th {\n",
       "        vertical-align: top;\n",
       "    }\n",
       "\n",
       "    .dataframe thead th {\n",
       "        text-align: right;\n",
       "    }\n",
       "</style>\n",
       "<table border=\"1\" class=\"dataframe\">\n",
       "  <thead>\n",
       "    <tr style=\"text-align: right;\">\n",
       "      <th></th>\n",
       "      <th>Dummy_mean</th>\n",
       "      <th>Dummy_median</th>\n",
       "      <th>regression_lineaire</th>\n",
       "      <th>regression_ridge</th>\n",
       "      <th>regression_lasso</th>\n",
       "      <th>regression_elasticNet</th>\n",
       "      <th>Bagging</th>\n",
       "      <th>RandomForest</th>\n",
       "      <th>GradientBoosting</th>\n",
       "      <th>SVM_noyau</th>\n",
       "      <th>Ridge_noyau</th>\n",
       "    </tr>\n",
       "  </thead>\n",
       "  <tbody>\n",
       "    <tr>\n",
       "      <th>MSE</th>\n",
       "      <td>172972.6406</td>\n",
       "      <td>179015.88930</td>\n",
       "      <td>21076.383600</td>\n",
       "      <td>18933.623700</td>\n",
       "      <td>19011.701900</td>\n",
       "      <td>38125.023600</td>\n",
       "      <td>24525.406700</td>\n",
       "      <td>18078.969000</td>\n",
       "      <td>20528.831800</td>\n",
       "      <td>58454.350100</td>\n",
       "      <td>23103.823900</td>\n",
       "    </tr>\n",
       "    <tr>\n",
       "      <th>r2 train</th>\n",
       "      <td>0.0000</td>\n",
       "      <td>-0.02643</td>\n",
       "      <td>0.786826</td>\n",
       "      <td>0.869571</td>\n",
       "      <td>0.869061</td>\n",
       "      <td>-0.039018</td>\n",
       "      <td>0.977251</td>\n",
       "      <td>0.972063</td>\n",
       "      <td>0.994421</td>\n",
       "      <td>0.558499</td>\n",
       "      <td>0.997421</td>\n",
       "    </tr>\n",
       "    <tr>\n",
       "      <th>r2 test</th>\n",
       "      <td>-0.0000</td>\n",
       "      <td>-0.03500</td>\n",
       "      <td>0.878100</td>\n",
       "      <td>0.890500</td>\n",
       "      <td>0.890100</td>\n",
       "      <td>0.779600</td>\n",
       "      <td>0.858200</td>\n",
       "      <td>0.895500</td>\n",
       "      <td>0.881300</td>\n",
       "      <td>0.662000</td>\n",
       "      <td>0.866400</td>\n",
       "    </tr>\n",
       "    <tr>\n",
       "      <th>Temps_Calcul</th>\n",
       "      <td>0.0008</td>\n",
       "      <td>0.00150</td>\n",
       "      <td>0.001000</td>\n",
       "      <td>0.044100</td>\n",
       "      <td>0.223100</td>\n",
       "      <td>0.039000</td>\n",
       "      <td>10.693900</td>\n",
       "      <td>0.790900</td>\n",
       "      <td>2.495200</td>\n",
       "      <td>12.592000</td>\n",
       "      <td>4.149000</td>\n",
       "    </tr>\n",
       "  </tbody>\n",
       "</table>\n",
       "</div>"
      ],
      "text/plain": [
       "               Dummy_mean  Dummy_median  regression_lineaire  \\\n",
       "MSE           172972.6406  179015.88930         21076.383600   \n",
       "r2 train           0.0000      -0.02643             0.786826   \n",
       "r2 test           -0.0000      -0.03500             0.878100   \n",
       "Temps_Calcul       0.0008       0.00150             0.001000   \n",
       "\n",
       "              regression_ridge  regression_lasso  regression_elasticNet  \\\n",
       "MSE               18933.623700      19011.701900           38125.023600   \n",
       "r2 train              0.869571          0.869061              -0.039018   \n",
       "r2 test               0.890500          0.890100               0.779600   \n",
       "Temps_Calcul          0.044100          0.223100               0.039000   \n",
       "\n",
       "                   Bagging  RandomForest  GradientBoosting     SVM_noyau  \\\n",
       "MSE           24525.406700  18078.969000      20528.831800  58454.350100   \n",
       "r2 train          0.977251      0.972063          0.994421      0.558499   \n",
       "r2 test           0.858200      0.895500          0.881300      0.662000   \n",
       "Temps_Calcul     10.693900      0.790900          2.495200     12.592000   \n",
       "\n",
       "               Ridge_noyau  \n",
       "MSE           23103.823900  \n",
       "r2 train          0.997421  \n",
       "r2 test           0.866400  \n",
       "Temps_Calcul      4.149000  "
      ]
     },
     "execution_count": 215,
     "metadata": {},
     "output_type": "execute_result"
    }
   ],
   "source": [
    "#Jeu non transformé avec la variable ENERGYSTARScore\n",
    "tab = np.array([listeMSE, listeR2_train, listeR2, listeTemps])\n",
    "df = pd.DataFrame(tab, index=['MSE', 'r2 train', 'r2 test', 'Temps_Calcul'], columns=listeModeles)\n",
    "df"
   ]
  },
  {
   "cell_type": "markdown",
   "id": "7a8ad5a2",
   "metadata": {},
   "source": [
    "L'ajout de la variable `ENERGYSTARscore` apporte un gain notable pour les méthodes de régression. </br>\n",
    "Les méthodes qui semblent à première vue intéressantes sont les méthodes ensemblistes et la régression ridge à noyau. Voyons si on peut obtenir mieux avec ke jeu de données transformé."
   ]
  },
  {
   "cell_type": "markdown",
   "id": "7a643eb0",
   "metadata": {},
   "source": [
    "## 5.2: Jeu transformé\n",
    "Commençons par regrouper les scores des modèles dans des tableaux pour faciliter les comparaisons."
   ]
  },
  {
   "cell_type": "code",
   "execution_count": 216,
   "id": "a9dbc638",
   "metadata": {},
   "outputs": [
    {
     "data": {
      "text/html": [
       "<div>\n",
       "<style scoped>\n",
       "    .dataframe tbody tr th:only-of-type {\n",
       "        vertical-align: middle;\n",
       "    }\n",
       "\n",
       "    .dataframe tbody tr th {\n",
       "        vertical-align: top;\n",
       "    }\n",
       "\n",
       "    .dataframe thead th {\n",
       "        text-align: right;\n",
       "    }\n",
       "</style>\n",
       "<table border=\"1\" class=\"dataframe\">\n",
       "  <thead>\n",
       "    <tr style=\"text-align: right;\">\n",
       "      <th></th>\n",
       "      <th>Dummy_mean</th>\n",
       "      <th>Dummy_median</th>\n",
       "      <th>regression_lineaire</th>\n",
       "      <th>regression_ridge</th>\n",
       "      <th>regression_lasso</th>\n",
       "      <th>regression_elasticNet</th>\n",
       "      <th>Bagging</th>\n",
       "      <th>RandomForest</th>\n",
       "      <th>GradientBoosting</th>\n",
       "      <th>SVM_noyau</th>\n",
       "      <th>Ridge_noyau</th>\n",
       "    </tr>\n",
       "  </thead>\n",
       "  <tbody>\n",
       "    <tr>\n",
       "      <th>MSE</th>\n",
       "      <td>2.1518</td>\n",
       "      <td>2.152300</td>\n",
       "      <td>0.937600</td>\n",
       "      <td>0.900200</td>\n",
       "      <td>0.889200</td>\n",
       "      <td>0.889300</td>\n",
       "      <td>0.452900</td>\n",
       "      <td>0.452600</td>\n",
       "      <td>0.72370</td>\n",
       "      <td>0.807600</td>\n",
       "      <td>1.170200</td>\n",
       "    </tr>\n",
       "    <tr>\n",
       "      <th>r2 train</th>\n",
       "      <td>0.0000</td>\n",
       "      <td>-0.000006</td>\n",
       "      <td>0.560183</td>\n",
       "      <td>0.618862</td>\n",
       "      <td>0.611196</td>\n",
       "      <td>0.611147</td>\n",
       "      <td>0.967403</td>\n",
       "      <td>0.967597</td>\n",
       "      <td>0.71718</td>\n",
       "      <td>0.755331</td>\n",
       "      <td>0.832794</td>\n",
       "    </tr>\n",
       "    <tr>\n",
       "      <th>r2 test</th>\n",
       "      <td>-0.0025</td>\n",
       "      <td>-0.002800</td>\n",
       "      <td>0.563100</td>\n",
       "      <td>0.580600</td>\n",
       "      <td>0.585700</td>\n",
       "      <td>0.585700</td>\n",
       "      <td>0.789000</td>\n",
       "      <td>0.789200</td>\n",
       "      <td>0.66280</td>\n",
       "      <td>0.623800</td>\n",
       "      <td>0.454800</td>\n",
       "    </tr>\n",
       "    <tr>\n",
       "      <th>Temps_Calcul</th>\n",
       "      <td>0.0005</td>\n",
       "      <td>0.000700</td>\n",
       "      <td>0.007700</td>\n",
       "      <td>0.056000</td>\n",
       "      <td>0.163400</td>\n",
       "      <td>0.192200</td>\n",
       "      <td>10.680000</td>\n",
       "      <td>8.255200</td>\n",
       "      <td>2.23990</td>\n",
       "      <td>5.245500</td>\n",
       "      <td>4.180700</td>\n",
       "    </tr>\n",
       "  </tbody>\n",
       "</table>\n",
       "</div>"
      ],
      "text/plain": [
       "              Dummy_mean  Dummy_median  regression_lineaire  regression_ridge  \\\n",
       "MSE               2.1518      2.152300             0.937600          0.900200   \n",
       "r2 train          0.0000     -0.000006             0.560183          0.618862   \n",
       "r2 test          -0.0025     -0.002800             0.563100          0.580600   \n",
       "Temps_Calcul      0.0005      0.000700             0.007700          0.056000   \n",
       "\n",
       "              regression_lasso  regression_elasticNet    Bagging  \\\n",
       "MSE                   0.889200               0.889300   0.452900   \n",
       "r2 train              0.611196               0.611147   0.967403   \n",
       "r2 test               0.585700               0.585700   0.789000   \n",
       "Temps_Calcul          0.163400               0.192200  10.680000   \n",
       "\n",
       "              RandomForest  GradientBoosting  SVM_noyau  Ridge_noyau  \n",
       "MSE               0.452600           0.72370   0.807600     1.170200  \n",
       "r2 train          0.967597           0.71718   0.755331     0.832794  \n",
       "r2 test           0.789200           0.66280   0.623800     0.454800  \n",
       "Temps_Calcul      8.255200           2.23990   5.245500     4.180700  "
      ]
     },
     "execution_count": 216,
     "metadata": {},
     "output_type": "execute_result"
    }
   ],
   "source": [
    "#Jeu transformé sans la variable ENERGYSTARScore\n",
    "tab = np.array([listeMSE_log_SE, listeR2_log_SE_train, listeR2_log_SE, listeTemps_log_SE])\n",
    "df_log_SE = pd.DataFrame(tab, index=['MSE', 'r2 train', 'r2 test', 'Temps_Calcul'], columns=listeModeles)\n",
    "df_log_SE"
   ]
  },
  {
   "cell_type": "code",
   "execution_count": 217,
   "id": "75414603",
   "metadata": {},
   "outputs": [
    {
     "data": {
      "text/html": [
       "<div>\n",
       "<style scoped>\n",
       "    .dataframe tbody tr th:only-of-type {\n",
       "        vertical-align: middle;\n",
       "    }\n",
       "\n",
       "    .dataframe tbody tr th {\n",
       "        vertical-align: top;\n",
       "    }\n",
       "\n",
       "    .dataframe thead th {\n",
       "        text-align: right;\n",
       "    }\n",
       "</style>\n",
       "<table border=\"1\" class=\"dataframe\">\n",
       "  <thead>\n",
       "    <tr style=\"text-align: right;\">\n",
       "      <th></th>\n",
       "      <th>Dummy_mean</th>\n",
       "      <th>Dummy_median</th>\n",
       "      <th>regression_lineaire</th>\n",
       "      <th>regression_ridge</th>\n",
       "      <th>regression_lasso</th>\n",
       "      <th>regression_elasticNet</th>\n",
       "      <th>Bagging</th>\n",
       "      <th>RandomForest</th>\n",
       "      <th>GradientBoosting</th>\n",
       "      <th>SVM_noyau</th>\n",
       "      <th>Ridge_noyau</th>\n",
       "    </tr>\n",
       "  </thead>\n",
       "  <tbody>\n",
       "    <tr>\n",
       "      <th>MSE</th>\n",
       "      <td>2.1079</td>\n",
       "      <td>2.107900</td>\n",
       "      <td>0.61980</td>\n",
       "      <td>0.577700</td>\n",
       "      <td>0.574300</td>\n",
       "      <td>0.577900</td>\n",
       "      <td>0.203900</td>\n",
       "      <td>0.200700</td>\n",
       "      <td>0.251400</td>\n",
       "      <td>0.402000</td>\n",
       "      <td>0.625600</td>\n",
       "    </tr>\n",
       "    <tr>\n",
       "      <th>r2 train</th>\n",
       "      <td>0.0000</td>\n",
       "      <td>-0.000075</td>\n",
       "      <td>0.69949</td>\n",
       "      <td>0.735262</td>\n",
       "      <td>0.732216</td>\n",
       "      <td>0.731081</td>\n",
       "      <td>0.988381</td>\n",
       "      <td>0.988336</td>\n",
       "      <td>0.922928</td>\n",
       "      <td>0.917093</td>\n",
       "      <td>0.958989</td>\n",
       "    </tr>\n",
       "    <tr>\n",
       "      <th>r2 test</th>\n",
       "      <td>-0.0000</td>\n",
       "      <td>-0.000000</td>\n",
       "      <td>0.70600</td>\n",
       "      <td>0.725900</td>\n",
       "      <td>0.727500</td>\n",
       "      <td>0.725800</td>\n",
       "      <td>0.903300</td>\n",
       "      <td>0.904800</td>\n",
       "      <td>0.880700</td>\n",
       "      <td>0.809300</td>\n",
       "      <td>0.703200</td>\n",
       "    </tr>\n",
       "    <tr>\n",
       "      <th>Temps_Calcul</th>\n",
       "      <td>0.0011</td>\n",
       "      <td>0.000700</td>\n",
       "      <td>0.00960</td>\n",
       "      <td>0.044200</td>\n",
       "      <td>0.162500</td>\n",
       "      <td>0.127500</td>\n",
       "      <td>11.559200</td>\n",
       "      <td>6.938200</td>\n",
       "      <td>2.647100</td>\n",
       "      <td>5.370000</td>\n",
       "      <td>4.547200</td>\n",
       "    </tr>\n",
       "  </tbody>\n",
       "</table>\n",
       "</div>"
      ],
      "text/plain": [
       "              Dummy_mean  Dummy_median  regression_lineaire  regression_ridge  \\\n",
       "MSE               2.1079      2.107900              0.61980          0.577700   \n",
       "r2 train          0.0000     -0.000075              0.69949          0.735262   \n",
       "r2 test          -0.0000     -0.000000              0.70600          0.725900   \n",
       "Temps_Calcul      0.0011      0.000700              0.00960          0.044200   \n",
       "\n",
       "              regression_lasso  regression_elasticNet    Bagging  \\\n",
       "MSE                   0.574300               0.577900   0.203900   \n",
       "r2 train              0.732216               0.731081   0.988381   \n",
       "r2 test               0.727500               0.725800   0.903300   \n",
       "Temps_Calcul          0.162500               0.127500  11.559200   \n",
       "\n",
       "              RandomForest  GradientBoosting  SVM_noyau  Ridge_noyau  \n",
       "MSE               0.200700          0.251400   0.402000     0.625600  \n",
       "r2 train          0.988336          0.922928   0.917093     0.958989  \n",
       "r2 test           0.904800          0.880700   0.809300     0.703200  \n",
       "Temps_Calcul      6.938200          2.647100   5.370000     4.547200  "
      ]
     },
     "execution_count": 217,
     "metadata": {},
     "output_type": "execute_result"
    }
   ],
   "source": [
    "#Jeu transformé avec la variable ENERGYSTARScore\n",
    "tab = np.array([listeMSE_log, listeR2_log_train, listeR2_log, listeTemps_log])\n",
    "df_log = pd.DataFrame(tab, index=['MSE', 'r2 train', 'r2 test', 'Temps_Calcul'], columns=listeModeles)\n",
    "df_log"
   ]
  },
  {
   "cell_type": "markdown",
   "id": "264dcdf2",
   "metadata": {},
   "source": [
    "Globalement, les transformations logarithmiques ne conduisent pas à un gain significatif sur le score des modèles."
   ]
  },
  {
   "cell_type": "markdown",
   "id": "e6cf3916",
   "metadata": {},
   "source": [
    "## 5.3: Conclusion"
   ]
  },
  {
   "cell_type": "markdown",
   "id": "c5b9c3be",
   "metadata": {},
   "source": [
    "Tout d'abord, les transformations logarithmiques donnent de bons résultats mais le jeu non transformé également. Toutefois, on a souvent obtenu des modèles plus stables avec le jeu de données transformé. Il semble donc plus judicieux de conserver le jeu de données transformé.\n",
    "\n",
    "Dans un second temps, on a pu remarquer que l'ajout de la variable `ENERGYSTARScore` améliorait les scores de généralisation des méthodes régressives, mais qu'on pouvait également avoir de très bons modèles de prédiction sans son utilisation. Cependant, l'ajout de cette variable a souvent permis de stabiliser les modèles. Notre conseil pour la ville de Seattle est donc de continuer le calcul de cette donnée car elle permet d'obtenir par la suite des modèles de prédiction plus robustes.\n",
    "\n",
    "Il ne nous reste donc plus qu'à faire un choix entre les trois méthodes ensemblistes et la régression ridge à noyau </br>\n",
    "La régression ridge à un score r2 nettement inférieur aux méthodes ensemblistes, on va donc l'écarter. </br>\n",
    "Le bagging et les forêts aléatoires ont de meilleurs score r2 que le gradient boosting mais avec des temps de calcul plus long et un sur-apprentissage plus important, on va également les écartet. \n",
    "\n",
    "\n",
    "Finalement, on fait le choix du **Gradient Boosting** sur le jeu transformé et avec l'utilisation de la variable `ENERGYSTARScore` qui donne de très bons résultats avec un temps d'exécution court. </br>\n",
    "Pour tenter d'améliorer encore plus ce modèle, on peut essayer d'optimiser les deux hyperparamètres **n_estimators** et **learning_rate** sur des plages de valeurs plus larges, notamment pour le nombre d'apprenants faibles **n_estimators**."
   ]
  },
  {
   "cell_type": "code",
   "execution_count": null,
   "id": "4fadbe7a",
   "metadata": {},
   "outputs": [],
   "source": []
  }
 ],
 "metadata": {
  "kernelspec": {
   "display_name": "Python 3 (ipykernel)",
   "language": "python",
   "name": "python3"
  },
  "language_info": {
   "codemirror_mode": {
    "name": "ipython",
    "version": 3
   },
   "file_extension": ".py",
   "mimetype": "text/x-python",
   "name": "python",
   "nbconvert_exporter": "python",
   "pygments_lexer": "ipython3",
   "version": "3.9.7"
  }
 },
 "nbformat": 4,
 "nbformat_minor": 5
}
